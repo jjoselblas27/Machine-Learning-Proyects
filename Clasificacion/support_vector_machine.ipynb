{
 "cells": [
  {
   "cell_type": "code",
   "execution_count": 1,
   "metadata": {},
   "outputs": [],
   "source": [
    "from svm import MultiClassSVM\n",
    "from sklearn.model_selection import KFold, cross_val_score\n",
    "import pandas as pd\n",
    "import numpy as np\n"
   ]
  },
  {
   "cell_type": "code",
   "execution_count": 14,
   "metadata": {},
   "outputs": [
    {
     "name": "stdout",
     "output_type": "stream",
     "text": [
      "Cross Validation Scores:  [0.437125748502994, 0.4311377245508982, 0.37349397590361444, 0.42168674698795183, 0.39156626506024095]\n",
      "Average CV Score:  0.4110020922011399\n",
      "Number of CV Scores used in Average:  5\n"
     ]
    }
   ],
   "source": [
    "from sklearn.decomposition import PCA\n",
    "\n",
    "dataset = pd.read_csv(\"./vc_mariposas_sin_fondo.csv\")\n",
    "dataset = dataset.sample(frac=1, random_state=42)\n",
    "x_data = []\n",
    "\n",
    "for x in dataset.X:\n",
    "    x_data.append(eval(x))\n",
    "\n",
    "x_data = np.array(x_data)\n",
    "y_data = np.array(dataset.Y.values)\n",
    "\n",
    "# Normalizacion de los datos\n",
    "min_vals = x_data.min(axis=0)\n",
    "max_vals = x_data.max(axis=0)\n",
    "x_data = (x_data - min_vals) / (max_vals - min_vals)\n",
    "\n",
    "pca = PCA(n_components=25)\n",
    "x_data = pca.fit_transform(x_data)\n",
    "\n",
    "k_folds = KFold(n_splits = 5)\n",
    "\n",
    "scores = []\n",
    "\n",
    "for train_index, test_index in k_folds.split(x_data):\n",
    "    X_train, X_test = x_data[train_index], x_data[test_index]\n",
    "    y_train, y_test = y_data[train_index], y_data[test_index]\n",
    "\n",
    "    clf = MultiClassSVM(n_iterations=1000)\n",
    "\n",
    "    clf.fit(X_train, y_train)\n",
    "\n",
    "    # Evalúa el modelo en el conjunto de prueba\n",
    "    score = clf.score(X_test, y_test)\n",
    "    scores.append(score)\n",
    "\n",
    "print(\"Cross Validation Scores: \", scores)\n",
    "print(\"Average CV Score: \", sum(scores)/len(scores))\n",
    "print(\"Number of CV Scores used in Average: \", len(scores))"
   ]
  },
  {
   "cell_type": "code",
   "execution_count": 2,
   "metadata": {},
   "outputs": [
    {
     "ename": "NameError",
     "evalue": "name 'MultiClassSVM' is not defined",
     "output_type": "error",
     "traceback": [
      "\u001b[0;31m---------------------------------------------------------------------------\u001b[0m",
      "\u001b[0;31mNameError\u001b[0m                                 Traceback (most recent call last)",
      "\u001b[1;32m/Users/gabriel/UTEC/machineLearning/proyecto1_svm/support_vector_machine.ipynb Cell 3\u001b[0m line \u001b[0;36m2\n\u001b[1;32m     <a href='vscode-notebook-cell:/Users/gabriel/UTEC/machineLearning/proyecto1_svm/support_vector_machine.ipynb#W3sZmlsZQ%3D%3D?line=24'>25</a>\u001b[0m \u001b[39m# Dividir los datos en conjuntos de entrenamiento y prueba\u001b[39;00m\n\u001b[1;32m     <a href='vscode-notebook-cell:/Users/gabriel/UTEC/machineLearning/proyecto1_svm/support_vector_machine.ipynb#W3sZmlsZQ%3D%3D?line=25'>26</a>\u001b[0m X_train, X_test, y_train, y_test \u001b[39m=\u001b[39m train_test_split(x_data, y_data, test_size\u001b[39m=\u001b[39m\u001b[39m0.3\u001b[39m, random_state\u001b[39m=\u001b[39m\u001b[39m42\u001b[39m)\n\u001b[0;32m---> <a href='vscode-notebook-cell:/Users/gabriel/UTEC/machineLearning/proyecto1_svm/support_vector_machine.ipynb#W3sZmlsZQ%3D%3D?line=27'>28</a>\u001b[0m clf \u001b[39m=\u001b[39m MultiClassSVM(n_iterations\u001b[39m=\u001b[39m\u001b[39m1000\u001b[39m)\n\u001b[1;32m     <a href='vscode-notebook-cell:/Users/gabriel/UTEC/machineLearning/proyecto1_svm/support_vector_machine.ipynb#W3sZmlsZQ%3D%3D?line=28'>29</a>\u001b[0m clf\u001b[39m.\u001b[39mfit(X_train, y_train)\n\u001b[1;32m     <a href='vscode-notebook-cell:/Users/gabriel/UTEC/machineLearning/proyecto1_svm/support_vector_machine.ipynb#W3sZmlsZQ%3D%3D?line=30'>31</a>\u001b[0m \u001b[39m# Predecir en el conjunto de prueba\u001b[39;00m\n",
      "\u001b[0;31mNameError\u001b[0m: name 'MultiClassSVM' is not defined"
     ]
    }
   ],
   "source": [
    "import numpy as np\n",
    "import pandas as pd\n",
    "import matplotlib.pyplot as plt\n",
    "import seaborn as sns\n",
    "from sklearn.metrics import confusion_matrix\n",
    "from sklearn.model_selection import train_test_split\n",
    "from svm import MultiClassSVM\n",
    "\n",
    "\n",
    "dataset = pd.read_csv(\"./vc_mariposas_sin_fondo.csv\")\n",
    "dataset = dataset.sample(frac=1, random_state=42)\n",
    "x_data = []\n",
    "\n",
    "for x in dataset.X:\n",
    "    x_data.append(eval(x))\n",
    "\n",
    "x_data = np.array(x_data)\n",
    "y_data = np.array(dataset.Y.values)\n",
    "\n",
    "# Normalizacion de los datos\n",
    "min_vals = x_data.min(axis=0)\n",
    "max_vals = x_data.max(axis=0)\n",
    "x_data = (x_data - min_vals) / (max_vals - min_vals)\n",
    "\n",
    "# Dividir los datos en conjuntos de entrenamiento y prueba\n",
    "X_train, X_test, y_train, y_test = train_test_split(x_data, y_data, test_size=0.3, random_state=42)\n",
    "\n",
    "clf = MultiClassSVM(n_iterations=1000)\n",
    "clf.fit(X_train, y_train)\n",
    "\n",
    "# Predecir en el conjunto de prueba\n",
    "y_pred = clf.predict(X_test)\n",
    "\n",
    "# Calcular la matriz de confusión\n",
    "cm = confusion_matrix(y_test, y_pred)\n",
    "\n",
    "# Configurar el estilo de la matriz de confusión\n",
    "plt.figure(figsize=(8, 6))\n",
    "sns.set(font_scale=1.2)\n",
    "sns.heatmap(cm, annot=True, fmt='d', cmap='Blues', cbar=False, xticklabels=dataset.target_names, yticklabels=dataset.target_names)\n",
    "plt.xlabel('Predicted Labels')\n",
    "plt.ylabel('True Labels')\n",
    "plt.title('Matriz de Confusión')\n",
    "plt.show()\n"
   ]
  }
 ],
 "metadata": {
  "kernelspec": {
   "display_name": "venv",
   "language": "python",
   "name": "python3"
  },
  "language_info": {
   "codemirror_mode": {
    "name": "ipython",
    "version": 3
   },
   "file_extension": ".py",
   "mimetype": "text/x-python",
   "name": "python",
   "nbconvert_exporter": "python",
   "pygments_lexer": "ipython3",
   "version": "3.9.6"
  },
  "orig_nbformat": 4
 },
 "nbformat": 4,
 "nbformat_minor": 2
}
