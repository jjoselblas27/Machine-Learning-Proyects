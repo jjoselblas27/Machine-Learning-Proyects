{
 "cells": [
  {
   "cell_type": "code",
   "execution_count": 7,
   "metadata": {},
   "outputs": [],
   "source": [
    "import cv2\n",
    "import os\n",
    "from  skimage.io import imread, imshow\n",
    "from skimage import transform\n",
    "import pywt\n",
    "import pywt.data\n",
    "import matplotlib.pyplot as plt\n",
    "import numpy as np\n",
    "import pandas as pd"
   ]
  },
  {
   "cell_type": "markdown",
   "metadata": {},
   "source": [
    "# Encontrando los bordes de las imagenes"
   ]
  },
  {
   "cell_type": "code",
   "execution_count": 39,
   "metadata": {},
   "outputs": [
    {
     "name": "stdout",
     "output_type": "stream",
     "text": [
      "Los datos se han guardado en mariposas.csv\n"
     ]
    }
   ],
   "source": [
    "path_segmentacion = 'mariposas/segmentations'\n",
    "output_file = \"mariposas.csv\"\n",
    "\n",
    "# Abre el archivo TXT en modo de escritura\n",
    "with open(output_file, 'w') as file:\n",
    "    file.write(f\"Width,Height,Roi.X1,Roi.Y1,Roi.X2,Roi.Y2,ClassId,Path\\n\")\n",
    "    # Itera a través de las imágenes y obtiene las características\n",
    "    for image_name in os.listdir(path_segmentacion):\n",
    "        image_path = os.path.join(path_segmentacion, image_name)\n",
    "        # Cargar la imagen segmentada\n",
    "        imagen_segmentada = cv2.imread(image_path, cv2.IMREAD_GRAYSCALE)\n",
    "        # Aplicar umbralización\n",
    "        _, imagen_umbralizada = cv2.threshold(imagen_segmentada, 128, 255, cv2.THRESH_BINARY)\n",
    "        # Encontrar contornos\n",
    "        contornos, _ = cv2.findContours(imagen_umbralizada, cv2.RETR_EXTERNAL, cv2.CHAIN_APPROX_SIMPLE)\n",
    "        # Calcular coordenadas (x1, x2, y1, y2)\n",
    "        x, y, w, h = cv2.boundingRect(contornos[0])\n",
    "        x1, x2, y1, y2 = x, x + w, y, y + h\n",
    "        # Formatea los datos como una cadena y escribe en el archivo TXT\n",
    "        alto, ancho = imagen_segmentada.shape\n",
    "        classid = int(image_name[:3])\n",
    "        data_line = f\"{ancho},{alto},{x1},{y1},{x2},{y2},{classid},{image_name[:7]}.png\\n\"\n",
    "        file.write(data_line)\n",
    "print(f\"Los datos se han guardado en {output_file}\")"
   ]
  },
  {
   "cell_type": "code",
   "execution_count": 3,
   "metadata": {},
   "outputs": [],
   "source": [
    "def Get_Feacture(picture, cortes = 3):\n",
    "   LL = picture\n",
    "   for i in range(cortes):\n",
    "      LL, (LH, HL, HH) = pywt.dwt2(LL, 'haar')\n",
    "   return LL.flatten()"
   ]
  },
  {
   "cell_type": "markdown",
   "metadata": {},
   "source": [
    "# Vectores caracteristicos para las imagenes sin fondo"
   ]
  },
  {
   "cell_type": "code",
   "execution_count": 23,
   "metadata": {},
   "outputs": [
    {
     "name": "stdout",
     "output_type": "stream",
     "text": [
      "Loading mariposas.csv\n",
      "Loaded 832 records\n"
     ]
    }
   ],
   "source": [
    "path_csv = 'mariposas.csv'\n",
    "print(f'Loading {path_csv}')\n",
    "index = pd.read_csv(path_csv)\n",
    "index_records = index[['Roi.X1', 'Roi.X2', 'Roi.Y1', 'Roi.Y2', 'ClassId', 'Path']]\n",
    "encodings, classes = list(), list()\n",
    "for _, (x1, x2, y1, y2, class_id, path_name_img) in index_records.iterrows():\n",
    "    img = imread(f'mariposas/images/{path_name_img}')[y1:y2, x1:x2]\n",
    "    img_res = transform.resize(img, (250, 250, 3))\n",
    "    img_encoding = Get_Feacture(img_res, 4)\n",
    "    encodings.append(img_encoding)\n",
    "    classes.append(class_id)\n",
    "print(f'Loaded {len(encodings)} records')\n",
    "X_all = np.array(encodings)\n",
    "Y_all = np.array(classes)\n",
    "#print(X_all, Y_all)"
   ]
  },
  {
   "cell_type": "code",
   "execution_count": 24,
   "metadata": {},
   "outputs": [
    {
     "name": "stdout",
     "output_type": "stream",
     "text": [
      "Datos guardados en vc_mariposas_sin_fondo_250_4.csv\n"
     ]
    }
   ],
   "source": [
    "# Crear un DataFrame de Pandas con los datos\n",
    "data = {'X': X_all.tolist(), 'Y': Y_all.tolist()}\n",
    "df = pd.DataFrame(data)\n",
    "output_csv = 'vc_mariposas_sin_fondo_250_4.csv'\n",
    "df.to_csv(output_csv, index=False)\n",
    "print(f'Datos guardados en {output_csv}')\n"
   ]
  },
  {
   "cell_type": "markdown",
   "metadata": {},
   "source": [
    "# Vectores caracteristicos para las imagenes con fondo"
   ]
  },
  {
   "cell_type": "code",
   "execution_count": 20,
   "metadata": {},
   "outputs": [
    {
     "name": "stdout",
     "output_type": "stream",
     "text": [
      "Loading mariposas/images\n",
      "Loaded 832 records\n"
     ]
    }
   ],
   "source": [
    "path_mariposas = 'mariposas/images'\n",
    "print(f'Loading {path_mariposas}')\n",
    "encodings, classes = list(), list()\n",
    "for image_name in os.listdir(path_mariposas):\n",
    "    image_path = os.path.join(path_mariposas, image_name)\n",
    "    img = imread(image_path)\n",
    "    img_res = transform.resize(img, (250, 250, 3))\n",
    "    img_encoding = Get_Feacture(img_res, 4)\n",
    "    encodings.append(img_encoding)\n",
    "    classes.append(int(image_name[:3]))\n",
    "print(f'Loaded {len(encodings)} records')\n",
    "X_all = np.array(encodings)\n",
    "Y_all = np.array(classes)"
   ]
  },
  {
   "cell_type": "code",
   "execution_count": 22,
   "metadata": {},
   "outputs": [
    {
     "name": "stdout",
     "output_type": "stream",
     "text": [
      "Datos guardados en vc_mariposas_original_250_4.csv\n"
     ]
    }
   ],
   "source": [
    "# Crear un DataFrame de Pandas con los datos\n",
    "data = {'X': X_all.tolist(), 'Y': Y_all.tolist()}\n",
    "df = pd.DataFrame(data)\n",
    "output_csv = 'vc_mariposas_original_250_4.csv'\n",
    "df.to_csv(output_csv, index=False)\n",
    "print(f'Datos guardados en {output_csv}')"
   ]
  }
 ],
 "metadata": {
  "kernelspec": {
   "display_name": "Python 3",
   "language": "python",
   "name": "python3"
  },
  "language_info": {
   "codemirror_mode": {
    "name": "ipython",
    "version": 3
   },
   "file_extension": ".py",
   "mimetype": "text/x-python",
   "name": "python",
   "nbconvert_exporter": "python",
   "pygments_lexer": "ipython3",
   "version": "3.11.5"
  },
  "orig_nbformat": 4
 },
 "nbformat": 4,
 "nbformat_minor": 2
}
