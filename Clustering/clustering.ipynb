{
  "cells": [
    {
      "cell_type": "code",
      "metadata": {
        "id": "Ku40QWiSwRo1",
        "source_hash": "208e09ee",
        "execution_start": 1698036017896,
        "execution_millis": 145,
        "deepnote_to_be_reexecuted": false,
        "cell_id": "26228393332d4b9b9fdd73beee61adb0",
        "deepnote_cell_type": "code"
      },
      "source": [
        "import pandas as pd\n",
        "import numpy as np\n",
        "import pacmap\n",
        "import matplotlib.pyplot as plt\n",
        "\n",
        "from scipy.stats import multivariate_normal\n",
        "from sklearn.mixture import GaussianMixture\n",
        "from sklearn.cluster import KMeans, DBSCAN, AgglomerativeClustering\n",
        "from sklearn.decomposition import PCA, TruncatedSVD\n",
        "from sklearn.metrics.pairwise import euclidean_distances\n",
        "from sklearn.metrics import silhouette_score, rand_score, adjusted_rand_score, adjusted_mutual_info_score\n"
      ],
      "execution_count": null,
      "outputs": []
    },
    {
      "cell_type": "code",
      "metadata": {
        "cell_id": "9b304f00556e4677a84b94454ded09e8",
        "deepnote_cell_type": "code",
        "id": "k-xTECP95Tgm"
      },
      "source": [],
      "execution_count": null,
      "outputs": []
    },
    {
      "cell_type": "code",
      "metadata": {
        "id": "qQaNbYNHxgPj",
        "source_hash": "4c52eabd",
        "execution_start": 1698035790862,
        "execution_millis": 28423,
        "deepnote_to_be_reexecuted": false,
        "cell_id": "ba622434800340ff8fb2d17ba1598aad",
        "deepnote_cell_type": "code",
        "outputId": "87436854-8a4f-4d6c-f51d-9d335e8453bd"
      },
      "source": [
        "%pip install pacmap\n",
        "# para reducir la dimensionalidad"
      ],
      "execution_count": null,
      "outputs": [
        {
          "name": "stdout",
          "text": "Collecting pacmap\n  Downloading pacmap-0.7.1-py3-none-any.whl (18 kB)\nCollecting annoy>=1.11\n  Downloading annoy-1.17.3.tar.gz (647 kB)\n\u001b[2K     \u001b[90m━━━━━━━━━━━━━━━━━━━━━━━━━━━━━━━━━━━━━━\u001b[0m \u001b[32m647.5/647.5 kB\u001b[0m \u001b[31m30.8 MB/s\u001b[0m eta \u001b[36m0:00:00\u001b[0m\n\u001b[?25h  Preparing metadata (setup.py) ... \u001b[?25ldone\n\u001b[?25hRequirement already satisfied: numpy>=1.20 in /shared-libs/python3.9/py/lib/python3.9/site-packages (from pacmap) (1.23.4)\nCollecting numba>=0.57\n  Downloading numba-0.58.1-cp39-cp39-manylinux2014_x86_64.manylinux_2_17_x86_64.whl (3.6 MB)\n\u001b[2K     \u001b[90m━━━━━━━━━━━━━━━━━━━━━━━━━━━━━━━━━━━━━━━━\u001b[0m \u001b[32m3.6/3.6 MB\u001b[0m \u001b[31m57.9 MB/s\u001b[0m eta \u001b[36m0:00:00\u001b[0m\n\u001b[?25hRequirement already satisfied: scikit-learn>=0.20 in /shared-libs/python3.9/py/lib/python3.9/site-packages (from pacmap) (1.1.2)\nCollecting llvmlite<0.42,>=0.41.0dev0\n  Downloading llvmlite-0.41.1-cp39-cp39-manylinux_2_17_x86_64.manylinux2014_x86_64.whl (43.6 MB)\n\u001b[2K     \u001b[90m━━━━━━━━━━━━━━━━━━━━━━━━━━━━━━━━━━━━━━━━\u001b[0m \u001b[32m43.6/43.6 MB\u001b[0m \u001b[31m30.6 MB/s\u001b[0m eta \u001b[36m0:00:00\u001b[0m\n\u001b[?25hRequirement already satisfied: joblib>=1.0.0 in /shared-libs/python3.9/py/lib/python3.9/site-packages (from scikit-learn>=0.20->pacmap) (1.2.0)\nRequirement already satisfied: threadpoolctl>=2.0.0 in /shared-libs/python3.9/py/lib/python3.9/site-packages (from scikit-learn>=0.20->pacmap) (3.1.0)\nRequirement already satisfied: scipy>=1.3.2 in /shared-libs/python3.9/py/lib/python3.9/site-packages (from scikit-learn>=0.20->pacmap) (1.9.3)\nBuilding wheels for collected packages: annoy\n  Building wheel for annoy (setup.py) ... \u001b[?25ldone\n\u001b[?25h  Created wheel for annoy: filename=annoy-1.17.3-cp39-cp39-linux_x86_64.whl size=519759 sha256=61dcc5a454d06e91308edafe477ce998a5278f7879b0e9fe75ac550bef1b793d\n  Stored in directory: /root/.cache/pip/wheels/09/a9/54/37478e65995fe712f7da465749da9ddb21db6b1a599d591ac7\nSuccessfully built annoy\nInstalling collected packages: annoy, llvmlite, numba, pacmap\nSuccessfully installed annoy-1.17.3 llvmlite-0.41.1 numba-0.58.1 pacmap-0.7.1\n\u001b[33mWARNING: Running pip as the 'root' user can result in broken permissions and conflicting behaviour with the system package manager. It is recommended to use a virtual environment instead: https://pip.pypa.io/warnings/venv\u001b[0m\u001b[33m\n\u001b[0m\n\u001b[1m[\u001b[0m\u001b[34;49mnotice\u001b[0m\u001b[1;39;49m]\u001b[0m\u001b[39;49m A new release of pip is available: \u001b[0m\u001b[31;49m23.0.1\u001b[0m\u001b[39;49m -> \u001b[0m\u001b[32;49m23.3.1\u001b[0m\n\u001b[1m[\u001b[0m\u001b[34;49mnotice\u001b[0m\u001b[1;39;49m]\u001b[0m\u001b[39;49m To update, run: \u001b[0m\u001b[32;49mpython -m pip install --upgrade pip\u001b[0m\nNote: you may need to restart the kernel to use updated packages.\n",
          "output_type": "stream"
        }
      ]
    },
    {
      "cell_type": "code",
      "metadata": {
        "source_hash": "c0b8a5df",
        "execution_start": 1698035897121,
        "execution_millis": 4576,
        "deepnote_to_be_reexecuted": false,
        "cell_id": "5e9f39781f8b4e7c8be2d23c508dd95c",
        "deepnote_cell_type": "code",
        "id": "EpyqGLlX5Tgo"
      },
      "source": [
        "data = pd.read_csv(\"/work/dataset_tissue.txt\", sep=\",\")\n",
        "clase = pd.read_csv(\"/work/clase.txt\")"
      ],
      "execution_count": null,
      "outputs": []
    },
    {
      "cell_type": "code",
      "metadata": {
        "id": "HSWPzwEo1b5L",
        "source_hash": "b58e0c10",
        "execution_start": 1698035904186,
        "execution_millis": 83,
        "deepnote_to_be_reexecuted": false,
        "cell_id": "2a5866e6ebd54cbe9661c2b26cf85570",
        "deepnote_cell_type": "code",
        "outputId": "5d54c1fb-aab3-443e-cf1e-0bcd2bc9ae32"
      },
      "source": [
        "# procesamiento de datos\n",
        "target = clase['x'].values\n",
        "\n",
        "# etiquetado\n",
        "label_num = {label: i for i, label in enumerate(np.unique(target))}\n",
        "labels_true = np.vectorize(label_num.get)(target)\n",
        "\n",
        "X = np.array(data.iloc[:, 1:]).T\n",
        "X.shape"
      ],
      "execution_count": null,
      "outputs": [
        {
          "output_type": "execute_result",
          "execution_count": 6,
          "data": {
            "text/plain": "(189, 22215)"
          },
          "metadata": {}
        }
      ]
    },
    {
      "cell_type": "code",
      "metadata": {
        "id": "h5oKi_9x4m0u",
        "colab": {
          "height": 349,
          "base_uri": "https://localhost:8080/"
        },
        "outputId": "0fb3ac75-20c2-4061-9e57-5a36ce3bf660",
        "source_hash": "d786443f",
        "execution_start": 1698035907333,
        "execution_millis": 1786,
        "deepnote_to_be_reexecuted": false,
        "cell_id": "e04bfdbabcfc4c4a87f23040324fa3af",
        "deepnote_cell_type": "code"
      },
      "source": [
        "data.describe()"
      ],
      "execution_count": null,
      "outputs": [
        {
          "output_type": "execute_result",
          "execution_count": 7,
          "data": {
            "application/vnd.deepnote.dataframe.v3+json": {
              "column_count": 189,
              "row_count": 8,
              "columns": [
                {
                  "name": "GSM11805.CEL.gz",
                  "dtype": "float64",
                  "stats": {
                    "unique_count": 8,
                    "nan_count": 0,
                    "min": "1.8274999161295917",
                    "max": "22215.0",
                    "histogram": [
                      {
                        "bin_start": 1.8274999161295917,
                        "bin_end": 2223.1447499245164,
                        "count": 7
                      },
                      {
                        "bin_start": 2223.1447499245164,
                        "bin_end": 4444.461999932903,
                        "count": 0
                      },
                      {
                        "bin_start": 4444.461999932903,
                        "bin_end": 6665.77924994129,
                        "count": 0
                      },
                      {
                        "bin_start": 6665.77924994129,
                        "bin_end": 8887.096499949677,
                        "count": 0
                      },
                      {
                        "bin_start": 8887.096499949677,
                        "bin_end": 11108.413749958065,
                        "count": 0
                      },
                      {
                        "bin_start": 11108.413749958065,
                        "bin_end": 13329.73099996645,
                        "count": 0
                      },
                      {
                        "bin_start": 13329.73099996645,
                        "bin_end": 15551.048249974838,
                        "count": 0
                      },
                      {
                        "bin_start": 15551.048249974838,
                        "bin_end": 17772.365499983225,
                        "count": 0
                      },
                      {
                        "bin_start": 17772.365499983225,
                        "bin_end": 19993.68274999161,
                        "count": 0
                      },
                      {
                        "bin_start": 19993.68274999161,
                        "bin_end": 22215,
                        "count": 1
                      }
                    ]
                  }
                },
                {
                  "name": "GSM11814.CEL.gz",
                  "dtype": "float64",
                  "stats": {
                    "unique_count": 8,
                    "nan_count": 0,
                    "min": "1.8449491508690015",
                    "max": "22215.0",
                    "histogram": [
                      {
                        "bin_start": 1.8449491508690015,
                        "bin_end": 2223.1604542357823,
                        "count": 7
                      },
                      {
                        "bin_start": 2223.1604542357823,
                        "bin_end": 4444.475959320695,
                        "count": 0
                      },
                      {
                        "bin_start": 4444.475959320695,
                        "bin_end": 6665.791464405609,
                        "count": 0
                      },
                      {
                        "bin_start": 6665.791464405609,
                        "bin_end": 8887.106969490522,
                        "count": 0
                      },
                      {
                        "bin_start": 8887.106969490522,
                        "bin_end": 11108.422474575435,
                        "count": 0
                      },
                      {
                        "bin_start": 11108.422474575435,
                        "bin_end": 13329.737979660349,
                        "count": 0
                      },
                      {
                        "bin_start": 13329.737979660349,
                        "bin_end": 15551.053484745262,
                        "count": 0
                      },
                      {
                        "bin_start": 15551.053484745262,
                        "bin_end": 17772.368989830175,
                        "count": 0
                      },
                      {
                        "bin_start": 17772.368989830175,
                        "bin_end": 19993.684494915087,
                        "count": 0
                      },
                      {
                        "bin_start": 19993.684494915087,
                        "bin_end": 22215,
                        "count": 1
                      }
                    ]
                  }
                },
                {
                  "name": "GSM11823.CEL.gz",
                  "dtype": "float64",
                  "stats": {
                    "unique_count": 8,
                    "nan_count": 0,
                    "min": "1.8020543163604241",
                    "max": "22215.0",
                    "histogram": [
                      {
                        "bin_start": 1.8020543163604241,
                        "bin_end": 2223.121848884724,
                        "count": 7
                      },
                      {
                        "bin_start": 2223.121848884724,
                        "bin_end": 4444.441643453088,
                        "count": 0
                      },
                      {
                        "bin_start": 4444.441643453088,
                        "bin_end": 6665.761438021451,
                        "count": 0
                      },
                      {
                        "bin_start": 6665.761438021451,
                        "bin_end": 8887.081232589815,
                        "count": 0
                      },
                      {
                        "bin_start": 8887.081232589815,
                        "bin_end": 11108.40102715818,
                        "count": 0
                      },
                      {
                        "bin_start": 11108.40102715818,
                        "bin_end": 13329.720821726542,
                        "count": 0
                      },
                      {
                        "bin_start": 13329.720821726542,
                        "bin_end": 15551.040616294906,
                        "count": 0
                      },
                      {
                        "bin_start": 15551.040616294906,
                        "bin_end": 17772.36041086327,
                        "count": 0
                      },
                      {
                        "bin_start": 17772.36041086327,
                        "bin_end": 19993.680205431636,
                        "count": 0
                      },
                      {
                        "bin_start": 19993.680205431636,
                        "bin_end": 22215,
                        "count": 1
                      }
                    ]
                  }
                },
                {
                  "name": "GSM11830.CEL.gz",
                  "dtype": "float64",
                  "stats": {
                    "unique_count": 8,
                    "nan_count": 0,
                    "min": "1.7804003435670623",
                    "max": "22215.0",
                    "histogram": [
                      {
                        "bin_start": 1.7804003435670623,
                        "bin_end": 2223.1023603092103,
                        "count": 7
                      },
                      {
                        "bin_start": 2223.1023603092103,
                        "bin_end": 4444.424320274853,
                        "count": 0
                      },
                      {
                        "bin_start": 4444.424320274853,
                        "bin_end": 6665.746280240496,
                        "count": 0
                      },
                      {
                        "bin_start": 6665.746280240496,
                        "bin_end": 8887.06824020614,
                        "count": 0
                      },
                      {
                        "bin_start": 8887.06824020614,
                        "bin_end": 11108.390200171783,
                        "count": 0
                      },
                      {
                        "bin_start": 11108.390200171783,
                        "bin_end": 13329.712160137426,
                        "count": 0
                      },
                      {
                        "bin_start": 13329.712160137426,
                        "bin_end": 15551.034120103068,
                        "count": 0
                      },
                      {
                        "bin_start": 15551.034120103068,
                        "bin_end": 17772.356080068712,
                        "count": 0
                      },
                      {
                        "bin_start": 17772.356080068712,
                        "bin_end": 19993.678040034356,
                        "count": 0
                      },
                      {
                        "bin_start": 19993.678040034356,
                        "bin_end": 22215,
                        "count": 1
                      }
                    ]
                  }
                },
                {
                  "name": "GSM12067.CEL.gz",
                  "dtype": "float64",
                  "stats": {
                    "unique_count": 8,
                    "nan_count": 0,
                    "min": "1.7927453492848366",
                    "max": "22215.0",
                    "histogram": [
                      {
                        "bin_start": 1.7927453492848366,
                        "bin_end": 2223.1134708143563,
                        "count": 7
                      },
                      {
                        "bin_start": 2223.1134708143563,
                        "bin_end": 4444.434196279428,
                        "count": 0
                      },
                      {
                        "bin_start": 4444.434196279428,
                        "bin_end": 6665.754921744499,
                        "count": 0
                      },
                      {
                        "bin_start": 6665.754921744499,
                        "bin_end": 8887.07564720957,
                        "count": 0
                      },
                      {
                        "bin_start": 8887.07564720957,
                        "bin_end": 11108.396372674642,
                        "count": 0
                      },
                      {
                        "bin_start": 11108.396372674642,
                        "bin_end": 13329.717098139714,
                        "count": 0
                      },
                      {
                        "bin_start": 13329.717098139714,
                        "bin_end": 15551.037823604785,
                        "count": 0
                      },
                      {
                        "bin_start": 15551.037823604785,
                        "bin_end": 17772.358549069857,
                        "count": 0
                      },
                      {
                        "bin_start": 17772.358549069857,
                        "bin_end": 19993.679274534927,
                        "count": 0
                      },
                      {
                        "bin_start": 19993.679274534927,
                        "bin_end": 22215,
                        "count": 1
                      }
                    ]
                  }
                },
                {
                  "name": "GSM12075.CEL.gz",
                  "dtype": "float64",
                  "stats": {
                    "unique_count": 8,
                    "nan_count": 0,
                    "min": "1.7843352842800106",
                    "max": "22215.0",
                    "histogram": [
                      {
                        "bin_start": 1.7843352842800106,
                        "bin_end": 2223.1059017558523,
                        "count": 7
                      },
                      {
                        "bin_start": 2223.1059017558523,
                        "bin_end": 4444.4274682274245,
                        "count": 0
                      },
                      {
                        "bin_start": 4444.4274682274245,
                        "bin_end": 6665.749034698997,
                        "count": 0
                      },
                      {
                        "bin_start": 6665.749034698997,
                        "bin_end": 8887.070601170568,
                        "count": 0
                      },
                      {
                        "bin_start": 8887.070601170568,
                        "bin_end": 11108.39216764214,
                        "count": 0
                      },
                      {
                        "bin_start": 11108.39216764214,
                        "bin_end": 13329.713734113713,
                        "count": 0
                      },
                      {
                        "bin_start": 13329.713734113713,
                        "bin_end": 15551.035300585285,
                        "count": 0
                      },
                      {
                        "bin_start": 15551.035300585285,
                        "bin_end": 17772.356867056857,
                        "count": 0
                      },
                      {
                        "bin_start": 17772.356867056857,
                        "bin_end": 19993.67843352843,
                        "count": 0
                      },
                      {
                        "bin_start": 19993.67843352843,
                        "bin_end": 22215,
                        "count": 1
                      }
                    ]
                  }
                },
                {
                  "name": "GSM12079.CEL.gz",
                  "dtype": "float64",
                  "stats": {
                    "unique_count": 8,
                    "nan_count": 0,
                    "min": "1.751410717977131",
                    "max": "22215.0",
                    "histogram": [
                      {
                        "bin_start": 1.751410717977131,
                        "bin_end": 2223.0762696461793,
                        "count": 7
                      },
                      {
                        "bin_start": 2223.0762696461793,
                        "bin_end": 4444.401128574381,
                        "count": 0
                      },
                      {
                        "bin_start": 4444.401128574381,
                        "bin_end": 6665.725987502583,
                        "count": 0
                      },
                      {
                        "bin_start": 6665.725987502583,
                        "bin_end": 8887.050846430786,
                        "count": 0
                      },
                      {
                        "bin_start": 8887.050846430786,
                        "bin_end": 11108.375705358987,
                        "count": 0
                      },
                      {
                        "bin_start": 11108.375705358987,
                        "bin_end": 13329.70056428719,
                        "count": 0
                      },
                      {
                        "bin_start": 13329.70056428719,
                        "bin_end": 15551.025423215393,
                        "count": 0
                      },
                      {
                        "bin_start": 15551.025423215393,
                        "bin_end": 17772.350282143594,
                        "count": 0
                      },
                      {
                        "bin_start": 17772.350282143594,
                        "bin_end": 19993.675141071795,
                        "count": 0
                      },
                      {
                        "bin_start": 19993.675141071795,
                        "bin_end": 22215,
                        "count": 1
                      }
                    ]
                  }
                },
                {
                  "name": "GSM12098.CEL.gz",
                  "dtype": "float64",
                  "stats": {
                    "unique_count": 8,
                    "nan_count": 0,
                    "min": "1.7976867903283045",
                    "max": "22215.0",
                    "histogram": [
                      {
                        "bin_start": 1.7976867903283045,
                        "bin_end": 2223.1179181112957,
                        "count": 7
                      },
                      {
                        "bin_start": 2223.1179181112957,
                        "bin_end": 4444.438149432262,
                        "count": 0
                      },
                      {
                        "bin_start": 4444.438149432262,
                        "bin_end": 6665.758380753229,
                        "count": 0
                      },
                      {
                        "bin_start": 6665.758380753229,
                        "bin_end": 8887.078612074198,
                        "count": 0
                      },
                      {
                        "bin_start": 8887.078612074198,
                        "bin_end": 11108.398843395165,
                        "count": 0
                      },
                      {
                        "bin_start": 11108.398843395165,
                        "bin_end": 13329.719074716131,
                        "count": 0
                      },
                      {
                        "bin_start": 13329.719074716131,
                        "bin_end": 15551.039306037099,
                        "count": 0
                      },
                      {
                        "bin_start": 15551.039306037099,
                        "bin_end": 17772.359537358065,
                        "count": 0
                      },
                      {
                        "bin_start": 17772.359537358065,
                        "bin_end": 19993.67976867903,
                        "count": 0
                      },
                      {
                        "bin_start": 19993.67976867903,
                        "bin_end": 22215,
                        "count": 1
                      }
                    ]
                  }
                },
                {
                  "name": "GSM12105.CEL.gz",
                  "dtype": "float64",
                  "stats": {
                    "unique_count": 8,
                    "nan_count": 0,
                    "min": "1.81942007363109",
                    "max": "22215.0",
                    "histogram": [
                      {
                        "bin_start": 1.81942007363109,
                        "bin_end": 2223.1374780662677,
                        "count": 7
                      },
                      {
                        "bin_start": 2223.1374780662677,
                        "bin_end": 4444.455536058904,
                        "count": 0
                      },
                      {
                        "bin_start": 4444.455536058904,
                        "bin_end": 6665.77359405154,
                        "count": 0
                      },
                      {
                        "bin_start": 6665.77359405154,
                        "bin_end": 8887.091652044177,
                        "count": 0
                      },
                      {
                        "bin_start": 8887.091652044177,
                        "bin_end": 11108.409710036814,
                        "count": 0
                      },
                      {
                        "bin_start": 11108.409710036814,
                        "bin_end": 13329.72776802945,
                        "count": 0
                      },
                      {
                        "bin_start": 13329.72776802945,
                        "bin_end": 15551.045826022086,
                        "count": 0
                      },
                      {
                        "bin_start": 15551.045826022086,
                        "bin_end": 17772.363884014725,
                        "count": 0
                      },
                      {
                        "bin_start": 17772.363884014725,
                        "bin_end": 19993.681942007363,
                        "count": 0
                      },
                      {
                        "bin_start": 19993.681942007363,
                        "bin_end": 22215,
                        "count": 1
                      }
                    ]
                  }
                },
                {
                  "name": "GSM12268.CEL.gz",
                  "dtype": "float64",
                  "stats": {
                    "unique_count": 8,
                    "nan_count": 0,
                    "min": "1.8033666926713436",
                    "max": "22215.0",
                    "histogram": [
                      {
                        "bin_start": 1.8033666926713436,
                        "bin_end": 2223.123030023404,
                        "count": 7
                      },
                      {
                        "bin_start": 2223.123030023404,
                        "bin_end": 4444.442693354137,
                        "count": 0
                      },
                      {
                        "bin_start": 4444.442693354137,
                        "bin_end": 6665.762356684871,
                        "count": 0
                      },
                      {
                        "bin_start": 6665.762356684871,
                        "bin_end": 8887.082020015603,
                        "count": 0
                      },
                      {
                        "bin_start": 8887.082020015603,
                        "bin_end": 11108.401683346336,
                        "count": 0
                      },
                      {
                        "bin_start": 11108.401683346336,
                        "bin_end": 13329.72134667707,
                        "count": 0
                      },
                      {
                        "bin_start": 13329.72134667707,
                        "bin_end": 15551.041010007802,
                        "count": 0
                      },
                      {
                        "bin_start": 15551.041010007802,
                        "bin_end": 17772.360673338535,
                        "count": 0
                      },
                      {
                        "bin_start": 17772.360673338535,
                        "bin_end": 19993.68033666927,
                        "count": 0
                      },
                      {
                        "bin_start": 19993.68033666927,
                        "bin_end": 22215,
                        "count": 1
                      }
                    ]
                  }
                },
                {
                  "name": "GSM12270.CEL.gz",
                  "dtype": "float64",
                  "stats": {
                    "unique_count": 8,
                    "nan_count": 0,
                    "min": "1.811429389396316",
                    "max": "22215.0",
                    "histogram": [
                      {
                        "bin_start": 1.811429389396316,
                        "bin_end": 2223.130286450457,
                        "count": 7
                      },
                      {
                        "bin_start": 2223.130286450457,
                        "bin_end": 4444.449143511517,
                        "count": 0
                      },
                      {
                        "bin_start": 4444.449143511517,
                        "bin_end": 6665.768000572578,
                        "count": 0
                      },
                      {
                        "bin_start": 6665.768000572578,
                        "bin_end": 8887.086857633638,
                        "count": 0
                      },
                      {
                        "bin_start": 8887.086857633638,
                        "bin_end": 11108.405714694698,
                        "count": 0
                      },
                      {
                        "bin_start": 11108.405714694698,
                        "bin_end": 13329.72457175576,
                        "count": 0
                      },
                      {
                        "bin_start": 13329.72457175576,
                        "bin_end": 15551.04342881682,
                        "count": 0
                      },
                      {
                        "bin_start": 15551.04342881682,
                        "bin_end": 17772.36228587788,
                        "count": 0
                      },
                      {
                        "bin_start": 17772.36228587788,
                        "bin_end": 19993.68114293894,
                        "count": 0
                      },
                      {
                        "bin_start": 19993.68114293894,
                        "bin_end": 22215,
                        "count": 1
                      }
                    ]
                  }
                },
                {
                  "name": "GSM12283.CEL.gz",
                  "dtype": "float64",
                  "stats": {
                    "unique_count": 8,
                    "nan_count": 0,
                    "min": "1.7726240196967706",
                    "max": "22215.0",
                    "histogram": [
                      {
                        "bin_start": 1.7726240196967706,
                        "bin_end": 2223.095361617727,
                        "count": 7
                      },
                      {
                        "bin_start": 2223.095361617727,
                        "bin_end": 4444.418099215758,
                        "count": 0
                      },
                      {
                        "bin_start": 4444.418099215758,
                        "bin_end": 6665.7408368137885,
                        "count": 0
                      },
                      {
                        "bin_start": 6665.7408368137885,
                        "bin_end": 8887.063574411819,
                        "count": 0
                      },
                      {
                        "bin_start": 8887.063574411819,
                        "bin_end": 11108.38631200985,
                        "count": 0
                      },
                      {
                        "bin_start": 11108.38631200985,
                        "bin_end": 13329.70904960788,
                        "count": 0
                      },
                      {
                        "bin_start": 13329.70904960788,
                        "bin_end": 15551.03178720591,
                        "count": 0
                      },
                      {
                        "bin_start": 15551.03178720591,
                        "bin_end": 17772.35452480394,
                        "count": 0
                      },
                      {
                        "bin_start": 17772.35452480394,
                        "bin_end": 19993.677262401972,
                        "count": 0
                      },
                      {
                        "bin_start": 19993.677262401972,
                        "bin_end": 22215,
                        "count": 1
                      }
                    ]
                  }
                },
                {
                  "name": "GSM12298.CEL.gz",
                  "dtype": "float64",
                  "stats": {
                    "unique_count": 8,
                    "nan_count": 0,
                    "min": "1.8214539027865997",
                    "max": "22215.0",
                    "histogram": [
                      {
                        "bin_start": 1.8214539027865997,
                        "bin_end": 2223.1393085125083,
                        "count": 7
                      },
                      {
                        "bin_start": 2223.1393085125083,
                        "bin_end": 4444.45716312223,
                        "count": 0
                      },
                      {
                        "bin_start": 4444.45716312223,
                        "bin_end": 6665.775017731951,
                        "count": 0
                      },
                      {
                        "bin_start": 6665.775017731951,
                        "bin_end": 8887.092872341673,
                        "count": 0
                      },
                      {
                        "bin_start": 8887.092872341673,
                        "bin_end": 11108.410726951395,
                        "count": 0
                      },
                      {
                        "bin_start": 11108.410726951395,
                        "bin_end": 13329.728581561116,
                        "count": 0
                      },
                      {
                        "bin_start": 13329.728581561116,
                        "bin_end": 15551.046436170836,
                        "count": 0
                      },
                      {
                        "bin_start": 15551.046436170836,
                        "bin_end": 17772.36429078056,
                        "count": 0
                      },
                      {
                        "bin_start": 17772.36429078056,
                        "bin_end": 19993.68214539028,
                        "count": 0
                      },
                      {
                        "bin_start": 19993.68214539028,
                        "bin_end": 22215,
                        "count": 1
                      }
                    ]
                  }
                },
                {
                  "name": "GSM12300.CEL.gz",
                  "dtype": "float64",
                  "stats": {
                    "unique_count": 8,
                    "nan_count": 0,
                    "min": "1.7947065989926427",
                    "max": "22215.0",
                    "histogram": [
                      {
                        "bin_start": 1.7947065989926427,
                        "bin_end": 2223.115235939093,
                        "count": 7
                      },
                      {
                        "bin_start": 2223.115235939093,
                        "bin_end": 4444.435765279194,
                        "count": 0
                      },
                      {
                        "bin_start": 4444.435765279194,
                        "bin_end": 6665.756294619295,
                        "count": 0
                      },
                      {
                        "bin_start": 6665.756294619295,
                        "bin_end": 8887.076823959394,
                        "count": 0
                      },
                      {
                        "bin_start": 8887.076823959394,
                        "bin_end": 11108.397353299495,
                        "count": 0
                      },
                      {
                        "bin_start": 11108.397353299495,
                        "bin_end": 13329.717882639596,
                        "count": 0
                      },
                      {
                        "bin_start": 13329.717882639596,
                        "bin_end": 15551.038411979696,
                        "count": 0
                      },
                      {
                        "bin_start": 15551.038411979696,
                        "bin_end": 17772.3589413198,
                        "count": 0
                      },
                      {
                        "bin_start": 17772.3589413198,
                        "bin_end": 19993.6794706599,
                        "count": 0
                      },
                      {
                        "bin_start": 19993.6794706599,
                        "bin_end": 22215,
                        "count": 1
                      }
                    ]
                  }
                },
                {
                  "name": "GSM12399.CEL.gz",
                  "dtype": "float64",
                  "stats": {
                    "unique_count": 8,
                    "nan_count": 0,
                    "min": "1.7776251203971893",
                    "max": "22215.0",
                    "histogram": [
                      {
                        "bin_start": 1.7776251203971893,
                        "bin_end": 2223.0998626083574,
                        "count": 7
                      },
                      {
                        "bin_start": 2223.0998626083574,
                        "bin_end": 4444.422100096317,
                        "count": 0
                      },
                      {
                        "bin_start": 4444.422100096317,
                        "bin_end": 6665.744337584277,
                        "count": 0
                      },
                      {
                        "bin_start": 6665.744337584277,
                        "bin_end": 8887.066575072238,
                        "count": 0
                      },
                      {
                        "bin_start": 8887.066575072238,
                        "bin_end": 11108.388812560199,
                        "count": 0
                      },
                      {
                        "bin_start": 11108.388812560199,
                        "bin_end": 13329.711050048158,
                        "count": 0
                      },
                      {
                        "bin_start": 13329.711050048158,
                        "bin_end": 15551.033287536118,
                        "count": 0
                      },
                      {
                        "bin_start": 15551.033287536118,
                        "bin_end": 17772.35552502408,
                        "count": 0
                      },
                      {
                        "bin_start": 17772.35552502408,
                        "bin_end": 19993.677762512038,
                        "count": 0
                      },
                      {
                        "bin_start": 19993.677762512038,
                        "bin_end": 22215,
                        "count": 1
                      }
                    ]
                  }
                },
                {
                  "name": "GSM12444.CEL.gz",
                  "dtype": "float64",
                  "stats": {
                    "unique_count": 8,
                    "nan_count": 0,
                    "min": "1.8022828034330365",
                    "max": "22215.0",
                    "histogram": [
                      {
                        "bin_start": 1.8022828034330365,
                        "bin_end": 2223.12205452309,
                        "count": 7
                      },
                      {
                        "bin_start": 2223.12205452309,
                        "bin_end": 4444.441826242746,
                        "count": 0
                      },
                      {
                        "bin_start": 4444.441826242746,
                        "bin_end": 6665.761597962403,
                        "count": 0
                      },
                      {
                        "bin_start": 6665.761597962403,
                        "bin_end": 8887.08136968206,
                        "count": 0
                      },
                      {
                        "bin_start": 8887.08136968206,
                        "bin_end": 11108.401141401717,
                        "count": 0
                      },
                      {
                        "bin_start": 11108.401141401717,
                        "bin_end": 13329.720913121375,
                        "count": 0
                      },
                      {
                        "bin_start": 13329.720913121375,
                        "bin_end": 15551.040684841031,
                        "count": 0
                      },
                      {
                        "bin_start": 15551.040684841031,
                        "bin_end": 17772.360456560687,
                        "count": 0
                      },
                      {
                        "bin_start": 17772.360456560687,
                        "bin_end": 19993.680228280344,
                        "count": 0
                      },
                      {
                        "bin_start": 19993.680228280344,
                        "bin_end": 22215,
                        "count": 1
                      }
                    ]
                  }
                },
                {
                  "name": "GSM21203.cel.gz",
                  "dtype": "float64",
                  "stats": {
                    "unique_count": 8,
                    "nan_count": 0,
                    "min": "1.736133952162964",
                    "max": "22215.0",
                    "histogram": [
                      {
                        "bin_start": 1.736133952162964,
                        "bin_end": 2223.0625205569468,
                        "count": 7
                      },
                      {
                        "bin_start": 2223.0625205569468,
                        "bin_end": 4444.3889071617305,
                        "count": 0
                      },
                      {
                        "bin_start": 4444.3889071617305,
                        "bin_end": 6665.715293766514,
                        "count": 0
                      },
                      {
                        "bin_start": 6665.715293766514,
                        "bin_end": 8887.041680371298,
                        "count": 0
                      },
                      {
                        "bin_start": 8887.041680371298,
                        "bin_end": 11108.368066976082,
                        "count": 0
                      },
                      {
                        "bin_start": 11108.368066976082,
                        "bin_end": 13329.694453580865,
                        "count": 0
                      },
                      {
                        "bin_start": 13329.694453580865,
                        "bin_end": 15551.020840185649,
                        "count": 0
                      },
                      {
                        "bin_start": 15551.020840185649,
                        "bin_end": 17772.347226790433,
                        "count": 0
                      },
                      {
                        "bin_start": 17772.347226790433,
                        "bin_end": 19993.673613395218,
                        "count": 0
                      },
                      {
                        "bin_start": 19993.673613395218,
                        "bin_end": 22215,
                        "count": 1
                      }
                    ]
                  }
                },
                {
                  "name": "GSM21204.cel.gz",
                  "dtype": "float64",
                  "stats": {
                    "unique_count": 8,
                    "nan_count": 0,
                    "min": "1.7503761039831447",
                    "max": "22215.0",
                    "histogram": [
                      {
                        "bin_start": 1.7503761039831447,
                        "bin_end": 2223.0753384935847,
                        "count": 7
                      },
                      {
                        "bin_start": 2223.0753384935847,
                        "bin_end": 4444.400300883187,
                        "count": 0
                      },
                      {
                        "bin_start": 4444.400300883187,
                        "bin_end": 6665.725263272789,
                        "count": 0
                      },
                      {
                        "bin_start": 6665.725263272789,
                        "bin_end": 8887.05022566239,
                        "count": 0
                      },
                      {
                        "bin_start": 8887.05022566239,
                        "bin_end": 11108.37518805199,
                        "count": 0
                      },
                      {
                        "bin_start": 11108.37518805199,
                        "bin_end": 13329.700150441593,
                        "count": 0
                      },
                      {
                        "bin_start": 13329.700150441593,
                        "bin_end": 15551.025112831196,
                        "count": 0
                      },
                      {
                        "bin_start": 15551.025112831196,
                        "bin_end": 17772.3500752208,
                        "count": 0
                      },
                      {
                        "bin_start": 17772.3500752208,
                        "bin_end": 19993.6750376104,
                        "count": 0
                      },
                      {
                        "bin_start": 19993.6750376104,
                        "bin_end": 22215,
                        "count": 1
                      }
                    ]
                  }
                },
                {
                  "name": "GSM21205.cel.gz",
                  "dtype": "float64",
                  "stats": {
                    "unique_count": 8,
                    "nan_count": 0,
                    "min": "1.646109565681536",
                    "max": "22215.0",
                    "histogram": [
                      {
                        "bin_start": 1.646109565681536,
                        "bin_end": 2222.9814986091133,
                        "count": 7
                      },
                      {
                        "bin_start": 2222.9814986091133,
                        "bin_end": 4444.316887652545,
                        "count": 0
                      },
                      {
                        "bin_start": 4444.316887652545,
                        "bin_end": 6665.652276695977,
                        "count": 0
                      },
                      {
                        "bin_start": 6665.652276695977,
                        "bin_end": 8886.987665739409,
                        "count": 0
                      },
                      {
                        "bin_start": 8886.987665739409,
                        "bin_end": 11108.32305478284,
                        "count": 0
                      },
                      {
                        "bin_start": 11108.32305478284,
                        "bin_end": 13329.658443826273,
                        "count": 0
                      },
                      {
                        "bin_start": 13329.658443826273,
                        "bin_end": 15550.993832869704,
                        "count": 0
                      },
                      {
                        "bin_start": 15550.993832869704,
                        "bin_end": 17772.329221913136,
                        "count": 0
                      },
                      {
                        "bin_start": 17772.329221913136,
                        "bin_end": 19993.664610956566,
                        "count": 0
                      },
                      {
                        "bin_start": 19993.664610956566,
                        "bin_end": 22215,
                        "count": 1
                      }
                    ]
                  }
                },
                {
                  "name": "GSM21206.cel.gz",
                  "dtype": "float64",
                  "stats": {
                    "unique_count": 8,
                    "nan_count": 0,
                    "min": "1.8178955356231754",
                    "max": "22215.0",
                    "histogram": [
                      {
                        "bin_start": 1.8178955356231754,
                        "bin_end": 2223.136105982061,
                        "count": 7
                      },
                      {
                        "bin_start": 2223.136105982061,
                        "bin_end": 4444.454316428499,
                        "count": 0
                      },
                      {
                        "bin_start": 4444.454316428499,
                        "bin_end": 6665.772526874936,
                        "count": 0
                      },
                      {
                        "bin_start": 6665.772526874936,
                        "bin_end": 8887.090737321374,
                        "count": 0
                      },
                      {
                        "bin_start": 8887.090737321374,
                        "bin_end": 11108.408947767812,
                        "count": 0
                      },
                      {
                        "bin_start": 11108.408947767812,
                        "bin_end": 13329.72715821425,
                        "count": 0
                      },
                      {
                        "bin_start": 13329.72715821425,
                        "bin_end": 15551.045368660687,
                        "count": 0
                      },
                      {
                        "bin_start": 15551.045368660687,
                        "bin_end": 17772.363579107125,
                        "count": 0
                      },
                      {
                        "bin_start": 17772.363579107125,
                        "bin_end": 19993.68178955356,
                        "count": 0
                      },
                      {
                        "bin_start": 19993.68178955356,
                        "bin_end": 22215,
                        "count": 1
                      }
                    ]
                  }
                },
                {
                  "name": "GSM21207.cel.gz",
                  "dtype": "float64",
                  "stats": {
                    "unique_count": 8,
                    "nan_count": 0,
                    "min": "1.6536899937083993",
                    "max": "22215.0",
                    "histogram": [
                      {
                        "bin_start": 1.6536899937083993,
                        "bin_end": 2222.9883209943373,
                        "count": 7
                      },
                      {
                        "bin_start": 2222.9883209943373,
                        "bin_end": 4444.322951994966,
                        "count": 0
                      },
                      {
                        "bin_start": 4444.322951994966,
                        "bin_end": 6665.6575829955955,
                        "count": 0
                      },
                      {
                        "bin_start": 6665.6575829955955,
                        "bin_end": 8886.992213996225,
                        "count": 0
                      },
                      {
                        "bin_start": 8886.992213996225,
                        "bin_end": 11108.326844996855,
                        "count": 0
                      },
                      {
                        "bin_start": 11108.326844996855,
                        "bin_end": 13329.661475997484,
                        "count": 0
                      },
                      {
                        "bin_start": 13329.661475997484,
                        "bin_end": 15550.996106998113,
                        "count": 0
                      },
                      {
                        "bin_start": 15550.996106998113,
                        "bin_end": 17772.330737998742,
                        "count": 0
                      },
                      {
                        "bin_start": 17772.330737998742,
                        "bin_end": 19993.665368999373,
                        "count": 0
                      },
                      {
                        "bin_start": 19993.665368999373,
                        "bin_end": 22215,
                        "count": 1
                      }
                    ]
                  }
                },
                {
                  "name": "GSM21208.cel.gz",
                  "dtype": "float64",
                  "stats": {
                    "unique_count": 8,
                    "nan_count": 0,
                    "min": "1.736234429792682",
                    "max": "22215.0",
                    "histogram": [
                      {
                        "bin_start": 1.736234429792682,
                        "bin_end": 2223.062610986813,
                        "count": 7
                      },
                      {
                        "bin_start": 2223.062610986813,
                        "bin_end": 4444.3889875438335,
                        "count": 0
                      },
                      {
                        "bin_start": 4444.3889875438335,
                        "bin_end": 6665.715364100854,
                        "count": 0
                      },
                      {
                        "bin_start": 6665.715364100854,
                        "bin_end": 8887.041740657874,
                        "count": 0
                      },
                      {
                        "bin_start": 8887.041740657874,
                        "bin_end": 11108.368117214895,
                        "count": 0
                      },
                      {
                        "bin_start": 11108.368117214895,
                        "bin_end": 13329.694493771914,
                        "count": 0
                      },
                      {
                        "bin_start": 13329.694493771914,
                        "bin_end": 15551.020870328935,
                        "count": 0
                      },
                      {
                        "bin_start": 15551.020870328935,
                        "bin_end": 17772.347246885958,
                        "count": 0
                      },
                      {
                        "bin_start": 17772.347246885958,
                        "bin_end": 19993.673623442977,
                        "count": 0
                      },
                      {
                        "bin_start": 19993.673623442977,
                        "bin_end": 22215,
                        "count": 1
                      }
                    ]
                  }
                },
                {
                  "name": "GSM21209.cel.gz",
                  "dtype": "float64",
                  "stats": {
                    "unique_count": 8,
                    "nan_count": 0,
                    "min": "1.7313832979261916",
                    "max": "22215.0",
                    "histogram": [
                      {
                        "bin_start": 1.7313832979261916,
                        "bin_end": 2223.0582449681333,
                        "count": 7
                      },
                      {
                        "bin_start": 2223.0582449681333,
                        "bin_end": 4444.38510663834,
                        "count": 0
                      },
                      {
                        "bin_start": 4444.38510663834,
                        "bin_end": 6665.7119683085475,
                        "count": 0
                      },
                      {
                        "bin_start": 6665.7119683085475,
                        "bin_end": 8887.038829978756,
                        "count": 0
                      },
                      {
                        "bin_start": 8887.038829978756,
                        "bin_end": 11108.365691648964,
                        "count": 0
                      },
                      {
                        "bin_start": 11108.365691648964,
                        "bin_end": 13329.69255331917,
                        "count": 0
                      },
                      {
                        "bin_start": 13329.69255331917,
                        "bin_end": 15551.019414989376,
                        "count": 0
                      },
                      {
                        "bin_start": 15551.019414989376,
                        "bin_end": 17772.346276659584,
                        "count": 0
                      },
                      {
                        "bin_start": 17772.346276659584,
                        "bin_end": 19993.673138329792,
                        "count": 0
                      },
                      {
                        "bin_start": 19993.673138329792,
                        "bin_end": 22215,
                        "count": 1
                      }
                    ]
                  }
                },
                {
                  "name": "GSM21210.cel.gz",
                  "dtype": "float64",
                  "stats": {
                    "unique_count": 8,
                    "nan_count": 0,
                    "min": "1.789126342086243",
                    "max": "22215.0",
                    "histogram": [
                      {
                        "bin_start": 1.789126342086243,
                        "bin_end": 2223.1102137078774,
                        "count": 7
                      },
                      {
                        "bin_start": 2223.1102137078774,
                        "bin_end": 4444.431301073669,
                        "count": 0
                      },
                      {
                        "bin_start": 4444.431301073669,
                        "bin_end": 6665.7523884394595,
                        "count": 0
                      },
                      {
                        "bin_start": 6665.7523884394595,
                        "bin_end": 8887.073475805251,
                        "count": 0
                      },
                      {
                        "bin_start": 8887.073475805251,
                        "bin_end": 11108.394563171043,
                        "count": 0
                      },
                      {
                        "bin_start": 11108.394563171043,
                        "bin_end": 13329.715650536833,
                        "count": 0
                      },
                      {
                        "bin_start": 13329.715650536833,
                        "bin_end": 15551.036737902625,
                        "count": 0
                      },
                      {
                        "bin_start": 15551.036737902625,
                        "bin_end": 17772.357825268416,
                        "count": 0
                      },
                      {
                        "bin_start": 17772.357825268416,
                        "bin_end": 19993.67891263421,
                        "count": 0
                      },
                      {
                        "bin_start": 19993.67891263421,
                        "bin_end": 22215,
                        "count": 1
                      }
                    ]
                  }
                },
                {
                  "name": "GSM21212.cel.gz",
                  "dtype": "float64",
                  "stats": {
                    "unique_count": 8,
                    "nan_count": 0,
                    "min": "1.733680330895395",
                    "max": "22215.0",
                    "histogram": [
                      {
                        "bin_start": 1.733680330895395,
                        "bin_end": 2223.0603122978055,
                        "count": 7
                      },
                      {
                        "bin_start": 2223.0603122978055,
                        "bin_end": 4444.386944264716,
                        "count": 0
                      },
                      {
                        "bin_start": 4444.386944264716,
                        "bin_end": 6665.713576231626,
                        "count": 0
                      },
                      {
                        "bin_start": 6665.713576231626,
                        "bin_end": 8887.040208198536,
                        "count": 0
                      },
                      {
                        "bin_start": 8887.040208198536,
                        "bin_end": 11108.366840165445,
                        "count": 0
                      },
                      {
                        "bin_start": 11108.366840165445,
                        "bin_end": 13329.693472132356,
                        "count": 0
                      },
                      {
                        "bin_start": 13329.693472132356,
                        "bin_end": 15551.020104099267,
                        "count": 0
                      },
                      {
                        "bin_start": 15551.020104099267,
                        "bin_end": 17772.346736066178,
                        "count": 0
                      },
                      {
                        "bin_start": 17772.346736066178,
                        "bin_end": 19993.673368033087,
                        "count": 0
                      },
                      {
                        "bin_start": 19993.673368033087,
                        "bin_end": 22215,
                        "count": 1
                      }
                    ]
                  }
                },
                {
                  "name": "GSM21213.cel.gz",
                  "dtype": "float64",
                  "stats": {
                    "unique_count": 8,
                    "nan_count": 0,
                    "min": "1.7119064934670536",
                    "max": "22215.0",
                    "histogram": [
                      {
                        "bin_start": 1.7119064934670536,
                        "bin_end": 2223.0407158441208,
                        "count": 7
                      },
                      {
                        "bin_start": 2223.0407158441208,
                        "bin_end": 4444.369525194774,
                        "count": 0
                      },
                      {
                        "bin_start": 4444.369525194774,
                        "bin_end": 6665.698334545427,
                        "count": 0
                      },
                      {
                        "bin_start": 6665.698334545427,
                        "bin_end": 8887.02714389608,
                        "count": 0
                      },
                      {
                        "bin_start": 8887.02714389608,
                        "bin_end": 11108.355953246733,
                        "count": 0
                      },
                      {
                        "bin_start": 11108.355953246733,
                        "bin_end": 13329.684762597388,
                        "count": 0
                      },
                      {
                        "bin_start": 13329.684762597388,
                        "bin_end": 15551.013571948042,
                        "count": 0
                      },
                      {
                        "bin_start": 15551.013571948042,
                        "bin_end": 17772.342381298695,
                        "count": 0
                      },
                      {
                        "bin_start": 17772.342381298695,
                        "bin_end": 19993.671190649347,
                        "count": 0
                      },
                      {
                        "bin_start": 19993.671190649347,
                        "bin_end": 22215,
                        "count": 1
                      }
                    ]
                  }
                },
                {
                  "name": "GSM21214.cel.gz",
                  "dtype": "float64",
                  "stats": {
                    "unique_count": 8,
                    "nan_count": 0,
                    "min": "1.7797453613310468",
                    "max": "22215.0",
                    "histogram": [
                      {
                        "bin_start": 1.7797453613310468,
                        "bin_end": 2223.101770825198,
                        "count": 7
                      },
                      {
                        "bin_start": 2223.101770825198,
                        "bin_end": 4444.423796289065,
                        "count": 0
                      },
                      {
                        "bin_start": 4444.423796289065,
                        "bin_end": 6665.745821752931,
                        "count": 0
                      },
                      {
                        "bin_start": 6665.745821752931,
                        "bin_end": 8887.067847216798,
                        "count": 0
                      },
                      {
                        "bin_start": 8887.067847216798,
                        "bin_end": 11108.389872680666,
                        "count": 0
                      },
                      {
                        "bin_start": 11108.389872680666,
                        "bin_end": 13329.711898144531,
                        "count": 0
                      },
                      {
                        "bin_start": 13329.711898144531,
                        "bin_end": 15551.033923608398,
                        "count": 0
                      },
                      {
                        "bin_start": 15551.033923608398,
                        "bin_end": 17772.355949072266,
                        "count": 0
                      },
                      {
                        "bin_start": 17772.355949072266,
                        "bin_end": 19993.67797453613,
                        "count": 0
                      },
                      {
                        "bin_start": 19993.67797453613,
                        "bin_end": 22215,
                        "count": 1
                      }
                    ]
                  }
                },
                {
                  "name": "GSM21215.cel.gz",
                  "dtype": "float64",
                  "stats": {
                    "unique_count": 8,
                    "nan_count": 0,
                    "min": "1.8096183287517906",
                    "max": "22215.0",
                    "histogram": [
                      {
                        "bin_start": 1.8096183287517906,
                        "bin_end": 2223.1286564958764,
                        "count": 7
                      },
                      {
                        "bin_start": 2223.1286564958764,
                        "bin_end": 4444.447694663001,
                        "count": 0
                      },
                      {
                        "bin_start": 4444.447694663001,
                        "bin_end": 6665.766732830126,
                        "count": 0
                      },
                      {
                        "bin_start": 6665.766732830126,
                        "bin_end": 8887.085770997252,
                        "count": 0
                      },
                      {
                        "bin_start": 8887.085770997252,
                        "bin_end": 11108.404809164376,
                        "count": 0
                      },
                      {
                        "bin_start": 11108.404809164376,
                        "bin_end": 13329.723847331501,
                        "count": 0
                      },
                      {
                        "bin_start": 13329.723847331501,
                        "bin_end": 15551.042885498626,
                        "count": 0
                      },
                      {
                        "bin_start": 15551.042885498626,
                        "bin_end": 17772.36192366575,
                        "count": 0
                      },
                      {
                        "bin_start": 17772.36192366575,
                        "bin_end": 19993.680961832873,
                        "count": 0
                      },
                      {
                        "bin_start": 19993.680961832873,
                        "bin_end": 22215,
                        "count": 1
                      }
                    ]
                  }
                },
                {
                  "name": "GSM21216.cel.gz",
                  "dtype": "float64",
                  "stats": {
                    "unique_count": 8,
                    "nan_count": 0,
                    "min": "1.8135270770817824",
                    "max": "22215.0",
                    "histogram": [
                      {
                        "bin_start": 1.8135270770817824,
                        "bin_end": 2223.1321743693734,
                        "count": 7
                      },
                      {
                        "bin_start": 2223.1321743693734,
                        "bin_end": 4444.450821661665,
                        "count": 0
                      },
                      {
                        "bin_start": 4444.450821661665,
                        "bin_end": 6665.769468953957,
                        "count": 0
                      },
                      {
                        "bin_start": 6665.769468953957,
                        "bin_end": 8887.088116246248,
                        "count": 0
                      },
                      {
                        "bin_start": 8887.088116246248,
                        "bin_end": 11108.40676353854,
                        "count": 0
                      },
                      {
                        "bin_start": 11108.40676353854,
                        "bin_end": 13329.725410830832,
                        "count": 0
                      },
                      {
                        "bin_start": 13329.725410830832,
                        "bin_end": 15551.044058123123,
                        "count": 0
                      },
                      {
                        "bin_start": 15551.044058123123,
                        "bin_end": 17772.362705415417,
                        "count": 0
                      },
                      {
                        "bin_start": 17772.362705415417,
                        "bin_end": 19993.681352707707,
                        "count": 0
                      },
                      {
                        "bin_start": 19993.681352707707,
                        "bin_end": 22215,
                        "count": 1
                      }
                    ]
                  }
                },
                {
                  "name": "GSM21217.cel.gz",
                  "dtype": "float64",
                  "stats": {
                    "unique_count": 8,
                    "nan_count": 0,
                    "min": "1.791848000011394",
                    "max": "22215.0",
                    "histogram": [
                      {
                        "bin_start": 1.791848000011394,
                        "bin_end": 2223.11266320001,
                        "count": 7
                      },
                      {
                        "bin_start": 2223.11266320001,
                        "bin_end": 4444.433478400009,
                        "count": 0
                      },
                      {
                        "bin_start": 4444.433478400009,
                        "bin_end": 6665.754293600008,
                        "count": 0
                      },
                      {
                        "bin_start": 6665.754293600008,
                        "bin_end": 8887.075108800007,
                        "count": 0
                      },
                      {
                        "bin_start": 8887.075108800007,
                        "bin_end": 11108.395924000006,
                        "count": 0
                      },
                      {
                        "bin_start": 11108.395924000006,
                        "bin_end": 13329.716739200005,
                        "count": 0
                      },
                      {
                        "bin_start": 13329.716739200005,
                        "bin_end": 15551.037554400004,
                        "count": 0
                      },
                      {
                        "bin_start": 15551.037554400004,
                        "bin_end": 17772.358369600002,
                        "count": 0
                      },
                      {
                        "bin_start": 17772.358369600002,
                        "bin_end": 19993.679184800003,
                        "count": 0
                      },
                      {
                        "bin_start": 19993.679184800003,
                        "bin_end": 22215,
                        "count": 1
                      }
                    ]
                  }
                },
                {
                  "name": "GSM21218.cel.gz",
                  "dtype": "float64",
                  "stats": {
                    "unique_count": 8,
                    "nan_count": 0,
                    "min": "1.834986573657048",
                    "max": "22215.0",
                    "histogram": [
                      {
                        "bin_start": 1.834986573657048,
                        "bin_end": 2223.1514879162914,
                        "count": 7
                      },
                      {
                        "bin_start": 2223.1514879162914,
                        "bin_end": 4444.467989258926,
                        "count": 0
                      },
                      {
                        "bin_start": 4444.467989258926,
                        "bin_end": 6665.78449060156,
                        "count": 0
                      },
                      {
                        "bin_start": 6665.78449060156,
                        "bin_end": 8887.100991944193,
                        "count": 0
                      },
                      {
                        "bin_start": 8887.100991944193,
                        "bin_end": 11108.417493286826,
                        "count": 0
                      },
                      {
                        "bin_start": 11108.417493286826,
                        "bin_end": 13329.733994629461,
                        "count": 0
                      },
                      {
                        "bin_start": 13329.733994629461,
                        "bin_end": 15551.050495972097,
                        "count": 0
                      },
                      {
                        "bin_start": 15551.050495972097,
                        "bin_end": 17772.36699731473,
                        "count": 0
                      },
                      {
                        "bin_start": 17772.36699731473,
                        "bin_end": 19993.683498657363,
                        "count": 0
                      },
                      {
                        "bin_start": 19993.683498657363,
                        "bin_end": 22215,
                        "count": 1
                      }
                    ]
                  }
                },
                {
                  "name": "GSM21219.cel.gz",
                  "dtype": "float64",
                  "stats": {
                    "unique_count": 8,
                    "nan_count": 0,
                    "min": "1.7799520480437407",
                    "max": "22215.0",
                    "histogram": [
                      {
                        "bin_start": 1.7799520480437407,
                        "bin_end": 2223.1019568432393,
                        "count": 7
                      },
                      {
                        "bin_start": 2223.1019568432393,
                        "bin_end": 4444.423961638435,
                        "count": 0
                      },
                      {
                        "bin_start": 4444.423961638435,
                        "bin_end": 6665.74596643363,
                        "count": 0
                      },
                      {
                        "bin_start": 6665.74596643363,
                        "bin_end": 8887.067971228826,
                        "count": 0
                      },
                      {
                        "bin_start": 8887.067971228826,
                        "bin_end": 11108.38997602402,
                        "count": 0
                      },
                      {
                        "bin_start": 11108.38997602402,
                        "bin_end": 13329.711980819216,
                        "count": 0
                      },
                      {
                        "bin_start": 13329.711980819216,
                        "bin_end": 15551.033985614413,
                        "count": 0
                      },
                      {
                        "bin_start": 15551.033985614413,
                        "bin_end": 17772.355990409607,
                        "count": 0
                      },
                      {
                        "bin_start": 17772.355990409607,
                        "bin_end": 19993.677995204802,
                        "count": 0
                      },
                      {
                        "bin_start": 19993.677995204802,
                        "bin_end": 22215,
                        "count": 1
                      }
                    ]
                  }
                },
                {
                  "name": "GSM21220.cel.gz",
                  "dtype": "float64",
                  "stats": {
                    "unique_count": 8,
                    "nan_count": 0,
                    "min": "1.7973150898386596",
                    "max": "22215.0",
                    "histogram": [
                      {
                        "bin_start": 1.7973150898386596,
                        "bin_end": 2223.117583580855,
                        "count": 7
                      },
                      {
                        "bin_start": 2223.117583580855,
                        "bin_end": 4444.437852071871,
                        "count": 0
                      },
                      {
                        "bin_start": 4444.437852071871,
                        "bin_end": 6665.758120562888,
                        "count": 0
                      },
                      {
                        "bin_start": 6665.758120562888,
                        "bin_end": 8887.078389053902,
                        "count": 0
                      },
                      {
                        "bin_start": 8887.078389053902,
                        "bin_end": 11108.398657544918,
                        "count": 0
                      },
                      {
                        "bin_start": 11108.398657544918,
                        "bin_end": 13329.718926035936,
                        "count": 0
                      },
                      {
                        "bin_start": 13329.718926035936,
                        "bin_end": 15551.039194526951,
                        "count": 0
                      },
                      {
                        "bin_start": 15551.039194526951,
                        "bin_end": 17772.35946301797,
                        "count": 0
                      },
                      {
                        "bin_start": 17772.35946301797,
                        "bin_end": 19993.679731508986,
                        "count": 0
                      },
                      {
                        "bin_start": 19993.679731508986,
                        "bin_end": 22215,
                        "count": 1
                      }
                    ]
                  }
                },
                {
                  "name": "GSM21221.cel.gz",
                  "dtype": "float64",
                  "stats": {
                    "unique_count": 8,
                    "nan_count": 0,
                    "min": "1.8040941834193875",
                    "max": "22215.0",
                    "histogram": [
                      {
                        "bin_start": 1.8040941834193875,
                        "bin_end": 2223.1236847650775,
                        "count": 7
                      },
                      {
                        "bin_start": 2223.1236847650775,
                        "bin_end": 4444.443275346736,
                        "count": 0
                      },
                      {
                        "bin_start": 4444.443275346736,
                        "bin_end": 6665.762865928395,
                        "count": 0
                      },
                      {
                        "bin_start": 6665.762865928395,
                        "bin_end": 8887.082456510052,
                        "count": 0
                      },
                      {
                        "bin_start": 8887.082456510052,
                        "bin_end": 11108.40204709171,
                        "count": 0
                      },
                      {
                        "bin_start": 11108.40204709171,
                        "bin_end": 13329.721637673369,
                        "count": 0
                      },
                      {
                        "bin_start": 13329.721637673369,
                        "bin_end": 15551.041228255028,
                        "count": 0
                      },
                      {
                        "bin_start": 15551.041228255028,
                        "bin_end": 17772.360818836685,
                        "count": 0
                      },
                      {
                        "bin_start": 17772.360818836685,
                        "bin_end": 19993.680409418343,
                        "count": 0
                      },
                      {
                        "bin_start": 19993.680409418343,
                        "bin_end": 22215,
                        "count": 1
                      }
                    ]
                  }
                },
                {
                  "name": "GSM21222.cel.gz",
                  "dtype": "float64",
                  "stats": {
                    "unique_count": 8,
                    "nan_count": 0,
                    "min": "1.7868158082415313",
                    "max": "22215.0",
                    "histogram": [
                      {
                        "bin_start": 1.7868158082415313,
                        "bin_end": 2223.1081342274174,
                        "count": 7
                      },
                      {
                        "bin_start": 2223.1081342274174,
                        "bin_end": 4444.429452646594,
                        "count": 0
                      },
                      {
                        "bin_start": 4444.429452646594,
                        "bin_end": 6665.75077106577,
                        "count": 0
                      },
                      {
                        "bin_start": 6665.75077106577,
                        "bin_end": 8887.072089484946,
                        "count": 0
                      },
                      {
                        "bin_start": 8887.072089484946,
                        "bin_end": 11108.393407904121,
                        "count": 0
                      },
                      {
                        "bin_start": 11108.393407904121,
                        "bin_end": 13329.714726323298,
                        "count": 0
                      },
                      {
                        "bin_start": 13329.714726323298,
                        "bin_end": 15551.036044742474,
                        "count": 0
                      },
                      {
                        "bin_start": 15551.036044742474,
                        "bin_end": 17772.35736316165,
                        "count": 0
                      },
                      {
                        "bin_start": 17772.35736316165,
                        "bin_end": 19993.678681580826,
                        "count": 0
                      },
                      {
                        "bin_start": 19993.678681580826,
                        "bin_end": 22215,
                        "count": 1
                      }
                    ]
                  }
                },
                {
                  "name": "GSM21223.cel.gz",
                  "dtype": "float64",
                  "stats": {
                    "unique_count": 8,
                    "nan_count": 0,
                    "min": "1.7909771359628812",
                    "max": "22215.0",
                    "histogram": [
                      {
                        "bin_start": 1.7909771359628812,
                        "bin_end": 2223.1118794223667,
                        "count": 7
                      },
                      {
                        "bin_start": 2223.1118794223667,
                        "bin_end": 4444.432781708771,
                        "count": 0
                      },
                      {
                        "bin_start": 4444.432781708771,
                        "bin_end": 6665.7536839951745,
                        "count": 0
                      },
                      {
                        "bin_start": 6665.7536839951745,
                        "bin_end": 8887.074586281578,
                        "count": 0
                      },
                      {
                        "bin_start": 8887.074586281578,
                        "bin_end": 11108.395488567981,
                        "count": 0
                      },
                      {
                        "bin_start": 11108.395488567981,
                        "bin_end": 13329.716390854386,
                        "count": 0
                      },
                      {
                        "bin_start": 13329.716390854386,
                        "bin_end": 15551.037293140791,
                        "count": 0
                      },
                      {
                        "bin_start": 15551.037293140791,
                        "bin_end": 17772.358195427194,
                        "count": 0
                      },
                      {
                        "bin_start": 17772.358195427194,
                        "bin_end": 19993.679097713597,
                        "count": 0
                      },
                      {
                        "bin_start": 19993.679097713597,
                        "bin_end": 22215,
                        "count": 1
                      }
                    ]
                  }
                },
                {
                  "name": "GSM21224.cel.gz",
                  "dtype": "float64",
                  "stats": {
                    "unique_count": 8,
                    "nan_count": 0,
                    "min": "1.8255308004442607",
                    "max": "22215.0",
                    "histogram": [
                      {
                        "bin_start": 1.8255308004442607,
                        "bin_end": 2223.1429777204,
                        "count": 7
                      },
                      {
                        "bin_start": 2223.1429777204,
                        "bin_end": 4444.460424640356,
                        "count": 0
                      },
                      {
                        "bin_start": 4444.460424640356,
                        "bin_end": 6665.777871560312,
                        "count": 0
                      },
                      {
                        "bin_start": 6665.777871560312,
                        "bin_end": 8887.095318480267,
                        "count": 0
                      },
                      {
                        "bin_start": 8887.095318480267,
                        "bin_end": 11108.412765400222,
                        "count": 0
                      },
                      {
                        "bin_start": 11108.412765400222,
                        "bin_end": 13329.730212320179,
                        "count": 0
                      },
                      {
                        "bin_start": 13329.730212320179,
                        "bin_end": 15551.047659240136,
                        "count": 0
                      },
                      {
                        "bin_start": 15551.047659240136,
                        "bin_end": 17772.36510616009,
                        "count": 0
                      },
                      {
                        "bin_start": 17772.36510616009,
                        "bin_end": 19993.682553080045,
                        "count": 0
                      },
                      {
                        "bin_start": 19993.682553080045,
                        "bin_end": 22215,
                        "count": 1
                      }
                    ]
                  }
                },
                {
                  "name": "GSM21225.cel.gz",
                  "dtype": "float64",
                  "stats": {
                    "unique_count": 8,
                    "nan_count": 0,
                    "min": "1.8168443573072202",
                    "max": "22215.0",
                    "histogram": [
                      {
                        "bin_start": 1.8168443573072202,
                        "bin_end": 2223.1351599215764,
                        "count": 7
                      },
                      {
                        "bin_start": 2223.1351599215764,
                        "bin_end": 4444.453475485846,
                        "count": 0
                      },
                      {
                        "bin_start": 4444.453475485846,
                        "bin_end": 6665.771791050115,
                        "count": 0
                      },
                      {
                        "bin_start": 6665.771791050115,
                        "bin_end": 8887.090106614383,
                        "count": 0
                      },
                      {
                        "bin_start": 8887.090106614383,
                        "bin_end": 11108.408422178652,
                        "count": 0
                      },
                      {
                        "bin_start": 11108.408422178652,
                        "bin_end": 13329.726737742922,
                        "count": 0
                      },
                      {
                        "bin_start": 13329.726737742922,
                        "bin_end": 15551.04505330719,
                        "count": 0
                      },
                      {
                        "bin_start": 15551.04505330719,
                        "bin_end": 17772.36336887146,
                        "count": 0
                      },
                      {
                        "bin_start": 17772.36336887146,
                        "bin_end": 19993.68168443573,
                        "count": 0
                      },
                      {
                        "bin_start": 19993.68168443573,
                        "bin_end": 22215,
                        "count": 1
                      }
                    ]
                  }
                },
                {
                  "name": "GSM21226.cel.gz",
                  "dtype": "float64",
                  "stats": {
                    "unique_count": 8,
                    "nan_count": 0,
                    "min": "1.7463692846467025",
                    "max": "22215.0",
                    "histogram": [
                      {
                        "bin_start": 1.7463692846467025,
                        "bin_end": 2223.071732356182,
                        "count": 7
                      },
                      {
                        "bin_start": 2223.071732356182,
                        "bin_end": 4444.397095427717,
                        "count": 0
                      },
                      {
                        "bin_start": 4444.397095427717,
                        "bin_end": 6665.722458499253,
                        "count": 0
                      },
                      {
                        "bin_start": 6665.722458499253,
                        "bin_end": 8887.047821570788,
                        "count": 0
                      },
                      {
                        "bin_start": 8887.047821570788,
                        "bin_end": 11108.373184642323,
                        "count": 0
                      },
                      {
                        "bin_start": 11108.373184642323,
                        "bin_end": 13329.698547713859,
                        "count": 0
                      },
                      {
                        "bin_start": 13329.698547713859,
                        "bin_end": 15551.023910785394,
                        "count": 0
                      },
                      {
                        "bin_start": 15551.023910785394,
                        "bin_end": 17772.34927385693,
                        "count": 0
                      },
                      {
                        "bin_start": 17772.34927385693,
                        "bin_end": 19993.674636928463,
                        "count": 0
                      },
                      {
                        "bin_start": 19993.674636928463,
                        "bin_end": 22215,
                        "count": 1
                      }
                    ]
                  }
                },
                {
                  "name": "GSM21227.cel.gz",
                  "dtype": "float64",
                  "stats": {
                    "unique_count": 8,
                    "nan_count": 0,
                    "min": "1.787939844019106",
                    "max": "22215.0",
                    "histogram": [
                      {
                        "bin_start": 1.787939844019106,
                        "bin_end": 2223.109145859617,
                        "count": 7
                      },
                      {
                        "bin_start": 2223.109145859617,
                        "bin_end": 4444.430351875215,
                        "count": 0
                      },
                      {
                        "bin_start": 4444.430351875215,
                        "bin_end": 6665.751557890812,
                        "count": 0
                      },
                      {
                        "bin_start": 6665.751557890812,
                        "bin_end": 8887.072763906412,
                        "count": 0
                      },
                      {
                        "bin_start": 8887.072763906412,
                        "bin_end": 11108.39396992201,
                        "count": 0
                      },
                      {
                        "bin_start": 11108.39396992201,
                        "bin_end": 13329.715175937607,
                        "count": 0
                      },
                      {
                        "bin_start": 13329.715175937607,
                        "bin_end": 15551.036381953205,
                        "count": 0
                      },
                      {
                        "bin_start": 15551.036381953205,
                        "bin_end": 17772.357587968803,
                        "count": 0
                      },
                      {
                        "bin_start": 17772.357587968803,
                        "bin_end": 19993.6787939844,
                        "count": 0
                      },
                      {
                        "bin_start": 19993.6787939844,
                        "bin_end": 22215,
                        "count": 1
                      }
                    ]
                  }
                },
                {
                  "name": "GSM21228.cel.gz",
                  "dtype": "float64",
                  "stats": {
                    "unique_count": 8,
                    "nan_count": 0,
                    "min": "1.7978764071153803",
                    "max": "22215.0",
                    "histogram": [
                      {
                        "bin_start": 1.7978764071153803,
                        "bin_end": 2223.1180887664036,
                        "count": 7
                      },
                      {
                        "bin_start": 2223.1180887664036,
                        "bin_end": 4444.438301125691,
                        "count": 0
                      },
                      {
                        "bin_start": 4444.438301125691,
                        "bin_end": 6665.75851348498,
                        "count": 0
                      },
                      {
                        "bin_start": 6665.75851348498,
                        "bin_end": 8887.078725844269,
                        "count": 0
                      },
                      {
                        "bin_start": 8887.078725844269,
                        "bin_end": 11108.398938203558,
                        "count": 0
                      },
                      {
                        "bin_start": 11108.398938203558,
                        "bin_end": 13329.719150562845,
                        "count": 0
                      },
                      {
                        "bin_start": 13329.719150562845,
                        "bin_end": 15551.039362922133,
                        "count": 0
                      },
                      {
                        "bin_start": 15551.039362922133,
                        "bin_end": 17772.35957528142,
                        "count": 0
                      },
                      {
                        "bin_start": 17772.35957528142,
                        "bin_end": 19993.67978764071,
                        "count": 0
                      },
                      {
                        "bin_start": 19993.67978764071,
                        "bin_end": 22215,
                        "count": 1
                      }
                    ]
                  }
                },
                {
                  "name": "GSM21229.cel.gz",
                  "dtype": "float64",
                  "stats": {
                    "unique_count": 8,
                    "nan_count": 0,
                    "min": "1.8219467777535376",
                    "max": "22215.0",
                    "histogram": [
                      {
                        "bin_start": 1.8219467777535376,
                        "bin_end": 2223.139752099978,
                        "count": 7
                      },
                      {
                        "bin_start": 2223.139752099978,
                        "bin_end": 4444.457557422203,
                        "count": 0
                      },
                      {
                        "bin_start": 4444.457557422203,
                        "bin_end": 6665.775362744427,
                        "count": 0
                      },
                      {
                        "bin_start": 6665.775362744427,
                        "bin_end": 8887.093168066653,
                        "count": 0
                      },
                      {
                        "bin_start": 8887.093168066653,
                        "bin_end": 11108.410973388878,
                        "count": 0
                      },
                      {
                        "bin_start": 11108.410973388878,
                        "bin_end": 13329.728778711102,
                        "count": 0
                      },
                      {
                        "bin_start": 13329.728778711102,
                        "bin_end": 15551.046584033325,
                        "count": 0
                      },
                      {
                        "bin_start": 15551.046584033325,
                        "bin_end": 17772.36438935555,
                        "count": 0
                      },
                      {
                        "bin_start": 17772.36438935555,
                        "bin_end": 19993.682194677775,
                        "count": 0
                      },
                      {
                        "bin_start": 19993.682194677775,
                        "bin_end": 22215,
                        "count": 1
                      }
                    ]
                  }
                },
                {
                  "name": "GSM21230.cel.gz",
                  "dtype": "float64",
                  "stats": {
                    "unique_count": 8,
                    "nan_count": 0,
                    "min": "1.7542677432819356",
                    "max": "22215.0",
                    "histogram": [
                      {
                        "bin_start": 1.7542677432819356,
                        "bin_end": 2223.078840968954,
                        "count": 7
                      },
                      {
                        "bin_start": 2223.078840968954,
                        "bin_end": 4444.403414194626,
                        "count": 0
                      },
                      {
                        "bin_start": 4444.403414194626,
                        "bin_end": 6665.727987420298,
                        "count": 0
                      },
                      {
                        "bin_start": 6665.727987420298,
                        "bin_end": 8887.052560645969,
                        "count": 0
                      },
                      {
                        "bin_start": 8887.052560645969,
                        "bin_end": 11108.377133871641,
                        "count": 0
                      },
                      {
                        "bin_start": 11108.377133871641,
                        "bin_end": 13329.701707097312,
                        "count": 0
                      },
                      {
                        "bin_start": 13329.701707097312,
                        "bin_end": 15551.026280322983,
                        "count": 0
                      },
                      {
                        "bin_start": 15551.026280322983,
                        "bin_end": 17772.350853548658,
                        "count": 0
                      },
                      {
                        "bin_start": 17772.350853548658,
                        "bin_end": 19993.67542677433,
                        "count": 0
                      },
                      {
                        "bin_start": 19993.67542677433,
                        "bin_end": 22215,
                        "count": 1
                      }
                    ]
                  }
                },
                {
                  "name": "GSM21231.cel.gz",
                  "dtype": "float64",
                  "stats": {
                    "unique_count": 8,
                    "nan_count": 0,
                    "min": "1.7763316928684014",
                    "max": "22215.0",
                    "histogram": [
                      {
                        "bin_start": 1.7763316928684014,
                        "bin_end": 2223.098698523582,
                        "count": 7
                      },
                      {
                        "bin_start": 2223.098698523582,
                        "bin_end": 4444.421065354295,
                        "count": 0
                      },
                      {
                        "bin_start": 4444.421065354295,
                        "bin_end": 6665.743432185009,
                        "count": 0
                      },
                      {
                        "bin_start": 6665.743432185009,
                        "bin_end": 8887.065799015721,
                        "count": 0
                      },
                      {
                        "bin_start": 8887.065799015721,
                        "bin_end": 11108.388165846434,
                        "count": 0
                      },
                      {
                        "bin_start": 11108.388165846434,
                        "bin_end": 13329.710532677149,
                        "count": 0
                      },
                      {
                        "bin_start": 13329.710532677149,
                        "bin_end": 15551.032899507862,
                        "count": 0
                      },
                      {
                        "bin_start": 15551.032899507862,
                        "bin_end": 17772.355266338574,
                        "count": 0
                      },
                      {
                        "bin_start": 17772.355266338574,
                        "bin_end": 19993.67763316929,
                        "count": 0
                      },
                      {
                        "bin_start": 19993.67763316929,
                        "bin_end": 22215,
                        "count": 1
                      }
                    ]
                  }
                },
                {
                  "name": "GSM21232.cel.gz",
                  "dtype": "float64",
                  "stats": {
                    "unique_count": 8,
                    "nan_count": 0,
                    "min": "1.755721848524885",
                    "max": "22215.0",
                    "histogram": [
                      {
                        "bin_start": 1.755721848524885,
                        "bin_end": 2223.0801496636727,
                        "count": 7
                      },
                      {
                        "bin_start": 2223.0801496636727,
                        "bin_end": 4444.40457747882,
                        "count": 0
                      },
                      {
                        "bin_start": 4444.40457747882,
                        "bin_end": 6665.729005293968,
                        "count": 0
                      },
                      {
                        "bin_start": 6665.729005293968,
                        "bin_end": 8887.053433109117,
                        "count": 0
                      },
                      {
                        "bin_start": 8887.053433109117,
                        "bin_end": 11108.377860924264,
                        "count": 0
                      },
                      {
                        "bin_start": 11108.377860924264,
                        "bin_end": 13329.702288739412,
                        "count": 0
                      },
                      {
                        "bin_start": 13329.702288739412,
                        "bin_end": 15551.026716554561,
                        "count": 0
                      },
                      {
                        "bin_start": 15551.026716554561,
                        "bin_end": 17772.351144369706,
                        "count": 0
                      },
                      {
                        "bin_start": 17772.351144369706,
                        "bin_end": 19993.675572184853,
                        "count": 0
                      },
                      {
                        "bin_start": 19993.675572184853,
                        "bin_end": 22215,
                        "count": 1
                      }
                    ]
                  }
                },
                {
                  "name": "GSM21233.cel.gz",
                  "dtype": "float64",
                  "stats": {
                    "unique_count": 8,
                    "nan_count": 0,
                    "min": "1.7490849971790232",
                    "max": "22215.0",
                    "histogram": [
                      {
                        "bin_start": 1.7490849971790232,
                        "bin_end": 2223.074176497461,
                        "count": 7
                      },
                      {
                        "bin_start": 2223.074176497461,
                        "bin_end": 4444.399267997743,
                        "count": 0
                      },
                      {
                        "bin_start": 4444.399267997743,
                        "bin_end": 6665.724359498025,
                        "count": 0
                      },
                      {
                        "bin_start": 6665.724359498025,
                        "bin_end": 8887.049450998305,
                        "count": 0
                      },
                      {
                        "bin_start": 8887.049450998305,
                        "bin_end": 11108.374542498588,
                        "count": 0
                      },
                      {
                        "bin_start": 11108.374542498588,
                        "bin_end": 13329.69963399887,
                        "count": 0
                      },
                      {
                        "bin_start": 13329.69963399887,
                        "bin_end": 15551.02472549915,
                        "count": 0
                      },
                      {
                        "bin_start": 15551.02472549915,
                        "bin_end": 17772.349816999435,
                        "count": 0
                      },
                      {
                        "bin_start": 17772.349816999435,
                        "bin_end": 19993.674908499717,
                        "count": 0
                      },
                      {
                        "bin_start": 19993.674908499717,
                        "bin_end": 22215,
                        "count": 1
                      }
                    ]
                  }
                },
                {
                  "name": "GSM87058.cel.gz",
                  "dtype": "float64",
                  "stats": {
                    "unique_count": 8,
                    "nan_count": 0,
                    "min": "1.7495543899119608",
                    "max": "22215.0",
                    "histogram": [
                      {
                        "bin_start": 1.7495543899119608,
                        "bin_end": 2223.0745989509205,
                        "count": 7
                      },
                      {
                        "bin_start": 2223.0745989509205,
                        "bin_end": 4444.39964351193,
                        "count": 0
                      },
                      {
                        "bin_start": 4444.39964351193,
                        "bin_end": 6665.724688072939,
                        "count": 0
                      },
                      {
                        "bin_start": 6665.724688072939,
                        "bin_end": 8887.049732633946,
                        "count": 0
                      },
                      {
                        "bin_start": 8887.049732633946,
                        "bin_end": 11108.374777194955,
                        "count": 0
                      },
                      {
                        "bin_start": 11108.374777194955,
                        "bin_end": 13329.699821755965,
                        "count": 0
                      },
                      {
                        "bin_start": 13329.699821755965,
                        "bin_end": 15551.024866316973,
                        "count": 0
                      },
                      {
                        "bin_start": 15551.024866316973,
                        "bin_end": 17772.349910877983,
                        "count": 0
                      },
                      {
                        "bin_start": 17772.349910877983,
                        "bin_end": 19993.674955438993,
                        "count": 0
                      },
                      {
                        "bin_start": 19993.674955438993,
                        "bin_end": 22215,
                        "count": 1
                      }
                    ]
                  }
                },
                {
                  "name": "GSM87064.cel.gz",
                  "dtype": "float64",
                  "stats": {
                    "unique_count": 8,
                    "nan_count": 0,
                    "min": "1.7500310950067914",
                    "max": "22215.0",
                    "histogram": [
                      {
                        "bin_start": 1.7500310950067914,
                        "bin_end": 2223.075027985506,
                        "count": 7
                      },
                      {
                        "bin_start": 2223.075027985506,
                        "bin_end": 4444.400024876006,
                        "count": 0
                      },
                      {
                        "bin_start": 4444.400024876006,
                        "bin_end": 6665.725021766505,
                        "count": 0
                      },
                      {
                        "bin_start": 6665.725021766505,
                        "bin_end": 8887.050018657004,
                        "count": 0
                      },
                      {
                        "bin_start": 8887.050018657004,
                        "bin_end": 11108.375015547505,
                        "count": 0
                      },
                      {
                        "bin_start": 11108.375015547505,
                        "bin_end": 13329.700012438003,
                        "count": 0
                      },
                      {
                        "bin_start": 13329.700012438003,
                        "bin_end": 15551.025009328501,
                        "count": 0
                      },
                      {
                        "bin_start": 15551.025009328501,
                        "bin_end": 17772.350006219,
                        "count": 0
                      },
                      {
                        "bin_start": 17772.350006219,
                        "bin_end": 19993.6750031095,
                        "count": 0
                      },
                      {
                        "bin_start": 19993.6750031095,
                        "bin_end": 22215,
                        "count": 1
                      }
                    ]
                  }
                },
                {
                  "name": "GSM87065.cel.gz",
                  "dtype": "float64",
                  "stats": {
                    "unique_count": 8,
                    "nan_count": 0,
                    "min": "1.7819724780864419",
                    "max": "22215.0",
                    "histogram": [
                      {
                        "bin_start": 1.7819724780864419,
                        "bin_end": 2223.103775230278,
                        "count": 7
                      },
                      {
                        "bin_start": 2223.103775230278,
                        "bin_end": 4444.42557798247,
                        "count": 0
                      },
                      {
                        "bin_start": 4444.42557798247,
                        "bin_end": 6665.747380734661,
                        "count": 0
                      },
                      {
                        "bin_start": 6665.747380734661,
                        "bin_end": 8887.069183486852,
                        "count": 0
                      },
                      {
                        "bin_start": 8887.069183486852,
                        "bin_end": 11108.390986239043,
                        "count": 0
                      },
                      {
                        "bin_start": 11108.390986239043,
                        "bin_end": 13329.712788991235,
                        "count": 0
                      },
                      {
                        "bin_start": 13329.712788991235,
                        "bin_end": 15551.034591743428,
                        "count": 0
                      },
                      {
                        "bin_start": 15551.034591743428,
                        "bin_end": 17772.35639449562,
                        "count": 0
                      },
                      {
                        "bin_start": 17772.35639449562,
                        "bin_end": 19993.67819724781,
                        "count": 0
                      },
                      {
                        "bin_start": 19993.67819724781,
                        "bin_end": 22215,
                        "count": 1
                      }
                    ]
                  }
                },
                {
                  "name": "GSM87066.cel.gz",
                  "dtype": "float64",
                  "stats": {
                    "unique_count": 8,
                    "nan_count": 0,
                    "min": "1.7935641146585806",
                    "max": "22215.0",
                    "histogram": [
                      {
                        "bin_start": 1.7935641146585806,
                        "bin_end": 2223.1142077031927,
                        "count": 7
                      },
                      {
                        "bin_start": 2223.1142077031927,
                        "bin_end": 4444.434851291727,
                        "count": 0
                      },
                      {
                        "bin_start": 4444.434851291727,
                        "bin_end": 6665.755494880261,
                        "count": 0
                      },
                      {
                        "bin_start": 6665.755494880261,
                        "bin_end": 8887.076138468794,
                        "count": 0
                      },
                      {
                        "bin_start": 8887.076138468794,
                        "bin_end": 11108.396782057327,
                        "count": 0
                      },
                      {
                        "bin_start": 11108.396782057327,
                        "bin_end": 13329.717425645862,
                        "count": 0
                      },
                      {
                        "bin_start": 13329.717425645862,
                        "bin_end": 15551.038069234397,
                        "count": 0
                      },
                      {
                        "bin_start": 15551.038069234397,
                        "bin_end": 17772.35871282293,
                        "count": 0
                      },
                      {
                        "bin_start": 17772.35871282293,
                        "bin_end": 19993.679356411463,
                        "count": 0
                      },
                      {
                        "bin_start": 19993.679356411463,
                        "bin_end": 22215,
                        "count": 1
                      }
                    ]
                  }
                },
                {
                  "name": "GSM87071.cel.gz",
                  "dtype": "float64",
                  "stats": {
                    "unique_count": 8,
                    "nan_count": 0,
                    "min": "1.7477759950804506",
                    "max": "22215.0",
                    "histogram": [
                      {
                        "bin_start": 1.7477759950804506,
                        "bin_end": 2223.072998395572,
                        "count": 7
                      },
                      {
                        "bin_start": 2223.072998395572,
                        "bin_end": 4444.398220796064,
                        "count": 0
                      },
                      {
                        "bin_start": 4444.398220796064,
                        "bin_end": 6665.723443196556,
                        "count": 0
                      },
                      {
                        "bin_start": 6665.723443196556,
                        "bin_end": 8887.048665597047,
                        "count": 0
                      },
                      {
                        "bin_start": 8887.048665597047,
                        "bin_end": 11108.373887997539,
                        "count": 0
                      },
                      {
                        "bin_start": 11108.373887997539,
                        "bin_end": 13329.69911039803,
                        "count": 0
                      },
                      {
                        "bin_start": 13329.69911039803,
                        "bin_end": 15551.024332798523,
                        "count": 0
                      },
                      {
                        "bin_start": 15551.024332798523,
                        "bin_end": 17772.349555199016,
                        "count": 0
                      },
                      {
                        "bin_start": 17772.349555199016,
                        "bin_end": 19993.674777599506,
                        "count": 0
                      },
                      {
                        "bin_start": 19993.674777599506,
                        "bin_end": 22215,
                        "count": 1
                      }
                    ]
                  }
                },
                {
                  "name": "GSM87072.cel.gz",
                  "dtype": "float64",
                  "stats": {
                    "unique_count": 8,
                    "nan_count": 0,
                    "min": "1.7715520399865792",
                    "max": "22215.0",
                    "histogram": [
                      {
                        "bin_start": 1.7715520399865792,
                        "bin_end": 2223.094396835988,
                        "count": 7
                      },
                      {
                        "bin_start": 2223.094396835988,
                        "bin_end": 4444.41724163199,
                        "count": 0
                      },
                      {
                        "bin_start": 4444.41724163199,
                        "bin_end": 6665.740086427992,
                        "count": 0
                      },
                      {
                        "bin_start": 6665.740086427992,
                        "bin_end": 8887.062931223993,
                        "count": 0
                      },
                      {
                        "bin_start": 8887.062931223993,
                        "bin_end": 11108.385776019994,
                        "count": 0
                      },
                      {
                        "bin_start": 11108.385776019994,
                        "bin_end": 13329.708620815996,
                        "count": 0
                      },
                      {
                        "bin_start": 13329.708620815996,
                        "bin_end": 15551.031465611997,
                        "count": 0
                      },
                      {
                        "bin_start": 15551.031465611997,
                        "bin_end": 17772.354310407998,
                        "count": 0
                      },
                      {
                        "bin_start": 17772.354310407998,
                        "bin_end": 19993.677155204,
                        "count": 0
                      },
                      {
                        "bin_start": 19993.677155204,
                        "bin_end": 22215,
                        "count": 1
                      }
                    ]
                  }
                },
                {
                  "name": "GSM87073.cel.gz",
                  "dtype": "float64",
                  "stats": {
                    "unique_count": 8,
                    "nan_count": 0,
                    "min": "1.7808380396071661",
                    "max": "22215.0",
                    "histogram": [
                      {
                        "bin_start": 1.7808380396071661,
                        "bin_end": 2223.102754235647,
                        "count": 7
                      },
                      {
                        "bin_start": 2223.102754235647,
                        "bin_end": 4444.4246704316865,
                        "count": 0
                      },
                      {
                        "bin_start": 4444.4246704316865,
                        "bin_end": 6665.746586627726,
                        "count": 0
                      },
                      {
                        "bin_start": 6665.746586627726,
                        "bin_end": 8887.068502823766,
                        "count": 0
                      },
                      {
                        "bin_start": 8887.068502823766,
                        "bin_end": 11108.390419019806,
                        "count": 0
                      },
                      {
                        "bin_start": 11108.390419019806,
                        "bin_end": 13329.712335215845,
                        "count": 0
                      },
                      {
                        "bin_start": 13329.712335215845,
                        "bin_end": 15551.034251411884,
                        "count": 0
                      },
                      {
                        "bin_start": 15551.034251411884,
                        "bin_end": 17772.356167607923,
                        "count": 0
                      },
                      {
                        "bin_start": 17772.356167607923,
                        "bin_end": 19993.678083803963,
                        "count": 0
                      },
                      {
                        "bin_start": 19993.678083803963,
                        "bin_end": 22215,
                        "count": 1
                      }
                    ]
                  }
                },
                {
                  "name": "GSM87074.cel.gz",
                  "dtype": "float64",
                  "stats": {
                    "unique_count": 8,
                    "nan_count": 0,
                    "min": "1.754185809464666",
                    "max": "22215.0",
                    "histogram": [
                      {
                        "bin_start": 1.754185809464666,
                        "bin_end": 2223.078767228518,
                        "count": 7
                      },
                      {
                        "bin_start": 2223.078767228518,
                        "bin_end": 4444.403348647571,
                        "count": 0
                      },
                      {
                        "bin_start": 4444.403348647571,
                        "bin_end": 6665.727930066624,
                        "count": 0
                      },
                      {
                        "bin_start": 6665.727930066624,
                        "bin_end": 8887.052511485677,
                        "count": 0
                      },
                      {
                        "bin_start": 8887.052511485677,
                        "bin_end": 11108.37709290473,
                        "count": 0
                      },
                      {
                        "bin_start": 11108.37709290473,
                        "bin_end": 13329.701674323784,
                        "count": 0
                      },
                      {
                        "bin_start": 13329.701674323784,
                        "bin_end": 15551.026255742838,
                        "count": 0
                      },
                      {
                        "bin_start": 15551.026255742838,
                        "bin_end": 17772.350837161892,
                        "count": 0
                      },
                      {
                        "bin_start": 17772.350837161892,
                        "bin_end": 19993.675418580944,
                        "count": 0
                      },
                      {
                        "bin_start": 19993.675418580944,
                        "bin_end": 22215,
                        "count": 1
                      }
                    ]
                  }
                },
                {
                  "name": "GSM87075.cel.gz",
                  "dtype": "float64",
                  "stats": {
                    "unique_count": 8,
                    "nan_count": 0,
                    "min": "1.7731955821325398",
                    "max": "22215.0",
                    "histogram": [
                      {
                        "bin_start": 1.7731955821325398,
                        "bin_end": 2223.0958760239196,
                        "count": 7
                      },
                      {
                        "bin_start": 2223.0958760239196,
                        "bin_end": 4444.418556465706,
                        "count": 0
                      },
                      {
                        "bin_start": 4444.418556465706,
                        "bin_end": 6665.741236907494,
                        "count": 0
                      },
                      {
                        "bin_start": 6665.741236907494,
                        "bin_end": 8887.06391734928,
                        "count": 0
                      },
                      {
                        "bin_start": 8887.06391734928,
                        "bin_end": 11108.386597791066,
                        "count": 0
                      },
                      {
                        "bin_start": 11108.386597791066,
                        "bin_end": 13329.709278232855,
                        "count": 0
                      },
                      {
                        "bin_start": 13329.709278232855,
                        "bin_end": 15551.031958674641,
                        "count": 0
                      },
                      {
                        "bin_start": 15551.031958674641,
                        "bin_end": 17772.354639116427,
                        "count": 0
                      },
                      {
                        "bin_start": 17772.354639116427,
                        "bin_end": 19993.677319558214,
                        "count": 0
                      },
                      {
                        "bin_start": 19993.677319558214,
                        "bin_end": 22215,
                        "count": 1
                      }
                    ]
                  }
                },
                {
                  "name": "GSM87085.cel.gz",
                  "dtype": "float64",
                  "stats": {
                    "unique_count": 8,
                    "nan_count": 0,
                    "min": "1.7662216104206465",
                    "max": "22215.0",
                    "histogram": [
                      {
                        "bin_start": 1.7662216104206465,
                        "bin_end": 2223.0895994493785,
                        "count": 7
                      },
                      {
                        "bin_start": 2223.0895994493785,
                        "bin_end": 4444.412977288336,
                        "count": 0
                      },
                      {
                        "bin_start": 4444.412977288336,
                        "bin_end": 6665.736355127294,
                        "count": 0
                      },
                      {
                        "bin_start": 6665.736355127294,
                        "bin_end": 8887.05973296625,
                        "count": 0
                      },
                      {
                        "bin_start": 8887.05973296625,
                        "bin_end": 11108.383110805209,
                        "count": 0
                      },
                      {
                        "bin_start": 11108.383110805209,
                        "bin_end": 13329.706488644166,
                        "count": 0
                      },
                      {
                        "bin_start": 13329.706488644166,
                        "bin_end": 15551.029866483123,
                        "count": 0
                      },
                      {
                        "bin_start": 15551.029866483123,
                        "bin_end": 17772.353244322083,
                        "count": 0
                      },
                      {
                        "bin_start": 17772.353244322083,
                        "bin_end": 19993.67662216104,
                        "count": 0
                      },
                      {
                        "bin_start": 19993.67662216104,
                        "bin_end": 22215,
                        "count": 1
                      }
                    ]
                  }
                },
                {
                  "name": "GSM87086.cel.gz",
                  "dtype": "float64",
                  "stats": {
                    "unique_count": 8,
                    "nan_count": 0,
                    "min": "1.7727423410356775",
                    "max": "22215.0",
                    "histogram": [
                      {
                        "bin_start": 1.7727423410356775,
                        "bin_end": 2223.095468106932,
                        "count": 7
                      },
                      {
                        "bin_start": 2223.095468106932,
                        "bin_end": 4444.418193872829,
                        "count": 0
                      },
                      {
                        "bin_start": 4444.418193872829,
                        "bin_end": 6665.740919638725,
                        "count": 0
                      },
                      {
                        "bin_start": 6665.740919638725,
                        "bin_end": 8887.063645404622,
                        "count": 0
                      },
                      {
                        "bin_start": 8887.063645404622,
                        "bin_end": 11108.386371170518,
                        "count": 0
                      },
                      {
                        "bin_start": 11108.386371170518,
                        "bin_end": 13329.709096936414,
                        "count": 0
                      },
                      {
                        "bin_start": 13329.709096936414,
                        "bin_end": 15551.03182270231,
                        "count": 0
                      },
                      {
                        "bin_start": 15551.03182270231,
                        "bin_end": 17772.354548468207,
                        "count": 0
                      },
                      {
                        "bin_start": 17772.354548468207,
                        "bin_end": 19993.6772742341,
                        "count": 0
                      },
                      {
                        "bin_start": 19993.6772742341,
                        "bin_end": 22215,
                        "count": 1
                      }
                    ]
                  }
                },
                {
                  "name": "GSM87087.cel.gz",
                  "dtype": "float64",
                  "stats": {
                    "unique_count": 8,
                    "nan_count": 0,
                    "min": "1.7781174846748293",
                    "max": "22215.0",
                    "histogram": [
                      {
                        "bin_start": 1.7781174846748293,
                        "bin_end": 2223.1003057362077,
                        "count": 7
                      },
                      {
                        "bin_start": 2223.1003057362077,
                        "bin_end": 4444.42249398774,
                        "count": 0
                      },
                      {
                        "bin_start": 4444.42249398774,
                        "bin_end": 6665.744682239273,
                        "count": 0
                      },
                      {
                        "bin_start": 6665.744682239273,
                        "bin_end": 8887.066870490806,
                        "count": 0
                      },
                      {
                        "bin_start": 8887.066870490806,
                        "bin_end": 11108.389058742338,
                        "count": 0
                      },
                      {
                        "bin_start": 11108.389058742338,
                        "bin_end": 13329.711246993871,
                        "count": 0
                      },
                      {
                        "bin_start": 13329.711246993871,
                        "bin_end": 15551.033435245405,
                        "count": 0
                      },
                      {
                        "bin_start": 15551.033435245405,
                        "bin_end": 17772.355623496936,
                        "count": 0
                      },
                      {
                        "bin_start": 17772.355623496936,
                        "bin_end": 19993.67781174847,
                        "count": 0
                      },
                      {
                        "bin_start": 19993.67781174847,
                        "bin_end": 22215,
                        "count": 1
                      }
                    ]
                  }
                },
                {
                  "name": "GSM87088.cel.gz",
                  "dtype": "float64",
                  "stats": {
                    "unique_count": 8,
                    "nan_count": 0,
                    "min": "1.7367801641221223",
                    "max": "22215.0",
                    "histogram": [
                      {
                        "bin_start": 1.7367801641221223,
                        "bin_end": 2223.0631021477097,
                        "count": 7
                      },
                      {
                        "bin_start": 2223.0631021477097,
                        "bin_end": 4444.389424131297,
                        "count": 0
                      },
                      {
                        "bin_start": 4444.389424131297,
                        "bin_end": 6665.7157461148845,
                        "count": 0
                      },
                      {
                        "bin_start": 6665.7157461148845,
                        "bin_end": 8887.042068098472,
                        "count": 0
                      },
                      {
                        "bin_start": 8887.042068098472,
                        "bin_end": 11108.36839008206,
                        "count": 0
                      },
                      {
                        "bin_start": 11108.36839008206,
                        "bin_end": 13329.694712065646,
                        "count": 0
                      },
                      {
                        "bin_start": 13329.694712065646,
                        "bin_end": 15551.021034049234,
                        "count": 0
                      },
                      {
                        "bin_start": 15551.021034049234,
                        "bin_end": 17772.347356032824,
                        "count": 0
                      },
                      {
                        "bin_start": 17772.347356032824,
                        "bin_end": 19993.67367801641,
                        "count": 0
                      },
                      {
                        "bin_start": 19993.67367801641,
                        "bin_end": 22215,
                        "count": 1
                      }
                    ]
                  }
                },
                {
                  "name": "GSM87089.cel.gz",
                  "dtype": "float64",
                  "stats": {
                    "unique_count": 8,
                    "nan_count": 0,
                    "min": "1.7880520854486999",
                    "max": "22215.0",
                    "histogram": [
                      {
                        "bin_start": 1.7880520854486999,
                        "bin_end": 2223.109246876904,
                        "count": 7
                      },
                      {
                        "bin_start": 2223.109246876904,
                        "bin_end": 4444.430441668359,
                        "count": 0
                      },
                      {
                        "bin_start": 4444.430441668359,
                        "bin_end": 6665.751636459814,
                        "count": 0
                      },
                      {
                        "bin_start": 6665.751636459814,
                        "bin_end": 8887.07283125127,
                        "count": 0
                      },
                      {
                        "bin_start": 8887.07283125127,
                        "bin_end": 11108.394026042724,
                        "count": 0
                      },
                      {
                        "bin_start": 11108.394026042724,
                        "bin_end": 13329.71522083418,
                        "count": 0
                      },
                      {
                        "bin_start": 13329.71522083418,
                        "bin_end": 15551.036415625635,
                        "count": 0
                      },
                      {
                        "bin_start": 15551.036415625635,
                        "bin_end": 17772.35761041709,
                        "count": 0
                      },
                      {
                        "bin_start": 17772.35761041709,
                        "bin_end": 19993.678805208543,
                        "count": 0
                      },
                      {
                        "bin_start": 19993.678805208543,
                        "bin_end": 22215,
                        "count": 1
                      }
                    ]
                  }
                },
                {
                  "name": "GSM87090.CEL.gz",
                  "dtype": "float64",
                  "stats": {
                    "unique_count": 8,
                    "nan_count": 0,
                    "min": "1.7971212106633971",
                    "max": "22215.0",
                    "histogram": [
                      {
                        "bin_start": 1.7971212106633971,
                        "bin_end": 2223.117409089597,
                        "count": 7
                      },
                      {
                        "bin_start": 2223.117409089597,
                        "bin_end": 4444.43769696853,
                        "count": 0
                      },
                      {
                        "bin_start": 4444.43769696853,
                        "bin_end": 6665.757984847463,
                        "count": 0
                      },
                      {
                        "bin_start": 6665.757984847463,
                        "bin_end": 8887.078272726398,
                        "count": 0
                      },
                      {
                        "bin_start": 8887.078272726398,
                        "bin_end": 11108.398560605332,
                        "count": 0
                      },
                      {
                        "bin_start": 11108.398560605332,
                        "bin_end": 13329.718848484265,
                        "count": 0
                      },
                      {
                        "bin_start": 13329.718848484265,
                        "bin_end": 15551.039136363197,
                        "count": 0
                      },
                      {
                        "bin_start": 15551.039136363197,
                        "bin_end": 17772.35942424213,
                        "count": 0
                      },
                      {
                        "bin_start": 17772.35942424213,
                        "bin_end": 19993.679712121066,
                        "count": 0
                      },
                      {
                        "bin_start": 19993.679712121066,
                        "bin_end": 22215,
                        "count": 1
                      }
                    ]
                  }
                },
                {
                  "name": "GSM87091.cel.gz",
                  "dtype": "float64",
                  "stats": {
                    "unique_count": 8,
                    "nan_count": 0,
                    "min": "1.7769982284218755",
                    "max": "22215.0",
                    "histogram": [
                      {
                        "bin_start": 1.7769982284218755,
                        "bin_end": 2223.0992984055792,
                        "count": 7
                      },
                      {
                        "bin_start": 2223.0992984055792,
                        "bin_end": 4444.421598582737,
                        "count": 0
                      },
                      {
                        "bin_start": 4444.421598582737,
                        "bin_end": 6665.743898759894,
                        "count": 0
                      },
                      {
                        "bin_start": 6665.743898759894,
                        "bin_end": 8887.066198937053,
                        "count": 0
                      },
                      {
                        "bin_start": 8887.066198937053,
                        "bin_end": 11108.388499114211,
                        "count": 0
                      },
                      {
                        "bin_start": 11108.388499114211,
                        "bin_end": 13329.710799291368,
                        "count": 0
                      },
                      {
                        "bin_start": 13329.710799291368,
                        "bin_end": 15551.033099468525,
                        "count": 0
                      },
                      {
                        "bin_start": 15551.033099468525,
                        "bin_end": 17772.355399645683,
                        "count": 0
                      },
                      {
                        "bin_start": 17772.355399645683,
                        "bin_end": 19993.67769982284,
                        "count": 0
                      },
                      {
                        "bin_start": 19993.67769982284,
                        "bin_end": 22215,
                        "count": 1
                      }
                    ]
                  }
                },
                {
                  "name": "GSM87092.cel.gz",
                  "dtype": "float64",
                  "stats": {
                    "unique_count": 8,
                    "nan_count": 0,
                    "min": "1.76981012568919",
                    "max": "22215.0",
                    "histogram": [
                      {
                        "bin_start": 1.76981012568919,
                        "bin_end": 2223.0928291131204,
                        "count": 7
                      },
                      {
                        "bin_start": 2223.0928291131204,
                        "bin_end": 4444.415848100552,
                        "count": 0
                      },
                      {
                        "bin_start": 4444.415848100552,
                        "bin_end": 6665.738867087983,
                        "count": 0
                      },
                      {
                        "bin_start": 6665.738867087983,
                        "bin_end": 8887.061886075413,
                        "count": 0
                      },
                      {
                        "bin_start": 8887.061886075413,
                        "bin_end": 11108.384905062843,
                        "count": 0
                      },
                      {
                        "bin_start": 11108.384905062843,
                        "bin_end": 13329.707924050275,
                        "count": 0
                      },
                      {
                        "bin_start": 13329.707924050275,
                        "bin_end": 15551.030943037707,
                        "count": 0
                      },
                      {
                        "bin_start": 15551.030943037707,
                        "bin_end": 17772.35396202514,
                        "count": 0
                      },
                      {
                        "bin_start": 17772.35396202514,
                        "bin_end": 19993.67698101257,
                        "count": 0
                      },
                      {
                        "bin_start": 19993.67698101257,
                        "bin_end": 22215,
                        "count": 1
                      }
                    ]
                  }
                },
                {
                  "name": "GSM87093.cel.gz",
                  "dtype": "float64",
                  "stats": {
                    "unique_count": 8,
                    "nan_count": 0,
                    "min": "1.810040830628329",
                    "max": "22215.0",
                    "histogram": [
                      {
                        "bin_start": 1.810040830628329,
                        "bin_end": 2223.1290367475654,
                        "count": 7
                      },
                      {
                        "bin_start": 2223.1290367475654,
                        "bin_end": 4444.4480326645025,
                        "count": 0
                      },
                      {
                        "bin_start": 4444.4480326645025,
                        "bin_end": 6665.767028581439,
                        "count": 0
                      },
                      {
                        "bin_start": 6665.767028581439,
                        "bin_end": 8887.086024498378,
                        "count": 0
                      },
                      {
                        "bin_start": 8887.086024498378,
                        "bin_end": 11108.405020415315,
                        "count": 0
                      },
                      {
                        "bin_start": 11108.405020415315,
                        "bin_end": 13329.724016332251,
                        "count": 0
                      },
                      {
                        "bin_start": 13329.724016332251,
                        "bin_end": 15551.043012249189,
                        "count": 0
                      },
                      {
                        "bin_start": 15551.043012249189,
                        "bin_end": 17772.362008166125,
                        "count": 0
                      },
                      {
                        "bin_start": 17772.362008166125,
                        "bin_end": 19993.68100408306,
                        "count": 0
                      },
                      {
                        "bin_start": 19993.68100408306,
                        "bin_end": 22215,
                        "count": 1
                      }
                    ]
                  }
                },
                {
                  "name": "GSM87094.cel.gz",
                  "dtype": "float64",
                  "stats": {
                    "unique_count": 8,
                    "nan_count": 0,
                    "min": "1.7593725499058024",
                    "max": "22215.0",
                    "histogram": [
                      {
                        "bin_start": 1.7593725499058024,
                        "bin_end": 2223.0834352949155,
                        "count": 7
                      },
                      {
                        "bin_start": 2223.0834352949155,
                        "bin_end": 4444.407498039925,
                        "count": 0
                      },
                      {
                        "bin_start": 4444.407498039925,
                        "bin_end": 6665.731560784934,
                        "count": 0
                      },
                      {
                        "bin_start": 6665.731560784934,
                        "bin_end": 8887.055623529945,
                        "count": 0
                      },
                      {
                        "bin_start": 8887.055623529945,
                        "bin_end": 11108.379686274955,
                        "count": 0
                      },
                      {
                        "bin_start": 11108.379686274955,
                        "bin_end": 13329.703749019964,
                        "count": 0
                      },
                      {
                        "bin_start": 13329.703749019964,
                        "bin_end": 15551.027811764972,
                        "count": 0
                      },
                      {
                        "bin_start": 15551.027811764972,
                        "bin_end": 17772.351874509983,
                        "count": 0
                      },
                      {
                        "bin_start": 17772.351874509983,
                        "bin_end": 19993.675937254993,
                        "count": 0
                      },
                      {
                        "bin_start": 19993.675937254993,
                        "bin_end": 22215,
                        "count": 1
                      }
                    ]
                  }
                },
                {
                  "name": "GSM87095.cel.gz",
                  "dtype": "float64",
                  "stats": {
                    "unique_count": 8,
                    "nan_count": 0,
                    "min": "1.7920903280115157",
                    "max": "22215.0",
                    "histogram": [
                      {
                        "bin_start": 1.7920903280115157,
                        "bin_end": 2223.1128812952106,
                        "count": 7
                      },
                      {
                        "bin_start": 2223.1128812952106,
                        "bin_end": 4444.43367226241,
                        "count": 0
                      },
                      {
                        "bin_start": 4444.43367226241,
                        "bin_end": 6665.754463229609,
                        "count": 0
                      },
                      {
                        "bin_start": 6665.754463229609,
                        "bin_end": 8887.075254196809,
                        "count": 0
                      },
                      {
                        "bin_start": 8887.075254196809,
                        "bin_end": 11108.396045164007,
                        "count": 0
                      },
                      {
                        "bin_start": 11108.396045164007,
                        "bin_end": 13329.716836131207,
                        "count": 0
                      },
                      {
                        "bin_start": 13329.716836131207,
                        "bin_end": 15551.037627098407,
                        "count": 0
                      },
                      {
                        "bin_start": 15551.037627098407,
                        "bin_end": 17772.358418065603,
                        "count": 0
                      },
                      {
                        "bin_start": 17772.358418065603,
                        "bin_end": 19993.6792090328,
                        "count": 0
                      },
                      {
                        "bin_start": 19993.6792090328,
                        "bin_end": 22215,
                        "count": 1
                      }
                    ]
                  }
                },
                {
                  "name": "GSM87096.cel.gz",
                  "dtype": "float64",
                  "stats": {
                    "unique_count": 8,
                    "nan_count": 0,
                    "min": "1.755077697505831",
                    "max": "22215.0",
                    "histogram": [
                      {
                        "bin_start": 1.755077697505831,
                        "bin_end": 2223.0795699277555,
                        "count": 7
                      },
                      {
                        "bin_start": 2223.0795699277555,
                        "bin_end": 4444.404062158005,
                        "count": 0
                      },
                      {
                        "bin_start": 4444.404062158005,
                        "bin_end": 6665.728554388255,
                        "count": 0
                      },
                      {
                        "bin_start": 6665.728554388255,
                        "bin_end": 8887.053046618505,
                        "count": 0
                      },
                      {
                        "bin_start": 8887.053046618505,
                        "bin_end": 11108.377538848754,
                        "count": 0
                      },
                      {
                        "bin_start": 11108.377538848754,
                        "bin_end": 13329.702031079005,
                        "count": 0
                      },
                      {
                        "bin_start": 13329.702031079005,
                        "bin_end": 15551.026523309254,
                        "count": 0
                      },
                      {
                        "bin_start": 15551.026523309254,
                        "bin_end": 17772.3510155395,
                        "count": 0
                      },
                      {
                        "bin_start": 17772.3510155395,
                        "bin_end": 19993.675507769753,
                        "count": 0
                      },
                      {
                        "bin_start": 19993.675507769753,
                        "bin_end": 22215,
                        "count": 1
                      }
                    ]
                  }
                },
                {
                  "name": "GSM87097.cel.gz",
                  "dtype": "float64",
                  "stats": {
                    "unique_count": 8,
                    "nan_count": 0,
                    "min": "1.7824159880936064",
                    "max": "22215.0",
                    "histogram": [
                      {
                        "bin_start": 1.7824159880936064,
                        "bin_end": 2223.1041743892843,
                        "count": 7
                      },
                      {
                        "bin_start": 2223.1041743892843,
                        "bin_end": 4444.425932790475,
                        "count": 0
                      },
                      {
                        "bin_start": 4444.425932790475,
                        "bin_end": 6665.747691191665,
                        "count": 0
                      },
                      {
                        "bin_start": 6665.747691191665,
                        "bin_end": 8887.069449592855,
                        "count": 0
                      },
                      {
                        "bin_start": 8887.069449592855,
                        "bin_end": 11108.391207994046,
                        "count": 0
                      },
                      {
                        "bin_start": 11108.391207994046,
                        "bin_end": 13329.712966395235,
                        "count": 0
                      },
                      {
                        "bin_start": 13329.712966395235,
                        "bin_end": 15551.034724796426,
                        "count": 0
                      },
                      {
                        "bin_start": 15551.034724796426,
                        "bin_end": 17772.35648319762,
                        "count": 0
                      },
                      {
                        "bin_start": 17772.35648319762,
                        "bin_end": 19993.67824159881,
                        "count": 0
                      },
                      {
                        "bin_start": 19993.67824159881,
                        "bin_end": 22215,
                        "count": 1
                      }
                    ]
                  }
                },
                {
                  "name": "GSM87098.cel.gz",
                  "dtype": "float64",
                  "stats": {
                    "unique_count": 8,
                    "nan_count": 0,
                    "min": "1.7553110825586935",
                    "max": "22215.0",
                    "histogram": [
                      {
                        "bin_start": 1.7553110825586935,
                        "bin_end": 2223.079779974303,
                        "count": 7
                      },
                      {
                        "bin_start": 2223.079779974303,
                        "bin_end": 4444.404248866047,
                        "count": 0
                      },
                      {
                        "bin_start": 4444.404248866047,
                        "bin_end": 6665.728717757792,
                        "count": 0
                      },
                      {
                        "bin_start": 6665.728717757792,
                        "bin_end": 8887.053186649537,
                        "count": 0
                      },
                      {
                        "bin_start": 8887.053186649537,
                        "bin_end": 11108.37765554128,
                        "count": 0
                      },
                      {
                        "bin_start": 11108.37765554128,
                        "bin_end": 13329.702124433026,
                        "count": 0
                      },
                      {
                        "bin_start": 13329.702124433026,
                        "bin_end": 15551.02659332477,
                        "count": 0
                      },
                      {
                        "bin_start": 15551.02659332477,
                        "bin_end": 17772.351062216512,
                        "count": 0
                      },
                      {
                        "bin_start": 17772.351062216512,
                        "bin_end": 19993.675531108256,
                        "count": 0
                      },
                      {
                        "bin_start": 19993.675531108256,
                        "bin_end": 22215,
                        "count": 1
                      }
                    ]
                  }
                },
                {
                  "name": "GSM87099.cel.gz",
                  "dtype": "float64",
                  "stats": {
                    "unique_count": 8,
                    "nan_count": 0,
                    "min": "1.7955674938438815",
                    "max": "22215.0",
                    "histogram": [
                      {
                        "bin_start": 1.7955674938438815,
                        "bin_end": 2223.11601074446,
                        "count": 7
                      },
                      {
                        "bin_start": 2223.11601074446,
                        "bin_end": 4444.436453995076,
                        "count": 0
                      },
                      {
                        "bin_start": 4444.436453995076,
                        "bin_end": 6665.756897245692,
                        "count": 0
                      },
                      {
                        "bin_start": 6665.756897245692,
                        "bin_end": 8887.077340496307,
                        "count": 0
                      },
                      {
                        "bin_start": 8887.077340496307,
                        "bin_end": 11108.397783746923,
                        "count": 0
                      },
                      {
                        "bin_start": 11108.397783746923,
                        "bin_end": 13329.71822699754,
                        "count": 0
                      },
                      {
                        "bin_start": 13329.71822699754,
                        "bin_end": 15551.038670248156,
                        "count": 0
                      },
                      {
                        "bin_start": 15551.038670248156,
                        "bin_end": 17772.35911349877,
                        "count": 0
                      },
                      {
                        "bin_start": 17772.35911349877,
                        "bin_end": 19993.679556749386,
                        "count": 0
                      },
                      {
                        "bin_start": 19993.679556749386,
                        "bin_end": 22215,
                        "count": 1
                      }
                    ]
                  }
                },
                {
                  "name": "GSM87100.cel.gz",
                  "dtype": "float64",
                  "stats": {
                    "unique_count": 8,
                    "nan_count": 0,
                    "min": "1.7651910115471081",
                    "max": "22215.0",
                    "histogram": [
                      {
                        "bin_start": 1.7651910115471081,
                        "bin_end": 2223.0886719103923,
                        "count": 7
                      },
                      {
                        "bin_start": 2223.0886719103923,
                        "bin_end": 4444.412152809238,
                        "count": 0
                      },
                      {
                        "bin_start": 4444.412152809238,
                        "bin_end": 6665.735633708084,
                        "count": 0
                      },
                      {
                        "bin_start": 6665.735633708084,
                        "bin_end": 8887.05911460693,
                        "count": 0
                      },
                      {
                        "bin_start": 8887.05911460693,
                        "bin_end": 11108.382595505775,
                        "count": 0
                      },
                      {
                        "bin_start": 11108.382595505775,
                        "bin_end": 13329.70607640462,
                        "count": 0
                      },
                      {
                        "bin_start": 13329.70607640462,
                        "bin_end": 15551.029557303465,
                        "count": 0
                      },
                      {
                        "bin_start": 15551.029557303465,
                        "bin_end": 17772.35303820231,
                        "count": 0
                      },
                      {
                        "bin_start": 17772.35303820231,
                        "bin_end": 19993.676519101155,
                        "count": 0
                      },
                      {
                        "bin_start": 19993.676519101155,
                        "bin_end": 22215,
                        "count": 1
                      }
                    ]
                  }
                },
                {
                  "name": "GSM87101.cel.gz",
                  "dtype": "float64",
                  "stats": {
                    "unique_count": 8,
                    "nan_count": 0,
                    "min": "1.7826019857052013",
                    "max": "22215.0",
                    "histogram": [
                      {
                        "bin_start": 1.7826019857052013,
                        "bin_end": 2223.1043417871347,
                        "count": 7
                      },
                      {
                        "bin_start": 2223.1043417871347,
                        "bin_end": 4444.426081588564,
                        "count": 0
                      },
                      {
                        "bin_start": 4444.426081588564,
                        "bin_end": 6665.747821389993,
                        "count": 0
                      },
                      {
                        "bin_start": 6665.747821389993,
                        "bin_end": 8887.069561191423,
                        "count": 0
                      },
                      {
                        "bin_start": 8887.069561191423,
                        "bin_end": 11108.391300992853,
                        "count": 0
                      },
                      {
                        "bin_start": 11108.391300992853,
                        "bin_end": 13329.713040794282,
                        "count": 0
                      },
                      {
                        "bin_start": 13329.713040794282,
                        "bin_end": 15551.034780595712,
                        "count": 0
                      },
                      {
                        "bin_start": 15551.034780595712,
                        "bin_end": 17772.35652039714,
                        "count": 0
                      },
                      {
                        "bin_start": 17772.35652039714,
                        "bin_end": 19993.678260198572,
                        "count": 0
                      },
                      {
                        "bin_start": 19993.678260198572,
                        "bin_end": 22215,
                        "count": 1
                      }
                    ]
                  }
                },
                {
                  "name": "GSM87102.cel.gz",
                  "dtype": "float64",
                  "stats": {
                    "unique_count": 8,
                    "nan_count": 0,
                    "min": "1.7853961515204164",
                    "max": "22215.0",
                    "histogram": [
                      {
                        "bin_start": 1.7853961515204164,
                        "bin_end": 2223.106856536368,
                        "count": 7
                      },
                      {
                        "bin_start": 2223.106856536368,
                        "bin_end": 4444.428316921216,
                        "count": 0
                      },
                      {
                        "bin_start": 4444.428316921216,
                        "bin_end": 6665.749777306063,
                        "count": 0
                      },
                      {
                        "bin_start": 6665.749777306063,
                        "bin_end": 8887.071237690912,
                        "count": 0
                      },
                      {
                        "bin_start": 8887.071237690912,
                        "bin_end": 11108.39269807576,
                        "count": 0
                      },
                      {
                        "bin_start": 11108.39269807576,
                        "bin_end": 13329.714158460607,
                        "count": 0
                      },
                      {
                        "bin_start": 13329.714158460607,
                        "bin_end": 15551.035618845455,
                        "count": 0
                      },
                      {
                        "bin_start": 15551.035618845455,
                        "bin_end": 17772.357079230303,
                        "count": 0
                      },
                      {
                        "bin_start": 17772.357079230303,
                        "bin_end": 19993.67853961515,
                        "count": 0
                      },
                      {
                        "bin_start": 19993.67853961515,
                        "bin_end": 22215,
                        "count": 1
                      }
                    ]
                  }
                },
                {
                  "name": "GSM146778.CEL.gz",
                  "dtype": "float64",
                  "stats": {
                    "unique_count": 8,
                    "nan_count": 0,
                    "min": "1.8115957415833017",
                    "max": "22215.0",
                    "histogram": [
                      {
                        "bin_start": 1.8115957415833017,
                        "bin_end": 2223.130436167425,
                        "count": 7
                      },
                      {
                        "bin_start": 2223.130436167425,
                        "bin_end": 4444.449276593266,
                        "count": 0
                      },
                      {
                        "bin_start": 4444.449276593266,
                        "bin_end": 6665.768117019108,
                        "count": 0
                      },
                      {
                        "bin_start": 6665.768117019108,
                        "bin_end": 8887.08695744495,
                        "count": 0
                      },
                      {
                        "bin_start": 8887.08695744495,
                        "bin_end": 11108.405797870792,
                        "count": 0
                      },
                      {
                        "bin_start": 11108.405797870792,
                        "bin_end": 13329.724638296633,
                        "count": 0
                      },
                      {
                        "bin_start": 13329.724638296633,
                        "bin_end": 15551.043478722475,
                        "count": 0
                      },
                      {
                        "bin_start": 15551.043478722475,
                        "bin_end": 17772.362319148317,
                        "count": 0
                      },
                      {
                        "bin_start": 17772.362319148317,
                        "bin_end": 19993.681159574156,
                        "count": 0
                      },
                      {
                        "bin_start": 19993.681159574156,
                        "bin_end": 22215,
                        "count": 1
                      }
                    ]
                  }
                },
                {
                  "name": "GSM146779.CEL.gz",
                  "dtype": "float64",
                  "stats": {
                    "unique_count": 8,
                    "nan_count": 0,
                    "min": "1.8547654429234908",
                    "max": "22215.0",
                    "histogram": [
                      {
                        "bin_start": 1.8547654429234908,
                        "bin_end": 2223.1692888986313,
                        "count": 7
                      },
                      {
                        "bin_start": 2223.1692888986313,
                        "bin_end": 4444.483812354339,
                        "count": 0
                      },
                      {
                        "bin_start": 4444.483812354339,
                        "bin_end": 6665.798335810046,
                        "count": 0
                      },
                      {
                        "bin_start": 6665.798335810046,
                        "bin_end": 8887.112859265755,
                        "count": 0
                      },
                      {
                        "bin_start": 8887.112859265755,
                        "bin_end": 11108.427382721464,
                        "count": 0
                      },
                      {
                        "bin_start": 11108.427382721464,
                        "bin_end": 13329.74190617717,
                        "count": 0
                      },
                      {
                        "bin_start": 13329.74190617717,
                        "bin_end": 15551.056429632878,
                        "count": 0
                      },
                      {
                        "bin_start": 15551.056429632878,
                        "bin_end": 17772.370953088586,
                        "count": 0
                      },
                      {
                        "bin_start": 17772.370953088586,
                        "bin_end": 19993.685476544295,
                        "count": 0
                      },
                      {
                        "bin_start": 19993.685476544295,
                        "bin_end": 22215,
                        "count": 1
                      }
                    ]
                  }
                },
                {
                  "name": "GSM146781.CEL.gz",
                  "dtype": "float64",
                  "stats": {
                    "unique_count": 8,
                    "nan_count": 0,
                    "min": "1.8124016726244676",
                    "max": "22215.0",
                    "histogram": [
                      {
                        "bin_start": 1.8124016726244676,
                        "bin_end": 2223.1311615053623,
                        "count": 7
                      },
                      {
                        "bin_start": 2223.1311615053623,
                        "bin_end": 4444.4499213381,
                        "count": 0
                      },
                      {
                        "bin_start": 4444.4499213381,
                        "bin_end": 6665.768681170837,
                        "count": 0
                      },
                      {
                        "bin_start": 6665.768681170837,
                        "bin_end": 8887.087441003576,
                        "count": 0
                      },
                      {
                        "bin_start": 8887.087441003576,
                        "bin_end": 11108.406200836314,
                        "count": 0
                      },
                      {
                        "bin_start": 11108.406200836314,
                        "bin_end": 13329.724960669051,
                        "count": 0
                      },
                      {
                        "bin_start": 13329.724960669051,
                        "bin_end": 15551.043720501788,
                        "count": 0
                      },
                      {
                        "bin_start": 15551.043720501788,
                        "bin_end": 17772.362480334526,
                        "count": 0
                      },
                      {
                        "bin_start": 17772.362480334526,
                        "bin_end": 19993.681240167265,
                        "count": 0
                      },
                      {
                        "bin_start": 19993.681240167265,
                        "bin_end": 22215,
                        "count": 1
                      }
                    ]
                  }
                },
                {
                  "name": "GSM146782.CEL.gz",
                  "dtype": "float64",
                  "stats": {
                    "unique_count": 8,
                    "nan_count": 0,
                    "min": "1.7795702013519874",
                    "max": "22215.0",
                    "histogram": [
                      {
                        "bin_start": 1.7795702013519874,
                        "bin_end": 2223.1016131812166,
                        "count": 7
                      },
                      {
                        "bin_start": 2223.1016131812166,
                        "bin_end": 4444.423656161081,
                        "count": 0
                      },
                      {
                        "bin_start": 4444.423656161081,
                        "bin_end": 6665.745699140946,
                        "count": 0
                      },
                      {
                        "bin_start": 6665.745699140946,
                        "bin_end": 8887.067742120811,
                        "count": 0
                      },
                      {
                        "bin_start": 8887.067742120811,
                        "bin_end": 11108.389785100675,
                        "count": 0
                      },
                      {
                        "bin_start": 11108.389785100675,
                        "bin_end": 13329.71182808054,
                        "count": 0
                      },
                      {
                        "bin_start": 13329.71182808054,
                        "bin_end": 15551.033871060406,
                        "count": 0
                      },
                      {
                        "bin_start": 15551.033871060406,
                        "bin_end": 17772.355914040272,
                        "count": 0
                      },
                      {
                        "bin_start": 17772.355914040272,
                        "bin_end": 19993.677957020136,
                        "count": 0
                      },
                      {
                        "bin_start": 19993.677957020136,
                        "bin_end": 22215,
                        "count": 1
                      }
                    ]
                  }
                },
                {
                  "name": "GSM146783.CEL.gz",
                  "dtype": "float64",
                  "stats": {
                    "unique_count": 8,
                    "nan_count": 0,
                    "min": "1.8200145000353027",
                    "max": "22215.0",
                    "histogram": [
                      {
                        "bin_start": 1.8200145000353027,
                        "bin_end": 2223.1380130500315,
                        "count": 7
                      },
                      {
                        "bin_start": 2223.1380130500315,
                        "bin_end": 4444.456011600028,
                        "count": 0
                      },
                      {
                        "bin_start": 4444.456011600028,
                        "bin_end": 6665.774010150025,
                        "count": 0
                      },
                      {
                        "bin_start": 6665.774010150025,
                        "bin_end": 8887.092008700021,
                        "count": 0
                      },
                      {
                        "bin_start": 8887.092008700021,
                        "bin_end": 11108.410007250017,
                        "count": 0
                      },
                      {
                        "bin_start": 11108.410007250017,
                        "bin_end": 13329.728005800014,
                        "count": 0
                      },
                      {
                        "bin_start": 13329.728005800014,
                        "bin_end": 15551.046004350012,
                        "count": 0
                      },
                      {
                        "bin_start": 15551.046004350012,
                        "bin_end": 17772.364002900005,
                        "count": 0
                      },
                      {
                        "bin_start": 17772.364002900005,
                        "bin_end": 19993.68200145,
                        "count": 0
                      },
                      {
                        "bin_start": 19993.68200145,
                        "bin_end": 22215,
                        "count": 1
                      }
                    ]
                  }
                },
                {
                  "name": "GSM146785.CEL.gz",
                  "dtype": "float64",
                  "stats": {
                    "unique_count": 8,
                    "nan_count": 0,
                    "min": "1.8394492019679853",
                    "max": "22215.0",
                    "histogram": [
                      {
                        "bin_start": 1.8394492019679853,
                        "bin_end": 2223.155504281771,
                        "count": 7
                      },
                      {
                        "bin_start": 2223.155504281771,
                        "bin_end": 4444.471559361574,
                        "count": 0
                      },
                      {
                        "bin_start": 4444.471559361574,
                        "bin_end": 6665.787614441377,
                        "count": 0
                      },
                      {
                        "bin_start": 6665.787614441377,
                        "bin_end": 8887.10366952118,
                        "count": 0
                      },
                      {
                        "bin_start": 8887.10366952118,
                        "bin_end": 11108.419724600983,
                        "count": 0
                      },
                      {
                        "bin_start": 11108.419724600983,
                        "bin_end": 13329.735779680786,
                        "count": 0
                      },
                      {
                        "bin_start": 13329.735779680786,
                        "bin_end": 15551.05183476059,
                        "count": 0
                      },
                      {
                        "bin_start": 15551.05183476059,
                        "bin_end": 17772.367889840392,
                        "count": 0
                      },
                      {
                        "bin_start": 17772.367889840392,
                        "bin_end": 19993.683944920194,
                        "count": 0
                      },
                      {
                        "bin_start": 19993.683944920194,
                        "bin_end": 22215,
                        "count": 1
                      }
                    ]
                  }
                },
                {
                  "name": "GSM146787.CEL.gz",
                  "dtype": "float64",
                  "stats": {
                    "unique_count": 8,
                    "nan_count": 0,
                    "min": "1.8570612742049766",
                    "max": "22215.0",
                    "histogram": [
                      {
                        "bin_start": 1.8570612742049766,
                        "bin_end": 2223.1713551467847,
                        "count": 7
                      },
                      {
                        "bin_start": 2223.1713551467847,
                        "bin_end": 4444.485649019364,
                        "count": 0
                      },
                      {
                        "bin_start": 4444.485649019364,
                        "bin_end": 6665.799942891944,
                        "count": 0
                      },
                      {
                        "bin_start": 6665.799942891944,
                        "bin_end": 8887.114236764523,
                        "count": 0
                      },
                      {
                        "bin_start": 8887.114236764523,
                        "bin_end": 11108.428530637102,
                        "count": 0
                      },
                      {
                        "bin_start": 11108.428530637102,
                        "bin_end": 13329.742824509682,
                        "count": 0
                      },
                      {
                        "bin_start": 13329.742824509682,
                        "bin_end": 15551.057118382261,
                        "count": 0
                      },
                      {
                        "bin_start": 15551.057118382261,
                        "bin_end": 17772.37141225484,
                        "count": 0
                      },
                      {
                        "bin_start": 17772.37141225484,
                        "bin_end": 19993.68570612742,
                        "count": 0
                      },
                      {
                        "bin_start": 19993.68570612742,
                        "bin_end": 22215,
                        "count": 1
                      }
                    ]
                  }
                },
                {
                  "name": "GSM146788.CEL.gz",
                  "dtype": "float64",
                  "stats": {
                    "unique_count": 8,
                    "nan_count": 0,
                    "min": "1.804558250103043",
                    "max": "22215.0",
                    "histogram": [
                      {
                        "bin_start": 1.804558250103043,
                        "bin_end": 2223.1241024250926,
                        "count": 7
                      },
                      {
                        "bin_start": 2223.1241024250926,
                        "bin_end": 4444.443646600082,
                        "count": 0
                      },
                      {
                        "bin_start": 4444.443646600082,
                        "bin_end": 6665.763190775071,
                        "count": 0
                      },
                      {
                        "bin_start": 6665.763190775071,
                        "bin_end": 8887.082734950061,
                        "count": 0
                      },
                      {
                        "bin_start": 8887.082734950061,
                        "bin_end": 11108.40227912505,
                        "count": 0
                      },
                      {
                        "bin_start": 11108.40227912505,
                        "bin_end": 13329.72182330004,
                        "count": 0
                      },
                      {
                        "bin_start": 13329.72182330004,
                        "bin_end": 15551.04136747503,
                        "count": 0
                      },
                      {
                        "bin_start": 15551.04136747503,
                        "bin_end": 17772.36091165002,
                        "count": 0
                      },
                      {
                        "bin_start": 17772.36091165002,
                        "bin_end": 19993.680455825008,
                        "count": 0
                      },
                      {
                        "bin_start": 19993.680455825008,
                        "bin_end": 22215,
                        "count": 1
                      }
                    ]
                  }
                },
                {
                  "name": "GSM146789.CEL.gz",
                  "dtype": "float64",
                  "stats": {
                    "unique_count": 8,
                    "nan_count": 0,
                    "min": "1.782835246678384",
                    "max": "22215.0",
                    "histogram": [
                      {
                        "bin_start": 1.782835246678384,
                        "bin_end": 2223.104551722011,
                        "count": 7
                      },
                      {
                        "bin_start": 2223.104551722011,
                        "bin_end": 4444.426268197343,
                        "count": 0
                      },
                      {
                        "bin_start": 4444.426268197343,
                        "bin_end": 6665.747984672676,
                        "count": 0
                      },
                      {
                        "bin_start": 6665.747984672676,
                        "bin_end": 8887.069701148008,
                        "count": 0
                      },
                      {
                        "bin_start": 8887.069701148008,
                        "bin_end": 11108.391417623341,
                        "count": 0
                      },
                      {
                        "bin_start": 11108.391417623341,
                        "bin_end": 13329.713134098673,
                        "count": 0
                      },
                      {
                        "bin_start": 13329.713134098673,
                        "bin_end": 15551.034850574004,
                        "count": 0
                      },
                      {
                        "bin_start": 15551.034850574004,
                        "bin_end": 17772.356567049337,
                        "count": 0
                      },
                      {
                        "bin_start": 17772.356567049337,
                        "bin_end": 19993.67828352467,
                        "count": 0
                      },
                      {
                        "bin_start": 19993.67828352467,
                        "bin_end": 22215,
                        "count": 1
                      }
                    ]
                  }
                },
                {
                  "name": "GSM146791.CEL.gz",
                  "dtype": "float64",
                  "stats": {
                    "unique_count": 8,
                    "nan_count": 0,
                    "min": "1.831321798972782",
                    "max": "22215.0",
                    "histogram": [
                      {
                        "bin_start": 1.831321798972782,
                        "bin_end": 2223.1481896190753,
                        "count": 7
                      },
                      {
                        "bin_start": 2223.1481896190753,
                        "bin_end": 4444.465057439178,
                        "count": 0
                      },
                      {
                        "bin_start": 4444.465057439178,
                        "bin_end": 6665.781925259281,
                        "count": 0
                      },
                      {
                        "bin_start": 6665.781925259281,
                        "bin_end": 8887.098793079384,
                        "count": 0
                      },
                      {
                        "bin_start": 8887.098793079384,
                        "bin_end": 11108.415660899487,
                        "count": 0
                      },
                      {
                        "bin_start": 11108.415660899487,
                        "bin_end": 13329.732528719589,
                        "count": 0
                      },
                      {
                        "bin_start": 13329.732528719589,
                        "bin_end": 15551.04939653969,
                        "count": 0
                      },
                      {
                        "bin_start": 15551.04939653969,
                        "bin_end": 17772.366264359796,
                        "count": 0
                      },
                      {
                        "bin_start": 17772.366264359796,
                        "bin_end": 19993.6831321799,
                        "count": 0
                      },
                      {
                        "bin_start": 19993.6831321799,
                        "bin_end": 22215,
                        "count": 1
                      }
                    ]
                  }
                },
                {
                  "name": "GSM146793.CEL.gz",
                  "dtype": "float64",
                  "stats": {
                    "unique_count": 8,
                    "nan_count": 0,
                    "min": "1.8609115809907315",
                    "max": "22215.0",
                    "histogram": [
                      {
                        "bin_start": 1.8609115809907315,
                        "bin_end": 2223.1748204228916,
                        "count": 7
                      },
                      {
                        "bin_start": 2223.1748204228916,
                        "bin_end": 4444.488729264792,
                        "count": 0
                      },
                      {
                        "bin_start": 4444.488729264792,
                        "bin_end": 6665.802638106692,
                        "count": 0
                      },
                      {
                        "bin_start": 6665.802638106692,
                        "bin_end": 8887.116546948593,
                        "count": 0
                      },
                      {
                        "bin_start": 8887.116546948593,
                        "bin_end": 11108.430455790494,
                        "count": 0
                      },
                      {
                        "bin_start": 11108.430455790494,
                        "bin_end": 13329.744364632394,
                        "count": 0
                      },
                      {
                        "bin_start": 13329.744364632394,
                        "bin_end": 15551.058273474295,
                        "count": 0
                      },
                      {
                        "bin_start": 15551.058273474295,
                        "bin_end": 17772.372182316198,
                        "count": 0
                      },
                      {
                        "bin_start": 17772.372182316198,
                        "bin_end": 19993.6860911581,
                        "count": 0
                      },
                      {
                        "bin_start": 19993.6860911581,
                        "bin_end": 22215,
                        "count": 1
                      }
                    ]
                  }
                },
                {
                  "name": "GSM146795.CEL.gz",
                  "dtype": "float64",
                  "stats": {
                    "unique_count": 8,
                    "nan_count": 0,
                    "min": "1.8138096302492224",
                    "max": "22215.0",
                    "histogram": [
                      {
                        "bin_start": 1.8138096302492224,
                        "bin_end": 2223.1324286672243,
                        "count": 7
                      },
                      {
                        "bin_start": 2223.1324286672243,
                        "bin_end": 4444.4510477041995,
                        "count": 0
                      },
                      {
                        "bin_start": 4444.4510477041995,
                        "bin_end": 6665.769666741175,
                        "count": 0
                      },
                      {
                        "bin_start": 6665.769666741175,
                        "bin_end": 8887.08828577815,
                        "count": 0
                      },
                      {
                        "bin_start": 8887.08828577815,
                        "bin_end": 11108.406904815125,
                        "count": 0
                      },
                      {
                        "bin_start": 11108.406904815125,
                        "bin_end": 13329.725523852101,
                        "count": 0
                      },
                      {
                        "bin_start": 13329.725523852101,
                        "bin_end": 15551.044142889077,
                        "count": 0
                      },
                      {
                        "bin_start": 15551.044142889077,
                        "bin_end": 17772.36276192605,
                        "count": 0
                      },
                      {
                        "bin_start": 17772.36276192605,
                        "bin_end": 19993.681380963026,
                        "count": 0
                      },
                      {
                        "bin_start": 19993.681380963026,
                        "bin_end": 22215,
                        "count": 1
                      }
                    ]
                  }
                },
                {
                  "name": "GSM146797.CEL.gz",
                  "dtype": "float64",
                  "stats": {
                    "unique_count": 8,
                    "nan_count": 0,
                    "min": "1.7817889696932454",
                    "max": "22215.0",
                    "histogram": [
                      {
                        "bin_start": 1.7817889696932454,
                        "bin_end": 2223.1036100727238,
                        "count": 7
                      },
                      {
                        "bin_start": 2223.1036100727238,
                        "bin_end": 4444.425431175755,
                        "count": 0
                      },
                      {
                        "bin_start": 4444.425431175755,
                        "bin_end": 6665.747252278786,
                        "count": 0
                      },
                      {
                        "bin_start": 6665.747252278786,
                        "bin_end": 8887.069073381816,
                        "count": 0
                      },
                      {
                        "bin_start": 8887.069073381816,
                        "bin_end": 11108.390894484846,
                        "count": 0
                      },
                      {
                        "bin_start": 11108.390894484846,
                        "bin_end": 13329.712715587877,
                        "count": 0
                      },
                      {
                        "bin_start": 13329.712715587877,
                        "bin_end": 15551.034536690908,
                        "count": 0
                      },
                      {
                        "bin_start": 15551.034536690908,
                        "bin_end": 17772.35635779394,
                        "count": 0
                      },
                      {
                        "bin_start": 17772.35635779394,
                        "bin_end": 19993.67817889697,
                        "count": 0
                      },
                      {
                        "bin_start": 19993.67817889697,
                        "bin_end": 22215,
                        "count": 1
                      }
                    ]
                  }
                },
                {
                  "name": "GSM92240.CEL.gz",
                  "dtype": "float64",
                  "stats": {
                    "unique_count": 8,
                    "nan_count": 0,
                    "min": "1.7474120355036131",
                    "max": "22215.0",
                    "histogram": [
                      {
                        "bin_start": 1.7474120355036131,
                        "bin_end": 2223.0726708319535,
                        "count": 7
                      },
                      {
                        "bin_start": 2223.0726708319535,
                        "bin_end": 4444.397929628403,
                        "count": 0
                      },
                      {
                        "bin_start": 4444.397929628403,
                        "bin_end": 6665.723188424853,
                        "count": 0
                      },
                      {
                        "bin_start": 6665.723188424853,
                        "bin_end": 8887.048447221303,
                        "count": 0
                      },
                      {
                        "bin_start": 8887.048447221303,
                        "bin_end": 11108.373706017752,
                        "count": 0
                      },
                      {
                        "bin_start": 11108.373706017752,
                        "bin_end": 13329.698964814203,
                        "count": 0
                      },
                      {
                        "bin_start": 13329.698964814203,
                        "bin_end": 15551.024223610653,
                        "count": 0
                      },
                      {
                        "bin_start": 15551.024223610653,
                        "bin_end": 17772.349482407102,
                        "count": 0
                      },
                      {
                        "bin_start": 17772.349482407102,
                        "bin_end": 19993.67474120355,
                        "count": 0
                      },
                      {
                        "bin_start": 19993.67474120355,
                        "bin_end": 22215,
                        "count": 1
                      }
                    ]
                  }
                },
                {
                  "name": "GSM92241.CEL.gz",
                  "dtype": "float64",
                  "stats": {
                    "unique_count": 8,
                    "nan_count": 0,
                    "min": "1.7456853379328547",
                    "max": "22215.0",
                    "histogram": [
                      {
                        "bin_start": 1.7456853379328547,
                        "bin_end": 2223.0711168041394,
                        "count": 7
                      },
                      {
                        "bin_start": 2223.0711168041394,
                        "bin_end": 4444.396548270346,
                        "count": 0
                      },
                      {
                        "bin_start": 4444.396548270346,
                        "bin_end": 6665.721979736553,
                        "count": 0
                      },
                      {
                        "bin_start": 6665.721979736553,
                        "bin_end": 8887.04741120276,
                        "count": 0
                      },
                      {
                        "bin_start": 8887.04741120276,
                        "bin_end": 11108.372842668967,
                        "count": 0
                      },
                      {
                        "bin_start": 11108.372842668967,
                        "bin_end": 13329.698274135175,
                        "count": 0
                      },
                      {
                        "bin_start": 13329.698274135175,
                        "bin_end": 15551.023705601381,
                        "count": 0
                      },
                      {
                        "bin_start": 15551.023705601381,
                        "bin_end": 17772.349137067587,
                        "count": 0
                      },
                      {
                        "bin_start": 17772.349137067587,
                        "bin_end": 19993.674568533796,
                        "count": 0
                      },
                      {
                        "bin_start": 19993.674568533796,
                        "bin_end": 22215,
                        "count": 1
                      }
                    ]
                  }
                },
                {
                  "name": "GSM92242.CEL.gz",
                  "dtype": "float64",
                  "stats": {
                    "unique_count": 8,
                    "nan_count": 0,
                    "min": "1.7615593524844826",
                    "max": "22215.0",
                    "histogram": [
                      {
                        "bin_start": 1.7615593524844826,
                        "bin_end": 2223.085403417236,
                        "count": 7
                      },
                      {
                        "bin_start": 2223.085403417236,
                        "bin_end": 4444.409247481987,
                        "count": 0
                      },
                      {
                        "bin_start": 4444.409247481987,
                        "bin_end": 6665.733091546739,
                        "count": 0
                      },
                      {
                        "bin_start": 6665.733091546739,
                        "bin_end": 8887.05693561149,
                        "count": 0
                      },
                      {
                        "bin_start": 8887.05693561149,
                        "bin_end": 11108.380779676241,
                        "count": 0
                      },
                      {
                        "bin_start": 11108.380779676241,
                        "bin_end": 13329.704623740994,
                        "count": 0
                      },
                      {
                        "bin_start": 13329.704623740994,
                        "bin_end": 15551.028467805745,
                        "count": 0
                      },
                      {
                        "bin_start": 15551.028467805745,
                        "bin_end": 17772.352311870498,
                        "count": 0
                      },
                      {
                        "bin_start": 17772.352311870498,
                        "bin_end": 19993.67615593525,
                        "count": 0
                      },
                      {
                        "bin_start": 19993.67615593525,
                        "bin_end": 22215,
                        "count": 1
                      }
                    ]
                  }
                },
                {
                  "name": "GSM92243.CEL.gz",
                  "dtype": "float64",
                  "stats": {
                    "unique_count": 8,
                    "nan_count": 0,
                    "min": "1.7334600496842556",
                    "max": "22215.0",
                    "histogram": [
                      {
                        "bin_start": 1.7334600496842556,
                        "bin_end": 2223.060114044716,
                        "count": 7
                      },
                      {
                        "bin_start": 2223.060114044716,
                        "bin_end": 4444.386768039748,
                        "count": 0
                      },
                      {
                        "bin_start": 4444.386768039748,
                        "bin_end": 6665.71342203478,
                        "count": 0
                      },
                      {
                        "bin_start": 6665.71342203478,
                        "bin_end": 8887.040076029813,
                        "count": 0
                      },
                      {
                        "bin_start": 8887.040076029813,
                        "bin_end": 11108.366730024843,
                        "count": 0
                      },
                      {
                        "bin_start": 11108.366730024843,
                        "bin_end": 13329.693384019876,
                        "count": 0
                      },
                      {
                        "bin_start": 13329.693384019876,
                        "bin_end": 15551.020038014909,
                        "count": 0
                      },
                      {
                        "bin_start": 15551.020038014909,
                        "bin_end": 17772.346692009938,
                        "count": 0
                      },
                      {
                        "bin_start": 17772.346692009938,
                        "bin_end": 19993.67334600497,
                        "count": 0
                      },
                      {
                        "bin_start": 19993.67334600497,
                        "bin_end": 22215,
                        "count": 1
                      }
                    ]
                  }
                },
                {
                  "name": "GSM92244.CEL.gz",
                  "dtype": "float64",
                  "stats": {
                    "unique_count": 8,
                    "nan_count": 0,
                    "min": "1.7725255536574105",
                    "max": "22215.0",
                    "histogram": [
                      {
                        "bin_start": 1.7725255536574105,
                        "bin_end": 2223.095272998292,
                        "count": 7
                      },
                      {
                        "bin_start": 2223.095272998292,
                        "bin_end": 4444.418020442926,
                        "count": 0
                      },
                      {
                        "bin_start": 4444.418020442926,
                        "bin_end": 6665.740767887561,
                        "count": 0
                      },
                      {
                        "bin_start": 6665.740767887561,
                        "bin_end": 8887.063515332195,
                        "count": 0
                      },
                      {
                        "bin_start": 8887.063515332195,
                        "bin_end": 11108.386262776829,
                        "count": 0
                      },
                      {
                        "bin_start": 11108.386262776829,
                        "bin_end": 13329.709010221464,
                        "count": 0
                      },
                      {
                        "bin_start": 13329.709010221464,
                        "bin_end": 15551.031757666098,
                        "count": 0
                      },
                      {
                        "bin_start": 15551.031757666098,
                        "bin_end": 17772.354505110732,
                        "count": 0
                      },
                      {
                        "bin_start": 17772.354505110732,
                        "bin_end": 19993.677252555368,
                        "count": 0
                      },
                      {
                        "bin_start": 19993.677252555368,
                        "bin_end": 22215,
                        "count": 1
                      }
                    ]
                  }
                },
                {
                  "name": "GSM92245.CEL.gz",
                  "dtype": "float64",
                  "stats": {
                    "unique_count": 8,
                    "nan_count": 0,
                    "min": "1.73442497664634",
                    "max": "22215.0",
                    "histogram": [
                      {
                        "bin_start": 1.73442497664634,
                        "bin_end": 2223.0609824789817,
                        "count": 7
                      },
                      {
                        "bin_start": 2223.0609824789817,
                        "bin_end": 4444.387539981317,
                        "count": 0
                      },
                      {
                        "bin_start": 4444.387539981317,
                        "bin_end": 6665.714097483652,
                        "count": 0
                      },
                      {
                        "bin_start": 6665.714097483652,
                        "bin_end": 8887.040654985987,
                        "count": 0
                      },
                      {
                        "bin_start": 8887.040654985987,
                        "bin_end": 11108.367212488323,
                        "count": 0
                      },
                      {
                        "bin_start": 11108.367212488323,
                        "bin_end": 13329.693769990658,
                        "count": 0
                      },
                      {
                        "bin_start": 13329.693769990658,
                        "bin_end": 15551.020327492992,
                        "count": 0
                      },
                      {
                        "bin_start": 15551.020327492992,
                        "bin_end": 17772.346884995328,
                        "count": 0
                      },
                      {
                        "bin_start": 17772.346884995328,
                        "bin_end": 19993.673442497664,
                        "count": 0
                      },
                      {
                        "bin_start": 19993.673442497664,
                        "bin_end": 22215,
                        "count": 1
                      }
                    ]
                  }
                },
                {
                  "name": "GSM92247.CEL.gz",
                  "dtype": "float64",
                  "stats": {
                    "unique_count": 8,
                    "nan_count": 0,
                    "min": "1.7615483368229528",
                    "max": "22215.0",
                    "histogram": [
                      {
                        "bin_start": 1.7615483368229528,
                        "bin_end": 2223.0853935031405,
                        "count": 7
                      },
                      {
                        "bin_start": 2223.0853935031405,
                        "bin_end": 4444.409238669457,
                        "count": 0
                      },
                      {
                        "bin_start": 4444.409238669457,
                        "bin_end": 6665.733083835775,
                        "count": 0
                      },
                      {
                        "bin_start": 6665.733083835775,
                        "bin_end": 8887.056929002092,
                        "count": 0
                      },
                      {
                        "bin_start": 8887.056929002092,
                        "bin_end": 11108.380774168409,
                        "count": 0
                      },
                      {
                        "bin_start": 11108.380774168409,
                        "bin_end": 13329.704619334727,
                        "count": 0
                      },
                      {
                        "bin_start": 13329.704619334727,
                        "bin_end": 15551.028464501045,
                        "count": 0
                      },
                      {
                        "bin_start": 15551.028464501045,
                        "bin_end": 17772.352309667363,
                        "count": 0
                      },
                      {
                        "bin_start": 17772.352309667363,
                        "bin_end": 19993.67615483368,
                        "count": 0
                      },
                      {
                        "bin_start": 19993.67615483368,
                        "bin_end": 22215,
                        "count": 1
                      }
                    ]
                  }
                },
                {
                  "name": "GSM92248.CEL.gz",
                  "dtype": "float64",
                  "stats": {
                    "unique_count": 8,
                    "nan_count": 0,
                    "min": "1.7463985715434627",
                    "max": "22215.0",
                    "histogram": [
                      {
                        "bin_start": 1.7463985715434627,
                        "bin_end": 2223.071758714389,
                        "count": 7
                      },
                      {
                        "bin_start": 2223.071758714389,
                        "bin_end": 4444.397118857234,
                        "count": 0
                      },
                      {
                        "bin_start": 4444.397118857234,
                        "bin_end": 6665.722479000079,
                        "count": 0
                      },
                      {
                        "bin_start": 6665.722479000079,
                        "bin_end": 8887.047839142926,
                        "count": 0
                      },
                      {
                        "bin_start": 8887.047839142926,
                        "bin_end": 11108.373199285772,
                        "count": 0
                      },
                      {
                        "bin_start": 11108.373199285772,
                        "bin_end": 13329.698559428616,
                        "count": 0
                      },
                      {
                        "bin_start": 13329.698559428616,
                        "bin_end": 15551.023919571462,
                        "count": 0
                      },
                      {
                        "bin_start": 15551.023919571462,
                        "bin_end": 17772.349279714308,
                        "count": 0
                      },
                      {
                        "bin_start": 17772.349279714308,
                        "bin_end": 19993.674639857152,
                        "count": 0
                      },
                      {
                        "bin_start": 19993.674639857152,
                        "bin_end": 22215,
                        "count": 1
                      }
                    ]
                  }
                },
                {
                  "name": "GSM92249.CEL.gz",
                  "dtype": "float64",
                  "stats": {
                    "unique_count": 8,
                    "nan_count": 0,
                    "min": "1.7334219997317426",
                    "max": "22215.0",
                    "histogram": [
                      {
                        "bin_start": 1.7334219997317426,
                        "bin_end": 2223.0600797997586,
                        "count": 7
                      },
                      {
                        "bin_start": 2223.0600797997586,
                        "bin_end": 4444.386737599785,
                        "count": 0
                      },
                      {
                        "bin_start": 4444.386737599785,
                        "bin_end": 6665.713395399812,
                        "count": 0
                      },
                      {
                        "bin_start": 6665.713395399812,
                        "bin_end": 8887.040053199838,
                        "count": 0
                      },
                      {
                        "bin_start": 8887.040053199838,
                        "bin_end": 11108.366710999864,
                        "count": 0
                      },
                      {
                        "bin_start": 11108.366710999864,
                        "bin_end": 13329.693368799892,
                        "count": 0
                      },
                      {
                        "bin_start": 13329.693368799892,
                        "bin_end": 15551.02002659992,
                        "count": 0
                      },
                      {
                        "bin_start": 15551.02002659992,
                        "bin_end": 17772.346684399945,
                        "count": 0
                      },
                      {
                        "bin_start": 17772.346684399945,
                        "bin_end": 19993.67334219997,
                        "count": 0
                      },
                      {
                        "bin_start": 19993.67334219997,
                        "bin_end": 22215,
                        "count": 1
                      }
                    ]
                  }
                },
                {
                  "name": "GSM92250.CEL.gz",
                  "dtype": "float64",
                  "stats": {
                    "unique_count": 8,
                    "nan_count": 0,
                    "min": "1.7696119183101577",
                    "max": "22215.0",
                    "histogram": [
                      {
                        "bin_start": 1.7696119183101577,
                        "bin_end": 2223.0926507264794,
                        "count": 7
                      },
                      {
                        "bin_start": 2223.0926507264794,
                        "bin_end": 4444.415689534649,
                        "count": 0
                      },
                      {
                        "bin_start": 4444.415689534649,
                        "bin_end": 6665.738728342818,
                        "count": 0
                      },
                      {
                        "bin_start": 6665.738728342818,
                        "bin_end": 8887.061767150988,
                        "count": 0
                      },
                      {
                        "bin_start": 8887.061767150988,
                        "bin_end": 11108.384805959156,
                        "count": 0
                      },
                      {
                        "bin_start": 11108.384805959156,
                        "bin_end": 13329.707844767327,
                        "count": 0
                      },
                      {
                        "bin_start": 13329.707844767327,
                        "bin_end": 15551.030883575497,
                        "count": 0
                      },
                      {
                        "bin_start": 15551.030883575497,
                        "bin_end": 17772.353922383663,
                        "count": 0
                      },
                      {
                        "bin_start": 17772.353922383663,
                        "bin_end": 19993.67696119183,
                        "count": 0
                      },
                      {
                        "bin_start": 19993.67696119183,
                        "bin_end": 22215,
                        "count": 1
                      }
                    ]
                  }
                },
                {
                  "name": "GSM92253.CEL.gz",
                  "dtype": "float64",
                  "stats": {
                    "unique_count": 8,
                    "nan_count": 0,
                    "min": "1.7836902291639305",
                    "max": "22215.0",
                    "histogram": [
                      {
                        "bin_start": 1.7836902291639305,
                        "bin_end": 2223.1053212062475,
                        "count": 7
                      },
                      {
                        "bin_start": 2223.1053212062475,
                        "bin_end": 4444.426952183331,
                        "count": 0
                      },
                      {
                        "bin_start": 4444.426952183331,
                        "bin_end": 6665.748583160415,
                        "count": 0
                      },
                      {
                        "bin_start": 6665.748583160415,
                        "bin_end": 8887.070214137499,
                        "count": 0
                      },
                      {
                        "bin_start": 8887.070214137499,
                        "bin_end": 11108.391845114582,
                        "count": 0
                      },
                      {
                        "bin_start": 11108.391845114582,
                        "bin_end": 13329.713476091667,
                        "count": 0
                      },
                      {
                        "bin_start": 13329.713476091667,
                        "bin_end": 15551.03510706875,
                        "count": 0
                      },
                      {
                        "bin_start": 15551.03510706875,
                        "bin_end": 17772.356738045833,
                        "count": 0
                      },
                      {
                        "bin_start": 17772.356738045833,
                        "bin_end": 19993.678369022917,
                        "count": 0
                      },
                      {
                        "bin_start": 19993.678369022917,
                        "bin_end": 22215,
                        "count": 1
                      }
                    ]
                  }
                },
                {
                  "name": "GSM92254.CEL.gz",
                  "dtype": "float64",
                  "stats": {
                    "unique_count": 8,
                    "nan_count": 0,
                    "min": "1.7595242234925714",
                    "max": "22215.0",
                    "histogram": [
                      {
                        "bin_start": 1.7595242234925714,
                        "bin_end": 2223.083571801143,
                        "count": 7
                      },
                      {
                        "bin_start": 2223.083571801143,
                        "bin_end": 4444.407619378794,
                        "count": 0
                      },
                      {
                        "bin_start": 4444.407619378794,
                        "bin_end": 6665.731666956444,
                        "count": 0
                      },
                      {
                        "bin_start": 6665.731666956444,
                        "bin_end": 8887.055714534095,
                        "count": 0
                      },
                      {
                        "bin_start": 8887.055714534095,
                        "bin_end": 11108.379762111746,
                        "count": 0
                      },
                      {
                        "bin_start": 11108.379762111746,
                        "bin_end": 13329.703809689396,
                        "count": 0
                      },
                      {
                        "bin_start": 13329.703809689396,
                        "bin_end": 15551.027857267047,
                        "count": 0
                      },
                      {
                        "bin_start": 15551.027857267047,
                        "bin_end": 17772.351904844698,
                        "count": 0
                      },
                      {
                        "bin_start": 17772.351904844698,
                        "bin_end": 19993.67595242235,
                        "count": 0
                      },
                      {
                        "bin_start": 19993.67595242235,
                        "bin_end": 22215,
                        "count": 1
                      }
                    ]
                  }
                },
                {
                  "name": "GSM92255.CEL.gz",
                  "dtype": "float64",
                  "stats": {
                    "unique_count": 8,
                    "nan_count": 0,
                    "min": "1.7558791143714851",
                    "max": "22215.0",
                    "histogram": [
                      {
                        "bin_start": 1.7558791143714851,
                        "bin_end": 2223.0802912029344,
                        "count": 7
                      },
                      {
                        "bin_start": 2223.0802912029344,
                        "bin_end": 4444.404703291497,
                        "count": 0
                      },
                      {
                        "bin_start": 4444.404703291497,
                        "bin_end": 6665.72911538006,
                        "count": 0
                      },
                      {
                        "bin_start": 6665.72911538006,
                        "bin_end": 8887.053527468623,
                        "count": 0
                      },
                      {
                        "bin_start": 8887.053527468623,
                        "bin_end": 11108.377939557186,
                        "count": 0
                      },
                      {
                        "bin_start": 11108.377939557186,
                        "bin_end": 13329.702351645748,
                        "count": 0
                      },
                      {
                        "bin_start": 13329.702351645748,
                        "bin_end": 15551.026763734311,
                        "count": 0
                      },
                      {
                        "bin_start": 15551.026763734311,
                        "bin_end": 17772.351175822874,
                        "count": 0
                      },
                      {
                        "bin_start": 17772.351175822874,
                        "bin_end": 19993.67558791144,
                        "count": 0
                      },
                      {
                        "bin_start": 19993.67558791144,
                        "bin_end": 22215,
                        "count": 1
                      }
                    ]
                  }
                },
                {
                  "name": "GSM92256.CEL.gz",
                  "dtype": "float64",
                  "stats": {
                    "unique_count": 8,
                    "nan_count": 0,
                    "min": "1.70979966864327",
                    "max": "22215.0",
                    "histogram": [
                      {
                        "bin_start": 1.70979966864327,
                        "bin_end": 2223.038819701779,
                        "count": 7
                      },
                      {
                        "bin_start": 2223.038819701779,
                        "bin_end": 4444.367839734915,
                        "count": 0
                      },
                      {
                        "bin_start": 4444.367839734915,
                        "bin_end": 6665.696859768051,
                        "count": 0
                      },
                      {
                        "bin_start": 6665.696859768051,
                        "bin_end": 8887.025879801186,
                        "count": 0
                      },
                      {
                        "bin_start": 8887.025879801186,
                        "bin_end": 11108.354899834321,
                        "count": 0
                      },
                      {
                        "bin_start": 11108.354899834321,
                        "bin_end": 13329.683919867457,
                        "count": 0
                      },
                      {
                        "bin_start": 13329.683919867457,
                        "bin_end": 15551.012939900593,
                        "count": 0
                      },
                      {
                        "bin_start": 15551.012939900593,
                        "bin_end": 17772.34195993373,
                        "count": 0
                      },
                      {
                        "bin_start": 17772.34195993373,
                        "bin_end": 19993.670979966864,
                        "count": 0
                      },
                      {
                        "bin_start": 19993.670979966864,
                        "bin_end": 22215,
                        "count": 1
                      }
                    ]
                  }
                },
                {
                  "name": "GSM92257.CEL.gz",
                  "dtype": "float64",
                  "stats": {
                    "unique_count": 8,
                    "nan_count": 0,
                    "min": "1.7317757637416356",
                    "max": "22215.0",
                    "histogram": [
                      {
                        "bin_start": 1.7317757637416356,
                        "bin_end": 2223.0585981873674,
                        "count": 7
                      },
                      {
                        "bin_start": 2223.0585981873674,
                        "bin_end": 4444.385420610994,
                        "count": 0
                      },
                      {
                        "bin_start": 4444.385420610994,
                        "bin_end": 6665.71224303462,
                        "count": 0
                      },
                      {
                        "bin_start": 6665.71224303462,
                        "bin_end": 8887.039065458244,
                        "count": 0
                      },
                      {
                        "bin_start": 8887.039065458244,
                        "bin_end": 11108.36588788187,
                        "count": 0
                      },
                      {
                        "bin_start": 11108.36588788187,
                        "bin_end": 13329.692710305497,
                        "count": 0
                      },
                      {
                        "bin_start": 13329.692710305497,
                        "bin_end": 15551.019532729122,
                        "count": 0
                      },
                      {
                        "bin_start": 15551.019532729122,
                        "bin_end": 17772.34635515275,
                        "count": 0
                      },
                      {
                        "bin_start": 17772.34635515275,
                        "bin_end": 19993.673177576376,
                        "count": 0
                      },
                      {
                        "bin_start": 19993.673177576376,
                        "bin_end": 22215,
                        "count": 1
                      }
                    ]
                  }
                },
                {
                  "name": "GSM92258.CEL.gz",
                  "dtype": "float64",
                  "stats": {
                    "unique_count": 8,
                    "nan_count": 0,
                    "min": "1.7595985402752465",
                    "max": "22215.0",
                    "histogram": [
                      {
                        "bin_start": 1.7595985402752465,
                        "bin_end": 2223.083638686248,
                        "count": 7
                      },
                      {
                        "bin_start": 2223.083638686248,
                        "bin_end": 4444.40767883222,
                        "count": 0
                      },
                      {
                        "bin_start": 4444.40767883222,
                        "bin_end": 6665.7317189781925,
                        "count": 0
                      },
                      {
                        "bin_start": 6665.7317189781925,
                        "bin_end": 8887.055759124165,
                        "count": 0
                      },
                      {
                        "bin_start": 8887.055759124165,
                        "bin_end": 11108.379799270138,
                        "count": 0
                      },
                      {
                        "bin_start": 11108.379799270138,
                        "bin_end": 13329.70383941611,
                        "count": 0
                      },
                      {
                        "bin_start": 13329.70383941611,
                        "bin_end": 15551.027879562082,
                        "count": 0
                      },
                      {
                        "bin_start": 15551.027879562082,
                        "bin_end": 17772.351919708057,
                        "count": 0
                      },
                      {
                        "bin_start": 17772.351919708057,
                        "bin_end": 19993.67595985403,
                        "count": 0
                      },
                      {
                        "bin_start": 19993.67595985403,
                        "bin_end": 22215,
                        "count": 1
                      }
                    ]
                  }
                },
                {
                  "name": "GSM92259.CEL.gz",
                  "dtype": "float64",
                  "stats": {
                    "unique_count": 8,
                    "nan_count": 0,
                    "min": "1.765253354172683",
                    "max": "22215.0",
                    "histogram": [
                      {
                        "bin_start": 1.765253354172683,
                        "bin_end": 2223.0887280187553,
                        "count": 7
                      },
                      {
                        "bin_start": 2223.0887280187553,
                        "bin_end": 4444.4122026833375,
                        "count": 0
                      },
                      {
                        "bin_start": 4444.4122026833375,
                        "bin_end": 6665.73567734792,
                        "count": 0
                      },
                      {
                        "bin_start": 6665.73567734792,
                        "bin_end": 8887.059152012504,
                        "count": 0
                      },
                      {
                        "bin_start": 8887.059152012504,
                        "bin_end": 11108.382626677087,
                        "count": 0
                      },
                      {
                        "bin_start": 11108.382626677087,
                        "bin_end": 13329.706101341668,
                        "count": 0
                      },
                      {
                        "bin_start": 13329.706101341668,
                        "bin_end": 15551.02957600625,
                        "count": 0
                      },
                      {
                        "bin_start": 15551.02957600625,
                        "bin_end": 17772.353050670834,
                        "count": 0
                      },
                      {
                        "bin_start": 17772.353050670834,
                        "bin_end": 19993.676525335417,
                        "count": 0
                      },
                      {
                        "bin_start": 19993.676525335417,
                        "bin_end": 22215,
                        "count": 1
                      }
                    ]
                  }
                },
                {
                  "name": "GSM92260.CEL.gz",
                  "dtype": "float64",
                  "stats": {
                    "unique_count": 8,
                    "nan_count": 0,
                    "min": "1.7587554241749614",
                    "max": "22215.0",
                    "histogram": [
                      {
                        "bin_start": 1.7587554241749614,
                        "bin_end": 2223.0828798817574,
                        "count": 7
                      },
                      {
                        "bin_start": 2223.0828798817574,
                        "bin_end": 4444.407004339339,
                        "count": 0
                      },
                      {
                        "bin_start": 4444.407004339339,
                        "bin_end": 6665.731128796922,
                        "count": 0
                      },
                      {
                        "bin_start": 6665.731128796922,
                        "bin_end": 8887.055253254504,
                        "count": 0
                      },
                      {
                        "bin_start": 8887.055253254504,
                        "bin_end": 11108.379377712086,
                        "count": 0
                      },
                      {
                        "bin_start": 11108.379377712086,
                        "bin_end": 13329.70350216967,
                        "count": 0
                      },
                      {
                        "bin_start": 13329.70350216967,
                        "bin_end": 15551.027626627252,
                        "count": 0
                      },
                      {
                        "bin_start": 15551.027626627252,
                        "bin_end": 17772.351751084836,
                        "count": 0
                      },
                      {
                        "bin_start": 17772.351751084836,
                        "bin_end": 19993.67587554242,
                        "count": 0
                      },
                      {
                        "bin_start": 19993.67587554242,
                        "bin_end": 22215,
                        "count": 1
                      }
                    ]
                  }
                },
                {
                  "name": "GSM92261.CEL.gz",
                  "dtype": "float64",
                  "stats": {
                    "unique_count": 8,
                    "nan_count": 0,
                    "min": "1.7650762517428908",
                    "max": "22215.0",
                    "histogram": [
                      {
                        "bin_start": 1.7650762517428908,
                        "bin_end": 2223.0885686265683,
                        "count": 7
                      },
                      {
                        "bin_start": 2223.0885686265683,
                        "bin_end": 4444.412061001394,
                        "count": 0
                      },
                      {
                        "bin_start": 4444.412061001394,
                        "bin_end": 6665.735553376219,
                        "count": 0
                      },
                      {
                        "bin_start": 6665.735553376219,
                        "bin_end": 8887.059045751044,
                        "count": 0
                      },
                      {
                        "bin_start": 8887.059045751044,
                        "bin_end": 11108.38253812587,
                        "count": 0
                      },
                      {
                        "bin_start": 11108.38253812587,
                        "bin_end": 13329.706030500694,
                        "count": 0
                      },
                      {
                        "bin_start": 13329.706030500694,
                        "bin_end": 15551.02952287552,
                        "count": 0
                      },
                      {
                        "bin_start": 15551.02952287552,
                        "bin_end": 17772.353015250348,
                        "count": 0
                      },
                      {
                        "bin_start": 17772.353015250348,
                        "bin_end": 19993.676507625172,
                        "count": 0
                      },
                      {
                        "bin_start": 19993.676507625172,
                        "bin_end": 22215,
                        "count": 1
                      }
                    ]
                  }
                },
                {
                  "name": "GSM92262.CEL.gz",
                  "dtype": "float64",
                  "stats": {
                    "unique_count": 8,
                    "nan_count": 0,
                    "min": "1.6925200266021339",
                    "max": "22215.0",
                    "histogram": [
                      {
                        "bin_start": 1.6925200266021339,
                        "bin_end": 2223.0232680239424,
                        "count": 7
                      },
                      {
                        "bin_start": 2223.0232680239424,
                        "bin_end": 4444.354016021282,
                        "count": 0
                      },
                      {
                        "bin_start": 4444.354016021282,
                        "bin_end": 6665.684764018622,
                        "count": 0
                      },
                      {
                        "bin_start": 6665.684764018622,
                        "bin_end": 8887.015512015962,
                        "count": 0
                      },
                      {
                        "bin_start": 8887.015512015962,
                        "bin_end": 11108.346260013303,
                        "count": 0
                      },
                      {
                        "bin_start": 11108.346260013303,
                        "bin_end": 13329.677008010642,
                        "count": 0
                      },
                      {
                        "bin_start": 13329.677008010642,
                        "bin_end": 15551.00775600798,
                        "count": 0
                      },
                      {
                        "bin_start": 15551.00775600798,
                        "bin_end": 17772.33850400532,
                        "count": 0
                      },
                      {
                        "bin_start": 17772.33850400532,
                        "bin_end": 19993.669252002663,
                        "count": 0
                      },
                      {
                        "bin_start": 19993.669252002663,
                        "bin_end": 22215,
                        "count": 1
                      }
                    ]
                  }
                },
                {
                  "name": "GSM92263.CEL.gz",
                  "dtype": "float64",
                  "stats": {
                    "unique_count": 8,
                    "nan_count": 0,
                    "min": "1.7723909511893368",
                    "max": "22215.0",
                    "histogram": [
                      {
                        "bin_start": 1.7723909511893368,
                        "bin_end": 2223.0951518560705,
                        "count": 7
                      },
                      {
                        "bin_start": 2223.0951518560705,
                        "bin_end": 4444.417912760952,
                        "count": 0
                      },
                      {
                        "bin_start": 4444.417912760952,
                        "bin_end": 6665.740673665834,
                        "count": 0
                      },
                      {
                        "bin_start": 6665.740673665834,
                        "bin_end": 8887.063434570715,
                        "count": 0
                      },
                      {
                        "bin_start": 8887.063434570715,
                        "bin_end": 11108.386195475596,
                        "count": 0
                      },
                      {
                        "bin_start": 11108.386195475596,
                        "bin_end": 13329.708956380478,
                        "count": 0
                      },
                      {
                        "bin_start": 13329.708956380478,
                        "bin_end": 15551.03171728536,
                        "count": 0
                      },
                      {
                        "bin_start": 15551.03171728536,
                        "bin_end": 17772.35447819024,
                        "count": 0
                      },
                      {
                        "bin_start": 17772.35447819024,
                        "bin_end": 19993.67723909512,
                        "count": 0
                      },
                      {
                        "bin_start": 19993.67723909512,
                        "bin_end": 22215,
                        "count": 1
                      }
                    ]
                  }
                },
                {
                  "name": "GSM92264.CEL.gz",
                  "dtype": "float64",
                  "stats": {
                    "unique_count": 8,
                    "nan_count": 0,
                    "min": "1.7576206008074498",
                    "max": "22215.0",
                    "histogram": [
                      {
                        "bin_start": 1.7576206008074498,
                        "bin_end": 2223.0818585407264,
                        "count": 7
                      },
                      {
                        "bin_start": 2223.0818585407264,
                        "bin_end": 4444.406096480645,
                        "count": 0
                      },
                      {
                        "bin_start": 4444.406096480645,
                        "bin_end": 6665.730334420564,
                        "count": 0
                      },
                      {
                        "bin_start": 6665.730334420564,
                        "bin_end": 8887.054572360483,
                        "count": 0
                      },
                      {
                        "bin_start": 8887.054572360483,
                        "bin_end": 11108.378810300403,
                        "count": 0
                      },
                      {
                        "bin_start": 11108.378810300403,
                        "bin_end": 13329.70304824032,
                        "count": 0
                      },
                      {
                        "bin_start": 13329.70304824032,
                        "bin_end": 15551.027286180239,
                        "count": 0
                      },
                      {
                        "bin_start": 15551.027286180239,
                        "bin_end": 17772.35152412016,
                        "count": 0
                      },
                      {
                        "bin_start": 17772.35152412016,
                        "bin_end": 19993.67576206008,
                        "count": 0
                      },
                      {
                        "bin_start": 19993.67576206008,
                        "bin_end": 22215,
                        "count": 1
                      }
                    ]
                  }
                },
                {
                  "name": "GSM92265.CEL.gz",
                  "dtype": "float64",
                  "stats": {
                    "unique_count": 8,
                    "nan_count": 0,
                    "min": "1.7320243556862898",
                    "max": "22215.0",
                    "histogram": [
                      {
                        "bin_start": 1.7320243556862898,
                        "bin_end": 2223.0588219201177,
                        "count": 7
                      },
                      {
                        "bin_start": 2223.0588219201177,
                        "bin_end": 4444.385619484548,
                        "count": 0
                      },
                      {
                        "bin_start": 4444.385619484548,
                        "bin_end": 6665.71241704898,
                        "count": 0
                      },
                      {
                        "bin_start": 6665.71241704898,
                        "bin_end": 8887.03921461341,
                        "count": 0
                      },
                      {
                        "bin_start": 8887.03921461341,
                        "bin_end": 11108.366012177841,
                        "count": 0
                      },
                      {
                        "bin_start": 11108.366012177841,
                        "bin_end": 13329.692809742273,
                        "count": 0
                      },
                      {
                        "bin_start": 13329.692809742273,
                        "bin_end": 15551.019607306705,
                        "count": 0
                      },
                      {
                        "bin_start": 15551.019607306705,
                        "bin_end": 17772.346404871136,
                        "count": 0
                      },
                      {
                        "bin_start": 17772.346404871136,
                        "bin_end": 19993.673202435566,
                        "count": 0
                      },
                      {
                        "bin_start": 19993.673202435566,
                        "bin_end": 22215,
                        "count": 1
                      }
                    ]
                  }
                },
                {
                  "name": "GSM92266.CEL.gz",
                  "dtype": "float64",
                  "stats": {
                    "unique_count": 8,
                    "nan_count": 0,
                    "min": "1.7927904706174276",
                    "max": "22215.0",
                    "histogram": [
                      {
                        "bin_start": 1.7927904706174276,
                        "bin_end": 2223.113511423556,
                        "count": 7
                      },
                      {
                        "bin_start": 2223.113511423556,
                        "bin_end": 4444.434232376494,
                        "count": 0
                      },
                      {
                        "bin_start": 4444.434232376494,
                        "bin_end": 6665.754953329432,
                        "count": 0
                      },
                      {
                        "bin_start": 6665.754953329432,
                        "bin_end": 8887.07567428237,
                        "count": 0
                      },
                      {
                        "bin_start": 8887.07567428237,
                        "bin_end": 11108.39639523531,
                        "count": 0
                      },
                      {
                        "bin_start": 11108.39639523531,
                        "bin_end": 13329.717116188247,
                        "count": 0
                      },
                      {
                        "bin_start": 13329.717116188247,
                        "bin_end": 15551.037837141184,
                        "count": 0
                      },
                      {
                        "bin_start": 15551.037837141184,
                        "bin_end": 17772.35855809412,
                        "count": 0
                      },
                      {
                        "bin_start": 17772.35855809412,
                        "bin_end": 19993.67927904706,
                        "count": 0
                      },
                      {
                        "bin_start": 19993.67927904706,
                        "bin_end": 22215,
                        "count": 1
                      }
                    ]
                  }
                },
                {
                  "name": "GSM92267.CEL.gz",
                  "dtype": "float64",
                  "stats": {
                    "unique_count": 8,
                    "nan_count": 0,
                    "min": "1.7148168956609553",
                    "max": "22215.0",
                    "histogram": [
                      {
                        "bin_start": 1.7148168956609553,
                        "bin_end": 2223.043335206095,
                        "count": 7
                      },
                      {
                        "bin_start": 2223.043335206095,
                        "bin_end": 4444.371853516529,
                        "count": 0
                      },
                      {
                        "bin_start": 4444.371853516529,
                        "bin_end": 6665.7003718269625,
                        "count": 0
                      },
                      {
                        "bin_start": 6665.7003718269625,
                        "bin_end": 8887.028890137397,
                        "count": 0
                      },
                      {
                        "bin_start": 8887.028890137397,
                        "bin_end": 11108.357408447831,
                        "count": 0
                      },
                      {
                        "bin_start": 11108.357408447831,
                        "bin_end": 13329.685926758264,
                        "count": 0
                      },
                      {
                        "bin_start": 13329.685926758264,
                        "bin_end": 15551.014445068698,
                        "count": 0
                      },
                      {
                        "bin_start": 15551.014445068698,
                        "bin_end": 17772.34296337913,
                        "count": 0
                      },
                      {
                        "bin_start": 17772.34296337913,
                        "bin_end": 19993.671481689566,
                        "count": 0
                      },
                      {
                        "bin_start": 19993.671481689566,
                        "bin_end": 22215,
                        "count": 1
                      }
                    ]
                  }
                },
                {
                  "name": "GSM92268.CEL.gz",
                  "dtype": "float64",
                  "stats": {
                    "unique_count": 8,
                    "nan_count": 0,
                    "min": "1.7678049676640044",
                    "max": "22215.0",
                    "histogram": [
                      {
                        "bin_start": 1.7678049676640044,
                        "bin_end": 2223.091024470897,
                        "count": 7
                      },
                      {
                        "bin_start": 2223.091024470897,
                        "bin_end": 4444.414243974131,
                        "count": 0
                      },
                      {
                        "bin_start": 4444.414243974131,
                        "bin_end": 6665.737463477364,
                        "count": 0
                      },
                      {
                        "bin_start": 6665.737463477364,
                        "bin_end": 8887.060682980597,
                        "count": 0
                      },
                      {
                        "bin_start": 8887.060682980597,
                        "bin_end": 11108.383902483829,
                        "count": 0
                      },
                      {
                        "bin_start": 11108.383902483829,
                        "bin_end": 13329.707121987063,
                        "count": 0
                      },
                      {
                        "bin_start": 13329.707121987063,
                        "bin_end": 15551.030341490297,
                        "count": 0
                      },
                      {
                        "bin_start": 15551.030341490297,
                        "bin_end": 17772.35356099353,
                        "count": 0
                      },
                      {
                        "bin_start": 17772.35356099353,
                        "bin_end": 19993.676780496764,
                        "count": 0
                      },
                      {
                        "bin_start": 19993.676780496764,
                        "bin_end": 22215,
                        "count": 1
                      }
                    ]
                  }
                },
                {
                  "name": "GSM92269.CEL.gz",
                  "dtype": "float64",
                  "stats": {
                    "unique_count": 8,
                    "nan_count": 0,
                    "min": "1.7858441811699426",
                    "max": "22215.0",
                    "histogram": [
                      {
                        "bin_start": 1.7858441811699426,
                        "bin_end": 2223.107259763053,
                        "count": 7
                      },
                      {
                        "bin_start": 2223.107259763053,
                        "bin_end": 4444.428675344936,
                        "count": 0
                      },
                      {
                        "bin_start": 4444.428675344936,
                        "bin_end": 6665.750090926819,
                        "count": 0
                      },
                      {
                        "bin_start": 6665.750090926819,
                        "bin_end": 8887.071506508702,
                        "count": 0
                      },
                      {
                        "bin_start": 8887.071506508702,
                        "bin_end": 11108.392922090585,
                        "count": 0
                      },
                      {
                        "bin_start": 11108.392922090585,
                        "bin_end": 13329.714337672469,
                        "count": 0
                      },
                      {
                        "bin_start": 13329.714337672469,
                        "bin_end": 15551.035753254353,
                        "count": 0
                      },
                      {
                        "bin_start": 15551.035753254353,
                        "bin_end": 17772.357168836235,
                        "count": 0
                      },
                      {
                        "bin_start": 17772.357168836235,
                        "bin_end": 19993.678584418118,
                        "count": 0
                      },
                      {
                        "bin_start": 19993.678584418118,
                        "bin_end": 22215,
                        "count": 1
                      }
                    ]
                  }
                },
                {
                  "name": "GSM92270.CEL.gz",
                  "dtype": "float64",
                  "stats": {
                    "unique_count": 8,
                    "nan_count": 0,
                    "min": "1.763607884761874",
                    "max": "22215.0",
                    "histogram": [
                      {
                        "bin_start": 1.763607884761874,
                        "bin_end": 2223.087247096286,
                        "count": 7
                      },
                      {
                        "bin_start": 2223.087247096286,
                        "bin_end": 4444.41088630781,
                        "count": 0
                      },
                      {
                        "bin_start": 4444.41088630781,
                        "bin_end": 6665.734525519334,
                        "count": 0
                      },
                      {
                        "bin_start": 6665.734525519334,
                        "bin_end": 8887.058164730859,
                        "count": 0
                      },
                      {
                        "bin_start": 8887.058164730859,
                        "bin_end": 11108.381803942384,
                        "count": 0
                      },
                      {
                        "bin_start": 11108.381803942384,
                        "bin_end": 13329.705443153907,
                        "count": 0
                      },
                      {
                        "bin_start": 13329.705443153907,
                        "bin_end": 15551.02908236543,
                        "count": 0
                      },
                      {
                        "bin_start": 15551.02908236543,
                        "bin_end": 17772.352721576954,
                        "count": 0
                      },
                      {
                        "bin_start": 17772.352721576954,
                        "bin_end": 19993.67636078848,
                        "count": 0
                      },
                      {
                        "bin_start": 19993.67636078848,
                        "bin_end": 22215,
                        "count": 1
                      }
                    ]
                  }
                },
                {
                  "name": "GSM92271.CEL.gz",
                  "dtype": "float64",
                  "stats": {
                    "unique_count": 8,
                    "nan_count": 0,
                    "min": "1.7409317738204904",
                    "max": "22215.0",
                    "histogram": [
                      {
                        "bin_start": 1.7409317738204904,
                        "bin_end": 2223.0668385964386,
                        "count": 7
                      },
                      {
                        "bin_start": 2223.0668385964386,
                        "bin_end": 4444.392745419056,
                        "count": 0
                      },
                      {
                        "bin_start": 4444.392745419056,
                        "bin_end": 6665.718652241674,
                        "count": 0
                      },
                      {
                        "bin_start": 6665.718652241674,
                        "bin_end": 8887.044559064292,
                        "count": 0
                      },
                      {
                        "bin_start": 8887.044559064292,
                        "bin_end": 11108.37046588691,
                        "count": 0
                      },
                      {
                        "bin_start": 11108.37046588691,
                        "bin_end": 13329.696372709528,
                        "count": 0
                      },
                      {
                        "bin_start": 13329.696372709528,
                        "bin_end": 15551.022279532146,
                        "count": 0
                      },
                      {
                        "bin_start": 15551.022279532146,
                        "bin_end": 17772.348186354764,
                        "count": 0
                      },
                      {
                        "bin_start": 17772.348186354764,
                        "bin_end": 19993.674093177382,
                        "count": 0
                      },
                      {
                        "bin_start": 19993.674093177382,
                        "bin_end": 22215,
                        "count": 1
                      }
                    ]
                  }
                },
                {
                  "name": "GSM92272.CEL.gz",
                  "dtype": "float64",
                  "stats": {
                    "unique_count": 8,
                    "nan_count": 0,
                    "min": "1.7715938075156095",
                    "max": "22215.0",
                    "histogram": [
                      {
                        "bin_start": 1.7715938075156095,
                        "bin_end": 2223.094434426764,
                        "count": 7
                      },
                      {
                        "bin_start": 2223.094434426764,
                        "bin_end": 4444.417275046012,
                        "count": 0
                      },
                      {
                        "bin_start": 4444.417275046012,
                        "bin_end": 6665.74011566526,
                        "count": 0
                      },
                      {
                        "bin_start": 6665.74011566526,
                        "bin_end": 8887.06295628451,
                        "count": 0
                      },
                      {
                        "bin_start": 8887.06295628451,
                        "bin_end": 11108.385796903758,
                        "count": 0
                      },
                      {
                        "bin_start": 11108.385796903758,
                        "bin_end": 13329.708637523006,
                        "count": 0
                      },
                      {
                        "bin_start": 13329.708637523006,
                        "bin_end": 15551.031478142255,
                        "count": 0
                      },
                      {
                        "bin_start": 15551.031478142255,
                        "bin_end": 17772.354318761503,
                        "count": 0
                      },
                      {
                        "bin_start": 17772.354318761503,
                        "bin_end": 19993.677159380753,
                        "count": 0
                      },
                      {
                        "bin_start": 19993.677159380753,
                        "bin_end": 22215,
                        "count": 1
                      }
                    ]
                  }
                },
                {
                  "name": "GSM92273.CEL.gz",
                  "dtype": "float64",
                  "stats": {
                    "unique_count": 8,
                    "nan_count": 0,
                    "min": "1.7487036660570137",
                    "max": "22215.0",
                    "histogram": [
                      {
                        "bin_start": 1.7487036660570137,
                        "bin_end": 2223.073833299451,
                        "count": 7
                      },
                      {
                        "bin_start": 2223.073833299451,
                        "bin_end": 4444.398962932845,
                        "count": 0
                      },
                      {
                        "bin_start": 4444.398962932845,
                        "bin_end": 6665.724092566239,
                        "count": 0
                      },
                      {
                        "bin_start": 6665.724092566239,
                        "bin_end": 8887.049222199634,
                        "count": 0
                      },
                      {
                        "bin_start": 8887.049222199634,
                        "bin_end": 11108.374351833028,
                        "count": 0
                      },
                      {
                        "bin_start": 11108.374351833028,
                        "bin_end": 13329.699481466421,
                        "count": 0
                      },
                      {
                        "bin_start": 13329.699481466421,
                        "bin_end": 15551.024611099816,
                        "count": 0
                      },
                      {
                        "bin_start": 15551.024611099816,
                        "bin_end": 17772.34974073321,
                        "count": 0
                      },
                      {
                        "bin_start": 17772.34974073321,
                        "bin_end": 19993.674870366605,
                        "count": 0
                      },
                      {
                        "bin_start": 19993.674870366605,
                        "bin_end": 22215,
                        "count": 1
                      }
                    ]
                  }
                },
                {
                  "name": "GSM92274.CEL.gz",
                  "dtype": "float64",
                  "stats": {
                    "unique_count": 8,
                    "nan_count": 0,
                    "min": "1.718828690379298",
                    "max": "22215.0",
                    "histogram": [
                      {
                        "bin_start": 1.718828690379298,
                        "bin_end": 2223.046945821341,
                        "count": 7
                      },
                      {
                        "bin_start": 2223.046945821341,
                        "bin_end": 4444.375062952303,
                        "count": 0
                      },
                      {
                        "bin_start": 4444.375062952303,
                        "bin_end": 6665.703180083265,
                        "count": 0
                      },
                      {
                        "bin_start": 6665.703180083265,
                        "bin_end": 8887.031297214227,
                        "count": 0
                      },
                      {
                        "bin_start": 8887.031297214227,
                        "bin_end": 11108.359414345188,
                        "count": 0
                      },
                      {
                        "bin_start": 11108.359414345188,
                        "bin_end": 13329.687531476151,
                        "count": 0
                      },
                      {
                        "bin_start": 13329.687531476151,
                        "bin_end": 15551.015648607114,
                        "count": 0
                      },
                      {
                        "bin_start": 15551.015648607114,
                        "bin_end": 17772.343765738075,
                        "count": 0
                      },
                      {
                        "bin_start": 17772.343765738075,
                        "bin_end": 19993.671882869035,
                        "count": 0
                      },
                      {
                        "bin_start": 19993.671882869035,
                        "bin_end": 22215,
                        "count": 1
                      }
                    ]
                  }
                },
                {
                  "name": "GSM92275.CEL.gz",
                  "dtype": "float64",
                  "stats": {
                    "unique_count": 8,
                    "nan_count": 0,
                    "min": "1.7324561965759628",
                    "max": "22215.0",
                    "histogram": [
                      {
                        "bin_start": 1.7324561965759628,
                        "bin_end": 2223.0592105769183,
                        "count": 7
                      },
                      {
                        "bin_start": 2223.0592105769183,
                        "bin_end": 4444.3859649572605,
                        "count": 0
                      },
                      {
                        "bin_start": 4444.3859649572605,
                        "bin_end": 6665.712719337603,
                        "count": 0
                      },
                      {
                        "bin_start": 6665.712719337603,
                        "bin_end": 8887.039473717945,
                        "count": 0
                      },
                      {
                        "bin_start": 8887.039473717945,
                        "bin_end": 11108.366228098286,
                        "count": 0
                      },
                      {
                        "bin_start": 11108.366228098286,
                        "bin_end": 13329.69298247863,
                        "count": 0
                      },
                      {
                        "bin_start": 13329.69298247863,
                        "bin_end": 15551.019736858972,
                        "count": 0
                      },
                      {
                        "bin_start": 15551.019736858972,
                        "bin_end": 17772.346491239314,
                        "count": 0
                      },
                      {
                        "bin_start": 17772.346491239314,
                        "bin_end": 19993.673245619655,
                        "count": 0
                      },
                      {
                        "bin_start": 19993.673245619655,
                        "bin_end": 22215,
                        "count": 1
                      }
                    ]
                  }
                },
                {
                  "name": "GSM92276.CEL.gz",
                  "dtype": "float64",
                  "stats": {
                    "unique_count": 8,
                    "nan_count": 0,
                    "min": "1.7417451908812265",
                    "max": "22215.0",
                    "histogram": [
                      {
                        "bin_start": 1.7417451908812265,
                        "bin_end": 2223.0675706717934,
                        "count": 7
                      },
                      {
                        "bin_start": 2223.0675706717934,
                        "bin_end": 4444.3933961527055,
                        "count": 0
                      },
                      {
                        "bin_start": 4444.3933961527055,
                        "bin_end": 6665.719221633618,
                        "count": 0
                      },
                      {
                        "bin_start": 6665.719221633618,
                        "bin_end": 8887.045047114529,
                        "count": 0
                      },
                      {
                        "bin_start": 8887.045047114529,
                        "bin_end": 11108.37087259544,
                        "count": 0
                      },
                      {
                        "bin_start": 11108.37087259544,
                        "bin_end": 13329.696698076354,
                        "count": 0
                      },
                      {
                        "bin_start": 13329.696698076354,
                        "bin_end": 15551.022523557265,
                        "count": 0
                      },
                      {
                        "bin_start": 15551.022523557265,
                        "bin_end": 17772.348349038177,
                        "count": 0
                      },
                      {
                        "bin_start": 17772.348349038177,
                        "bin_end": 19993.67417451909,
                        "count": 0
                      },
                      {
                        "bin_start": 19993.67417451909,
                        "bin_end": 22215,
                        "count": 1
                      }
                    ]
                  }
                },
                {
                  "name": "GSM35979.cel.gz",
                  "dtype": "float64",
                  "stats": {
                    "unique_count": 8,
                    "nan_count": 0,
                    "min": "1.7476591259179015",
                    "max": "22215.0",
                    "histogram": [
                      {
                        "bin_start": 1.7476591259179015,
                        "bin_end": 2223.072893213326,
                        "count": 7
                      },
                      {
                        "bin_start": 2223.072893213326,
                        "bin_end": 4444.398127300735,
                        "count": 0
                      },
                      {
                        "bin_start": 4444.398127300735,
                        "bin_end": 6665.7233613881435,
                        "count": 0
                      },
                      {
                        "bin_start": 6665.7233613881435,
                        "bin_end": 8887.048595475551,
                        "count": 0
                      },
                      {
                        "bin_start": 8887.048595475551,
                        "bin_end": 11108.37382956296,
                        "count": 0
                      },
                      {
                        "bin_start": 11108.37382956296,
                        "bin_end": 13329.699063650369,
                        "count": 0
                      },
                      {
                        "bin_start": 13329.699063650369,
                        "bin_end": 15551.024297737777,
                        "count": 0
                      },
                      {
                        "bin_start": 15551.024297737777,
                        "bin_end": 17772.349531825184,
                        "count": 0
                      },
                      {
                        "bin_start": 17772.349531825184,
                        "bin_end": 19993.674765912594,
                        "count": 0
                      },
                      {
                        "bin_start": 19993.674765912594,
                        "bin_end": 22215,
                        "count": 1
                      }
                    ]
                  }
                },
                {
                  "name": "GSM35980.cel.gz",
                  "dtype": "float64",
                  "stats": {
                    "unique_count": 8,
                    "nan_count": 0,
                    "min": "1.743200682995146",
                    "max": "22215.0",
                    "histogram": [
                      {
                        "bin_start": 1.743200682995146,
                        "bin_end": 2223.0688806146954,
                        "count": 7
                      },
                      {
                        "bin_start": 2223.0688806146954,
                        "bin_end": 4444.394560546396,
                        "count": 0
                      },
                      {
                        "bin_start": 4444.394560546396,
                        "bin_end": 6665.7202404780965,
                        "count": 0
                      },
                      {
                        "bin_start": 6665.7202404780965,
                        "bin_end": 8887.045920409797,
                        "count": 0
                      },
                      {
                        "bin_start": 8887.045920409797,
                        "bin_end": 11108.371600341497,
                        "count": 0
                      },
                      {
                        "bin_start": 11108.371600341497,
                        "bin_end": 13329.697280273198,
                        "count": 0
                      },
                      {
                        "bin_start": 13329.697280273198,
                        "bin_end": 15551.022960204898,
                        "count": 0
                      },
                      {
                        "bin_start": 15551.022960204898,
                        "bin_end": 17772.3486401366,
                        "count": 0
                      },
                      {
                        "bin_start": 17772.3486401366,
                        "bin_end": 19993.6743200683,
                        "count": 0
                      },
                      {
                        "bin_start": 19993.6743200683,
                        "bin_end": 22215,
                        "count": 1
                      }
                    ]
                  }
                },
                {
                  "name": "GSM35981.cel.gz",
                  "dtype": "float64",
                  "stats": {
                    "unique_count": 8,
                    "nan_count": 0,
                    "min": "1.680826568625164",
                    "max": "22215.0",
                    "histogram": [
                      {
                        "bin_start": 1.680826568625164,
                        "bin_end": 2223.0127439117623,
                        "count": 7
                      },
                      {
                        "bin_start": 2223.0127439117623,
                        "bin_end": 4444.3446612549,
                        "count": 0
                      },
                      {
                        "bin_start": 4444.3446612549,
                        "bin_end": 6665.676578598037,
                        "count": 0
                      },
                      {
                        "bin_start": 6665.676578598037,
                        "bin_end": 8887.008495941174,
                        "count": 0
                      },
                      {
                        "bin_start": 8887.008495941174,
                        "bin_end": 11108.340413284312,
                        "count": 0
                      },
                      {
                        "bin_start": 11108.340413284312,
                        "bin_end": 13329.672330627449,
                        "count": 0
                      },
                      {
                        "bin_start": 13329.672330627449,
                        "bin_end": 15551.004247970586,
                        "count": 0
                      },
                      {
                        "bin_start": 15551.004247970586,
                        "bin_end": 17772.336165313725,
                        "count": 0
                      },
                      {
                        "bin_start": 17772.336165313725,
                        "bin_end": 19993.668082656863,
                        "count": 0
                      },
                      {
                        "bin_start": 19993.668082656863,
                        "bin_end": 22215,
                        "count": 1
                      }
                    ]
                  }
                },
                {
                  "name": "GSM35982.cel.gz",
                  "dtype": "float64",
                  "stats": {
                    "unique_count": 8,
                    "nan_count": 0,
                    "min": "1.7003816536348342",
                    "max": "22215.0",
                    "histogram": [
                      {
                        "bin_start": 1.7003816536348342,
                        "bin_end": 2223.0303434882712,
                        "count": 7
                      },
                      {
                        "bin_start": 2223.0303434882712,
                        "bin_end": 4444.360305322907,
                        "count": 0
                      },
                      {
                        "bin_start": 4444.360305322907,
                        "bin_end": 6665.6902671575435,
                        "count": 0
                      },
                      {
                        "bin_start": 6665.6902671575435,
                        "bin_end": 8887.02022899218,
                        "count": 0
                      },
                      {
                        "bin_start": 8887.02022899218,
                        "bin_end": 11108.350190826815,
                        "count": 0
                      },
                      {
                        "bin_start": 11108.350190826815,
                        "bin_end": 13329.680152661453,
                        "count": 0
                      },
                      {
                        "bin_start": 13329.680152661453,
                        "bin_end": 15551.01011449609,
                        "count": 0
                      },
                      {
                        "bin_start": 15551.01011449609,
                        "bin_end": 17772.340076330725,
                        "count": 0
                      },
                      {
                        "bin_start": 17772.340076330725,
                        "bin_end": 19993.67003816536,
                        "count": 0
                      },
                      {
                        "bin_start": 19993.67003816536,
                        "bin_end": 22215,
                        "count": 1
                      }
                    ]
                  }
                },
                {
                  "name": "GSM35983.cel.gz",
                  "dtype": "float64",
                  "stats": {
                    "unique_count": 8,
                    "nan_count": 0,
                    "min": "1.6953614908099472",
                    "max": "22215.0",
                    "histogram": [
                      {
                        "bin_start": 1.6953614908099472,
                        "bin_end": 2223.0258253417287,
                        "count": 7
                      },
                      {
                        "bin_start": 2223.0258253417287,
                        "bin_end": 4444.356289192648,
                        "count": 0
                      },
                      {
                        "bin_start": 4444.356289192648,
                        "bin_end": 6665.686753043567,
                        "count": 0
                      },
                      {
                        "bin_start": 6665.686753043567,
                        "bin_end": 8887.017216894486,
                        "count": 0
                      },
                      {
                        "bin_start": 8887.017216894486,
                        "bin_end": 11108.347680745404,
                        "count": 0
                      },
                      {
                        "bin_start": 11108.347680745404,
                        "bin_end": 13329.678144596324,
                        "count": 0
                      },
                      {
                        "bin_start": 13329.678144596324,
                        "bin_end": 15551.008608447244,
                        "count": 0
                      },
                      {
                        "bin_start": 15551.008608447244,
                        "bin_end": 17772.33907229816,
                        "count": 0
                      },
                      {
                        "bin_start": 17772.33907229816,
                        "bin_end": 19993.66953614908,
                        "count": 0
                      },
                      {
                        "bin_start": 19993.66953614908,
                        "bin_end": 22215,
                        "count": 1
                      }
                    ]
                  }
                },
                {
                  "name": "GSM35984.cel.gz",
                  "dtype": "float64",
                  "stats": {
                    "unique_count": 8,
                    "nan_count": 0,
                    "min": "1.6987417309332038",
                    "max": "22215.0",
                    "histogram": [
                      {
                        "bin_start": 1.6987417309332038,
                        "bin_end": 2223.02886755784,
                        "count": 7
                      },
                      {
                        "bin_start": 2223.02886755784,
                        "bin_end": 4444.358993384746,
                        "count": 0
                      },
                      {
                        "bin_start": 4444.358993384746,
                        "bin_end": 6665.689119211653,
                        "count": 0
                      },
                      {
                        "bin_start": 6665.689119211653,
                        "bin_end": 8887.01924503856,
                        "count": 0
                      },
                      {
                        "bin_start": 8887.01924503856,
                        "bin_end": 11108.349370865466,
                        "count": 0
                      },
                      {
                        "bin_start": 11108.349370865466,
                        "bin_end": 13329.679496692374,
                        "count": 0
                      },
                      {
                        "bin_start": 13329.679496692374,
                        "bin_end": 15551.009622519281,
                        "count": 0
                      },
                      {
                        "bin_start": 15551.009622519281,
                        "bin_end": 17772.339748346185,
                        "count": 0
                      },
                      {
                        "bin_start": 17772.339748346185,
                        "bin_end": 19993.66987417309,
                        "count": 0
                      },
                      {
                        "bin_start": 19993.66987417309,
                        "bin_end": 22215,
                        "count": 1
                      }
                    ]
                  }
                },
                {
                  "name": "GSM35991.cel.gz",
                  "dtype": "float64",
                  "stats": {
                    "unique_count": 8,
                    "nan_count": 0,
                    "min": "1.7913216567651475",
                    "max": "22215.0",
                    "histogram": [
                      {
                        "bin_start": 1.7913216567651475,
                        "bin_end": 2223.1121894910884,
                        "count": 7
                      },
                      {
                        "bin_start": 2223.1121894910884,
                        "bin_end": 4444.433057325412,
                        "count": 0
                      },
                      {
                        "bin_start": 4444.433057325412,
                        "bin_end": 6665.753925159735,
                        "count": 0
                      },
                      {
                        "bin_start": 6665.753925159735,
                        "bin_end": 8887.074792994059,
                        "count": 0
                      },
                      {
                        "bin_start": 8887.074792994059,
                        "bin_end": 11108.395660828382,
                        "count": 0
                      },
                      {
                        "bin_start": 11108.395660828382,
                        "bin_end": 13329.716528662706,
                        "count": 0
                      },
                      {
                        "bin_start": 13329.716528662706,
                        "bin_end": 15551.03739649703,
                        "count": 0
                      },
                      {
                        "bin_start": 15551.03739649703,
                        "bin_end": 17772.358264331353,
                        "count": 0
                      },
                      {
                        "bin_start": 17772.358264331353,
                        "bin_end": 19993.679132165675,
                        "count": 0
                      },
                      {
                        "bin_start": 19993.679132165675,
                        "bin_end": 22215,
                        "count": 1
                      }
                    ]
                  }
                },
                {
                  "name": "GSM35992.cel.gz",
                  "dtype": "float64",
                  "stats": {
                    "unique_count": 8,
                    "nan_count": 0,
                    "min": "1.7735789378964426",
                    "max": "22215.0",
                    "histogram": [
                      {
                        "bin_start": 1.7735789378964426,
                        "bin_end": 2223.0962210441066,
                        "count": 7
                      },
                      {
                        "bin_start": 2223.0962210441066,
                        "bin_end": 4444.4188631503175,
                        "count": 0
                      },
                      {
                        "bin_start": 4444.4188631503175,
                        "bin_end": 6665.741505256528,
                        "count": 0
                      },
                      {
                        "bin_start": 6665.741505256528,
                        "bin_end": 8887.064147362738,
                        "count": 0
                      },
                      {
                        "bin_start": 8887.064147362738,
                        "bin_end": 11108.386789468948,
                        "count": 0
                      },
                      {
                        "bin_start": 11108.386789468948,
                        "bin_end": 13329.70943157516,
                        "count": 0
                      },
                      {
                        "bin_start": 13329.70943157516,
                        "bin_end": 15551.03207368137,
                        "count": 0
                      },
                      {
                        "bin_start": 15551.03207368137,
                        "bin_end": 17772.35471578758,
                        "count": 0
                      },
                      {
                        "bin_start": 17772.35471578758,
                        "bin_end": 19993.67735789379,
                        "count": 0
                      },
                      {
                        "bin_start": 19993.67735789379,
                        "bin_end": 22215,
                        "count": 1
                      }
                    ]
                  }
                },
                {
                  "name": "GSM35993.cel.gz",
                  "dtype": "float64",
                  "stats": {
                    "unique_count": 8,
                    "nan_count": 0,
                    "min": "1.7954941257497412",
                    "max": "22215.0",
                    "histogram": [
                      {
                        "bin_start": 1.7954941257497412,
                        "bin_end": 2223.115944713175,
                        "count": 7
                      },
                      {
                        "bin_start": 2223.115944713175,
                        "bin_end": 4444.4363953005995,
                        "count": 0
                      },
                      {
                        "bin_start": 4444.4363953005995,
                        "bin_end": 6665.756845888024,
                        "count": 0
                      },
                      {
                        "bin_start": 6665.756845888024,
                        "bin_end": 8887.07729647545,
                        "count": 0
                      },
                      {
                        "bin_start": 8887.07729647545,
                        "bin_end": 11108.397747062876,
                        "count": 0
                      },
                      {
                        "bin_start": 11108.397747062876,
                        "bin_end": 13329.7181976503,
                        "count": 0
                      },
                      {
                        "bin_start": 13329.7181976503,
                        "bin_end": 15551.038648237725,
                        "count": 0
                      },
                      {
                        "bin_start": 15551.038648237725,
                        "bin_end": 17772.35909882515,
                        "count": 0
                      },
                      {
                        "bin_start": 17772.35909882515,
                        "bin_end": 19993.679549412573,
                        "count": 0
                      },
                      {
                        "bin_start": 19993.679549412573,
                        "bin_end": 22215,
                        "count": 1
                      }
                    ]
                  }
                },
                {
                  "name": "GSM35994.cel.gz",
                  "dtype": "float64",
                  "stats": {
                    "unique_count": 8,
                    "nan_count": 0,
                    "min": "1.786594226575349",
                    "max": "22215.0",
                    "histogram": [
                      {
                        "bin_start": 1.786594226575349,
                        "bin_end": 2223.107934803918,
                        "count": 7
                      },
                      {
                        "bin_start": 2223.107934803918,
                        "bin_end": 4444.429275381261,
                        "count": 0
                      },
                      {
                        "bin_start": 4444.429275381261,
                        "bin_end": 6665.750615958604,
                        "count": 0
                      },
                      {
                        "bin_start": 6665.750615958604,
                        "bin_end": 8887.071956535947,
                        "count": 0
                      },
                      {
                        "bin_start": 8887.071956535947,
                        "bin_end": 11108.393297113289,
                        "count": 0
                      },
                      {
                        "bin_start": 11108.393297113289,
                        "bin_end": 13329.714637690633,
                        "count": 0
                      },
                      {
                        "bin_start": 13329.714637690633,
                        "bin_end": 15551.035978267975,
                        "count": 0
                      },
                      {
                        "bin_start": 15551.035978267975,
                        "bin_end": 17772.357318845316,
                        "count": 0
                      },
                      {
                        "bin_start": 17772.357318845316,
                        "bin_end": 19993.678659422658,
                        "count": 0
                      },
                      {
                        "bin_start": 19993.678659422658,
                        "bin_end": 22215,
                        "count": 1
                      }
                    ]
                  }
                },
                {
                  "name": "GSM35995.cel.gz",
                  "dtype": "float64",
                  "stats": {
                    "unique_count": 8,
                    "nan_count": 0,
                    "min": "1.7542331842088943",
                    "max": "22215.0",
                    "histogram": [
                      {
                        "bin_start": 1.7542331842088943,
                        "bin_end": 2223.0788098657877,
                        "count": 7
                      },
                      {
                        "bin_start": 2223.0788098657877,
                        "bin_end": 4444.403386547367,
                        "count": 0
                      },
                      {
                        "bin_start": 4444.403386547367,
                        "bin_end": 6665.727963228946,
                        "count": 0
                      },
                      {
                        "bin_start": 6665.727963228946,
                        "bin_end": 8887.052539910525,
                        "count": 0
                      },
                      {
                        "bin_start": 8887.052539910525,
                        "bin_end": 11108.377116592103,
                        "count": 0
                      },
                      {
                        "bin_start": 11108.377116592103,
                        "bin_end": 13329.701693273682,
                        "count": 0
                      },
                      {
                        "bin_start": 13329.701693273682,
                        "bin_end": 15551.026269955262,
                        "count": 0
                      },
                      {
                        "bin_start": 15551.026269955262,
                        "bin_end": 17772.35084663684,
                        "count": 0
                      },
                      {
                        "bin_start": 17772.35084663684,
                        "bin_end": 19993.67542331842,
                        "count": 0
                      },
                      {
                        "bin_start": 19993.67542331842,
                        "bin_end": 22215,
                        "count": 1
                      }
                    ]
                  }
                },
                {
                  "name": "GSM35996.cel.gz",
                  "dtype": "float64",
                  "stats": {
                    "unique_count": 8,
                    "nan_count": 0,
                    "min": "1.7960900224342617",
                    "max": "22215.0",
                    "histogram": [
                      {
                        "bin_start": 1.7960900224342617,
                        "bin_end": 2223.116481020191,
                        "count": 7
                      },
                      {
                        "bin_start": 2223.116481020191,
                        "bin_end": 4444.436872017947,
                        "count": 0
                      },
                      {
                        "bin_start": 4444.436872017947,
                        "bin_end": 6665.757263015704,
                        "count": 0
                      },
                      {
                        "bin_start": 6665.757263015704,
                        "bin_end": 8887.07765401346,
                        "count": 0
                      },
                      {
                        "bin_start": 8887.07765401346,
                        "bin_end": 11108.398045011216,
                        "count": 0
                      },
                      {
                        "bin_start": 11108.398045011216,
                        "bin_end": 13329.718436008972,
                        "count": 0
                      },
                      {
                        "bin_start": 13329.718436008972,
                        "bin_end": 15551.038827006729,
                        "count": 0
                      },
                      {
                        "bin_start": 15551.038827006729,
                        "bin_end": 17772.359218004487,
                        "count": 0
                      },
                      {
                        "bin_start": 17772.359218004487,
                        "bin_end": 19993.679609002244,
                        "count": 0
                      },
                      {
                        "bin_start": 19993.679609002244,
                        "bin_end": 22215,
                        "count": 1
                      }
                    ]
                  }
                },
                {
                  "name": "GSM36003.cel.gz",
                  "dtype": "float64",
                  "stats": {
                    "unique_count": 8,
                    "nan_count": 0,
                    "min": "1.7296489662757877",
                    "max": "22215.0",
                    "histogram": [
                      {
                        "bin_start": 1.7296489662757877,
                        "bin_end": 2223.0566840696483,
                        "count": 7
                      },
                      {
                        "bin_start": 2223.0566840696483,
                        "bin_end": 4444.383719173021,
                        "count": 0
                      },
                      {
                        "bin_start": 4444.383719173021,
                        "bin_end": 6665.710754276393,
                        "count": 0
                      },
                      {
                        "bin_start": 6665.710754276393,
                        "bin_end": 8887.037789379765,
                        "count": 0
                      },
                      {
                        "bin_start": 8887.037789379765,
                        "bin_end": 11108.364824483137,
                        "count": 0
                      },
                      {
                        "bin_start": 11108.364824483137,
                        "bin_end": 13329.69185958651,
                        "count": 0
                      },
                      {
                        "bin_start": 13329.69185958651,
                        "bin_end": 15551.018894689883,
                        "count": 0
                      },
                      {
                        "bin_start": 15551.018894689883,
                        "bin_end": 17772.345929793257,
                        "count": 0
                      },
                      {
                        "bin_start": 17772.345929793257,
                        "bin_end": 19993.67296489663,
                        "count": 0
                      },
                      {
                        "bin_start": 19993.67296489663,
                        "bin_end": 22215,
                        "count": 1
                      }
                    ]
                  }
                },
                {
                  "name": "GSM44675.CEL.gz",
                  "dtype": "float64",
                  "stats": {
                    "unique_count": 8,
                    "nan_count": 0,
                    "min": "1.7235332269806038",
                    "max": "22215.0",
                    "histogram": [
                      {
                        "bin_start": 1.7235332269806038,
                        "bin_end": 2223.0511799042824,
                        "count": 7
                      },
                      {
                        "bin_start": 2223.0511799042824,
                        "bin_end": 4444.378826581584,
                        "count": 0
                      },
                      {
                        "bin_start": 4444.378826581584,
                        "bin_end": 6665.706473258885,
                        "count": 0
                      },
                      {
                        "bin_start": 6665.706473258885,
                        "bin_end": 8887.034119936188,
                        "count": 0
                      },
                      {
                        "bin_start": 8887.034119936188,
                        "bin_end": 11108.36176661349,
                        "count": 0
                      },
                      {
                        "bin_start": 11108.36176661349,
                        "bin_end": 13329.689413290791,
                        "count": 0
                      },
                      {
                        "bin_start": 13329.689413290791,
                        "bin_end": 15551.017059968093,
                        "count": 0
                      },
                      {
                        "bin_start": 15551.017059968093,
                        "bin_end": 17772.344706645395,
                        "count": 0
                      },
                      {
                        "bin_start": 17772.344706645395,
                        "bin_end": 19993.672353322698,
                        "count": 0
                      },
                      {
                        "bin_start": 19993.672353322698,
                        "bin_end": 22215,
                        "count": 1
                      }
                    ]
                  }
                },
                {
                  "name": "GSM44689.CEL.gz",
                  "dtype": "float64",
                  "stats": {
                    "unique_count": 8,
                    "nan_count": 0,
                    "min": "1.7574204928430606",
                    "max": "22215.0",
                    "histogram": [
                      {
                        "bin_start": 1.7574204928430606,
                        "bin_end": 2223.081678443559,
                        "count": 7
                      },
                      {
                        "bin_start": 2223.081678443559,
                        "bin_end": 4444.405936394275,
                        "count": 0
                      },
                      {
                        "bin_start": 4444.405936394275,
                        "bin_end": 6665.730194344991,
                        "count": 0
                      },
                      {
                        "bin_start": 6665.730194344991,
                        "bin_end": 8887.054452295706,
                        "count": 0
                      },
                      {
                        "bin_start": 8887.054452295706,
                        "bin_end": 11108.378710246423,
                        "count": 0
                      },
                      {
                        "bin_start": 11108.378710246423,
                        "bin_end": 13329.702968197138,
                        "count": 0
                      },
                      {
                        "bin_start": 13329.702968197138,
                        "bin_end": 15551.027226147853,
                        "count": 0
                      },
                      {
                        "bin_start": 15551.027226147853,
                        "bin_end": 17772.35148409857,
                        "count": 0
                      },
                      {
                        "bin_start": 17772.35148409857,
                        "bin_end": 19993.675742049287,
                        "count": 0
                      },
                      {
                        "bin_start": 19993.675742049287,
                        "bin_end": 22215,
                        "count": 1
                      }
                    ]
                  }
                },
                {
                  "name": "GSM44697.CEL.gz",
                  "dtype": "float64",
                  "stats": {
                    "unique_count": 8,
                    "nan_count": 0,
                    "min": "1.7438436503581203",
                    "max": "22215.0",
                    "histogram": [
                      {
                        "bin_start": 1.7438436503581203,
                        "bin_end": 2223.0694592853224,
                        "count": 7
                      },
                      {
                        "bin_start": 2223.0694592853224,
                        "bin_end": 4444.395074920287,
                        "count": 0
                      },
                      {
                        "bin_start": 4444.395074920287,
                        "bin_end": 6665.720690555251,
                        "count": 0
                      },
                      {
                        "bin_start": 6665.720690555251,
                        "bin_end": 8887.046306190216,
                        "count": 0
                      },
                      {
                        "bin_start": 8887.046306190216,
                        "bin_end": 11108.371921825179,
                        "count": 0
                      },
                      {
                        "bin_start": 11108.371921825179,
                        "bin_end": 13329.697537460144,
                        "count": 0
                      },
                      {
                        "bin_start": 13329.697537460144,
                        "bin_end": 15551.02315309511,
                        "count": 0
                      },
                      {
                        "bin_start": 15551.02315309511,
                        "bin_end": 17772.348768730073,
                        "count": 0
                      },
                      {
                        "bin_start": 17772.348768730073,
                        "bin_end": 19993.674384365037,
                        "count": 0
                      },
                      {
                        "bin_start": 19993.674384365037,
                        "bin_end": 22215,
                        "count": 1
                      }
                    ]
                  }
                },
                {
                  "name": "GSM44702.CEL.gz",
                  "dtype": "float64",
                  "stats": {
                    "unique_count": 8,
                    "nan_count": 0,
                    "min": "1.7107656632169044",
                    "max": "22215.0",
                    "histogram": [
                      {
                        "bin_start": 1.7107656632169044,
                        "bin_end": 2223.039689096895,
                        "count": 7
                      },
                      {
                        "bin_start": 2223.039689096895,
                        "bin_end": 4444.368612530573,
                        "count": 0
                      },
                      {
                        "bin_start": 4444.368612530573,
                        "bin_end": 6665.697535964251,
                        "count": 0
                      },
                      {
                        "bin_start": 6665.697535964251,
                        "bin_end": 8887.026459397928,
                        "count": 0
                      },
                      {
                        "bin_start": 8887.026459397928,
                        "bin_end": 11108.355382831605,
                        "count": 0
                      },
                      {
                        "bin_start": 11108.355382831605,
                        "bin_end": 13329.684306265284,
                        "count": 0
                      },
                      {
                        "bin_start": 13329.684306265284,
                        "bin_end": 15551.013229698963,
                        "count": 0
                      },
                      {
                        "bin_start": 15551.013229698963,
                        "bin_end": 17772.342153132642,
                        "count": 0
                      },
                      {
                        "bin_start": 17772.342153132642,
                        "bin_end": 19993.67107656632,
                        "count": 0
                      },
                      {
                        "bin_start": 19993.67107656632,
                        "bin_end": 22215,
                        "count": 1
                      }
                    ]
                  }
                },
                {
                  "name": "GSM181429.CEL.gz",
                  "dtype": "float64",
                  "stats": {
                    "unique_count": 8,
                    "nan_count": 0,
                    "min": "1.8547755521284714",
                    "max": "22215.0",
                    "histogram": [
                      {
                        "bin_start": 1.8547755521284714,
                        "bin_end": 2223.1692979969157,
                        "count": 7
                      },
                      {
                        "bin_start": 2223.1692979969157,
                        "bin_end": 4444.483820441703,
                        "count": 0
                      },
                      {
                        "bin_start": 4444.483820441703,
                        "bin_end": 6665.79834288649,
                        "count": 0
                      },
                      {
                        "bin_start": 6665.79834288649,
                        "bin_end": 8887.112865331277,
                        "count": 0
                      },
                      {
                        "bin_start": 8887.112865331277,
                        "bin_end": 11108.427387776064,
                        "count": 0
                      },
                      {
                        "bin_start": 11108.427387776064,
                        "bin_end": 13329.741910220851,
                        "count": 0
                      },
                      {
                        "bin_start": 13329.741910220851,
                        "bin_end": 15551.056432665639,
                        "count": 0
                      },
                      {
                        "bin_start": 15551.056432665639,
                        "bin_end": 17772.370955110426,
                        "count": 0
                      },
                      {
                        "bin_start": 17772.370955110426,
                        "bin_end": 19993.685477555213,
                        "count": 0
                      },
                      {
                        "bin_start": 19993.685477555213,
                        "bin_end": 22215,
                        "count": 1
                      }
                    ]
                  }
                },
                {
                  "name": "GSM181430.CEL.gz",
                  "dtype": "float64",
                  "stats": {
                    "unique_count": 8,
                    "nan_count": 0,
                    "min": "1.7857302234703283",
                    "max": "22215.0",
                    "histogram": [
                      {
                        "bin_start": 1.7857302234703283,
                        "bin_end": 2223.1071572011233,
                        "count": 7
                      },
                      {
                        "bin_start": 2223.1071572011233,
                        "bin_end": 4444.428584178777,
                        "count": 0
                      },
                      {
                        "bin_start": 4444.428584178777,
                        "bin_end": 6665.75001115643,
                        "count": 0
                      },
                      {
                        "bin_start": 6665.75001115643,
                        "bin_end": 8887.071438134082,
                        "count": 0
                      },
                      {
                        "bin_start": 8887.071438134082,
                        "bin_end": 11108.392865111735,
                        "count": 0
                      },
                      {
                        "bin_start": 11108.392865111735,
                        "bin_end": 13329.71429208939,
                        "count": 0
                      },
                      {
                        "bin_start": 13329.71429208939,
                        "bin_end": 15551.035719067042,
                        "count": 0
                      },
                      {
                        "bin_start": 15551.035719067042,
                        "bin_end": 17772.357146044695,
                        "count": 0
                      },
                      {
                        "bin_start": 17772.357146044695,
                        "bin_end": 19993.67857302235,
                        "count": 0
                      },
                      {
                        "bin_start": 19993.67857302235,
                        "bin_end": 22215,
                        "count": 1
                      }
                    ]
                  }
                },
                {
                  "name": "GSM181431.CEL.gz",
                  "dtype": "float64",
                  "stats": {
                    "unique_count": 8,
                    "nan_count": 0,
                    "min": "1.8324987970989792",
                    "max": "22215.0",
                    "histogram": [
                      {
                        "bin_start": 1.8324987970989792,
                        "bin_end": 2223.1492489173893,
                        "count": 7
                      },
                      {
                        "bin_start": 2223.1492489173893,
                        "bin_end": 4444.4659990376795,
                        "count": 0
                      },
                      {
                        "bin_start": 4444.4659990376795,
                        "bin_end": 6665.78274915797,
                        "count": 0
                      },
                      {
                        "bin_start": 6665.78274915797,
                        "bin_end": 8887.09949927826,
                        "count": 0
                      },
                      {
                        "bin_start": 8887.09949927826,
                        "bin_end": 11108.41624939855,
                        "count": 0
                      },
                      {
                        "bin_start": 11108.41624939855,
                        "bin_end": 13329.732999518841,
                        "count": 0
                      },
                      {
                        "bin_start": 13329.732999518841,
                        "bin_end": 15551.04974963913,
                        "count": 0
                      },
                      {
                        "bin_start": 15551.04974963913,
                        "bin_end": 17772.36649975942,
                        "count": 0
                      },
                      {
                        "bin_start": 17772.36649975942,
                        "bin_end": 19993.683249879712,
                        "count": 0
                      },
                      {
                        "bin_start": 19993.683249879712,
                        "bin_end": 22215,
                        "count": 1
                      }
                    ]
                  }
                },
                {
                  "name": "GSM181432.CEL.gz",
                  "dtype": "float64",
                  "stats": {
                    "unique_count": 8,
                    "nan_count": 0,
                    "min": "1.7254638517397791",
                    "max": "22215.0",
                    "histogram": [
                      {
                        "bin_start": 1.7254638517397791,
                        "bin_end": 2223.0529174665658,
                        "count": 7
                      },
                      {
                        "bin_start": 2223.0529174665658,
                        "bin_end": 4444.380371081392,
                        "count": 0
                      },
                      {
                        "bin_start": 4444.380371081392,
                        "bin_end": 6665.707824696218,
                        "count": 0
                      },
                      {
                        "bin_start": 6665.707824696218,
                        "bin_end": 8887.035278311045,
                        "count": 0
                      },
                      {
                        "bin_start": 8887.035278311045,
                        "bin_end": 11108.36273192587,
                        "count": 0
                      },
                      {
                        "bin_start": 11108.36273192587,
                        "bin_end": 13329.690185540698,
                        "count": 0
                      },
                      {
                        "bin_start": 13329.690185540698,
                        "bin_end": 15551.017639155523,
                        "count": 0
                      },
                      {
                        "bin_start": 15551.017639155523,
                        "bin_end": 17772.34509277035,
                        "count": 0
                      },
                      {
                        "bin_start": 17772.34509277035,
                        "bin_end": 19993.672546385176,
                        "count": 0
                      },
                      {
                        "bin_start": 19993.672546385176,
                        "bin_end": 22215,
                        "count": 1
                      }
                    ]
                  }
                },
                {
                  "name": "GSM181433.CEL.gz",
                  "dtype": "float64",
                  "stats": {
                    "unique_count": 8,
                    "nan_count": 0,
                    "min": "1.7828822626547522",
                    "max": "22215.0",
                    "histogram": [
                      {
                        "bin_start": 1.7828822626547522,
                        "bin_end": 2223.1045940363892,
                        "count": 7
                      },
                      {
                        "bin_start": 2223.1045940363892,
                        "bin_end": 4444.426305810123,
                        "count": 0
                      },
                      {
                        "bin_start": 4444.426305810123,
                        "bin_end": 6665.748017583857,
                        "count": 0
                      },
                      {
                        "bin_start": 6665.748017583857,
                        "bin_end": 8887.069729357592,
                        "count": 0
                      },
                      {
                        "bin_start": 8887.069729357592,
                        "bin_end": 11108.391441131327,
                        "count": 0
                      },
                      {
                        "bin_start": 11108.391441131327,
                        "bin_end": 13329.71315290506,
                        "count": 0
                      },
                      {
                        "bin_start": 13329.71315290506,
                        "bin_end": 15551.034864678795,
                        "count": 0
                      },
                      {
                        "bin_start": 15551.034864678795,
                        "bin_end": 17772.35657645253,
                        "count": 0
                      },
                      {
                        "bin_start": 17772.35657645253,
                        "bin_end": 19993.678288226263,
                        "count": 0
                      },
                      {
                        "bin_start": 19993.678288226263,
                        "bin_end": 22215,
                        "count": 1
                      }
                    ]
                  }
                },
                {
                  "name": "GSM18917.CEL.gz",
                  "dtype": "float64",
                  "stats": {
                    "unique_count": 8,
                    "nan_count": 0,
                    "min": "1.6191810398588955",
                    "max": "22215.0",
                    "histogram": [
                      {
                        "bin_start": 1.6191810398588955,
                        "bin_end": 2222.957262935873,
                        "count": 7
                      },
                      {
                        "bin_start": 2222.957262935873,
                        "bin_end": 4444.295344831887,
                        "count": 0
                      },
                      {
                        "bin_start": 4444.295344831887,
                        "bin_end": 6665.633426727901,
                        "count": 0
                      },
                      {
                        "bin_start": 6665.633426727901,
                        "bin_end": 8886.971508623916,
                        "count": 0
                      },
                      {
                        "bin_start": 8886.971508623916,
                        "bin_end": 11108.30959051993,
                        "count": 0
                      },
                      {
                        "bin_start": 11108.30959051993,
                        "bin_end": 13329.647672415944,
                        "count": 0
                      },
                      {
                        "bin_start": 13329.647672415944,
                        "bin_end": 15550.985754311958,
                        "count": 0
                      },
                      {
                        "bin_start": 15550.985754311958,
                        "bin_end": 17772.323836207972,
                        "count": 0
                      },
                      {
                        "bin_start": 17772.323836207972,
                        "bin_end": 19993.661918103986,
                        "count": 0
                      },
                      {
                        "bin_start": 19993.661918103986,
                        "bin_end": 22215,
                        "count": 1
                      }
                    ]
                  }
                },
                {
                  "name": "GSM18918.CEL.gz",
                  "dtype": "float64",
                  "stats": {
                    "unique_count": 8,
                    "nan_count": 0,
                    "min": "1.6134482877559957",
                    "max": "22215.0",
                    "histogram": [
                      {
                        "bin_start": 1.6134482877559957,
                        "bin_end": 2222.95210345898,
                        "count": 7
                      },
                      {
                        "bin_start": 2222.95210345898,
                        "bin_end": 4444.290758630204,
                        "count": 0
                      },
                      {
                        "bin_start": 4444.290758630204,
                        "bin_end": 6665.629413801428,
                        "count": 0
                      },
                      {
                        "bin_start": 6665.629413801428,
                        "bin_end": 8886.968068972652,
                        "count": 0
                      },
                      {
                        "bin_start": 8886.968068972652,
                        "bin_end": 11108.306724143877,
                        "count": 0
                      },
                      {
                        "bin_start": 11108.306724143877,
                        "bin_end": 13329.6453793151,
                        "count": 0
                      },
                      {
                        "bin_start": 13329.6453793151,
                        "bin_end": 15550.984034486324,
                        "count": 0
                      },
                      {
                        "bin_start": 15550.984034486324,
                        "bin_end": 17772.32268965755,
                        "count": 0
                      },
                      {
                        "bin_start": 17772.32268965755,
                        "bin_end": 19993.661344828775,
                        "count": 0
                      },
                      {
                        "bin_start": 19993.661344828775,
                        "bin_end": 22215,
                        "count": 1
                      }
                    ]
                  }
                },
                {
                  "name": "GSM18953.CEL.gz",
                  "dtype": "float64",
                  "stats": {
                    "unique_count": 8,
                    "nan_count": 0,
                    "min": "1.639115380044042",
                    "max": "22215.0",
                    "histogram": [
                      {
                        "bin_start": 1.639115380044042,
                        "bin_end": 2222.9752038420397,
                        "count": 7
                      },
                      {
                        "bin_start": 2222.9752038420397,
                        "bin_end": 4444.311292304035,
                        "count": 0
                      },
                      {
                        "bin_start": 4444.311292304035,
                        "bin_end": 6665.64738076603,
                        "count": 0
                      },
                      {
                        "bin_start": 6665.64738076603,
                        "bin_end": 8886.983469228026,
                        "count": 0
                      },
                      {
                        "bin_start": 8886.983469228026,
                        "bin_end": 11108.319557690022,
                        "count": 0
                      },
                      {
                        "bin_start": 11108.319557690022,
                        "bin_end": 13329.655646152016,
                        "count": 0
                      },
                      {
                        "bin_start": 13329.655646152016,
                        "bin_end": 15550.991734614012,
                        "count": 0
                      },
                      {
                        "bin_start": 15550.991734614012,
                        "bin_end": 17772.327823076008,
                        "count": 0
                      },
                      {
                        "bin_start": 17772.327823076008,
                        "bin_end": 19993.663911538002,
                        "count": 0
                      },
                      {
                        "bin_start": 19993.663911538002,
                        "bin_end": 22215,
                        "count": 1
                      }
                    ]
                  }
                },
                {
                  "name": "GSM18954.CEL.gz",
                  "dtype": "float64",
                  "stats": {
                    "unique_count": 8,
                    "nan_count": 0,
                    "min": "1.6487014493068208",
                    "max": "22215.0",
                    "histogram": [
                      {
                        "bin_start": 1.6487014493068208,
                        "bin_end": 2222.983831304376,
                        "count": 7
                      },
                      {
                        "bin_start": 2222.983831304376,
                        "bin_end": 4444.318961159445,
                        "count": 0
                      },
                      {
                        "bin_start": 4444.318961159445,
                        "bin_end": 6665.654091014514,
                        "count": 0
                      },
                      {
                        "bin_start": 6665.654091014514,
                        "bin_end": 8886.989220869584,
                        "count": 0
                      },
                      {
                        "bin_start": 8886.989220869584,
                        "bin_end": 11108.324350724653,
                        "count": 0
                      },
                      {
                        "bin_start": 11108.324350724653,
                        "bin_end": 13329.659480579721,
                        "count": 0
                      },
                      {
                        "bin_start": 13329.659480579721,
                        "bin_end": 15550.994610434791,
                        "count": 0
                      },
                      {
                        "bin_start": 15550.994610434791,
                        "bin_end": 17772.32974028986,
                        "count": 0
                      },
                      {
                        "bin_start": 17772.32974028986,
                        "bin_end": 19993.66487014493,
                        "count": 0
                      },
                      {
                        "bin_start": 19993.66487014493,
                        "bin_end": 22215,
                        "count": 1
                      }
                    ]
                  }
                },
                {
                  "name": "GSM18955.CEL.gz",
                  "dtype": "float64",
                  "stats": {
                    "unique_count": 8,
                    "nan_count": 0,
                    "min": "1.611702621853262",
                    "max": "22215.0",
                    "histogram": [
                      {
                        "bin_start": 1.611702621853262,
                        "bin_end": 2222.9505323596677,
                        "count": 7
                      },
                      {
                        "bin_start": 2222.9505323596677,
                        "bin_end": 4444.289362097483,
                        "count": 0
                      },
                      {
                        "bin_start": 4444.289362097483,
                        "bin_end": 6665.628191835297,
                        "count": 0
                      },
                      {
                        "bin_start": 6665.628191835297,
                        "bin_end": 8886.967021573111,
                        "count": 0
                      },
                      {
                        "bin_start": 8886.967021573111,
                        "bin_end": 11108.305851310926,
                        "count": 0
                      },
                      {
                        "bin_start": 11108.305851310926,
                        "bin_end": 13329.64468104874,
                        "count": 0
                      },
                      {
                        "bin_start": 13329.64468104874,
                        "bin_end": 15550.983510786555,
                        "count": 0
                      },
                      {
                        "bin_start": 15550.983510786555,
                        "bin_end": 17772.32234052437,
                        "count": 0
                      },
                      {
                        "bin_start": 17772.32234052437,
                        "bin_end": 19993.661170262185,
                        "count": 0
                      },
                      {
                        "bin_start": 19993.661170262185,
                        "bin_end": 22215,
                        "count": 1
                      }
                    ]
                  }
                },
                {
                  "name": "GSM18956.CEL.gz",
                  "dtype": "float64",
                  "stats": {
                    "unique_count": 8,
                    "nan_count": 0,
                    "min": "1.6413645255074527",
                    "max": "22215.0",
                    "histogram": [
                      {
                        "bin_start": 1.6413645255074527,
                        "bin_end": 2222.9772280729567,
                        "count": 7
                      },
                      {
                        "bin_start": 2222.9772280729567,
                        "bin_end": 4444.313091620405,
                        "count": 0
                      },
                      {
                        "bin_start": 4444.313091620405,
                        "bin_end": 6665.648955167855,
                        "count": 0
                      },
                      {
                        "bin_start": 6665.648955167855,
                        "bin_end": 8886.984818715304,
                        "count": 0
                      },
                      {
                        "bin_start": 8886.984818715304,
                        "bin_end": 11108.320682262753,
                        "count": 0
                      },
                      {
                        "bin_start": 11108.320682262753,
                        "bin_end": 13329.656545810203,
                        "count": 0
                      },
                      {
                        "bin_start": 13329.656545810203,
                        "bin_end": 15550.992409357652,
                        "count": 0
                      },
                      {
                        "bin_start": 15550.992409357652,
                        "bin_end": 17772.328272905102,
                        "count": 0
                      },
                      {
                        "bin_start": 17772.328272905102,
                        "bin_end": 19993.664136452553,
                        "count": 0
                      },
                      {
                        "bin_start": 19993.664136452553,
                        "bin_end": 22215,
                        "count": 1
                      }
                    ]
                  }
                },
                {
                  "name": "GSM296875.CEL.gz",
                  "dtype": "float64",
                  "stats": {
                    "unique_count": 8,
                    "nan_count": 0,
                    "min": "1.7677873584263786",
                    "max": "22215.0",
                    "histogram": [
                      {
                        "bin_start": 1.7677873584263786,
                        "bin_end": 2223.0910086225836,
                        "count": 7
                      },
                      {
                        "bin_start": 2223.0910086225836,
                        "bin_end": 4444.414229886741,
                        "count": 0
                      },
                      {
                        "bin_start": 4444.414229886741,
                        "bin_end": 6665.737451150898,
                        "count": 0
                      },
                      {
                        "bin_start": 6665.737451150898,
                        "bin_end": 8887.060672415057,
                        "count": 0
                      },
                      {
                        "bin_start": 8887.060672415057,
                        "bin_end": 11108.383893679214,
                        "count": 0
                      },
                      {
                        "bin_start": 11108.383893679214,
                        "bin_end": 13329.70711494337,
                        "count": 0
                      },
                      {
                        "bin_start": 13329.70711494337,
                        "bin_end": 15551.030336207528,
                        "count": 0
                      },
                      {
                        "bin_start": 15551.030336207528,
                        "bin_end": 17772.353557471684,
                        "count": 0
                      },
                      {
                        "bin_start": 17772.353557471684,
                        "bin_end": 19993.67677873584,
                        "count": 0
                      },
                      {
                        "bin_start": 19993.67677873584,
                        "bin_end": 22215,
                        "count": 1
                      }
                    ]
                  }
                },
                {
                  "name": "GSM296876.CEL.gz",
                  "dtype": "float64",
                  "stats": {
                    "unique_count": 8,
                    "nan_count": 0,
                    "min": "1.772040595143333",
                    "max": "22215.0",
                    "histogram": [
                      {
                        "bin_start": 1.772040595143333,
                        "bin_end": 2223.094836535629,
                        "count": 7
                      },
                      {
                        "bin_start": 2223.094836535629,
                        "bin_end": 4444.417632476115,
                        "count": 0
                      },
                      {
                        "bin_start": 4444.417632476115,
                        "bin_end": 6665.7404284166005,
                        "count": 0
                      },
                      {
                        "bin_start": 6665.7404284166005,
                        "bin_end": 8887.063224357087,
                        "count": 0
                      },
                      {
                        "bin_start": 8887.063224357087,
                        "bin_end": 11108.386020297574,
                        "count": 0
                      },
                      {
                        "bin_start": 11108.386020297574,
                        "bin_end": 13329.708816238059,
                        "count": 0
                      },
                      {
                        "bin_start": 13329.708816238059,
                        "bin_end": 15551.031612178544,
                        "count": 0
                      },
                      {
                        "bin_start": 15551.031612178544,
                        "bin_end": 17772.35440811903,
                        "count": 0
                      },
                      {
                        "bin_start": 17772.35440811903,
                        "bin_end": 19993.677204059517,
                        "count": 0
                      },
                      {
                        "bin_start": 19993.677204059517,
                        "bin_end": 22215,
                        "count": 1
                      }
                    ]
                  }
                },
                {
                  "name": "GSM296878.CEL.gz",
                  "dtype": "float64",
                  "stats": {
                    "unique_count": 8,
                    "nan_count": 0,
                    "min": "1.779518301571068",
                    "max": "22215.0",
                    "histogram": [
                      {
                        "bin_start": 1.779518301571068,
                        "bin_end": 2223.101566471414,
                        "count": 7
                      },
                      {
                        "bin_start": 2223.101566471414,
                        "bin_end": 4444.423614641258,
                        "count": 0
                      },
                      {
                        "bin_start": 4444.423614641258,
                        "bin_end": 6665.745662811101,
                        "count": 0
                      },
                      {
                        "bin_start": 6665.745662811101,
                        "bin_end": 8887.067710980944,
                        "count": 0
                      },
                      {
                        "bin_start": 8887.067710980944,
                        "bin_end": 11108.389759150787,
                        "count": 0
                      },
                      {
                        "bin_start": 11108.389759150787,
                        "bin_end": 13329.711807320631,
                        "count": 0
                      },
                      {
                        "bin_start": 13329.711807320631,
                        "bin_end": 15551.033855490474,
                        "count": 0
                      },
                      {
                        "bin_start": 15551.033855490474,
                        "bin_end": 17772.355903660315,
                        "count": 0
                      },
                      {
                        "bin_start": 17772.355903660315,
                        "bin_end": 19993.67795183016,
                        "count": 0
                      },
                      {
                        "bin_start": 19993.67795183016,
                        "bin_end": 22215,
                        "count": 1
                      }
                    ]
                  }
                },
                {
                  "name": "GSM296879.CEL.gz",
                  "dtype": "float64",
                  "stats": {
                    "unique_count": 8,
                    "nan_count": 0,
                    "min": "1.7389897407037167",
                    "max": "22215.0",
                    "histogram": [
                      {
                        "bin_start": 1.7389897407037167,
                        "bin_end": 2223.065090766633,
                        "count": 7
                      },
                      {
                        "bin_start": 2223.065090766633,
                        "bin_end": 4444.3911917925625,
                        "count": 0
                      },
                      {
                        "bin_start": 4444.3911917925625,
                        "bin_end": 6665.717292818492,
                        "count": 0
                      },
                      {
                        "bin_start": 6665.717292818492,
                        "bin_end": 8887.04339384442,
                        "count": 0
                      },
                      {
                        "bin_start": 8887.04339384442,
                        "bin_end": 11108.36949487035,
                        "count": 0
                      },
                      {
                        "bin_start": 11108.36949487035,
                        "bin_end": 13329.695595896279,
                        "count": 0
                      },
                      {
                        "bin_start": 13329.695595896279,
                        "bin_end": 15551.021696922207,
                        "count": 0
                      },
                      {
                        "bin_start": 15551.021696922207,
                        "bin_end": 17772.34779794814,
                        "count": 0
                      },
                      {
                        "bin_start": 17772.34779794814,
                        "bin_end": 19993.67389897407,
                        "count": 0
                      },
                      {
                        "bin_start": 19993.67389897407,
                        "bin_end": 22215,
                        "count": 1
                      }
                    ]
                  }
                },
                {
                  "name": "GSM296880.CEL.gz",
                  "dtype": "float64",
                  "stats": {
                    "unique_count": 8,
                    "nan_count": 0,
                    "min": "1.7744570462994413",
                    "max": "22215.0",
                    "histogram": [
                      {
                        "bin_start": 1.7744570462994413,
                        "bin_end": 2223.0970113416697,
                        "count": 7
                      },
                      {
                        "bin_start": 2223.0970113416697,
                        "bin_end": 4444.419565637039,
                        "count": 0
                      },
                      {
                        "bin_start": 4444.419565637039,
                        "bin_end": 6665.74211993241,
                        "count": 0
                      },
                      {
                        "bin_start": 6665.74211993241,
                        "bin_end": 8887.06467422778,
                        "count": 0
                      },
                      {
                        "bin_start": 8887.06467422778,
                        "bin_end": 11108.38722852315,
                        "count": 0
                      },
                      {
                        "bin_start": 11108.38722852315,
                        "bin_end": 13329.709782818521,
                        "count": 0
                      },
                      {
                        "bin_start": 13329.709782818521,
                        "bin_end": 15551.032337113891,
                        "count": 0
                      },
                      {
                        "bin_start": 15551.032337113891,
                        "bin_end": 17772.35489140926,
                        "count": 0
                      },
                      {
                        "bin_start": 17772.35489140926,
                        "bin_end": 19993.67744570463,
                        "count": 0
                      },
                      {
                        "bin_start": 19993.67744570463,
                        "bin_end": 22215,
                        "count": 1
                      }
                    ]
                  }
                },
                {
                  "name": "GSM296881.CEL.gz",
                  "dtype": "float64",
                  "stats": {
                    "unique_count": 8,
                    "nan_count": 0,
                    "min": "1.77442589066793",
                    "max": "22215.0",
                    "histogram": [
                      {
                        "bin_start": 1.77442589066793,
                        "bin_end": 2223.096983301601,
                        "count": 7
                      },
                      {
                        "bin_start": 2223.096983301601,
                        "bin_end": 4444.419540712534,
                        "count": 0
                      },
                      {
                        "bin_start": 4444.419540712534,
                        "bin_end": 6665.742098123468,
                        "count": 0
                      },
                      {
                        "bin_start": 6665.742098123468,
                        "bin_end": 8887.064655534401,
                        "count": 0
                      },
                      {
                        "bin_start": 8887.064655534401,
                        "bin_end": 11108.387212945334,
                        "count": 0
                      },
                      {
                        "bin_start": 11108.387212945334,
                        "bin_end": 13329.709770356269,
                        "count": 0
                      },
                      {
                        "bin_start": 13329.709770356269,
                        "bin_end": 15551.032327767201,
                        "count": 0
                      },
                      {
                        "bin_start": 15551.032327767201,
                        "bin_end": 17772.354885178134,
                        "count": 0
                      },
                      {
                        "bin_start": 17772.354885178134,
                        "bin_end": 19993.67744258907,
                        "count": 0
                      },
                      {
                        "bin_start": 19993.67744258907,
                        "bin_end": 22215,
                        "count": 1
                      }
                    ]
                  }
                },
                {
                  "name": "GSM296882.CEL.gz",
                  "dtype": "float64",
                  "stats": {
                    "unique_count": 8,
                    "nan_count": 0,
                    "min": "1.7710895675606895",
                    "max": "22215.0",
                    "histogram": [
                      {
                        "bin_start": 1.7710895675606895,
                        "bin_end": 2223.0939806108045,
                        "count": 7
                      },
                      {
                        "bin_start": 2223.0939806108045,
                        "bin_end": 4444.416871654049,
                        "count": 0
                      },
                      {
                        "bin_start": 4444.416871654049,
                        "bin_end": 6665.7397626972925,
                        "count": 0
                      },
                      {
                        "bin_start": 6665.7397626972925,
                        "bin_end": 8887.062653740537,
                        "count": 0
                      },
                      {
                        "bin_start": 8887.062653740537,
                        "bin_end": 11108.385544783781,
                        "count": 0
                      },
                      {
                        "bin_start": 11108.385544783781,
                        "bin_end": 13329.708435827024,
                        "count": 0
                      },
                      {
                        "bin_start": 13329.708435827024,
                        "bin_end": 15551.031326870268,
                        "count": 0
                      },
                      {
                        "bin_start": 15551.031326870268,
                        "bin_end": 17772.35421791351,
                        "count": 0
                      },
                      {
                        "bin_start": 17772.35421791351,
                        "bin_end": 19993.677108956756,
                        "count": 0
                      },
                      {
                        "bin_start": 19993.677108956756,
                        "bin_end": 22215,
                        "count": 1
                      }
                    ]
                  }
                },
                {
                  "name": "GSM296883.CEL.gz",
                  "dtype": "float64",
                  "stats": {
                    "unique_count": 8,
                    "nan_count": 0,
                    "min": "1.7482245002834436",
                    "max": "22215.0",
                    "histogram": [
                      {
                        "bin_start": 1.7482245002834436,
                        "bin_end": 2223.073402050255,
                        "count": 7
                      },
                      {
                        "bin_start": 2223.073402050255,
                        "bin_end": 4444.398579600227,
                        "count": 0
                      },
                      {
                        "bin_start": 4444.398579600227,
                        "bin_end": 6665.723757150198,
                        "count": 0
                      },
                      {
                        "bin_start": 6665.723757150198,
                        "bin_end": 8887.04893470017,
                        "count": 0
                      },
                      {
                        "bin_start": 8887.04893470017,
                        "bin_end": 11108.374112250141,
                        "count": 0
                      },
                      {
                        "bin_start": 11108.374112250141,
                        "bin_end": 13329.699289800112,
                        "count": 0
                      },
                      {
                        "bin_start": 13329.699289800112,
                        "bin_end": 15551.024467350084,
                        "count": 0
                      },
                      {
                        "bin_start": 15551.024467350084,
                        "bin_end": 17772.349644900056,
                        "count": 0
                      },
                      {
                        "bin_start": 17772.349644900056,
                        "bin_end": 19993.674822450026,
                        "count": 0
                      },
                      {
                        "bin_start": 19993.674822450026,
                        "bin_end": 22215,
                        "count": 1
                      }
                    ]
                  }
                },
                {
                  "name": "GSM296886.CEL.gz",
                  "dtype": "float64",
                  "stats": {
                    "unique_count": 8,
                    "nan_count": 0,
                    "min": "1.783360094708932",
                    "max": "22215.0",
                    "histogram": [
                      {
                        "bin_start": 1.783360094708932,
                        "bin_end": 2223.105024085238,
                        "count": 7
                      },
                      {
                        "bin_start": 2223.105024085238,
                        "bin_end": 4444.426688075767,
                        "count": 0
                      },
                      {
                        "bin_start": 4444.426688075767,
                        "bin_end": 6665.748352066295,
                        "count": 0
                      },
                      {
                        "bin_start": 6665.748352066295,
                        "bin_end": 8887.070016056825,
                        "count": 0
                      },
                      {
                        "bin_start": 8887.070016056825,
                        "bin_end": 11108.391680047354,
                        "count": 0
                      },
                      {
                        "bin_start": 11108.391680047354,
                        "bin_end": 13329.713344037882,
                        "count": 0
                      },
                      {
                        "bin_start": 13329.713344037882,
                        "bin_end": 15551.035008028412,
                        "count": 0
                      },
                      {
                        "bin_start": 15551.035008028412,
                        "bin_end": 17772.35667201894,
                        "count": 0
                      },
                      {
                        "bin_start": 17772.35667201894,
                        "bin_end": 19993.67833600947,
                        "count": 0
                      },
                      {
                        "bin_start": 19993.67833600947,
                        "bin_end": 22215,
                        "count": 1
                      }
                    ]
                  }
                },
                {
                  "name": "GSM296887.CEL.gz",
                  "dtype": "float64",
                  "stats": {
                    "unique_count": 8,
                    "nan_count": 0,
                    "min": "1.7801495878281217",
                    "max": "22215.0",
                    "histogram": [
                      {
                        "bin_start": 1.7801495878281217,
                        "bin_end": 2223.1021346290454,
                        "count": 7
                      },
                      {
                        "bin_start": 2223.1021346290454,
                        "bin_end": 4444.424119670263,
                        "count": 0
                      },
                      {
                        "bin_start": 4444.424119670263,
                        "bin_end": 6665.746104711481,
                        "count": 0
                      },
                      {
                        "bin_start": 6665.746104711481,
                        "bin_end": 8887.068089752698,
                        "count": 0
                      },
                      {
                        "bin_start": 8887.068089752698,
                        "bin_end": 11108.390074793915,
                        "count": 0
                      },
                      {
                        "bin_start": 11108.390074793915,
                        "bin_end": 13329.712059835134,
                        "count": 0
                      },
                      {
                        "bin_start": 13329.712059835134,
                        "bin_end": 15551.03404487635,
                        "count": 0
                      },
                      {
                        "bin_start": 15551.03404487635,
                        "bin_end": 17772.356029917566,
                        "count": 0
                      },
                      {
                        "bin_start": 17772.356029917566,
                        "bin_end": 19993.678014958783,
                        "count": 0
                      },
                      {
                        "bin_start": 19993.678014958783,
                        "bin_end": 22215,
                        "count": 1
                      }
                    ]
                  }
                },
                {
                  "name": "GSM296888.CEL.gz",
                  "dtype": "float64",
                  "stats": {
                    "unique_count": 8,
                    "nan_count": 0,
                    "min": "1.7372260609368737",
                    "max": "22215.0",
                    "histogram": [
                      {
                        "bin_start": 1.7372260609368737,
                        "bin_end": 2223.063503454843,
                        "count": 7
                      },
                      {
                        "bin_start": 2223.063503454843,
                        "bin_end": 4444.38978084875,
                        "count": 0
                      },
                      {
                        "bin_start": 4444.38978084875,
                        "bin_end": 6665.716058242657,
                        "count": 0
                      },
                      {
                        "bin_start": 6665.716058242657,
                        "bin_end": 8887.042335636563,
                        "count": 0
                      },
                      {
                        "bin_start": 8887.042335636563,
                        "bin_end": 11108.368613030469,
                        "count": 0
                      },
                      {
                        "bin_start": 11108.368613030469,
                        "bin_end": 13329.694890424376,
                        "count": 0
                      },
                      {
                        "bin_start": 13329.694890424376,
                        "bin_end": 15551.021167818282,
                        "count": 0
                      },
                      {
                        "bin_start": 15551.021167818282,
                        "bin_end": 17772.347445212188,
                        "count": 0
                      },
                      {
                        "bin_start": 17772.347445212188,
                        "bin_end": 19993.673722606094,
                        "count": 0
                      },
                      {
                        "bin_start": 19993.673722606094,
                        "bin_end": 22215,
                        "count": 1
                      }
                    ]
                  }
                },
                {
                  "name": "GSM296889.CEL.gz",
                  "dtype": "float64",
                  "stats": {
                    "unique_count": 8,
                    "nan_count": 0,
                    "min": "1.7868770985898048",
                    "max": "22215.0",
                    "histogram": [
                      {
                        "bin_start": 1.7868770985898048,
                        "bin_end": 2223.1081893887304,
                        "count": 7
                      },
                      {
                        "bin_start": 2223.1081893887304,
                        "bin_end": 4444.429501678871,
                        "count": 0
                      },
                      {
                        "bin_start": 4444.429501678871,
                        "bin_end": 6665.750813969012,
                        "count": 0
                      },
                      {
                        "bin_start": 6665.750813969012,
                        "bin_end": 8887.072126259152,
                        "count": 0
                      },
                      {
                        "bin_start": 8887.072126259152,
                        "bin_end": 11108.393438549292,
                        "count": 0
                      },
                      {
                        "bin_start": 11108.393438549292,
                        "bin_end": 13329.714750839434,
                        "count": 0
                      },
                      {
                        "bin_start": 13329.714750839434,
                        "bin_end": 15551.036063129575,
                        "count": 0
                      },
                      {
                        "bin_start": 15551.036063129575,
                        "bin_end": 17772.357375419717,
                        "count": 0
                      },
                      {
                        "bin_start": 17772.357375419717,
                        "bin_end": 19993.678687709857,
                        "count": 0
                      },
                      {
                        "bin_start": 19993.678687709857,
                        "bin_end": 22215,
                        "count": 1
                      }
                    ]
                  }
                },
                {
                  "name": "GSM296890.CEL.gz",
                  "dtype": "float64",
                  "stats": {
                    "unique_count": 8,
                    "nan_count": 0,
                    "min": "1.7734672160101232",
                    "max": "22215.0",
                    "histogram": [
                      {
                        "bin_start": 1.7734672160101232,
                        "bin_end": 2223.0961204944088,
                        "count": 7
                      },
                      {
                        "bin_start": 2223.0961204944088,
                        "bin_end": 4444.418773772808,
                        "count": 0
                      },
                      {
                        "bin_start": 4444.418773772808,
                        "bin_end": 6665.741427051206,
                        "count": 0
                      },
                      {
                        "bin_start": 6665.741427051206,
                        "bin_end": 8887.064080329605,
                        "count": 0
                      },
                      {
                        "bin_start": 8887.064080329605,
                        "bin_end": 11108.386733608004,
                        "count": 0
                      },
                      {
                        "bin_start": 11108.386733608004,
                        "bin_end": 13329.709386886401,
                        "count": 0
                      },
                      {
                        "bin_start": 13329.709386886401,
                        "bin_end": 15551.0320401648,
                        "count": 0
                      },
                      {
                        "bin_start": 15551.0320401648,
                        "bin_end": 17772.3546934432,
                        "count": 0
                      },
                      {
                        "bin_start": 17772.3546934432,
                        "bin_end": 19993.6773467216,
                        "count": 0
                      },
                      {
                        "bin_start": 19993.6773467216,
                        "bin_end": 22215,
                        "count": 1
                      }
                    ]
                  }
                },
                {
                  "name": "GSM296891.CEL.gz",
                  "dtype": "float64",
                  "stats": {
                    "unique_count": 8,
                    "nan_count": 0,
                    "min": "1.7850590490467169",
                    "max": "22215.0",
                    "histogram": [
                      {
                        "bin_start": 1.7850590490467169,
                        "bin_end": 2223.1065531441423,
                        "count": 7
                      },
                      {
                        "bin_start": 2223.1065531441423,
                        "bin_end": 4444.428047239238,
                        "count": 0
                      },
                      {
                        "bin_start": 4444.428047239238,
                        "bin_end": 6665.749541334334,
                        "count": 0
                      },
                      {
                        "bin_start": 6665.749541334334,
                        "bin_end": 8887.07103542943,
                        "count": 0
                      },
                      {
                        "bin_start": 8887.07103542943,
                        "bin_end": 11108.392529524526,
                        "count": 0
                      },
                      {
                        "bin_start": 11108.392529524526,
                        "bin_end": 13329.714023619621,
                        "count": 0
                      },
                      {
                        "bin_start": 13329.714023619621,
                        "bin_end": 15551.035517714716,
                        "count": 0
                      },
                      {
                        "bin_start": 15551.035517714716,
                        "bin_end": 17772.35701180981,
                        "count": 0
                      },
                      {
                        "bin_start": 17772.35701180981,
                        "bin_end": 19993.678505904907,
                        "count": 0
                      },
                      {
                        "bin_start": 19993.678505904907,
                        "bin_end": 22215,
                        "count": 1
                      }
                    ]
                  }
                },
                {
                  "name": "GSM296892.CEL.gz",
                  "dtype": "float64",
                  "stats": {
                    "unique_count": 8,
                    "nan_count": 0,
                    "min": "1.7876041597489118",
                    "max": "22215.0",
                    "histogram": [
                      {
                        "bin_start": 1.7876041597489118,
                        "bin_end": 2223.108843743774,
                        "count": 7
                      },
                      {
                        "bin_start": 2223.108843743774,
                        "bin_end": 4444.430083327799,
                        "count": 0
                      },
                      {
                        "bin_start": 4444.430083327799,
                        "bin_end": 6665.751322911824,
                        "count": 0
                      },
                      {
                        "bin_start": 6665.751322911824,
                        "bin_end": 8887.072562495849,
                        "count": 0
                      },
                      {
                        "bin_start": 8887.072562495849,
                        "bin_end": 11108.393802079874,
                        "count": 0
                      },
                      {
                        "bin_start": 11108.393802079874,
                        "bin_end": 13329.715041663898,
                        "count": 0
                      },
                      {
                        "bin_start": 13329.715041663898,
                        "bin_end": 15551.036281247923,
                        "count": 0
                      },
                      {
                        "bin_start": 15551.036281247923,
                        "bin_end": 17772.35752083195,
                        "count": 0
                      },
                      {
                        "bin_start": 17772.35752083195,
                        "bin_end": 19993.678760415973,
                        "count": 0
                      },
                      {
                        "bin_start": 19993.678760415973,
                        "bin_end": 22215,
                        "count": 1
                      }
                    ]
                  }
                },
                {
                  "name": "GSM298747.CEL.gz",
                  "dtype": "float64",
                  "stats": {
                    "unique_count": 8,
                    "nan_count": 0,
                    "min": "1.7724273166503566",
                    "max": "22215.0",
                    "histogram": [
                      {
                        "bin_start": 1.7724273166503566,
                        "bin_end": 2223.0951845849854,
                        "count": 7
                      },
                      {
                        "bin_start": 2223.0951845849854,
                        "bin_end": 4444.41794185332,
                        "count": 0
                      },
                      {
                        "bin_start": 4444.41794185332,
                        "bin_end": 6665.740699121655,
                        "count": 0
                      },
                      {
                        "bin_start": 6665.740699121655,
                        "bin_end": 8887.06345638999,
                        "count": 0
                      },
                      {
                        "bin_start": 8887.06345638999,
                        "bin_end": 11108.386213658325,
                        "count": 0
                      },
                      {
                        "bin_start": 11108.386213658325,
                        "bin_end": 13329.708970926658,
                        "count": 0
                      },
                      {
                        "bin_start": 13329.708970926658,
                        "bin_end": 15551.031728194994,
                        "count": 0
                      },
                      {
                        "bin_start": 15551.031728194994,
                        "bin_end": 17772.35448546333,
                        "count": 0
                      },
                      {
                        "bin_start": 17772.35448546333,
                        "bin_end": 19993.677242731665,
                        "count": 0
                      },
                      {
                        "bin_start": 19993.677242731665,
                        "bin_end": 22215,
                        "count": 1
                      }
                    ]
                  }
                },
                {
                  "name": "GSM298748.CEL.gz",
                  "dtype": "float64",
                  "stats": {
                    "unique_count": 8,
                    "nan_count": 0,
                    "min": "1.770549980785364",
                    "max": "22215.0",
                    "histogram": [
                      {
                        "bin_start": 1.770549980785364,
                        "bin_end": 2223.093494982707,
                        "count": 7
                      },
                      {
                        "bin_start": 2223.093494982707,
                        "bin_end": 4444.416439984629,
                        "count": 0
                      },
                      {
                        "bin_start": 4444.416439984629,
                        "bin_end": 6665.73938498655,
                        "count": 0
                      },
                      {
                        "bin_start": 6665.73938498655,
                        "bin_end": 8887.062329988472,
                        "count": 0
                      },
                      {
                        "bin_start": 8887.062329988472,
                        "bin_end": 11108.385274990393,
                        "count": 0
                      },
                      {
                        "bin_start": 11108.385274990393,
                        "bin_end": 13329.708219992315,
                        "count": 0
                      },
                      {
                        "bin_start": 13329.708219992315,
                        "bin_end": 15551.031164994238,
                        "count": 0
                      },
                      {
                        "bin_start": 15551.031164994238,
                        "bin_end": 17772.35410999616,
                        "count": 0
                      },
                      {
                        "bin_start": 17772.35410999616,
                        "bin_end": 19993.67705499808,
                        "count": 0
                      },
                      {
                        "bin_start": 19993.67705499808,
                        "bin_end": 22215,
                        "count": 1
                      }
                    ]
                  }
                },
                {
                  "name": "GSM298749.CEL.gz",
                  "dtype": "float64",
                  "stats": {
                    "unique_count": 8,
                    "nan_count": 0,
                    "min": "1.7435927919185383",
                    "max": "22215.0",
                    "histogram": [
                      {
                        "bin_start": 1.7435927919185383,
                        "bin_end": 2223.069233512727,
                        "count": 7
                      },
                      {
                        "bin_start": 2223.069233512727,
                        "bin_end": 4444.394874233535,
                        "count": 0
                      },
                      {
                        "bin_start": 4444.394874233535,
                        "bin_end": 6665.720514954343,
                        "count": 0
                      },
                      {
                        "bin_start": 6665.720514954343,
                        "bin_end": 8887.04615567515,
                        "count": 0
                      },
                      {
                        "bin_start": 8887.04615567515,
                        "bin_end": 11108.371796395959,
                        "count": 0
                      },
                      {
                        "bin_start": 11108.371796395959,
                        "bin_end": 13329.697437116767,
                        "count": 0
                      },
                      {
                        "bin_start": 13329.697437116767,
                        "bin_end": 15551.023077837575,
                        "count": 0
                      },
                      {
                        "bin_start": 15551.023077837575,
                        "bin_end": 17772.348718558384,
                        "count": 0
                      },
                      {
                        "bin_start": 17772.348718558384,
                        "bin_end": 19993.674359279194,
                        "count": 0
                      },
                      {
                        "bin_start": 19993.674359279194,
                        "bin_end": 22215,
                        "count": 1
                      }
                    ]
                  }
                },
                {
                  "name": "GSM298750.CEL.gz",
                  "dtype": "float64",
                  "stats": {
                    "unique_count": 8,
                    "nan_count": 0,
                    "min": "1.8200311752854648",
                    "max": "22215.0",
                    "histogram": [
                      {
                        "bin_start": 1.8200311752854648,
                        "bin_end": 2223.138028057757,
                        "count": 7
                      },
                      {
                        "bin_start": 2223.138028057757,
                        "bin_end": 4444.456024940228,
                        "count": 0
                      },
                      {
                        "bin_start": 4444.456024940228,
                        "bin_end": 6665.7740218227,
                        "count": 0
                      },
                      {
                        "bin_start": 6665.7740218227,
                        "bin_end": 8887.092018705172,
                        "count": 0
                      },
                      {
                        "bin_start": 8887.092018705172,
                        "bin_end": 11108.410015587644,
                        "count": 0
                      },
                      {
                        "bin_start": 11108.410015587644,
                        "bin_end": 13329.728012470116,
                        "count": 0
                      },
                      {
                        "bin_start": 13329.728012470116,
                        "bin_end": 15551.046009352587,
                        "count": 0
                      },
                      {
                        "bin_start": 15551.046009352587,
                        "bin_end": 17772.364006235057,
                        "count": 0
                      },
                      {
                        "bin_start": 17772.364006235057,
                        "bin_end": 19993.682003117527,
                        "count": 0
                      },
                      {
                        "bin_start": 19993.682003117527,
                        "bin_end": 22215,
                        "count": 1
                      }
                    ]
                  }
                },
                {
                  "name": "GSM299110.CEL.gz",
                  "dtype": "float64",
                  "stats": {
                    "unique_count": 8,
                    "nan_count": 0,
                    "min": "1.7724273166503566",
                    "max": "22215.0",
                    "histogram": [
                      {
                        "bin_start": 1.7724273166503566,
                        "bin_end": 2223.0951845849854,
                        "count": 7
                      },
                      {
                        "bin_start": 2223.0951845849854,
                        "bin_end": 4444.41794185332,
                        "count": 0
                      },
                      {
                        "bin_start": 4444.41794185332,
                        "bin_end": 6665.740699121655,
                        "count": 0
                      },
                      {
                        "bin_start": 6665.740699121655,
                        "bin_end": 8887.06345638999,
                        "count": 0
                      },
                      {
                        "bin_start": 8887.06345638999,
                        "bin_end": 11108.386213658325,
                        "count": 0
                      },
                      {
                        "bin_start": 11108.386213658325,
                        "bin_end": 13329.708970926658,
                        "count": 0
                      },
                      {
                        "bin_start": 13329.708970926658,
                        "bin_end": 15551.031728194994,
                        "count": 0
                      },
                      {
                        "bin_start": 15551.031728194994,
                        "bin_end": 17772.35448546333,
                        "count": 0
                      },
                      {
                        "bin_start": 17772.35448546333,
                        "bin_end": 19993.677242731665,
                        "count": 0
                      },
                      {
                        "bin_start": 19993.677242731665,
                        "bin_end": 22215,
                        "count": 1
                      }
                    ]
                  }
                },
                {
                  "name": "GSM299111.CEL.gz",
                  "dtype": "float64",
                  "stats": {
                    "unique_count": 8,
                    "nan_count": 0,
                    "min": "1.7435927919185383",
                    "max": "22215.0",
                    "histogram": [
                      {
                        "bin_start": 1.7435927919185383,
                        "bin_end": 2223.069233512727,
                        "count": 7
                      },
                      {
                        "bin_start": 2223.069233512727,
                        "bin_end": 4444.394874233535,
                        "count": 0
                      },
                      {
                        "bin_start": 4444.394874233535,
                        "bin_end": 6665.720514954343,
                        "count": 0
                      },
                      {
                        "bin_start": 6665.720514954343,
                        "bin_end": 8887.04615567515,
                        "count": 0
                      },
                      {
                        "bin_start": 8887.04615567515,
                        "bin_end": 11108.371796395959,
                        "count": 0
                      },
                      {
                        "bin_start": 11108.371796395959,
                        "bin_end": 13329.697437116767,
                        "count": 0
                      },
                      {
                        "bin_start": 13329.697437116767,
                        "bin_end": 15551.023077837575,
                        "count": 0
                      },
                      {
                        "bin_start": 15551.023077837575,
                        "bin_end": 17772.348718558384,
                        "count": 0
                      },
                      {
                        "bin_start": 17772.348718558384,
                        "bin_end": 19993.674359279194,
                        "count": 0
                      },
                      {
                        "bin_start": 19993.674359279194,
                        "bin_end": 22215,
                        "count": 1
                      }
                    ]
                  }
                },
                {
                  "name": "GSM299112.CEL.gz",
                  "dtype": "float64",
                  "stats": {
                    "unique_count": 8,
                    "nan_count": 0,
                    "min": "1.8200311752854648",
                    "max": "22215.0",
                    "histogram": [
                      {
                        "bin_start": 1.8200311752854648,
                        "bin_end": 2223.138028057757,
                        "count": 7
                      },
                      {
                        "bin_start": 2223.138028057757,
                        "bin_end": 4444.456024940228,
                        "count": 0
                      },
                      {
                        "bin_start": 4444.456024940228,
                        "bin_end": 6665.7740218227,
                        "count": 0
                      },
                      {
                        "bin_start": 6665.7740218227,
                        "bin_end": 8887.092018705172,
                        "count": 0
                      },
                      {
                        "bin_start": 8887.092018705172,
                        "bin_end": 11108.410015587644,
                        "count": 0
                      },
                      {
                        "bin_start": 11108.410015587644,
                        "bin_end": 13329.728012470116,
                        "count": 0
                      },
                      {
                        "bin_start": 13329.728012470116,
                        "bin_end": 15551.046009352587,
                        "count": 0
                      },
                      {
                        "bin_start": 15551.046009352587,
                        "bin_end": 17772.364006235057,
                        "count": 0
                      },
                      {
                        "bin_start": 17772.364006235057,
                        "bin_end": 19993.682003117527,
                        "count": 0
                      },
                      {
                        "bin_start": 19993.682003117527,
                        "bin_end": 22215,
                        "count": 1
                      }
                    ]
                  }
                },
                {
                  "name": "GSM299113.CEL.gz",
                  "dtype": "float64",
                  "stats": {
                    "unique_count": 8,
                    "nan_count": 0,
                    "min": "1.770549980785364",
                    "max": "22215.0",
                    "histogram": [
                      {
                        "bin_start": 1.770549980785364,
                        "bin_end": 2223.093494982707,
                        "count": 7
                      },
                      {
                        "bin_start": 2223.093494982707,
                        "bin_end": 4444.416439984629,
                        "count": 0
                      },
                      {
                        "bin_start": 4444.416439984629,
                        "bin_end": 6665.73938498655,
                        "count": 0
                      },
                      {
                        "bin_start": 6665.73938498655,
                        "bin_end": 8887.062329988472,
                        "count": 0
                      },
                      {
                        "bin_start": 8887.062329988472,
                        "bin_end": 11108.385274990393,
                        "count": 0
                      },
                      {
                        "bin_start": 11108.385274990393,
                        "bin_end": 13329.708219992315,
                        "count": 0
                      },
                      {
                        "bin_start": 13329.708219992315,
                        "bin_end": 15551.031164994238,
                        "count": 0
                      },
                      {
                        "bin_start": 15551.031164994238,
                        "bin_end": 17772.35410999616,
                        "count": 0
                      },
                      {
                        "bin_start": 17772.35410999616,
                        "bin_end": 19993.67705499808,
                        "count": 0
                      },
                      {
                        "bin_start": 19993.67705499808,
                        "bin_end": 22215,
                        "count": 1
                      }
                    ]
                  }
                },
                {
                  "name": "GSM299244.CEL.gz",
                  "dtype": "float64",
                  "stats": {
                    "unique_count": 8,
                    "nan_count": 0,
                    "min": "1.7795375549553845",
                    "max": "22215.0",
                    "histogram": [
                      {
                        "bin_start": 1.7795375549553845,
                        "bin_end": 2223.10158379946,
                        "count": 7
                      },
                      {
                        "bin_start": 2223.10158379946,
                        "bin_end": 4444.423630043965,
                        "count": 0
                      },
                      {
                        "bin_start": 4444.423630043965,
                        "bin_end": 6665.74567628847,
                        "count": 0
                      },
                      {
                        "bin_start": 6665.74567628847,
                        "bin_end": 8887.067722532975,
                        "count": 0
                      },
                      {
                        "bin_start": 8887.067722532975,
                        "bin_end": 11108.389768777479,
                        "count": 0
                      },
                      {
                        "bin_start": 11108.389768777479,
                        "bin_end": 13329.711815021985,
                        "count": 0
                      },
                      {
                        "bin_start": 13329.711815021985,
                        "bin_end": 15551.03386126649,
                        "count": 0
                      },
                      {
                        "bin_start": 15551.03386126649,
                        "bin_end": 17772.35590751099,
                        "count": 0
                      },
                      {
                        "bin_start": 17772.35590751099,
                        "bin_end": 19993.677953755498,
                        "count": 0
                      },
                      {
                        "bin_start": 19993.677953755498,
                        "bin_end": 22215,
                        "count": 1
                      }
                    ]
                  }
                },
                {
                  "name": "GSM299245.CEL.gz",
                  "dtype": "float64",
                  "stats": {
                    "unique_count": 8,
                    "nan_count": 0,
                    "min": "1.7989252542536607",
                    "max": "22215.0",
                    "histogram": [
                      {
                        "bin_start": 1.7989252542536607,
                        "bin_end": 2223.1190327288286,
                        "count": 7
                      },
                      {
                        "bin_start": 2223.1190327288286,
                        "bin_end": 4444.439140203403,
                        "count": 0
                      },
                      {
                        "bin_start": 4444.439140203403,
                        "bin_end": 6665.759247677978,
                        "count": 0
                      },
                      {
                        "bin_start": 6665.759247677978,
                        "bin_end": 8887.079355152553,
                        "count": 0
                      },
                      {
                        "bin_start": 8887.079355152553,
                        "bin_end": 11108.399462627127,
                        "count": 0
                      },
                      {
                        "bin_start": 11108.399462627127,
                        "bin_end": 13329.719570101703,
                        "count": 0
                      },
                      {
                        "bin_start": 13329.719570101703,
                        "bin_end": 15551.039677576278,
                        "count": 0
                      },
                      {
                        "bin_start": 15551.039677576278,
                        "bin_end": 17772.359785050852,
                        "count": 0
                      },
                      {
                        "bin_start": 17772.359785050852,
                        "bin_end": 19993.679892525426,
                        "count": 0
                      },
                      {
                        "bin_start": 19993.679892525426,
                        "bin_end": 22215,
                        "count": 1
                      }
                    ]
                  }
                },
                {
                  "name": "GSM299246.CEL.gz",
                  "dtype": "float64",
                  "stats": {
                    "unique_count": 8,
                    "nan_count": 0,
                    "min": "1.7479063022798076",
                    "max": "22215.0",
                    "histogram": [
                      {
                        "bin_start": 1.7479063022798076,
                        "bin_end": 2223.0731156720517,
                        "count": 7
                      },
                      {
                        "bin_start": 2223.0731156720517,
                        "bin_end": 4444.398325041824,
                        "count": 0
                      },
                      {
                        "bin_start": 4444.398325041824,
                        "bin_end": 6665.723534411596,
                        "count": 0
                      },
                      {
                        "bin_start": 6665.723534411596,
                        "bin_end": 8887.048743781368,
                        "count": 0
                      },
                      {
                        "bin_start": 8887.048743781368,
                        "bin_end": 11108.37395315114,
                        "count": 0
                      },
                      {
                        "bin_start": 11108.37395315114,
                        "bin_end": 13329.699162520912,
                        "count": 0
                      },
                      {
                        "bin_start": 13329.699162520912,
                        "bin_end": 15551.024371890684,
                        "count": 0
                      },
                      {
                        "bin_start": 15551.024371890684,
                        "bin_end": 17772.349581260456,
                        "count": 0
                      },
                      {
                        "bin_start": 17772.349581260456,
                        "bin_end": 19993.67479063023,
                        "count": 0
                      },
                      {
                        "bin_start": 19993.67479063023,
                        "bin_end": 22215,
                        "count": 1
                      }
                    ]
                  }
                },
                {
                  "name": "GSM299247.CEL.gz",
                  "dtype": "float64",
                  "stats": {
                    "unique_count": 8,
                    "nan_count": 0,
                    "min": "1.7781773002030943",
                    "max": "22215.0",
                    "histogram": [
                      {
                        "bin_start": 1.7781773002030943,
                        "bin_end": 2223.1003595701827,
                        "count": 7
                      },
                      {
                        "bin_start": 2223.1003595701827,
                        "bin_end": 4444.422541840163,
                        "count": 0
                      },
                      {
                        "bin_start": 4444.422541840163,
                        "bin_end": 6665.744724110143,
                        "count": 0
                      },
                      {
                        "bin_start": 6665.744724110143,
                        "bin_end": 8887.066906380122,
                        "count": 0
                      },
                      {
                        "bin_start": 8887.066906380122,
                        "bin_end": 11108.389088650101,
                        "count": 0
                      },
                      {
                        "bin_start": 11108.389088650101,
                        "bin_end": 13329.711270920081,
                        "count": 0
                      },
                      {
                        "bin_start": 13329.711270920081,
                        "bin_end": 15551.03345319006,
                        "count": 0
                      },
                      {
                        "bin_start": 15551.03345319006,
                        "bin_end": 17772.35563546004,
                        "count": 0
                      },
                      {
                        "bin_start": 17772.35563546004,
                        "bin_end": 19993.67781773002,
                        "count": 0
                      },
                      {
                        "bin_start": 19993.67781773002,
                        "bin_end": 22215,
                        "count": 1
                      }
                    ]
                  }
                },
                {
                  "name": "GSM322969.CEL.gz",
                  "dtype": "float64",
                  "stats": {
                    "unique_count": 8,
                    "nan_count": 0,
                    "min": "1.8104859959461825",
                    "max": "22215.0",
                    "histogram": [
                      {
                        "bin_start": 1.8104859959461825,
                        "bin_end": 2223.1294373963515,
                        "count": 7
                      },
                      {
                        "bin_start": 2223.1294373963515,
                        "bin_end": 4444.448388796756,
                        "count": 0
                      },
                      {
                        "bin_start": 4444.448388796756,
                        "bin_end": 6665.7673401971615,
                        "count": 0
                      },
                      {
                        "bin_start": 6665.7673401971615,
                        "bin_end": 8887.086291597567,
                        "count": 0
                      },
                      {
                        "bin_start": 8887.086291597567,
                        "bin_end": 11108.405242997971,
                        "count": 0
                      },
                      {
                        "bin_start": 11108.405242997971,
                        "bin_end": 13329.724194398377,
                        "count": 0
                      },
                      {
                        "bin_start": 13329.724194398377,
                        "bin_end": 15551.043145798783,
                        "count": 0
                      },
                      {
                        "bin_start": 15551.043145798783,
                        "bin_end": 17772.362097199188,
                        "count": 0
                      },
                      {
                        "bin_start": 17772.362097199188,
                        "bin_end": 19993.681048599592,
                        "count": 0
                      },
                      {
                        "bin_start": 19993.681048599592,
                        "bin_end": 22215,
                        "count": 1
                      }
                    ]
                  }
                },
                {
                  "name": "GSM323054.CEL.gz",
                  "dtype": "float64",
                  "stats": {
                    "unique_count": 8,
                    "nan_count": 0,
                    "min": "1.8137116822984702",
                    "max": "22215.0",
                    "histogram": [
                      {
                        "bin_start": 1.8137116822984702,
                        "bin_end": 2223.132340514069,
                        "count": 7
                      },
                      {
                        "bin_start": 2223.132340514069,
                        "bin_end": 4444.4509693458385,
                        "count": 0
                      },
                      {
                        "bin_start": 4444.4509693458385,
                        "bin_end": 6665.769598177609,
                        "count": 0
                      },
                      {
                        "bin_start": 6665.769598177609,
                        "bin_end": 8887.088227009379,
                        "count": 0
                      },
                      {
                        "bin_start": 8887.088227009379,
                        "bin_end": 11108.406855841149,
                        "count": 0
                      },
                      {
                        "bin_start": 11108.406855841149,
                        "bin_end": 13329.72548467292,
                        "count": 0
                      },
                      {
                        "bin_start": 13329.72548467292,
                        "bin_end": 15551.04411350469,
                        "count": 0
                      },
                      {
                        "bin_start": 15551.04411350469,
                        "bin_end": 17772.36274233646,
                        "count": 0
                      },
                      {
                        "bin_start": 17772.36274233646,
                        "bin_end": 19993.68137116823,
                        "count": 0
                      },
                      {
                        "bin_start": 19993.68137116823,
                        "bin_end": 22215,
                        "count": 1
                      }
                    ]
                  }
                },
                {
                  "name": "GSM323523.CEL.gz",
                  "dtype": "float64",
                  "stats": {
                    "unique_count": 8,
                    "nan_count": 0,
                    "min": "1.8578247543707238",
                    "max": "22215.0",
                    "histogram": [
                      {
                        "bin_start": 1.8578247543707238,
                        "bin_end": 2223.1720422789335,
                        "count": 7
                      },
                      {
                        "bin_start": 2223.1720422789335,
                        "bin_end": 4444.486259803497,
                        "count": 0
                      },
                      {
                        "bin_start": 4444.486259803497,
                        "bin_end": 6665.80047732806,
                        "count": 0
                      },
                      {
                        "bin_start": 6665.80047732806,
                        "bin_end": 8887.114694852622,
                        "count": 0
                      },
                      {
                        "bin_start": 8887.114694852622,
                        "bin_end": 11108.428912377185,
                        "count": 0
                      },
                      {
                        "bin_start": 11108.428912377185,
                        "bin_end": 13329.743129901748,
                        "count": 0
                      },
                      {
                        "bin_start": 13329.743129901748,
                        "bin_end": 15551.057347426311,
                        "count": 0
                      },
                      {
                        "bin_start": 15551.057347426311,
                        "bin_end": 17772.371564950874,
                        "count": 0
                      },
                      {
                        "bin_start": 17772.371564950874,
                        "bin_end": 19993.685782475437,
                        "count": 0
                      },
                      {
                        "bin_start": 19993.685782475437,
                        "bin_end": 22215,
                        "count": 1
                      }
                    ]
                  }
                },
                {
                  "name": "GSM323524.CEL.gz",
                  "dtype": "float64",
                  "stats": {
                    "unique_count": 8,
                    "nan_count": 0,
                    "min": "1.8418396821277425",
                    "max": "22215.0",
                    "histogram": [
                      {
                        "bin_start": 1.8418396821277425,
                        "bin_end": 2223.1576557139147,
                        "count": 7
                      },
                      {
                        "bin_start": 2223.1576557139147,
                        "bin_end": 4444.473471745702,
                        "count": 0
                      },
                      {
                        "bin_start": 4444.473471745702,
                        "bin_end": 6665.789287777489,
                        "count": 0
                      },
                      {
                        "bin_start": 6665.789287777489,
                        "bin_end": 8887.105103809276,
                        "count": 0
                      },
                      {
                        "bin_start": 8887.105103809276,
                        "bin_end": 11108.420919841063,
                        "count": 0
                      },
                      {
                        "bin_start": 11108.420919841063,
                        "bin_end": 13329.73673587285,
                        "count": 0
                      },
                      {
                        "bin_start": 13329.73673587285,
                        "bin_end": 15551.052551904637,
                        "count": 0
                      },
                      {
                        "bin_start": 15551.052551904637,
                        "bin_end": 17772.368367936426,
                        "count": 0
                      },
                      {
                        "bin_start": 17772.368367936426,
                        "bin_end": 19993.684183968213,
                        "count": 0
                      },
                      {
                        "bin_start": 19993.684183968213,
                        "bin_end": 22215,
                        "count": 1
                      }
                    ]
                  }
                },
                {
                  "name": "GSM323527.CEL.gz",
                  "dtype": "float64",
                  "stats": {
                    "unique_count": 8,
                    "nan_count": 0,
                    "min": "1.8068295944772483",
                    "max": "22215.0",
                    "histogram": [
                      {
                        "bin_start": 1.8068295944772483,
                        "bin_end": 2223.1261466350297,
                        "count": 7
                      },
                      {
                        "bin_start": 2223.1261466350297,
                        "bin_end": 4444.445463675583,
                        "count": 0
                      },
                      {
                        "bin_start": 4444.445463675583,
                        "bin_end": 6665.764780716136,
                        "count": 0
                      },
                      {
                        "bin_start": 6665.764780716136,
                        "bin_end": 8887.084097756688,
                        "count": 0
                      },
                      {
                        "bin_start": 8887.084097756688,
                        "bin_end": 11108.40341479724,
                        "count": 0
                      },
                      {
                        "bin_start": 11108.40341479724,
                        "bin_end": 13329.722731837794,
                        "count": 0
                      },
                      {
                        "bin_start": 13329.722731837794,
                        "bin_end": 15551.042048878346,
                        "count": 0
                      },
                      {
                        "bin_start": 15551.042048878346,
                        "bin_end": 17772.361365918896,
                        "count": 0
                      },
                      {
                        "bin_start": 17772.361365918896,
                        "bin_end": 19993.68068295945,
                        "count": 0
                      },
                      {
                        "bin_start": 19993.68068295945,
                        "bin_end": 22215,
                        "count": 1
                      }
                    ]
                  }
                },
                {
                  "name": "GSM323565.CEL.gz",
                  "dtype": "float64",
                  "stats": {
                    "unique_count": 8,
                    "nan_count": 0,
                    "min": "1.8166438081728173",
                    "max": "22215.0",
                    "histogram": [
                      {
                        "bin_start": 1.8166438081728173,
                        "bin_end": 2223.134979427356,
                        "count": 7
                      },
                      {
                        "bin_start": 2223.134979427356,
                        "bin_end": 4444.453315046539,
                        "count": 0
                      },
                      {
                        "bin_start": 4444.453315046539,
                        "bin_end": 6665.771650665722,
                        "count": 0
                      },
                      {
                        "bin_start": 6665.771650665722,
                        "bin_end": 8887.089986284906,
                        "count": 0
                      },
                      {
                        "bin_start": 8887.089986284906,
                        "bin_end": 11108.40832190409,
                        "count": 0
                      },
                      {
                        "bin_start": 11108.40832190409,
                        "bin_end": 13329.726657523272,
                        "count": 0
                      },
                      {
                        "bin_start": 13329.726657523272,
                        "bin_end": 15551.044993142454,
                        "count": 0
                      },
                      {
                        "bin_start": 15551.044993142454,
                        "bin_end": 17772.363328761636,
                        "count": 0
                      },
                      {
                        "bin_start": 17772.363328761636,
                        "bin_end": 19993.68166438082,
                        "count": 0
                      },
                      {
                        "bin_start": 19993.68166438082,
                        "bin_end": 22215,
                        "count": 1
                      }
                    ]
                  }
                },
                {
                  "name": "GSM323566.CEL.gz",
                  "dtype": "float64",
                  "stats": {
                    "unique_count": 8,
                    "nan_count": 0,
                    "min": "1.828750108055539",
                    "max": "22215.0",
                    "histogram": [
                      {
                        "bin_start": 1.828750108055539,
                        "bin_end": 2223.1458750972497,
                        "count": 7
                      },
                      {
                        "bin_start": 2223.1458750972497,
                        "bin_end": 4444.4630000864445,
                        "count": 0
                      },
                      {
                        "bin_start": 4444.4630000864445,
                        "bin_end": 6665.780125075638,
                        "count": 0
                      },
                      {
                        "bin_start": 6665.780125075638,
                        "bin_end": 8887.097250064833,
                        "count": 0
                      },
                      {
                        "bin_start": 8887.097250064833,
                        "bin_end": 11108.414375054028,
                        "count": 0
                      },
                      {
                        "bin_start": 11108.414375054028,
                        "bin_end": 13329.73150004322,
                        "count": 0
                      },
                      {
                        "bin_start": 13329.73150004322,
                        "bin_end": 15551.048625032416,
                        "count": 0
                      },
                      {
                        "bin_start": 15551.048625032416,
                        "bin_end": 17772.36575002161,
                        "count": 0
                      },
                      {
                        "bin_start": 17772.36575002161,
                        "bin_end": 19993.682875010803,
                        "count": 0
                      },
                      {
                        "bin_start": 19993.682875010803,
                        "bin_end": 22215,
                        "count": 1
                      }
                    ]
                  }
                },
                {
                  "name": "GSM323567.CEL.gz",
                  "dtype": "float64",
                  "stats": {
                    "unique_count": 8,
                    "nan_count": 0,
                    "min": "1.859744026901623",
                    "max": "22215.0",
                    "histogram": [
                      {
                        "bin_start": 1.859744026901623,
                        "bin_end": 2223.1737696242117,
                        "count": 7
                      },
                      {
                        "bin_start": 2223.1737696242117,
                        "bin_end": 4444.487795221521,
                        "count": 0
                      },
                      {
                        "bin_start": 4444.487795221521,
                        "bin_end": 6665.8018208188305,
                        "count": 0
                      },
                      {
                        "bin_start": 6665.8018208188305,
                        "bin_end": 8887.115846416142,
                        "count": 0
                      },
                      {
                        "bin_start": 8887.115846416142,
                        "bin_end": 11108.429872013452,
                        "count": 0
                      },
                      {
                        "bin_start": 11108.429872013452,
                        "bin_end": 13329.74389761076,
                        "count": 0
                      },
                      {
                        "bin_start": 13329.74389761076,
                        "bin_end": 15551.05792320807,
                        "count": 0
                      },
                      {
                        "bin_start": 15551.05792320807,
                        "bin_end": 17772.37194880538,
                        "count": 0
                      },
                      {
                        "bin_start": 17772.37194880538,
                        "bin_end": 19993.685974402688,
                        "count": 0
                      },
                      {
                        "bin_start": 19993.685974402688,
                        "bin_end": 22215,
                        "count": 1
                      }
                    ]
                  }
                },
                {
                  "name": "GSM246492.CEL.gz",
                  "dtype": "float64",
                  "stats": {
                    "unique_count": 8,
                    "nan_count": 0,
                    "min": "1.8856831648555306",
                    "max": "22215.0",
                    "histogram": [
                      {
                        "bin_start": 1.8856831648555306,
                        "bin_end": 2223.19711484837,
                        "count": 7
                      },
                      {
                        "bin_start": 2223.19711484837,
                        "bin_end": 4444.508546531884,
                        "count": 0
                      },
                      {
                        "bin_start": 4444.508546531884,
                        "bin_end": 6665.819978215399,
                        "count": 0
                      },
                      {
                        "bin_start": 6665.819978215399,
                        "bin_end": 8887.131409898913,
                        "count": 0
                      },
                      {
                        "bin_start": 8887.131409898913,
                        "bin_end": 11108.442841582428,
                        "count": 0
                      },
                      {
                        "bin_start": 11108.442841582428,
                        "bin_end": 13329.754273265942,
                        "count": 0
                      },
                      {
                        "bin_start": 13329.754273265942,
                        "bin_end": 15551.065704949457,
                        "count": 0
                      },
                      {
                        "bin_start": 15551.065704949457,
                        "bin_end": 17772.37713663297,
                        "count": 0
                      },
                      {
                        "bin_start": 17772.37713663297,
                        "bin_end": 19993.688568316484,
                        "count": 0
                      },
                      {
                        "bin_start": 19993.688568316484,
                        "bin_end": 22215,
                        "count": 1
                      }
                    ]
                  }
                },
                {
                  "name": "GSM246493.CEL.gz",
                  "dtype": "float64",
                  "stats": {
                    "unique_count": 8,
                    "nan_count": 0,
                    "min": "1.8359557991836317",
                    "max": "22215.0",
                    "histogram": [
                      {
                        "bin_start": 1.8359557991836317,
                        "bin_end": 2223.152360219265,
                        "count": 7
                      },
                      {
                        "bin_start": 2223.152360219265,
                        "bin_end": 4444.468764639347,
                        "count": 0
                      },
                      {
                        "bin_start": 4444.468764639347,
                        "bin_end": 6665.785169059428,
                        "count": 0
                      },
                      {
                        "bin_start": 6665.785169059428,
                        "bin_end": 8887.101573479511,
                        "count": 0
                      },
                      {
                        "bin_start": 8887.101573479511,
                        "bin_end": 11108.417977899593,
                        "count": 0
                      },
                      {
                        "bin_start": 11108.417977899593,
                        "bin_end": 13329.734382319673,
                        "count": 0
                      },
                      {
                        "bin_start": 13329.734382319673,
                        "bin_end": 15551.050786739755,
                        "count": 0
                      },
                      {
                        "bin_start": 15551.050786739755,
                        "bin_end": 17772.367191159836,
                        "count": 0
                      },
                      {
                        "bin_start": 17772.367191159836,
                        "bin_end": 19993.683595579918,
                        "count": 0
                      },
                      {
                        "bin_start": 19993.683595579918,
                        "bin_end": 22215,
                        "count": 1
                      }
                    ]
                  }
                },
                {
                  "name": "GSM246494.CEL.gz",
                  "dtype": "float64",
                  "stats": {
                    "unique_count": 8,
                    "nan_count": 0,
                    "min": "1.8352409873397038",
                    "max": "22215.0",
                    "histogram": [
                      {
                        "bin_start": 1.8352409873397038,
                        "bin_end": 2223.1517168886057,
                        "count": 7
                      },
                      {
                        "bin_start": 2223.1517168886057,
                        "bin_end": 4444.468192789872,
                        "count": 0
                      },
                      {
                        "bin_start": 4444.468192789872,
                        "bin_end": 6665.784668691138,
                        "count": 0
                      },
                      {
                        "bin_start": 6665.784668691138,
                        "bin_end": 8887.101144592405,
                        "count": 0
                      },
                      {
                        "bin_start": 8887.101144592405,
                        "bin_end": 11108.41762049367,
                        "count": 0
                      },
                      {
                        "bin_start": 11108.41762049367,
                        "bin_end": 13329.734096394937,
                        "count": 0
                      },
                      {
                        "bin_start": 13329.734096394937,
                        "bin_end": 15551.050572296204,
                        "count": 0
                      },
                      {
                        "bin_start": 15551.050572296204,
                        "bin_end": 17772.36704819747,
                        "count": 0
                      },
                      {
                        "bin_start": 17772.36704819747,
                        "bin_end": 19993.683524098735,
                        "count": 0
                      },
                      {
                        "bin_start": 19993.683524098735,
                        "bin_end": 22215,
                        "count": 1
                      }
                    ]
                  }
                },
                {
                  "name": "GSM307639.CEL.gz",
                  "dtype": "float64",
                  "stats": {
                    "unique_count": 8,
                    "nan_count": 0,
                    "min": "1.830003806829717",
                    "max": "22215.0",
                    "histogram": [
                      {
                        "bin_start": 1.830003806829717,
                        "bin_end": 2223.1470034261465,
                        "count": 7
                      },
                      {
                        "bin_start": 2223.1470034261465,
                        "bin_end": 4444.464003045464,
                        "count": 0
                      },
                      {
                        "bin_start": 4444.464003045464,
                        "bin_end": 6665.78100266478,
                        "count": 0
                      },
                      {
                        "bin_start": 6665.78100266478,
                        "bin_end": 8887.098002284098,
                        "count": 0
                      },
                      {
                        "bin_start": 8887.098002284098,
                        "bin_end": 11108.415001903415,
                        "count": 0
                      },
                      {
                        "bin_start": 11108.415001903415,
                        "bin_end": 13329.73200152273,
                        "count": 0
                      },
                      {
                        "bin_start": 13329.73200152273,
                        "bin_end": 15551.049001142048,
                        "count": 0
                      },
                      {
                        "bin_start": 15551.049001142048,
                        "bin_end": 17772.366000761365,
                        "count": 0
                      },
                      {
                        "bin_start": 17772.366000761365,
                        "bin_end": 19993.683000380683,
                        "count": 0
                      },
                      {
                        "bin_start": 19993.683000380683,
                        "bin_end": 22215,
                        "count": 1
                      }
                    ]
                  }
                },
                {
                  "name": "GSM307640.CEL.gz",
                  "dtype": "float64",
                  "stats": {
                    "unique_count": 8,
                    "nan_count": 0,
                    "min": "1.785327155586448",
                    "max": "22215.0",
                    "histogram": [
                      {
                        "bin_start": 1.785327155586448,
                        "bin_end": 2223.106794440028,
                        "count": 7
                      },
                      {
                        "bin_start": 2223.106794440028,
                        "bin_end": 4444.42826172447,
                        "count": 0
                      },
                      {
                        "bin_start": 4444.42826172447,
                        "bin_end": 6665.749729008911,
                        "count": 0
                      },
                      {
                        "bin_start": 6665.749729008911,
                        "bin_end": 8887.071196293353,
                        "count": 0
                      },
                      {
                        "bin_start": 8887.071196293353,
                        "bin_end": 11108.392663577793,
                        "count": 0
                      },
                      {
                        "bin_start": 11108.392663577793,
                        "bin_end": 13329.714130862236,
                        "count": 0
                      },
                      {
                        "bin_start": 13329.714130862236,
                        "bin_end": 15551.035598146678,
                        "count": 0
                      },
                      {
                        "bin_start": 15551.035598146678,
                        "bin_end": 17772.35706543112,
                        "count": 0
                      },
                      {
                        "bin_start": 17772.35706543112,
                        "bin_end": 19993.67853271556,
                        "count": 0
                      },
                      {
                        "bin_start": 19993.67853271556,
                        "bin_end": 22215,
                        "count": 1
                      }
                    ]
                  }
                },
                {
                  "name": "GSM307641.CEL.gz",
                  "dtype": "float64",
                  "stats": {
                    "unique_count": 8,
                    "nan_count": 0,
                    "min": "1.8282976621668527",
                    "max": "22215.0",
                    "histogram": [
                      {
                        "bin_start": 1.8282976621668527,
                        "bin_end": 2223.14546789595,
                        "count": 7
                      },
                      {
                        "bin_start": 2223.14546789595,
                        "bin_end": 4444.462638129733,
                        "count": 0
                      },
                      {
                        "bin_start": 4444.462638129733,
                        "bin_end": 6665.779808363516,
                        "count": 0
                      },
                      {
                        "bin_start": 6665.779808363516,
                        "bin_end": 8887.0969785973,
                        "count": 0
                      },
                      {
                        "bin_start": 8887.0969785973,
                        "bin_end": 11108.414148831082,
                        "count": 0
                      },
                      {
                        "bin_start": 11108.414148831082,
                        "bin_end": 13329.731319064866,
                        "count": 0
                      },
                      {
                        "bin_start": 13329.731319064866,
                        "bin_end": 15551.04848929865,
                        "count": 0
                      },
                      {
                        "bin_start": 15551.04848929865,
                        "bin_end": 17772.365659532432,
                        "count": 0
                      },
                      {
                        "bin_start": 17772.365659532432,
                        "bin_end": 19993.682829766214,
                        "count": 0
                      },
                      {
                        "bin_start": 19993.682829766214,
                        "bin_end": 22215,
                        "count": 1
                      }
                    ]
                  }
                },
                {
                  "name": "_deepnote_index_column",
                  "dtype": "object"
                }
              ],
              "rows": [
                {
                  "GSM11805.CEL.gz": 22215,
                  "GSM11814.CEL.gz": 22215,
                  "GSM11823.CEL.gz": 22215,
                  "GSM11830.CEL.gz": 22215,
                  "GSM12067.CEL.gz": 22215,
                  "GSM12075.CEL.gz": 22215,
                  "GSM12079.CEL.gz": 22215,
                  "GSM12098.CEL.gz": 22215,
                  "GSM12105.CEL.gz": 22215,
                  "GSM12268.CEL.gz": 22215,
                  "GSM12270.CEL.gz": 22215,
                  "GSM12283.CEL.gz": 22215,
                  "GSM12298.CEL.gz": 22215,
                  "GSM12300.CEL.gz": 22215,
                  "GSM12399.CEL.gz": 22215,
                  "GSM12444.CEL.gz": 22215,
                  "GSM21203.cel.gz": 22215,
                  "GSM21204.cel.gz": 22215,
                  "GSM21205.cel.gz": 22215,
                  "GSM21206.cel.gz": 22215,
                  "GSM21207.cel.gz": 22215,
                  "GSM21208.cel.gz": 22215,
                  "GSM21209.cel.gz": 22215,
                  "GSM21210.cel.gz": 22215,
                  "GSM21212.cel.gz": 22215,
                  "GSM21213.cel.gz": 22215,
                  "GSM21214.cel.gz": 22215,
                  "GSM21215.cel.gz": 22215,
                  "GSM21216.cel.gz": 22215,
                  "GSM21217.cel.gz": 22215,
                  "GSM21218.cel.gz": 22215,
                  "GSM21219.cel.gz": 22215,
                  "GSM21220.cel.gz": 22215,
                  "GSM21221.cel.gz": 22215,
                  "GSM21222.cel.gz": 22215,
                  "GSM21223.cel.gz": 22215,
                  "GSM21224.cel.gz": 22215,
                  "GSM21225.cel.gz": 22215,
                  "GSM21226.cel.gz": 22215,
                  "GSM21227.cel.gz": 22215,
                  "GSM21228.cel.gz": 22215,
                  "GSM21229.cel.gz": 22215,
                  "GSM21230.cel.gz": 22215,
                  "GSM21231.cel.gz": 22215,
                  "GSM21232.cel.gz": 22215,
                  "GSM21233.cel.gz": 22215,
                  "GSM87058.cel.gz": 22215,
                  "GSM87064.cel.gz": 22215,
                  "GSM87065.cel.gz": 22215,
                  "GSM87066.cel.gz": 22215,
                  "GSM87071.cel.gz": 22215,
                  "GSM87072.cel.gz": 22215,
                  "GSM87073.cel.gz": 22215,
                  "GSM87074.cel.gz": 22215,
                  "GSM87075.cel.gz": 22215,
                  "GSM87085.cel.gz": 22215,
                  "GSM87086.cel.gz": 22215,
                  "GSM87087.cel.gz": 22215,
                  "GSM87088.cel.gz": 22215,
                  "GSM87089.cel.gz": 22215,
                  "GSM87090.CEL.gz": 22215,
                  "GSM87091.cel.gz": 22215,
                  "GSM87092.cel.gz": 22215,
                  "GSM87093.cel.gz": 22215,
                  "GSM87094.cel.gz": 22215,
                  "GSM87095.cel.gz": 22215,
                  "GSM87096.cel.gz": 22215,
                  "GSM87097.cel.gz": 22215,
                  "GSM87098.cel.gz": 22215,
                  "GSM87099.cel.gz": 22215,
                  "GSM87100.cel.gz": 22215,
                  "GSM87101.cel.gz": 22215,
                  "GSM87102.cel.gz": 22215,
                  "GSM146778.CEL.gz": 22215,
                  "GSM146779.CEL.gz": 22215,
                  "GSM146781.CEL.gz": 22215,
                  "GSM146782.CEL.gz": 22215,
                  "GSM146783.CEL.gz": 22215,
                  "GSM146785.CEL.gz": 22215,
                  "GSM146787.CEL.gz": 22215,
                  "GSM146788.CEL.gz": 22215,
                  "GSM146789.CEL.gz": 22215,
                  "GSM146791.CEL.gz": 22215,
                  "GSM146793.CEL.gz": 22215,
                  "GSM146795.CEL.gz": 22215,
                  "GSM146797.CEL.gz": 22215,
                  "GSM92240.CEL.gz": 22215,
                  "GSM92241.CEL.gz": 22215,
                  "GSM92242.CEL.gz": 22215,
                  "GSM92243.CEL.gz": 22215,
                  "GSM92244.CEL.gz": 22215,
                  "GSM92245.CEL.gz": 22215,
                  "GSM92247.CEL.gz": 22215,
                  "GSM92248.CEL.gz": 22215,
                  "GSM92249.CEL.gz": 22215,
                  "GSM92250.CEL.gz": 22215,
                  "GSM92253.CEL.gz": 22215,
                  "GSM92254.CEL.gz": 22215,
                  "GSM92255.CEL.gz": 22215,
                  "GSM92256.CEL.gz": 22215,
                  "GSM92257.CEL.gz": 22215,
                  "GSM92258.CEL.gz": 22215,
                  "GSM92259.CEL.gz": 22215,
                  "GSM92260.CEL.gz": 22215,
                  "GSM92261.CEL.gz": 22215,
                  "GSM92262.CEL.gz": 22215,
                  "GSM92263.CEL.gz": 22215,
                  "GSM92264.CEL.gz": 22215,
                  "GSM92265.CEL.gz": 22215,
                  "GSM92266.CEL.gz": 22215,
                  "GSM92267.CEL.gz": 22215,
                  "GSM92268.CEL.gz": 22215,
                  "GSM92269.CEL.gz": 22215,
                  "GSM92270.CEL.gz": 22215,
                  "GSM92271.CEL.gz": 22215,
                  "GSM92272.CEL.gz": 22215,
                  "GSM92273.CEL.gz": 22215,
                  "GSM92274.CEL.gz": 22215,
                  "GSM92275.CEL.gz": 22215,
                  "GSM92276.CEL.gz": 22215,
                  "GSM35979.cel.gz": 22215,
                  "GSM35980.cel.gz": 22215,
                  "GSM35981.cel.gz": 22215,
                  "GSM35982.cel.gz": 22215,
                  "GSM35983.cel.gz": 22215,
                  "GSM35984.cel.gz": 22215,
                  "GSM35991.cel.gz": 22215,
                  "GSM35992.cel.gz": 22215,
                  "GSM35993.cel.gz": 22215,
                  "GSM35994.cel.gz": 22215,
                  "GSM35995.cel.gz": 22215,
                  "GSM35996.cel.gz": 22215,
                  "GSM36003.cel.gz": 22215,
                  "GSM44675.CEL.gz": 22215,
                  "GSM44689.CEL.gz": 22215,
                  "GSM44697.CEL.gz": 22215,
                  "GSM44702.CEL.gz": 22215,
                  "GSM181429.CEL.gz": 22215,
                  "GSM181430.CEL.gz": 22215,
                  "GSM181431.CEL.gz": 22215,
                  "GSM181432.CEL.gz": 22215,
                  "GSM181433.CEL.gz": 22215,
                  "GSM18917.CEL.gz": 22215,
                  "GSM18918.CEL.gz": 22215,
                  "GSM18953.CEL.gz": 22215,
                  "GSM18954.CEL.gz": 22215,
                  "GSM18955.CEL.gz": 22215,
                  "GSM18956.CEL.gz": 22215,
                  "GSM296875.CEL.gz": 22215,
                  "GSM296876.CEL.gz": 22215,
                  "GSM296878.CEL.gz": 22215,
                  "GSM296879.CEL.gz": 22215,
                  "GSM296880.CEL.gz": 22215,
                  "GSM296881.CEL.gz": 22215,
                  "GSM296882.CEL.gz": 22215,
                  "GSM296883.CEL.gz": 22215,
                  "GSM296886.CEL.gz": 22215,
                  "GSM296887.CEL.gz": 22215,
                  "GSM296888.CEL.gz": 22215,
                  "GSM296889.CEL.gz": 22215,
                  "GSM296890.CEL.gz": 22215,
                  "GSM296891.CEL.gz": 22215,
                  "GSM296892.CEL.gz": 22215,
                  "GSM298747.CEL.gz": 22215,
                  "GSM298748.CEL.gz": 22215,
                  "GSM298749.CEL.gz": 22215,
                  "GSM298750.CEL.gz": 22215,
                  "GSM299110.CEL.gz": 22215,
                  "GSM299111.CEL.gz": 22215,
                  "GSM299112.CEL.gz": 22215,
                  "GSM299113.CEL.gz": 22215,
                  "GSM299244.CEL.gz": 22215,
                  "GSM299245.CEL.gz": 22215,
                  "GSM299246.CEL.gz": 22215,
                  "GSM299247.CEL.gz": 22215,
                  "GSM322969.CEL.gz": 22215,
                  "GSM323054.CEL.gz": 22215,
                  "GSM323523.CEL.gz": 22215,
                  "GSM323524.CEL.gz": 22215,
                  "GSM323527.CEL.gz": 22215,
                  "GSM323565.CEL.gz": 22215,
                  "GSM323566.CEL.gz": 22215,
                  "GSM323567.CEL.gz": 22215,
                  "GSM246492.CEL.gz": 22215,
                  "GSM246493.CEL.gz": 22215,
                  "GSM246494.CEL.gz": 22215,
                  "GSM307639.CEL.gz": 22215,
                  "GSM307640.CEL.gz": 22215,
                  "GSM307641.CEL.gz": 22215,
                  "_deepnote_index_column": "count"
                },
                {
                  "GSM11805.CEL.gz": 7.409846433251925,
                  "GSM11814.CEL.gz": 7.407811046186507,
                  "GSM11823.CEL.gz": 7.384572886287919,
                  "GSM11830.CEL.gz": 7.426581097075101,
                  "GSM12067.CEL.gz": 7.401096814706667,
                  "GSM12075.CEL.gz": 7.393244963495328,
                  "GSM12079.CEL.gz": 7.392725412815054,
                  "GSM12098.CEL.gz": 7.38556410912869,
                  "GSM12105.CEL.gz": 7.408331525253266,
                  "GSM12268.CEL.gz": 7.402444793382455,
                  "GSM12270.CEL.gz": 7.419249728460929,
                  "GSM12283.CEL.gz": 7.3819374815392225,
                  "GSM12298.CEL.gz": 7.409049375989885,
                  "GSM12300.CEL.gz": 7.388065730432952,
                  "GSM12399.CEL.gz": 7.417739990689826,
                  "GSM12444.CEL.gz": 7.399470916996085,
                  "GSM21203.cel.gz": 7.368735842063588,
                  "GSM21204.cel.gz": 7.356749791691818,
                  "GSM21205.cel.gz": 7.285839168193032,
                  "GSM21206.cel.gz": 7.39484344813249,
                  "GSM21207.cel.gz": 7.3041023480682234,
                  "GSM21208.cel.gz": 7.371804349498589,
                  "GSM21209.cel.gz": 7.334357125338382,
                  "GSM21210.cel.gz": 7.37488422253614,
                  "GSM21212.cel.gz": 7.335219965650171,
                  "GSM21213.cel.gz": 7.344902720756851,
                  "GSM21214.cel.gz": 7.374100204386332,
                  "GSM21215.cel.gz": 7.399940682368117,
                  "GSM21216.cel.gz": 7.389125057157172,
                  "GSM21217.cel.gz": 7.374737307699092,
                  "GSM21218.cel.gz": 7.403905399549166,
                  "GSM21219.cel.gz": 7.3602653445636035,
                  "GSM21220.cel.gz": 7.37923037179138,
                  "GSM21221.cel.gz": 7.392668960463157,
                  "GSM21222.cel.gz": 7.3619689270050745,
                  "GSM21223.cel.gz": 7.356089318806712,
                  "GSM21224.cel.gz": 7.383404916788831,
                  "GSM21225.cel.gz": 7.391344685236386,
                  "GSM21226.cel.gz": 7.365302686593991,
                  "GSM21227.cel.gz": 7.348945830166967,
                  "GSM21228.cel.gz": 7.373531262570672,
                  "GSM21229.cel.gz": 7.393719832252093,
                  "GSM21230.cel.gz": 7.337485099960844,
                  "GSM21231.cel.gz": 7.3844839006860905,
                  "GSM21232.cel.gz": 7.356511336315211,
                  "GSM21233.cel.gz": 7.351137592936755,
                  "GSM87058.cel.gz": 7.375185729774021,
                  "GSM87064.cel.gz": 7.380371244373489,
                  "GSM87065.cel.gz": 7.3897565767247135,
                  "GSM87066.cel.gz": 7.391561713001442,
                  "GSM87071.cel.gz": 7.368614227498917,
                  "GSM87072.cel.gz": 7.3827620016946565,
                  "GSM87073.cel.gz": 7.380897732218926,
                  "GSM87074.cel.gz": 7.376628831682811,
                  "GSM87075.cel.gz": 7.381929976619471,
                  "GSM87085.cel.gz": 7.368672777015834,
                  "GSM87086.cel.gz": 7.382499765586974,
                  "GSM87087.cel.gz": 7.382452524080649,
                  "GSM87088.cel.gz": 7.373018121906647,
                  "GSM87089.cel.gz": 7.385452133598408,
                  "GSM87090.CEL.gz": 7.386711597068292,
                  "GSM87091.cel.gz": 7.384456661797311,
                  "GSM87092.cel.gz": 7.379147101277413,
                  "GSM87093.cel.gz": 7.397698233270568,
                  "GSM87094.cel.gz": 7.363897146563455,
                  "GSM87095.cel.gz": 7.389728587804948,
                  "GSM87096.cel.gz": 7.365708357392411,
                  "GSM87097.cel.gz": 7.383132589408321,
                  "GSM87098.cel.gz": 7.378341973134214,
                  "GSM87099.cel.gz": 7.393278379843778,
                  "GSM87100.cel.gz": 7.371370918001209,
                  "GSM87101.cel.gz": 7.380496255557563,
                  "GSM87102.cel.gz": 7.383884676135068,
                  "GSM146778.CEL.gz": 7.371862708941693,
                  "GSM146779.CEL.gz": 7.423715141514185,
                  "GSM146781.CEL.gz": 7.395308165496809,
                  "GSM146782.CEL.gz": 7.357325494211885,
                  "GSM146783.CEL.gz": 7.414194612634233,
                  "GSM146785.CEL.gz": 7.4003702065057135,
                  "GSM146787.CEL.gz": 7.42438389780395,
                  "GSM146788.CEL.gz": 7.403688107077122,
                  "GSM146789.CEL.gz": 7.350259701169659,
                  "GSM146791.CEL.gz": 7.414980542821516,
                  "GSM146793.CEL.gz": 7.405658677968403,
                  "GSM146795.CEL.gz": 7.395822023220708,
                  "GSM146797.CEL.gz": 7.396138740341992,
                  "GSM92240.CEL.gz": 7.3597347768283115,
                  "GSM92241.CEL.gz": 7.384893404178974,
                  "GSM92242.CEL.gz": 7.369786625914964,
                  "GSM92243.CEL.gz": 7.358887363881235,
                  "GSM92244.CEL.gz": 7.391928074645538,
                  "GSM92245.CEL.gz": 7.387306113887194,
                  "GSM92247.CEL.gz": 7.383726323815905,
                  "GSM92248.CEL.gz": 7.352592561755917,
                  "GSM92249.CEL.gz": 7.363300491772564,
                  "GSM92250.CEL.gz": 7.373170411776949,
                  "GSM92253.CEL.gz": 7.388449493892711,
                  "GSM92254.CEL.gz": 7.379052189648585,
                  "GSM92255.CEL.gz": 7.375237190706587,
                  "GSM92256.CEL.gz": 7.342200382908742,
                  "GSM92257.CEL.gz": 7.3636353310778935,
                  "GSM92258.CEL.gz": 7.3733546879252385,
                  "GSM92259.CEL.gz": 7.375262541130518,
                  "GSM92260.CEL.gz": 7.365234664192424,
                  "GSM92261.CEL.gz": 7.371656002540198,
                  "GSM92262.CEL.gz": 7.317064258976186,
                  "GSM92263.CEL.gz": 7.377098462605396,
                  "GSM92264.CEL.gz": 7.371574252051451,
                  "GSM92265.CEL.gz": 7.360203588562505,
                  "GSM92266.CEL.gz": 7.393847129560574,
                  "GSM92267.CEL.gz": 7.32380905559623,
                  "GSM92268.CEL.gz": 7.377600982475188,
                  "GSM92269.CEL.gz": 7.389804565850061,
                  "GSM92270.CEL.gz": 7.368892361055788,
                  "GSM92271.CEL.gz": 7.357531027863153,
                  "GSM92272.CEL.gz": 7.3836957711440565,
                  "GSM92273.CEL.gz": 7.368215376850225,
                  "GSM92274.CEL.gz": 7.354172242702029,
                  "GSM92275.CEL.gz": 7.349961747620098,
                  "GSM92276.CEL.gz": 7.349193887822508,
                  "GSM35979.cel.gz": 7.357918367206014,
                  "GSM35980.cel.gz": 7.355601561250122,
                  "GSM35981.cel.gz": 7.33051091501855,
                  "GSM35982.cel.gz": 7.328508976787016,
                  "GSM35983.cel.gz": 7.33220381437379,
                  "GSM35984.cel.gz": 7.333509697100323,
                  "GSM35991.cel.gz": 7.419640242881001,
                  "GSM35992.cel.gz": 7.456706633673885,
                  "GSM35993.cel.gz": 7.422163996173043,
                  "GSM35994.cel.gz": 7.392783681119977,
                  "GSM35995.cel.gz": 7.387584793396063,
                  "GSM35996.cel.gz": 7.401722933128045,
                  "GSM36003.cel.gz": 7.359172341552536,
                  "GSM44675.CEL.gz": 7.3370122191735545,
                  "GSM44689.CEL.gz": 7.3624335216305,
                  "GSM44697.CEL.gz": 7.3712047577426505,
                  "GSM44702.CEL.gz": 7.363972186134032,
                  "GSM181429.CEL.gz": 7.392847808417389,
                  "GSM181430.CEL.gz": 7.3668197667179225,
                  "GSM181431.CEL.gz": 7.389169530856174,
                  "GSM181432.CEL.gz": 7.312360665017742,
                  "GSM181433.CEL.gz": 7.342606771330041,
                  "GSM18917.CEL.gz": 7.273971627709818,
                  "GSM18918.CEL.gz": 7.285946585216756,
                  "GSM18953.CEL.gz": 7.310800539027851,
                  "GSM18954.CEL.gz": 7.313410473877362,
                  "GSM18955.CEL.gz": 7.277210735455698,
                  "GSM18956.CEL.gz": 7.278821403041769,
                  "GSM296875.CEL.gz": 7.37878518579829,
                  "GSM296876.CEL.gz": 7.381988953939766,
                  "GSM296878.CEL.gz": 7.377677888774767,
                  "GSM296879.CEL.gz": 7.372949587046171,
                  "GSM296880.CEL.gz": 7.392799817033202,
                  "GSM296881.CEL.gz": 7.391066018807514,
                  "GSM296882.CEL.gz": 7.387125080513399,
                  "GSM296883.CEL.gz": 7.367049154021014,
                  "GSM296886.CEL.gz": 7.379089611883271,
                  "GSM296887.CEL.gz": 7.38638791983229,
                  "GSM296888.CEL.gz": 7.352508890545659,
                  "GSM296889.CEL.gz": 7.37838446061496,
                  "GSM296890.CEL.gz": 7.375715971424665,
                  "GSM296891.CEL.gz": 7.389487840322237,
                  "GSM296892.CEL.gz": 7.391430048874768,
                  "GSM298747.CEL.gz": 7.335034522503653,
                  "GSM298748.CEL.gz": 7.356416720592589,
                  "GSM298749.CEL.gz": 7.367000925230971,
                  "GSM298750.CEL.gz": 7.357961422796259,
                  "GSM299110.CEL.gz": 7.335034522503653,
                  "GSM299111.CEL.gz": 7.367000925230971,
                  "GSM299112.CEL.gz": 7.357961422796259,
                  "GSM299113.CEL.gz": 7.356416720592589,
                  "GSM299244.CEL.gz": 7.365375265290329,
                  "GSM299245.CEL.gz": 7.359693893053163,
                  "GSM299246.CEL.gz": 7.323479209778557,
                  "GSM299247.CEL.gz": 7.353481673184164,
                  "GSM322969.CEL.gz": 7.4187519507208775,
                  "GSM323054.CEL.gz": 7.428942977909085,
                  "GSM323523.CEL.gz": 7.427091924135649,
                  "GSM323524.CEL.gz": 7.432967068484839,
                  "GSM323527.CEL.gz": 7.412955543643667,
                  "GSM323565.CEL.gz": 7.4100844530380225,
                  "GSM323566.CEL.gz": 7.408581797646876,
                  "GSM323567.CEL.gz": 7.414649901503678,
                  "GSM246492.CEL.gz": 7.391031878181329,
                  "GSM246493.CEL.gz": 7.399572448818467,
                  "GSM246494.CEL.gz": 7.391870168849269,
                  "GSM307639.CEL.gz": 7.424121357309301,
                  "GSM307640.CEL.gz": 7.397442634566944,
                  "GSM307641.CEL.gz": 7.395086708381753,
                  "_deepnote_index_column": "mean"
                },
                {
                  "GSM11805.CEL.gz": 1.8274999161295917,
                  "GSM11814.CEL.gz": 1.8449491508690015,
                  "GSM11823.CEL.gz": 1.8020543163604241,
                  "GSM11830.CEL.gz": 1.7804003435670623,
                  "GSM12067.CEL.gz": 1.7927453492848366,
                  "GSM12075.CEL.gz": 1.7843352842800106,
                  "GSM12079.CEL.gz": 1.751410717977131,
                  "GSM12098.CEL.gz": 1.7976867903283045,
                  "GSM12105.CEL.gz": 1.81942007363109,
                  "GSM12268.CEL.gz": 1.8033666926713436,
                  "GSM12270.CEL.gz": 1.811429389396316,
                  "GSM12283.CEL.gz": 1.7726240196967706,
                  "GSM12298.CEL.gz": 1.8214539027865997,
                  "GSM12300.CEL.gz": 1.7947065989926427,
                  "GSM12399.CEL.gz": 1.7776251203971893,
                  "GSM12444.CEL.gz": 1.8022828034330365,
                  "GSM21203.cel.gz": 1.736133952162964,
                  "GSM21204.cel.gz": 1.7503761039831447,
                  "GSM21205.cel.gz": 1.646109565681536,
                  "GSM21206.cel.gz": 1.8178955356231754,
                  "GSM21207.cel.gz": 1.6536899937083993,
                  "GSM21208.cel.gz": 1.736234429792682,
                  "GSM21209.cel.gz": 1.7313832979261916,
                  "GSM21210.cel.gz": 1.789126342086243,
                  "GSM21212.cel.gz": 1.733680330895395,
                  "GSM21213.cel.gz": 1.7119064934670536,
                  "GSM21214.cel.gz": 1.7797453613310468,
                  "GSM21215.cel.gz": 1.8096183287517906,
                  "GSM21216.cel.gz": 1.8135270770817824,
                  "GSM21217.cel.gz": 1.791848000011394,
                  "GSM21218.cel.gz": 1.834986573657048,
                  "GSM21219.cel.gz": 1.7799520480437407,
                  "GSM21220.cel.gz": 1.7973150898386596,
                  "GSM21221.cel.gz": 1.8040941834193875,
                  "GSM21222.cel.gz": 1.7868158082415313,
                  "GSM21223.cel.gz": 1.7909771359628812,
                  "GSM21224.cel.gz": 1.8255308004442607,
                  "GSM21225.cel.gz": 1.8168443573072202,
                  "GSM21226.cel.gz": 1.7463692846467025,
                  "GSM21227.cel.gz": 1.787939844019106,
                  "GSM21228.cel.gz": 1.7978764071153803,
                  "GSM21229.cel.gz": 1.8219467777535376,
                  "GSM21230.cel.gz": 1.7542677432819356,
                  "GSM21231.cel.gz": 1.7763316928684014,
                  "GSM21232.cel.gz": 1.755721848524885,
                  "GSM21233.cel.gz": 1.7490849971790232,
                  "GSM87058.cel.gz": 1.7495543899119608,
                  "GSM87064.cel.gz": 1.7500310950067914,
                  "GSM87065.cel.gz": 1.7819724780864419,
                  "GSM87066.cel.gz": 1.7935641146585806,
                  "GSM87071.cel.gz": 1.7477759950804506,
                  "GSM87072.cel.gz": 1.7715520399865792,
                  "GSM87073.cel.gz": 1.7808380396071661,
                  "GSM87074.cel.gz": 1.754185809464666,
                  "GSM87075.cel.gz": 1.7731955821325398,
                  "GSM87085.cel.gz": 1.7662216104206465,
                  "GSM87086.cel.gz": 1.7727423410356775,
                  "GSM87087.cel.gz": 1.7781174846748293,
                  "GSM87088.cel.gz": 1.7367801641221223,
                  "GSM87089.cel.gz": 1.7880520854486999,
                  "GSM87090.CEL.gz": 1.7971212106633971,
                  "GSM87091.cel.gz": 1.7769982284218755,
                  "GSM87092.cel.gz": 1.76981012568919,
                  "GSM87093.cel.gz": 1.810040830628329,
                  "GSM87094.cel.gz": 1.7593725499058024,
                  "GSM87095.cel.gz": 1.7920903280115157,
                  "GSM87096.cel.gz": 1.755077697505831,
                  "GSM87097.cel.gz": 1.7824159880936064,
                  "GSM87098.cel.gz": 1.7553110825586935,
                  "GSM87099.cel.gz": 1.7955674938438815,
                  "GSM87100.cel.gz": 1.7651910115471081,
                  "GSM87101.cel.gz": 1.7826019857052013,
                  "GSM87102.cel.gz": 1.7853961515204164,
                  "GSM146778.CEL.gz": 1.8115957415833017,
                  "GSM146779.CEL.gz": 1.8547654429234908,
                  "GSM146781.CEL.gz": 1.8124016726244676,
                  "GSM146782.CEL.gz": 1.7795702013519874,
                  "GSM146783.CEL.gz": 1.8200145000353027,
                  "GSM146785.CEL.gz": 1.8394492019679853,
                  "GSM146787.CEL.gz": 1.8570612742049766,
                  "GSM146788.CEL.gz": 1.804558250103043,
                  "GSM146789.CEL.gz": 1.782835246678384,
                  "GSM146791.CEL.gz": 1.831321798972782,
                  "GSM146793.CEL.gz": 1.8609115809907315,
                  "GSM146795.CEL.gz": 1.8138096302492224,
                  "GSM146797.CEL.gz": 1.7817889696932454,
                  "GSM92240.CEL.gz": 1.7474120355036131,
                  "GSM92241.CEL.gz": 1.7456853379328547,
                  "GSM92242.CEL.gz": 1.7615593524844826,
                  "GSM92243.CEL.gz": 1.7334600496842556,
                  "GSM92244.CEL.gz": 1.7725255536574105,
                  "GSM92245.CEL.gz": 1.73442497664634,
                  "GSM92247.CEL.gz": 1.7615483368229528,
                  "GSM92248.CEL.gz": 1.7463985715434627,
                  "GSM92249.CEL.gz": 1.7334219997317426,
                  "GSM92250.CEL.gz": 1.7696119183101577,
                  "GSM92253.CEL.gz": 1.7836902291639305,
                  "GSM92254.CEL.gz": 1.7595242234925714,
                  "GSM92255.CEL.gz": 1.7558791143714851,
                  "GSM92256.CEL.gz": 1.70979966864327,
                  "GSM92257.CEL.gz": 1.7317757637416356,
                  "GSM92258.CEL.gz": 1.7595985402752465,
                  "GSM92259.CEL.gz": 1.765253354172683,
                  "GSM92260.CEL.gz": 1.7587554241749614,
                  "GSM92261.CEL.gz": 1.7650762517428908,
                  "GSM92262.CEL.gz": 1.6925200266021339,
                  "GSM92263.CEL.gz": 1.7723909511893368,
                  "GSM92264.CEL.gz": 1.7576206008074498,
                  "GSM92265.CEL.gz": 1.7320243556862898,
                  "GSM92266.CEL.gz": 1.7927904706174276,
                  "GSM92267.CEL.gz": 1.7148168956609553,
                  "GSM92268.CEL.gz": 1.7678049676640044,
                  "GSM92269.CEL.gz": 1.7858441811699426,
                  "GSM92270.CEL.gz": 1.763607884761874,
                  "GSM92271.CEL.gz": 1.7409317738204904,
                  "GSM92272.CEL.gz": 1.7715938075156095,
                  "GSM92273.CEL.gz": 1.7487036660570137,
                  "GSM92274.CEL.gz": 1.718828690379298,
                  "GSM92275.CEL.gz": 1.7324561965759628,
                  "GSM92276.CEL.gz": 1.7417451908812265,
                  "GSM35979.cel.gz": 1.7476591259179015,
                  "GSM35980.cel.gz": 1.743200682995146,
                  "GSM35981.cel.gz": 1.680826568625164,
                  "GSM35982.cel.gz": 1.7003816536348342,
                  "GSM35983.cel.gz": 1.6953614908099472,
                  "GSM35984.cel.gz": 1.6987417309332038,
                  "GSM35991.cel.gz": 1.7913216567651475,
                  "GSM35992.cel.gz": 1.7735789378964426,
                  "GSM35993.cel.gz": 1.7954941257497412,
                  "GSM35994.cel.gz": 1.786594226575349,
                  "GSM35995.cel.gz": 1.7542331842088943,
                  "GSM35996.cel.gz": 1.7960900224342617,
                  "GSM36003.cel.gz": 1.7296489662757877,
                  "GSM44675.CEL.gz": 1.7235332269806038,
                  "GSM44689.CEL.gz": 1.7574204928430606,
                  "GSM44697.CEL.gz": 1.7438436503581203,
                  "GSM44702.CEL.gz": 1.7107656632169044,
                  "GSM181429.CEL.gz": 1.8547755521284714,
                  "GSM181430.CEL.gz": 1.7857302234703283,
                  "GSM181431.CEL.gz": 1.8324987970989792,
                  "GSM181432.CEL.gz": 1.7254638517397791,
                  "GSM181433.CEL.gz": 1.7828822626547522,
                  "GSM18917.CEL.gz": 1.6191810398588955,
                  "GSM18918.CEL.gz": 1.6134482877559957,
                  "GSM18953.CEL.gz": 1.639115380044042,
                  "GSM18954.CEL.gz": 1.6487014493068208,
                  "GSM18955.CEL.gz": 1.611702621853262,
                  "GSM18956.CEL.gz": 1.6413645255074527,
                  "GSM296875.CEL.gz": 1.7677873584263786,
                  "GSM296876.CEL.gz": 1.772040595143333,
                  "GSM296878.CEL.gz": 1.779518301571068,
                  "GSM296879.CEL.gz": 1.7389897407037167,
                  "GSM296880.CEL.gz": 1.7744570462994413,
                  "GSM296881.CEL.gz": 1.77442589066793,
                  "GSM296882.CEL.gz": 1.7710895675606895,
                  "GSM296883.CEL.gz": 1.7482245002834436,
                  "GSM296886.CEL.gz": 1.783360094708932,
                  "GSM296887.CEL.gz": 1.7801495878281217,
                  "GSM296888.CEL.gz": 1.7372260609368737,
                  "GSM296889.CEL.gz": 1.7868770985898048,
                  "GSM296890.CEL.gz": 1.7734672160101232,
                  "GSM296891.CEL.gz": 1.7850590490467169,
                  "GSM296892.CEL.gz": 1.7876041597489118,
                  "GSM298747.CEL.gz": 1.7724273166503566,
                  "GSM298748.CEL.gz": 1.770549980785364,
                  "GSM298749.CEL.gz": 1.7435927919185383,
                  "GSM298750.CEL.gz": 1.8200311752854648,
                  "GSM299110.CEL.gz": 1.7724273166503566,
                  "GSM299111.CEL.gz": 1.7435927919185383,
                  "GSM299112.CEL.gz": 1.8200311752854648,
                  "GSM299113.CEL.gz": 1.770549980785364,
                  "GSM299244.CEL.gz": 1.7795375549553845,
                  "GSM299245.CEL.gz": 1.7989252542536607,
                  "GSM299246.CEL.gz": 1.7479063022798076,
                  "GSM299247.CEL.gz": 1.7781773002030943,
                  "GSM322969.CEL.gz": 1.8104859959461825,
                  "GSM323054.CEL.gz": 1.8137116822984702,
                  "GSM323523.CEL.gz": 1.8578247543707238,
                  "GSM323524.CEL.gz": 1.8418396821277425,
                  "GSM323527.CEL.gz": 1.8068295944772483,
                  "GSM323565.CEL.gz": 1.8166438081728173,
                  "GSM323566.CEL.gz": 1.828750108055539,
                  "GSM323567.CEL.gz": 1.859744026901623,
                  "GSM246492.CEL.gz": 1.8856831648555306,
                  "GSM246493.CEL.gz": 1.8359557991836317,
                  "GSM246494.CEL.gz": 1.8352409873397038,
                  "GSM307639.CEL.gz": 1.830003806829717,
                  "GSM307640.CEL.gz": 1.785327155586448,
                  "GSM307641.CEL.gz": 1.8282976621668527,
                  "_deepnote_index_column": "std"
                },
                {
                  "GSM11805.CEL.gz": 4.28572244321942,
                  "GSM11814.CEL.gz": 4.2658387332781,
                  "GSM11823.CEL.gz": 4.23361266905562,
                  "GSM11830.CEL.gz": 4.23897104854928,
                  "GSM12067.CEL.gz": 4.17353087114363,
                  "GSM12075.CEL.gz": 4.2742413101021,
                  "GSM12079.CEL.gz": 4.21611184190233,
                  "GSM12098.CEL.gz": 4.20905330781753,
                  "GSM12105.CEL.gz": 4.18488974461512,
                  "GSM12268.CEL.gz": 4.15674546101686,
                  "GSM12270.CEL.gz": 4.22283181254711,
                  "GSM12283.CEL.gz": 4.22544755437052,
                  "GSM12298.CEL.gz": 4.20660420283053,
                  "GSM12300.CEL.gz": 4.24323884674451,
                  "GSM12399.CEL.gz": 4.22194012037984,
                  "GSM12444.CEL.gz": 4.25374085260086,
                  "GSM21203.cel.gz": 4.26442173714076,
                  "GSM21204.cel.gz": 4.28195239039584,
                  "GSM21205.cel.gz": 4.27223031115656,
                  "GSM21206.cel.gz": 4.28630748294864,
                  "GSM21207.cel.gz": 4.29165656914718,
                  "GSM21208.cel.gz": 4.28554286225229,
                  "GSM21209.cel.gz": 4.30403667266884,
                  "GSM21210.cel.gz": 4.28821991586711,
                  "GSM21212.cel.gz": 4.26492480752847,
                  "GSM21213.cel.gz": 4.29851255132013,
                  "GSM21214.cel.gz": 4.25980736105257,
                  "GSM21215.cel.gz": 4.24350592290055,
                  "GSM21216.cel.gz": 4.22772177674078,
                  "GSM21217.cel.gz": 4.28844351790185,
                  "GSM21218.cel.gz": 4.25592071169455,
                  "GSM21219.cel.gz": 4.28745412511185,
                  "GSM21220.cel.gz": 4.26236312660973,
                  "GSM21221.cel.gz": 4.24420359959988,
                  "GSM21222.cel.gz": 4.28778549342814,
                  "GSM21223.cel.gz": 4.25947821004779,
                  "GSM21224.cel.gz": 4.29569836742551,
                  "GSM21225.cel.gz": 4.28235456016547,
                  "GSM21226.cel.gz": 4.25662362973117,
                  "GSM21227.cel.gz": 4.2736228447884,
                  "GSM21228.cel.gz": 4.27138221907553,
                  "GSM21229.cel.gz": 4.27286545290147,
                  "GSM21230.cel.gz": 4.21045656093592,
                  "GSM21231.cel.gz": 4.25160558460527,
                  "GSM21232.cel.gz": 4.30968933880977,
                  "GSM21233.cel.gz": 4.28439929698528,
                  "GSM87058.cel.gz": 4.26044506532259,
                  "GSM87064.cel.gz": 4.26450788469631,
                  "GSM87065.cel.gz": 4.23414997549004,
                  "GSM87066.cel.gz": 4.24284865942228,
                  "GSM87071.cel.gz": 4.26452549027148,
                  "GSM87072.cel.gz": 4.25679395234093,
                  "GSM87073.cel.gz": 4.23781769407525,
                  "GSM87074.cel.gz": 4.27904734192002,
                  "GSM87075.cel.gz": 4.25129870335487,
                  "GSM87085.cel.gz": 4.28202209780214,
                  "GSM87086.cel.gz": 4.26311180753124,
                  "GSM87087.cel.gz": 4.28428510019643,
                  "GSM87088.cel.gz": 4.12165456216985,
                  "GSM87089.cel.gz": 4.26495985771374,
                  "GSM87090.CEL.gz": 4.21632070832697,
                  "GSM87091.cel.gz": 4.27921087717748,
                  "GSM87092.cel.gz": 4.27715691643702,
                  "GSM87093.cel.gz": 4.27950073341563,
                  "GSM87094.cel.gz": 4.26039813681481,
                  "GSM87095.cel.gz": 4.24200630329758,
                  "GSM87096.cel.gz": 4.27686810263418,
                  "GSM87097.cel.gz": 4.25815933588304,
                  "GSM87098.cel.gz": 4.26285857953164,
                  "GSM87099.cel.gz": 4.26308931011959,
                  "GSM87100.cel.gz": 4.24807089303192,
                  "GSM87101.cel.gz": 4.27097605452576,
                  "GSM87102.cel.gz": 4.24275751556648,
                  "GSM146778.CEL.gz": 4.21463479645538,
                  "GSM146779.CEL.gz": 4.27648003890149,
                  "GSM146781.CEL.gz": 4.26336213475252,
                  "GSM146782.CEL.gz": 4.2436823099575,
                  "GSM146783.CEL.gz": 4.2236656361657,
                  "GSM146785.CEL.gz": 4.28726098086377,
                  "GSM146787.CEL.gz": 4.26115329663216,
                  "GSM146788.CEL.gz": 4.29147083677732,
                  "GSM146789.CEL.gz": 4.21642264363744,
                  "GSM146791.CEL.gz": 4.26147038455641,
                  "GSM146793.CEL.gz": 4.28861340080471,
                  "GSM146795.CEL.gz": 4.28704706940507,
                  "GSM146797.CEL.gz": 4.29321098700099,
                  "GSM92240.CEL.gz": 4.28314287029993,
                  "GSM92241.CEL.gz": 4.28221650485052,
                  "GSM92242.CEL.gz": 4.21950267747972,
                  "GSM92243.CEL.gz": 4.2574776501123,
                  "GSM92244.CEL.gz": 4.27791741876803,
                  "GSM92245.CEL.gz": 4.28853575184905,
                  "GSM92247.CEL.gz": 4.26997685267641,
                  "GSM92248.CEL.gz": 4.28427365548382,
                  "GSM92249.CEL.gz": 4.27764097656682,
                  "GSM92250.CEL.gz": 4.24984379472029,
                  "GSM92253.CEL.gz": 4.28524254787149,
                  "GSM92254.CEL.gz": 4.28976163201143,
                  "GSM92255.CEL.gz": 4.31055207090103,
                  "GSM92256.CEL.gz": 4.23357376859562,
                  "GSM92257.CEL.gz": 4.26559509542827,
                  "GSM92258.CEL.gz": 4.23356681952228,
                  "GSM92259.CEL.gz": 4.27209453358961,
                  "GSM92260.CEL.gz": 4.26815293931354,
                  "GSM92261.CEL.gz": 4.28565617705204,
                  "GSM92262.CEL.gz": 4.23979187020209,
                  "GSM92263.CEL.gz": 4.28738092392965,
                  "GSM92264.CEL.gz": 4.25732548398819,
                  "GSM92265.CEL.gz": 4.25998600240802,
                  "GSM92266.CEL.gz": 4.27755627052824,
                  "GSM92267.CEL.gz": 4.26047881971518,
                  "GSM92268.CEL.gz": 4.26703596682594,
                  "GSM92269.CEL.gz": 4.24408541243812,
                  "GSM92270.CEL.gz": 4.26378180277638,
                  "GSM92271.CEL.gz": 4.24447447706596,
                  "GSM92272.CEL.gz": 4.26719185767339,
                  "GSM92273.CEL.gz": 4.27927796970116,
                  "GSM92274.CEL.gz": 4.3005851268446,
                  "GSM92275.CEL.gz": 4.21636275207823,
                  "GSM92276.CEL.gz": 4.24208878200445,
                  "GSM35979.cel.gz": 4.26477324065221,
                  "GSM35980.cel.gz": 4.25359767135435,
                  "GSM35981.cel.gz": 4.2094841215841,
                  "GSM35982.cel.gz": 4.23284481713565,
                  "GSM35983.cel.gz": 4.24833459700871,
                  "GSM35984.cel.gz": 4.21599784033239,
                  "GSM35991.cel.gz": 4.27655024473811,
                  "GSM35992.cel.gz": 4.3401784525618,
                  "GSM35993.cel.gz": 4.22451389799641,
                  "GSM35994.cel.gz": 4.22146633131318,
                  "GSM35995.cel.gz": 4.22874492613242,
                  "GSM35996.cel.gz": 4.26303035319282,
                  "GSM36003.cel.gz": 4.26757293870257,
                  "GSM44675.CEL.gz": 4.20770537567518,
                  "GSM44689.CEL.gz": 4.26117406145932,
                  "GSM44697.CEL.gz": 4.28013711420873,
                  "GSM44702.CEL.gz": 4.25637976035806,
                  "GSM181429.CEL.gz": 4.24298025752093,
                  "GSM181430.CEL.gz": 4.27749771425956,
                  "GSM181431.CEL.gz": 4.29267116639289,
                  "GSM181432.CEL.gz": 4.31987742851233,
                  "GSM181433.CEL.gz": 4.27193979573817,
                  "GSM18917.CEL.gz": 4.22064805471405,
                  "GSM18918.CEL.gz": 4.24848906729174,
                  "GSM18953.CEL.gz": 4.28585015842545,
                  "GSM18954.CEL.gz": 4.32571349885878,
                  "GSM18955.CEL.gz": 4.18632174486544,
                  "GSM18956.CEL.gz": 4.18552191210908,
                  "GSM296875.CEL.gz": 4.2257790973986,
                  "GSM296876.CEL.gz": 4.19962840928813,
                  "GSM296878.CEL.gz": 4.27371496217134,
                  "GSM296879.CEL.gz": 4.27773187282214,
                  "GSM296880.CEL.gz": 4.26850546726066,
                  "GSM296881.CEL.gz": 4.26478142902005,
                  "GSM296882.CEL.gz": 4.23763187115465,
                  "GSM296883.CEL.gz": 4.26388450487586,
                  "GSM296886.CEL.gz": 4.24700730388842,
                  "GSM296887.CEL.gz": 4.28371701020339,
                  "GSM296888.CEL.gz": 4.26299089631319,
                  "GSM296889.CEL.gz": 4.23772068116114,
                  "GSM296890.CEL.gz": 4.24479083867513,
                  "GSM296891.CEL.gz": 4.25823099205331,
                  "GSM296892.CEL.gz": 4.26049648161891,
                  "GSM298747.CEL.gz": 4.307756545368,
                  "GSM298748.CEL.gz": 4.26184237229787,
                  "GSM298749.CEL.gz": 4.27784944308921,
                  "GSM298750.CEL.gz": 4.28690789232839,
                  "GSM299110.CEL.gz": 4.307756545368,
                  "GSM299111.CEL.gz": 4.27784944308921,
                  "GSM299112.CEL.gz": 4.28690789232839,
                  "GSM299113.CEL.gz": 4.26184237229787,
                  "GSM299244.CEL.gz": 4.27581684766811,
                  "GSM299245.CEL.gz": 4.30973396512346,
                  "GSM299246.CEL.gz": 4.24403429764107,
                  "GSM299247.CEL.gz": 4.30565945991955,
                  "GSM322969.CEL.gz": 4.27266052659527,
                  "GSM323054.CEL.gz": 4.28906561633207,
                  "GSM323523.CEL.gz": 4.24762002711931,
                  "GSM323524.CEL.gz": 4.22536291505896,
                  "GSM323527.CEL.gz": 4.28456563916097,
                  "GSM323565.CEL.gz": 4.27377143305854,
                  "GSM323566.CEL.gz": 4.24301787487098,
                  "GSM323567.CEL.gz": 4.28788968149081,
                  "GSM246492.CEL.gz": 4.276072364427,
                  "GSM246493.CEL.gz": 4.28381005169818,
                  "GSM246494.CEL.gz": 4.25226367536426,
                  "GSM307639.CEL.gz": 4.3508585118568,
                  "GSM307640.CEL.gz": 4.39692650444626,
                  "GSM307641.CEL.gz": 4.31805829509998,
                  "_deepnote_index_column": "min"
                },
                {
                  "GSM11805.CEL.gz": 5.992388508806675,
                  "GSM11814.CEL.gz": 5.978839422015049,
                  "GSM11823.CEL.gz": 5.99870010184,
                  "GSM11830.CEL.gz": 6.061791870320635,
                  "GSM12067.CEL.gz": 6.03048203584151,
                  "GSM12075.CEL.gz": 6.02667703387708,
                  "GSM12079.CEL.gz": 6.0626075939724355,
                  "GSM12098.CEL.gz": 6.001481174151715,
                  "GSM12105.CEL.gz": 6.00359816233277,
                  "GSM12268.CEL.gz": 6.01717576691843,
                  "GSM12270.CEL.gz": 6.008030984091605,
                  "GSM12283.CEL.gz": 6.01583525057254,
                  "GSM12298.CEL.gz": 6.01521742700314,
                  "GSM12300.CEL.gz": 6.0152743468260095,
                  "GSM12399.CEL.gz": 6.04738553062464,
                  "GSM12444.CEL.gz": 6.006760417221815,
                  "GSM21203.cel.gz": 6.017354260422,
                  "GSM21204.cel.gz": 5.977344976440261,
                  "GSM21205.cel.gz": 5.98932715603522,
                  "GSM21206.cel.gz": 5.966030728884435,
                  "GSM21207.cel.gz": 6.00758715858046,
                  "GSM21208.cel.gz": 6.0258091968538,
                  "GSM21209.cel.gz": 5.969447161625645,
                  "GSM21210.cel.gz": 5.964171924365755,
                  "GSM21212.cel.gz": 5.964384426705539,
                  "GSM21213.cel.gz": 6.00094287751574,
                  "GSM21214.cel.gz": 5.9741976529510605,
                  "GSM21215.cel.gz": 5.99801180113834,
                  "GSM21216.cel.gz": 5.963723659448805,
                  "GSM21217.cel.gz": 5.978457873535961,
                  "GSM21218.cel.gz": 5.9562285145975,
                  "GSM21219.cel.gz": 5.949892241433435,
                  "GSM21220.cel.gz": 5.961501214576275,
                  "GSM21221.cel.gz": 5.981969583283915,
                  "GSM21222.cel.gz": 5.962701543461645,
                  "GSM21223.cel.gz": 5.95593958212089,
                  "GSM21224.cel.gz": 5.93969853190792,
                  "GSM21225.cel.gz": 5.968861312294925,
                  "GSM21226.cel.gz": 5.99182999849701,
                  "GSM21227.cel.gz": 5.952449627787075,
                  "GSM21228.cel.gz": 5.9700593536255795,
                  "GSM21229.cel.gz": 5.969868671329969,
                  "GSM21230.cel.gz": 5.95991744464156,
                  "GSM21231.cel.gz": 5.9891902415577505,
                  "GSM21232.cel.gz": 5.98509462694781,
                  "GSM21233.cel.gz": 5.974914496144935,
                  "GSM87058.cel.gz": 6.0101845100741205,
                  "GSM87064.cel.gz": 6.01785885830126,
                  "GSM87065.cel.gz": 6.007735489943075,
                  "GSM87066.cel.gz": 5.999068198436445,
                  "GSM87071.cel.gz": 6.00028961223275,
                  "GSM87072.cel.gz": 6.011476300206676,
                  "GSM87073.cel.gz": 5.99985227434654,
                  "GSM87074.cel.gz": 5.99944775823335,
                  "GSM87075.cel.gz": 6.00060601435844,
                  "GSM87085.cel.gz": 5.988896646312595,
                  "GSM87086.cel.gz": 6.005972055592065,
                  "GSM87087.cel.gz": 6.000335248609135,
                  "GSM87088.cel.gz": 6.00476467526745,
                  "GSM87089.cel.gz": 5.985772853594945,
                  "GSM87090.CEL.gz": 5.98882388093469,
                  "GSM87091.cel.gz": 5.99812985067306,
                  "GSM87092.cel.gz": 5.993366598410395,
                  "GSM87093.cel.gz": 5.982960021345949,
                  "GSM87094.cel.gz": 5.976085760826075,
                  "GSM87095.cel.gz": 5.98232861839623,
                  "GSM87096.cel.gz": 5.99445736425569,
                  "GSM87097.cel.gz": 5.989800736180785,
                  "GSM87098.cel.gz": 6.00207629930436,
                  "GSM87099.cel.gz": 5.99380880257672,
                  "GSM87100.cel.gz": 5.98796977288403,
                  "GSM87101.cel.gz": 5.988135105960341,
                  "GSM87102.cel.gz": 5.9909835623351,
                  "GSM146778.CEL.gz": 5.96941424465187,
                  "GSM146779.CEL.gz": 5.95280035290166,
                  "GSM146781.CEL.gz": 5.99229412952193,
                  "GSM146782.CEL.gz": 5.986576424128311,
                  "GSM146783.CEL.gz": 6.0043077619574,
                  "GSM146785.CEL.gz": 5.9691488025776955,
                  "GSM146787.CEL.gz": 5.94735269938223,
                  "GSM146788.CEL.gz": 6.018163839155434,
                  "GSM146789.CEL.gz": 5.963338217983205,
                  "GSM146791.CEL.gz": 5.989090358896355,
                  "GSM146793.CEL.gz": 5.94258331362045,
                  "GSM146795.CEL.gz": 5.992481548079255,
                  "GSM146797.CEL.gz": 6.033038166995275,
                  "GSM92240.CEL.gz": 6.00264079547124,
                  "GSM92241.CEL.gz": 6.037114888002825,
                  "GSM92242.CEL.gz": 6.002610526469255,
                  "GSM92243.CEL.gz": 6.022941969858965,
                  "GSM92244.CEL.gz": 6.012693170458276,
                  "GSM92245.CEL.gz": 6.02996713782185,
                  "GSM92247.CEL.gz": 6.020976145975875,
                  "GSM92248.CEL.gz": 5.990957118442405,
                  "GSM92249.CEL.gz": 6.022329965856815,
                  "GSM92250.CEL.gz": 5.982601693211976,
                  "GSM92253.CEL.gz": 6.0111697462579645,
                  "GSM92254.CEL.gz": 6.0131099491817555,
                  "GSM92255.CEL.gz": 6.004285247380706,
                  "GSM92256.CEL.gz": 6.011392927871415,
                  "GSM92257.CEL.gz": 6.015586299044595,
                  "GSM92258.CEL.gz": 6.006562176541889,
                  "GSM92259.CEL.gz": 5.98480215234468,
                  "GSM92260.CEL.gz": 5.9903714332234745,
                  "GSM92261.CEL.gz": 5.999368879801455,
                  "GSM92262.CEL.gz": 5.9900856160817,
                  "GSM92263.CEL.gz": 5.987409445991885,
                  "GSM92264.CEL.gz": 5.99934172722369,
                  "GSM92265.CEL.gz": 6.0114331804205445,
                  "GSM92266.CEL.gz": 6.0003338757549,
                  "GSM92267.CEL.gz": 5.98242590619509,
                  "GSM92268.CEL.gz": 6.015202683146855,
                  "GSM92269.CEL.gz": 6.00241929407561,
                  "GSM92270.CEL.gz": 5.9932624858494705,
                  "GSM92271.CEL.gz": 6.0029711438444195,
                  "GSM92272.CEL.gz": 6.00118910460382,
                  "GSM92273.CEL.gz": 6.004715352488535,
                  "GSM92274.CEL.gz": 6.000861744498446,
                  "GSM92275.CEL.gz": 5.979312991817155,
                  "GSM92276.CEL.gz": 5.98491638348754,
                  "GSM35979.cel.gz": 5.98888793417767,
                  "GSM35980.cel.gz": 5.995108576699325,
                  "GSM35981.cel.gz": 5.995155670474765,
                  "GSM35982.cel.gz": 6.01311360888075,
                  "GSM35983.cel.gz": 6.01364250120122,
                  "GSM35984.cel.gz": 6.01707627728383,
                  "GSM35991.cel.gz": 6.03326290200423,
                  "GSM35992.cel.gz": 6.083316701693279,
                  "GSM35993.cel.gz": 6.027721343379535,
                  "GSM35994.cel.gz": 6.028299339335209,
                  "GSM35995.cel.gz": 6.0411393747758755,
                  "GSM35996.cel.gz": 6.029132638170839,
                  "GSM36003.cel.gz": 6.00611537869345,
                  "GSM44675.CEL.gz": 5.97569453015614,
                  "GSM44689.CEL.gz": 5.9744275951391295,
                  "GSM44697.CEL.gz": 6.00387462946314,
                  "GSM44702.CEL.gz": 6.039526327882065,
                  "GSM181429.CEL.gz": 5.9440973455375055,
                  "GSM181430.CEL.gz": 5.990529349324405,
                  "GSM181431.CEL.gz": 5.961624420799495,
                  "GSM181432.CEL.gz": 5.995422781331145,
                  "GSM181433.CEL.gz": 5.969282202151366,
                  "GSM18917.CEL.gz": 5.9776710651033,
                  "GSM18918.CEL.gz": 5.98870212212756,
                  "GSM18953.CEL.gz": 6.00503596027346,
                  "GSM18954.CEL.gz": 5.99956292423289,
                  "GSM18955.CEL.gz": 5.985306699772315,
                  "GSM18956.CEL.gz": 5.96516532544371,
                  "GSM296875.CEL.gz": 5.991426430671124,
                  "GSM296876.CEL.gz": 6.003107107764145,
                  "GSM296878.CEL.gz": 5.97566922736584,
                  "GSM296879.CEL.gz": 6.00727135966532,
                  "GSM296880.CEL.gz": 5.99349108923384,
                  "GSM296881.CEL.gz": 6.0185908008747955,
                  "GSM296882.CEL.gz": 6.01481104058035,
                  "GSM296883.CEL.gz": 5.986207980650635,
                  "GSM296886.CEL.gz": 5.990051428943545,
                  "GSM296887.CEL.gz": 5.99499719451591,
                  "GSM296888.CEL.gz": 5.99285138293731,
                  "GSM296889.CEL.gz": 5.97041462797712,
                  "GSM296890.CEL.gz": 5.9840369887213996,
                  "GSM296891.CEL.gz": 5.9817258534224305,
                  "GSM296892.CEL.gz": 5.988142803413796,
                  "GSM298747.CEL.gz": 5.976957388528145,
                  "GSM298748.CEL.gz": 6.00765328585835,
                  "GSM298749.CEL.gz": 6.01893244016199,
                  "GSM298750.CEL.gz": 5.9453024618719255,
                  "GSM299110.CEL.gz": 5.976957388528145,
                  "GSM299111.CEL.gz": 6.01893244016199,
                  "GSM299112.CEL.gz": 5.9453024618719255,
                  "GSM299113.CEL.gz": 6.00765328585835,
                  "GSM299244.CEL.gz": 5.9943578105896105,
                  "GSM299245.CEL.gz": 5.9735178482377,
                  "GSM299246.CEL.gz": 5.990459010149185,
                  "GSM299247.CEL.gz": 5.99834377184766,
                  "GSM322969.CEL.gz": 6.012325023859136,
                  "GSM323054.CEL.gz": 6.02496551068597,
                  "GSM323523.CEL.gz": 5.96108638944461,
                  "GSM323524.CEL.gz": 5.97833424319418,
                  "GSM323527.CEL.gz": 6.013380368097975,
                  "GSM323565.CEL.gz": 5.99643333582925,
                  "GSM323566.CEL.gz": 5.967215821524945,
                  "GSM323567.CEL.gz": 5.9430089309396745,
                  "GSM246492.CEL.gz": 5.940508504284875,
                  "GSM246493.CEL.gz": 6.017116149527865,
                  "GSM246494.CEL.gz": 5.98497863901209,
                  "GSM307639.CEL.gz": 5.983980011237045,
                  "GSM307640.CEL.gz": 5.995975666722044,
                  "GSM307641.CEL.gz": 5.96915530604258,
                  "_deepnote_index_column": "25%"
                },
                {
                  "GSM11805.CEL.gz": 7.14683609569751,
                  "GSM11814.CEL.gz": 7.13910643620941,
                  "GSM11823.CEL.gz": 7.16819176698696,
                  "GSM11830.CEL.gz": 7.24913014002681,
                  "GSM12067.CEL.gz": 7.20583528855249,
                  "GSM12075.CEL.gz": 7.18088524019934,
                  "GSM12079.CEL.gz": 7.20965747067078,
                  "GSM12098.CEL.gz": 7.17470824775664,
                  "GSM12105.CEL.gz": 7.17449878730119,
                  "GSM12268.CEL.gz": 7.1834772861537,
                  "GSM12270.CEL.gz": 7.19971477952783,
                  "GSM12283.CEL.gz": 7.18621527814934,
                  "GSM12298.CEL.gz": 7.16390691066036,
                  "GSM12300.CEL.gz": 7.17374918888768,
                  "GSM12399.CEL.gz": 7.26281545529854,
                  "GSM12444.CEL.gz": 7.17198939839965,
                  "GSM21203.cel.gz": 7.16839887098661,
                  "GSM21204.cel.gz": 7.16605771469085,
                  "GSM21205.cel.gz": 7.14004321316489,
                  "GSM21206.cel.gz": 7.14885252615724,
                  "GSM21207.cel.gz": 7.15916097288829,
                  "GSM21208.cel.gz": 7.18143909146441,
                  "GSM21209.cel.gz": 7.14481726158314,
                  "GSM21210.cel.gz": 7.15777961041034,
                  "GSM21212.cel.gz": 7.15379960413079,
                  "GSM21213.cel.gz": 7.16848036938838,
                  "GSM21214.cel.gz": 7.15571978668614,
                  "GSM21215.cel.gz": 7.15408247434187,
                  "GSM21216.cel.gz": 7.14957784464784,
                  "GSM21217.cel.gz": 7.11231116082185,
                  "GSM21218.cel.gz": 7.13671806219324,
                  "GSM21219.cel.gz": 7.13745387226319,
                  "GSM21220.cel.gz": 7.15664101121371,
                  "GSM21221.cel.gz": 7.16984514777774,
                  "GSM21222.cel.gz": 7.13965027463232,
                  "GSM21223.cel.gz": 7.12861469975906,
                  "GSM21224.cel.gz": 7.12383913262667,
                  "GSM21225.cel.gz": 7.1431610825471,
                  "GSM21226.cel.gz": 7.19339655091693,
                  "GSM21227.cel.gz": 7.10511851881509,
                  "GSM21228.cel.gz": 7.15022738260831,
                  "GSM21229.cel.gz": 7.15169927115431,
                  "GSM21230.cel.gz": 7.15150684026622,
                  "GSM21231.cel.gz": 7.18821838484386,
                  "GSM21232.cel.gz": 7.15531557124895,
                  "GSM21233.cel.gz": 7.16478189631368,
                  "GSM87058.cel.gz": 7.22007425643069,
                  "GSM87064.cel.gz": 7.21051171519807,
                  "GSM87065.cel.gz": 7.18514447490122,
                  "GSM87066.cel.gz": 7.1664449302807,
                  "GSM87071.cel.gz": 7.20568889476915,
                  "GSM87072.cel.gz": 7.19618404802909,
                  "GSM87073.cel.gz": 7.17506195060045,
                  "GSM87074.cel.gz": 7.20870133136153,
                  "GSM87075.cel.gz": 7.1938161538299,
                  "GSM87085.cel.gz": 7.17032216883995,
                  "GSM87086.cel.gz": 7.18418452809947,
                  "GSM87087.cel.gz": 7.17343907104675,
                  "GSM87088.cel.gz": 7.19179505892701,
                  "GSM87089.cel.gz": 7.18335240506935,
                  "GSM87090.CEL.gz": 7.16321539296934,
                  "GSM87091.cel.gz": 7.19694896372526,
                  "GSM87092.cel.gz": 7.19689637521534,
                  "GSM87093.cel.gz": 7.15875262486748,
                  "GSM87094.cel.gz": 7.17225866896905,
                  "GSM87095.cel.gz": 7.18086122430196,
                  "GSM87096.cel.gz": 7.2020610804306,
                  "GSM87097.cel.gz": 7.17157294105426,
                  "GSM87098.cel.gz": 7.22709036689282,
                  "GSM87099.cel.gz": 7.1665978367176,
                  "GSM87100.cel.gz": 7.17887004124958,
                  "GSM87101.cel.gz": 7.1753524355516,
                  "GSM87102.cel.gz": 7.17012509746275,
                  "GSM146778.CEL.gz": 7.11049489844601,
                  "GSM146779.CEL.gz": 7.13237661731044,
                  "GSM146781.CEL.gz": 7.15122154442932,
                  "GSM146782.CEL.gz": 7.13943298277243,
                  "GSM146783.CEL.gz": 7.18478234095028,
                  "GSM146785.CEL.gz": 7.12975802406179,
                  "GSM146787.CEL.gz": 7.15055590272274,
                  "GSM146788.CEL.gz": 7.17582986934193,
                  "GSM146789.CEL.gz": 7.13064720279548,
                  "GSM146791.CEL.gz": 7.14887908101278,
                  "GSM146793.CEL.gz": 7.09615923633163,
                  "GSM146795.CEL.gz": 7.15970845529482,
                  "GSM146797.CEL.gz": 7.18699783797727,
                  "GSM92240.CEL.gz": 7.18179760671787,
                  "GSM92241.CEL.gz": 7.20473224619538,
                  "GSM92242.CEL.gz": 7.20344641166155,
                  "GSM92243.CEL.gz": 7.16388237864145,
                  "GSM92244.CEL.gz": 7.22621286162459,
                  "GSM92245.CEL.gz": 7.24063884965249,
                  "GSM92247.CEL.gz": 7.19575004957486,
                  "GSM92248.CEL.gz": 7.16779721602936,
                  "GSM92249.CEL.gz": 7.18204531009773,
                  "GSM92250.CEL.gz": 7.20516987998382,
                  "GSM92253.CEL.gz": 7.19868835301272,
                  "GSM92254.CEL.gz": 7.20864250456163,
                  "GSM92255.CEL.gz": 7.18796716195926,
                  "GSM92256.CEL.gz": 7.20279803665346,
                  "GSM92257.CEL.gz": 7.21079517542208,
                  "GSM92258.CEL.gz": 7.1974180421122,
                  "GSM92259.CEL.gz": 7.21012564492498,
                  "GSM92260.CEL.gz": 7.20289689040158,
                  "GSM92261.CEL.gz": 7.15866750758438,
                  "GSM92262.CEL.gz": 7.20090658534681,
                  "GSM92263.CEL.gz": 7.20794799377278,
                  "GSM92264.CEL.gz": 7.18760199403495,
                  "GSM92265.CEL.gz": 7.18404143951787,
                  "GSM92266.CEL.gz": 7.20885236297028,
                  "GSM92267.CEL.gz": 7.20892888920914,
                  "GSM92268.CEL.gz": 7.20235230139964,
                  "GSM92269.CEL.gz": 7.21183755722487,
                  "GSM92270.CEL.gz": 7.21595058335964,
                  "GSM92271.CEL.gz": 7.18606548093686,
                  "GSM92272.CEL.gz": 7.20788566297456,
                  "GSM92273.CEL.gz": 7.18064271042884,
                  "GSM92274.CEL.gz": 7.20316643481321,
                  "GSM92275.CEL.gz": 7.18563072989812,
                  "GSM92276.CEL.gz": 7.21002147737847,
                  "GSM35979.cel.gz": 7.19796086166657,
                  "GSM35980.cel.gz": 7.20333241249939,
                  "GSM35981.cel.gz": 7.23115746702489,
                  "GSM35982.cel.gz": 7.21101548925294,
                  "GSM35983.cel.gz": 7.20533667168295,
                  "GSM35984.cel.gz": 7.20722016555913,
                  "GSM35991.cel.gz": 7.22647660415989,
                  "GSM35992.cel.gz": 7.26842533890882,
                  "GSM35993.cel.gz": 7.21766231509644,
                  "GSM35994.cel.gz": 7.1928116015532,
                  "GSM35995.cel.gz": 7.26278282987091,
                  "GSM35996.cel.gz": 7.19233680634133,
                  "GSM36003.cel.gz": 7.22365724071059,
                  "GSM44675.CEL.gz": 7.20114599913203,
                  "GSM44689.CEL.gz": 7.19419077600827,
                  "GSM44697.CEL.gz": 7.20765718055037,
                  "GSM44702.CEL.gz": 7.23751528306997,
                  "GSM181429.CEL.gz": 7.10879358535169,
                  "GSM181430.CEL.gz": 7.1647621245108,
                  "GSM181431.CEL.gz": 7.13587026208674,
                  "GSM181432.CEL.gz": 7.104900534635,
                  "GSM181433.CEL.gz": 7.09965716086252,
                  "GSM18917.CEL.gz": 7.18618649007367,
                  "GSM18918.CEL.gz": 7.22633467982815,
                  "GSM18953.CEL.gz": 7.22499156660911,
                  "GSM18954.CEL.gz": 7.19915116841442,
                  "GSM18955.CEL.gz": 7.18948211665661,
                  "GSM18956.CEL.gz": 7.15975555895415,
                  "GSM296875.CEL.gz": 7.22392933642572,
                  "GSM296876.CEL.gz": 7.20481766617603,
                  "GSM296878.CEL.gz": 7.22403860312975,
                  "GSM296879.CEL.gz": 7.24987438625086,
                  "GSM296880.CEL.gz": 7.24627684280239,
                  "GSM296881.CEL.gz": 7.23569651321903,
                  "GSM296882.CEL.gz": 7.22267505727561,
                  "GSM296883.CEL.gz": 7.23986699805249,
                  "GSM296886.CEL.gz": 7.20358472201076,
                  "GSM296887.CEL.gz": 7.20228152310452,
                  "GSM296888.CEL.gz": 7.2200362151135,
                  "GSM296889.CEL.gz": 7.1988440483048,
                  "GSM296890.CEL.gz": 7.215380625608,
                  "GSM296891.CEL.gz": 7.2230318614633,
                  "GSM296892.CEL.gz": 7.23157588100889,
                  "GSM298747.CEL.gz": 7.09958296657614,
                  "GSM298748.CEL.gz": 7.12616961959995,
                  "GSM298749.CEL.gz": 7.1471929860601,
                  "GSM298750.CEL.gz": 7.08964882703103,
                  "GSM299110.CEL.gz": 7.09958296657614,
                  "GSM299111.CEL.gz": 7.1471929860601,
                  "GSM299112.CEL.gz": 7.08964882703103,
                  "GSM299113.CEL.gz": 7.12616961959995,
                  "GSM299244.CEL.gz": 7.14495983412895,
                  "GSM299245.CEL.gz": 7.10937752040236,
                  "GSM299246.CEL.gz": 7.11398297167863,
                  "GSM299247.CEL.gz": 7.11260216282481,
                  "GSM322969.CEL.gz": 7.19086226753522,
                  "GSM323054.CEL.gz": 7.18776290158673,
                  "GSM323523.CEL.gz": 7.15505623984608,
                  "GSM323524.CEL.gz": 7.18843688163776,
                  "GSM323527.CEL.gz": 7.17628425210556,
                  "GSM323565.CEL.gz": 7.16904833949742,
                  "GSM323566.CEL.gz": 7.15811372154476,
                  "GSM323567.CEL.gz": 7.1300603955401,
                  "GSM246492.CEL.gz": 7.03166918667993,
                  "GSM246493.CEL.gz": 7.09519268425195,
                  "GSM246494.CEL.gz": 7.12516251580519,
                  "GSM307639.CEL.gz": 7.14576500398137,
                  "GSM307640.CEL.gz": 7.1320624368986,
                  "GSM307641.CEL.gz": 7.09655659098878,
                  "_deepnote_index_column": "50%"
                },
                {
                  "GSM11805.CEL.gz": 8.560429902374064,
                  "GSM11814.CEL.gz": 8.572894503155581,
                  "GSM11823.CEL.gz": 8.496700306176624,
                  "GSM11830.CEL.gz": 8.53527001859929,
                  "GSM12067.CEL.gz": 8.507570061893379,
                  "GSM12075.CEL.gz": 8.48783813581813,
                  "GSM12079.CEL.gz": 8.490164006936244,
                  "GSM12098.CEL.gz": 8.48119224520772,
                  "GSM12105.CEL.gz": 8.548719852364531,
                  "GSM12268.CEL.gz": 8.51338781414529,
                  "GSM12270.CEL.gz": 8.56813301989602,
                  "GSM12283.CEL.gz": 8.464647787357887,
                  "GSM12298.CEL.gz": 8.527291885160794,
                  "GSM12300.CEL.gz": 8.478670612628456,
                  "GSM12399.CEL.gz": 8.5404690690463,
                  "GSM12444.CEL.gz": 8.504175388060744,
                  "GSM21203.cel.gz": 8.47115659137277,
                  "GSM21204.cel.gz": 8.491991690296544,
                  "GSM21205.cel.gz": 8.38681850531586,
                  "GSM21206.cel.gz": 8.557010138674077,
                  "GSM21207.cel.gz": 8.38215774154332,
                  "GSM21208.cel.gz": 8.484940661785425,
                  "GSM21209.cel.gz": 8.473062001720695,
                  "GSM21210.cel.gz": 8.527521009796665,
                  "GSM21212.cel.gz": 8.453799031122664,
                  "GSM21213.cel.gz": 8.449094642200667,
                  "GSM21214.cel.gz": 8.52318504072235,
                  "GSM21215.cel.gz": 8.543849458187735,
                  "GSM21216.cel.gz": 8.562344506785475,
                  "GSM21217.cel.gz": 8.515893236082015,
                  "GSM21218.cel.gz": 8.580681493491404,
                  "GSM21219.cel.gz": 8.526271690104915,
                  "GSM21220.cel.gz": 8.54446334415935,
                  "GSM21221.cel.gz": 8.533941500949304,
                  "GSM21222.cel.gz": 8.51174889865995,
                  "GSM21223.cel.gz": 8.49829242739455,
                  "GSM21224.cel.gz": 8.54969132939271,
                  "GSM21225.cel.gz": 8.55920343206554,
                  "GSM21226.cel.gz": 8.50178299802897,
                  "GSM21227.cel.gz": 8.47464481359727,
                  "GSM21228.cel.gz": 8.519060179386234,
                  "GSM21229.cel.gz": 8.551023398050905,
                  "GSM21230.cel.gz": 8.438380835946045,
                  "GSM21231.cel.gz": 8.514389648542764,
                  "GSM21232.cel.gz": 8.47654128045596,
                  "GSM21233.cel.gz": 8.49641077071854,
                  "GSM87058.cel.gz": 8.48265829151507,
                  "GSM87064.cel.gz": 8.49343920043794,
                  "GSM87065.cel.gz": 8.513719920133225,
                  "GSM87066.cel.gz": 8.52256881048637,
                  "GSM87071.cel.gz": 8.485472260091974,
                  "GSM87072.cel.gz": 8.50146261517405,
                  "GSM87073.cel.gz": 8.49943755066513,
                  "GSM87074.cel.gz": 8.51477041786964,
                  "GSM87075.cel.gz": 8.514052918889561,
                  "GSM87085.cel.gz": 8.498488445894985,
                  "GSM87086.cel.gz": 8.504636573881704,
                  "GSM87087.cel.gz": 8.510422744109206,
                  "GSM87088.cel.gz": 8.48438858734348,
                  "GSM87089.cel.gz": 8.531711039290185,
                  "GSM87090.CEL.gz": 8.529048447597024,
                  "GSM87091.cel.gz": 8.510677618640731,
                  "GSM87092.cel.gz": 8.506221459893824,
                  "GSM87093.cel.gz": 8.559864631411145,
                  "GSM87094.cel.gz": 8.49147668228126,
                  "GSM87095.cel.gz": 8.54370594487946,
                  "GSM87096.cel.gz": 8.487300057315906,
                  "GSM87097.cel.gz": 8.517712674947,
                  "GSM87098.cel.gz": 8.51364144213223,
                  "GSM87099.cel.gz": 8.53454093689557,
                  "GSM87100.cel.gz": 8.513618819758644,
                  "GSM87101.cel.gz": 8.507047352871801,
                  "GSM87102.cel.gz": 8.509271617522646,
                  "GSM146778.CEL.gz": 8.488909683641555,
                  "GSM146779.CEL.gz": 8.62139399286633,
                  "GSM146781.CEL.gz": 8.514677723135154,
                  "GSM146782.CEL.gz": 8.46143661568809,
                  "GSM146783.CEL.gz": 8.552811099485421,
                  "GSM146785.CEL.gz": 8.568165717734349,
                  "GSM146787.CEL.gz": 8.635388920486879,
                  "GSM146788.CEL.gz": 8.51099982533056,
                  "GSM146789.CEL.gz": 8.43290203043578,
                  "GSM146791.CEL.gz": 8.577619281689401,
                  "GSM146793.CEL.gz": 8.612094498026785,
                  "GSM146795.CEL.gz": 8.51312020693489,
                  "GSM146797.CEL.gz": 8.486740303314315,
                  "GSM92240.CEL.gz": 8.467051596288634,
                  "GSM92241.CEL.gz": 8.454305532183955,
                  "GSM92242.CEL.gz": 8.45888876300802,
                  "GSM92243.CEL.gz": 8.42419477465182,
                  "GSM92244.CEL.gz": 8.508313476080104,
                  "GSM92245.CEL.gz": 8.484641979921431,
                  "GSM92247.CEL.gz": 8.48279314857309,
                  "GSM92248.CEL.gz": 8.451845577336655,
                  "GSM92249.CEL.gz": 8.4532999852232,
                  "GSM92250.CEL.gz": 8.501634340197391,
                  "GSM92253.CEL.gz": 8.50737482783192,
                  "GSM92254.CEL.gz": 8.476069281041134,
                  "GSM92255.CEL.gz": 8.468867410610866,
                  "GSM92256.CEL.gz": 8.423015286475934,
                  "GSM92257.CEL.gz": 8.466554670720004,
                  "GSM92258.CEL.gz": 8.49985955306426,
                  "GSM92259.CEL.gz": 8.51938974451088,
                  "GSM92260.CEL.gz": 8.489651054267105,
                  "GSM92261.CEL.gz": 8.49978901621701,
                  "GSM92262.CEL.gz": 8.416393761996176,
                  "GSM92263.CEL.gz": 8.506588904451306,
                  "GSM92264.CEL.gz": 8.48630627225442,
                  "GSM92265.CEL.gz": 8.45034237185333,
                  "GSM92266.CEL.gz": 8.52405687296725,
                  "GSM92267.CEL.gz": 8.423933175741134,
                  "GSM92268.CEL.gz": 8.50341343035806,
                  "GSM92269.CEL.gz": 8.51265521565464,
                  "GSM92270.CEL.gz": 8.50084570656728,
                  "GSM92271.CEL.gz": 8.45297621687744,
                  "GSM92272.CEL.gz": 8.510720307887535,
                  "GSM92273.CEL.gz": 8.48667445629339,
                  "GSM92274.CEL.gz": 8.478726931274915,
                  "GSM92275.CEL.gz": 8.48133067875209,
                  "GSM92276.CEL.gz": 8.462851423573955,
                  "GSM35979.cel.gz": 8.476203836185775,
                  "GSM35980.cel.gz": 8.46969071027988,
                  "GSM35981.cel.gz": 8.444967866250565,
                  "GSM35982.cel.gz": 8.391018939060366,
                  "GSM35983.cel.gz": 8.407867683179266,
                  "GSM35984.cel.gz": 8.402028145067124,
                  "GSM35991.cel.gz": 8.551523774258886,
                  "GSM35992.cel.gz": 8.567831927617906,
                  "GSM35993.cel.gz": 8.560998903419945,
                  "GSM35994.cel.gz": 8.46663151427877,
                  "GSM35995.cel.gz": 8.4601200416679,
                  "GSM35996.cel.gz": 8.496198643881325,
                  "GSM36003.cel.gz": 8.45947840133708,
                  "GSM44675.CEL.gz": 8.46310979172656,
                  "GSM44689.CEL.gz": 8.496435718557535,
                  "GSM44697.CEL.gz": 8.496668488771299,
                  "GSM44702.CEL.gz": 8.438523142074915,
                  "GSM181429.CEL.gz": 8.539475385328956,
                  "GSM181430.CEL.gz": 8.445594278956861,
                  "GSM181431.CEL.gz": 8.52931317483175,
                  "GSM181432.CEL.gz": 8.334560245209044,
                  "GSM181433.CEL.gz": 8.42312238273199,
                  "GSM18917.CEL.gz": 8.40974110647429,
                  "GSM18918.CEL.gz": 8.41907945955004,
                  "GSM18953.CEL.gz": 8.429987881595483,
                  "GSM18954.CEL.gz": 8.410364055110119,
                  "GSM18955.CEL.gz": 8.41234190645243,
                  "GSM18956.CEL.gz": 8.4069497002391,
                  "GSM296875.CEL.gz": 8.506815911387346,
                  "GSM296876.CEL.gz": 8.513152113840246,
                  "GSM296878.CEL.gz": 8.523955179843375,
                  "GSM296879.CEL.gz": 8.477504110296195,
                  "GSM296880.CEL.gz": 8.543230541161845,
                  "GSM296881.CEL.gz": 8.500920501521886,
                  "GSM296882.CEL.gz": 8.50332416187073,
                  "GSM296883.CEL.gz": 8.485500701970405,
                  "GSM296886.CEL.gz": 8.50571187872994,
                  "GSM296887.CEL.gz": 8.502610538811876,
                  "GSM296888.CEL.gz": 8.44766985156436,
                  "GSM296889.CEL.gz": 8.533637830391509,
                  "GSM296890.CEL.gz": 8.506795280084965,
                  "GSM296891.CEL.gz": 8.523880976659619,
                  "GSM296892.CEL.gz": 8.52821743301268,
                  "GSM298747.CEL.gz": 8.390085057807905,
                  "GSM298748.CEL.gz": 8.409500805428895,
                  "GSM298749.CEL.gz": 8.42811047592533,
                  "GSM298750.CEL.gz": 8.467826906244014,
                  "GSM299110.CEL.gz": 8.390085057807905,
                  "GSM299111.CEL.gz": 8.42811047592533,
                  "GSM299112.CEL.gz": 8.467826906244014,
                  "GSM299113.CEL.gz": 8.409500805428895,
                  "GSM299244.CEL.gz": 8.437702993550534,
                  "GSM299245.CEL.gz": 8.43822635363648,
                  "GSM299246.CEL.gz": 8.369381073210375,
                  "GSM299247.CEL.gz": 8.423644847978055,
                  "GSM322969.CEL.gz": 8.556377046944796,
                  "GSM323054.CEL.gz": 8.586152904361455,
                  "GSM323523.CEL.gz": 8.62115511682929,
                  "GSM323524.CEL.gz": 8.6223083005162,
                  "GSM323527.CEL.gz": 8.55463702603097,
                  "GSM323565.CEL.gz": 8.54162591960499,
                  "GSM323566.CEL.gz": 8.603322700876038,
                  "GSM323567.CEL.gz": 8.63242383804192,
                  "GSM246492.CEL.gz": 8.571647946574402,
                  "GSM246493.CEL.gz": 8.452651281858735,
                  "GSM246494.CEL.gz": 8.526087831474426,
                  "GSM307639.CEL.gz": 8.55481705649483,
                  "GSM307640.CEL.gz": 8.493546776945495,
                  "GSM307641.CEL.gz": 8.52519757318187,
                  "_deepnote_index_column": "75%"
                },
                {
                  "GSM11805.CEL.gz": 14.2288232690445,
                  "GSM11814.CEL.gz": 14.2970560213542,
                  "GSM11823.CEL.gz": 14.3143666767164,
                  "GSM11830.CEL.gz": 14.4156768663013,
                  "GSM12067.CEL.gz": 14.3902965544514,
                  "GSM12075.CEL.gz": 14.295820715982,
                  "GSM12079.CEL.gz": 14.2708397163348,
                  "GSM12098.CEL.gz": 14.266422252536,
                  "GSM12105.CEL.gz": 14.2706132719673,
                  "GSM12268.CEL.gz": 14.2915972832727,
                  "GSM12270.CEL.gz": 14.390331681782,
                  "GSM12283.CEL.gz": 14.3630134412345,
                  "GSM12298.CEL.gz": 14.3970866736513,
                  "GSM12300.CEL.gz": 14.4245208083309,
                  "GSM12399.CEL.gz": 14.4104369907095,
                  "GSM12444.CEL.gz": 14.3656546373503,
                  "GSM21203.cel.gz": 14.0308996212773,
                  "GSM21204.cel.gz": 14.1886995276143,
                  "GSM21205.cel.gz": 14.1039784952684,
                  "GSM21206.cel.gz": 14.2951214516016,
                  "GSM21207.cel.gz": 14.0270025523364,
                  "GSM21208.cel.gz": 14.0002834593452,
                  "GSM21209.cel.gz": 13.998408493877,
                  "GSM21210.cel.gz": 14.0052837831856,
                  "GSM21212.cel.gz": 14.0436985321133,
                  "GSM21213.cel.gz": 14.0730984262127,
                  "GSM21214.cel.gz": 14.0959757409375,
                  "GSM21215.cel.gz": 14.0627260658232,
                  "GSM21216.cel.gz": 14.1813043333592,
                  "GSM21217.cel.gz": 14.0445231990703,
                  "GSM21218.cel.gz": 14.1208326795799,
                  "GSM21219.cel.gz": 14.1188501199479,
                  "GSM21220.cel.gz": 14.2486283195953,
                  "GSM21221.cel.gz": 14.2233166924744,
                  "GSM21222.cel.gz": 14.2519619071316,
                  "GSM21223.cel.gz": 14.0542966896747,
                  "GSM21224.cel.gz": 14.0689623539995,
                  "GSM21225.cel.gz": 14.1841283163042,
                  "GSM21226.cel.gz": 14.1032557819547,
                  "GSM21227.cel.gz": 14.1624327138852,
                  "GSM21228.cel.gz": 14.1266650081643,
                  "GSM21229.cel.gz": 14.2797399458228,
                  "GSM21230.cel.gz": 14.192479995247,
                  "GSM21231.cel.gz": 14.1225317770587,
                  "GSM21232.cel.gz": 14.1369407043826,
                  "GSM21233.cel.gz": 14.0150059205979,
                  "GSM87058.cel.gz": 14.1367831670539,
                  "GSM87064.cel.gz": 14.1330422956856,
                  "GSM87065.cel.gz": 14.111889621616,
                  "GSM87066.cel.gz": 14.0063428126755,
                  "GSM87071.cel.gz": 14.1095094897358,
                  "GSM87072.cel.gz": 14.1385505570855,
                  "GSM87073.cel.gz": 14.0228194635504,
                  "GSM87074.cel.gz": 14.0601298424106,
                  "GSM87075.cel.gz": 14.1183628167759,
                  "GSM87085.cel.gz": 13.8787004170928,
                  "GSM87086.cel.gz": 14.0698139024375,
                  "GSM87087.cel.gz": 14.0448543971583,
                  "GSM87088.cel.gz": 14.0630888073404,
                  "GSM87089.cel.gz": 14.0320574265546,
                  "GSM87090.CEL.gz": 14.0312396217251,
                  "GSM87091.cel.gz": 14.1127143694509,
                  "GSM87092.cel.gz": 14.1038408344349,
                  "GSM87093.cel.gz": 14.1082564286214,
                  "GSM87094.cel.gz": 13.9685076282999,
                  "GSM87095.cel.gz": 14.128041730723,
                  "GSM87096.cel.gz": 14.0331742699482,
                  "GSM87097.cel.gz": 14.1037335316912,
                  "GSM87098.cel.gz": 14.1725031037428,
                  "GSM87099.cel.gz": 14.1009704996762,
                  "GSM87100.cel.gz": 14.067143673952,
                  "GSM87101.cel.gz": 14.1247270600311,
                  "GSM87102.cel.gz": 14.0453787651906,
                  "GSM146778.CEL.gz": 14.2542433129123,
                  "GSM146779.CEL.gz": 14.2833751399608,
                  "GSM146781.CEL.gz": 14.3908315384673,
                  "GSM146782.CEL.gz": 14.2554517428831,
                  "GSM146783.CEL.gz": 14.3765639935099,
                  "GSM146785.CEL.gz": 14.5315228919415,
                  "GSM146787.CEL.gz": 14.4004126293795,
                  "GSM146788.CEL.gz": 14.2311234116383,
                  "GSM146789.CEL.gz": 14.3038643395869,
                  "GSM146791.CEL.gz": 14.3655043812375,
                  "GSM146793.CEL.gz": 14.357090253596,
                  "GSM146795.CEL.gz": 14.2901668883073,
                  "GSM146797.CEL.gz": 14.3458632372953,
                  "GSM92240.CEL.gz": 14.0960869740952,
                  "GSM92241.CEL.gz": 14.1625185834836,
                  "GSM92242.CEL.gz": 14.2706353668199,
                  "GSM92243.CEL.gz": 13.8835626694623,
                  "GSM92244.CEL.gz": 14.3169469959191,
                  "GSM92245.CEL.gz": 14.2627511546877,
                  "GSM92247.CEL.gz": 14.277981170648,
                  "GSM92248.CEL.gz": 14.2846909249419,
                  "GSM92249.CEL.gz": 14.2483818751548,
                  "GSM92250.CEL.gz": 14.2704231259951,
                  "GSM92253.CEL.gz": 14.1781709353077,
                  "GSM92254.CEL.gz": 14.2362023333413,
                  "GSM92255.CEL.gz": 14.1303943021639,
                  "GSM92256.CEL.gz": 14.2195829389533,
                  "GSM92257.CEL.gz": 14.3271461035254,
                  "GSM92258.CEL.gz": 14.2162156479942,
                  "GSM92259.CEL.gz": 14.3921351224097,
                  "GSM92260.CEL.gz": 14.2064171138896,
                  "GSM92261.CEL.gz": 14.1574980455356,
                  "GSM92262.CEL.gz": 14.2305751792911,
                  "GSM92263.CEL.gz": 14.3071314623728,
                  "GSM92264.CEL.gz": 14.2627150945344,
                  "GSM92265.CEL.gz": 14.0487603461487,
                  "GSM92266.CEL.gz": 14.2654781689394,
                  "GSM92267.CEL.gz": 14.3391612563702,
                  "GSM92268.CEL.gz": 14.2298394167778,
                  "GSM92269.CEL.gz": 14.4482994375843,
                  "GSM92270.CEL.gz": 14.3002293041421,
                  "GSM92271.CEL.gz": 14.21951306299,
                  "GSM92272.CEL.gz": 14.3443241948856,
                  "GSM92273.CEL.gz": 14.2951738341856,
                  "GSM92274.CEL.gz": 14.225529603594,
                  "GSM92275.CEL.gz": 14.2720030754089,
                  "GSM92276.CEL.gz": 14.2546606927121,
                  "GSM35979.cel.gz": 14.2708313411159,
                  "GSM35980.cel.gz": 14.2758697049012,
                  "GSM35981.cel.gz": 14.2932677769618,
                  "GSM35982.cel.gz": 14.3316944945627,
                  "GSM35983.cel.gz": 14.266676495572,
                  "GSM35984.cel.gz": 14.3160287978267,
                  "GSM35991.cel.gz": 14.3337987513912,
                  "GSM35992.cel.gz": 14.2526943075055,
                  "GSM35993.cel.gz": 14.3535844213539,
                  "GSM35994.cel.gz": 14.2860275524822,
                  "GSM35995.cel.gz": 14.3607433224577,
                  "GSM35996.cel.gz": 14.2977869650089,
                  "GSM36003.cel.gz": 14.3282447730684,
                  "GSM44675.CEL.gz": 14.2129027872302,
                  "GSM44689.CEL.gz": 14.2360123946713,
                  "GSM44697.CEL.gz": 14.1058272743451,
                  "GSM44702.CEL.gz": 14.4536537168239,
                  "GSM181429.CEL.gz": 14.2339500275046,
                  "GSM181430.CEL.gz": 14.1556951031296,
                  "GSM181431.CEL.gz": 14.2817697341676,
                  "GSM181432.CEL.gz": 14.181636550161,
                  "GSM181433.CEL.gz": 14.3587176847356,
                  "GSM18917.CEL.gz": 13.8562116935909,
                  "GSM18918.CEL.gz": 13.8345391697742,
                  "GSM18953.CEL.gz": 14.3410783327629,
                  "GSM18954.CEL.gz": 14.3019960710744,
                  "GSM18955.CEL.gz": 14.2164465887362,
                  "GSM18956.CEL.gz": 14.2866542105873,
                  "GSM296875.CEL.gz": 14.3550319871263,
                  "GSM296876.CEL.gz": 14.3221948264143,
                  "GSM296878.CEL.gz": 14.3542172687602,
                  "GSM296879.CEL.gz": 14.3930477636626,
                  "GSM296880.CEL.gz": 14.3286673686833,
                  "GSM296881.CEL.gz": 14.2625301368677,
                  "GSM296882.CEL.gz": 14.314477620662,
                  "GSM296883.CEL.gz": 14.3702363412915,
                  "GSM296886.CEL.gz": 14.3267711337037,
                  "GSM296887.CEL.gz": 14.2578851882631,
                  "GSM296888.CEL.gz": 14.2822512108092,
                  "GSM296889.CEL.gz": 14.2248968858512,
                  "GSM296890.CEL.gz": 14.3039822112942,
                  "GSM296891.CEL.gz": 14.2598234423831,
                  "GSM296892.CEL.gz": 14.3129873415523,
                  "GSM298747.CEL.gz": 14.2330252478249,
                  "GSM298748.CEL.gz": 14.2930519690586,
                  "GSM298749.CEL.gz": 14.2318929668018,
                  "GSM298750.CEL.gz": 14.2170326216444,
                  "GSM299110.CEL.gz": 14.2330252478249,
                  "GSM299111.CEL.gz": 14.2318929668018,
                  "GSM299112.CEL.gz": 14.2170326216444,
                  "GSM299113.CEL.gz": 14.2930519690586,
                  "GSM299244.CEL.gz": 14.1463975136718,
                  "GSM299245.CEL.gz": 14.1948685154088,
                  "GSM299246.CEL.gz": 14.3530133249224,
                  "GSM299247.CEL.gz": 14.2312042609351,
                  "GSM322969.CEL.gz": 14.3011230490953,
                  "GSM323054.CEL.gz": 14.1915380784553,
                  "GSM323523.CEL.gz": 14.3451243669758,
                  "GSM323524.CEL.gz": 14.1236246750543,
                  "GSM323527.CEL.gz": 14.298511999156,
                  "GSM323565.CEL.gz": 14.2501907079543,
                  "GSM323566.CEL.gz": 14.128729523813,
                  "GSM323567.CEL.gz": 14.1801432496855,
                  "GSM246492.CEL.gz": 14.4082052020608,
                  "GSM246493.CEL.gz": 14.430287621613,
                  "GSM246494.CEL.gz": 14.4219376051886,
                  "GSM307639.CEL.gz": 14.3293354179274,
                  "GSM307640.CEL.gz": 14.3127480774461,
                  "GSM307641.CEL.gz": 14.3305521873268,
                  "_deepnote_index_column": "max"
                }
              ]
            },
            "text/plain": "       GSM11805.CEL.gz  GSM11814.CEL.gz  GSM11823.CEL.gz  GSM11830.CEL.gz  \\\ncount     22215.000000     22215.000000     22215.000000     22215.000000   \nmean          7.409846         7.407811         7.384573         7.426581   \nstd           1.827500         1.844949         1.802054         1.780400   \nmin           4.285722         4.265839         4.233613         4.238971   \n25%           5.992389         5.978839         5.998700         6.061792   \n50%           7.146836         7.139106         7.168192         7.249130   \n75%           8.560430         8.572895         8.496700         8.535270   \nmax          14.228823        14.297056        14.314367        14.415677   \n\n       GSM12067.CEL.gz  GSM12075.CEL.gz  GSM12079.CEL.gz  GSM12098.CEL.gz  \\\ncount     22215.000000     22215.000000     22215.000000     22215.000000   \nmean          7.401097         7.393245         7.392725         7.385564   \nstd           1.792745         1.784335         1.751411         1.797687   \nmin           4.173531         4.274241         4.216112         4.209053   \n25%           6.030482         6.026677         6.062608         6.001481   \n50%           7.205835         7.180885         7.209657         7.174708   \n75%           8.507570         8.487838         8.490164         8.481192   \nmax          14.390297        14.295821        14.270840        14.266422   \n\n       GSM12105.CEL.gz  GSM12268.CEL.gz  ...  GSM323527.CEL.gz  \\\ncount     22215.000000     22215.000000  ...      22215.000000   \nmean          7.408332         7.402445  ...          7.412956   \nstd           1.819420         1.803367  ...          1.806830   \nmin           4.184890         4.156745  ...          4.284566   \n25%           6.003598         6.017176  ...          6.013380   \n50%           7.174499         7.183477  ...          7.176284   \n75%           8.548720         8.513388  ...          8.554637   \nmax          14.270613        14.291597  ...         14.298512   \n\n       GSM323565.CEL.gz  GSM323566.CEL.gz  GSM323567.CEL.gz  GSM246492.CEL.gz  \\\ncount      22215.000000      22215.000000      22215.000000      22215.000000   \nmean           7.410084          7.408582          7.414650          7.391032   \nstd            1.816644          1.828750          1.859744          1.885683   \nmin            4.273771          4.243018          4.287890          4.276072   \n25%            5.996433          5.967216          5.943009          5.940509   \n50%            7.169048          7.158114          7.130060          7.031669   \n75%            8.541626          8.603323          8.632424          8.571648   \nmax           14.250191         14.128730         14.180143         14.408205   \n\n       GSM246493.CEL.gz  GSM246494.CEL.gz  GSM307639.CEL.gz  GSM307640.CEL.gz  \\\ncount      22215.000000      22215.000000      22215.000000      22215.000000   \nmean           7.399572          7.391870          7.424121          7.397443   \nstd            1.835956          1.835241          1.830004          1.785327   \nmin            4.283810          4.252264          4.350859          4.396927   \n25%            6.017116          5.984979          5.983980          5.995976   \n50%            7.095193          7.125163          7.145765          7.132062   \n75%            8.452651          8.526088          8.554817          8.493547   \nmax           14.430288         14.421938         14.329335         14.312748   \n\n       GSM307641.CEL.gz  \ncount      22215.000000  \nmean           7.395087  \nstd            1.828298  \nmin            4.318058  \n25%            5.969155  \n50%            7.096557  \n75%            8.525198  \nmax           14.330552  \n\n[8 rows x 189 columns]",
            "text/html": "<div>\n<style scoped>\n    .dataframe tbody tr th:only-of-type {\n        vertical-align: middle;\n    }\n\n    .dataframe tbody tr th {\n        vertical-align: top;\n    }\n\n    .dataframe thead th {\n        text-align: right;\n    }\n</style>\n<table border=\"1\" class=\"dataframe\">\n  <thead>\n    <tr style=\"text-align: right;\">\n      <th></th>\n      <th>GSM11805.CEL.gz</th>\n      <th>GSM11814.CEL.gz</th>\n      <th>GSM11823.CEL.gz</th>\n      <th>GSM11830.CEL.gz</th>\n      <th>GSM12067.CEL.gz</th>\n      <th>GSM12075.CEL.gz</th>\n      <th>GSM12079.CEL.gz</th>\n      <th>GSM12098.CEL.gz</th>\n      <th>GSM12105.CEL.gz</th>\n      <th>GSM12268.CEL.gz</th>\n      <th>...</th>\n      <th>GSM323527.CEL.gz</th>\n      <th>GSM323565.CEL.gz</th>\n      <th>GSM323566.CEL.gz</th>\n      <th>GSM323567.CEL.gz</th>\n      <th>GSM246492.CEL.gz</th>\n      <th>GSM246493.CEL.gz</th>\n      <th>GSM246494.CEL.gz</th>\n      <th>GSM307639.CEL.gz</th>\n      <th>GSM307640.CEL.gz</th>\n      <th>GSM307641.CEL.gz</th>\n    </tr>\n  </thead>\n  <tbody>\n    <tr>\n      <th>count</th>\n      <td>22215.000000</td>\n      <td>22215.000000</td>\n      <td>22215.000000</td>\n      <td>22215.000000</td>\n      <td>22215.000000</td>\n      <td>22215.000000</td>\n      <td>22215.000000</td>\n      <td>22215.000000</td>\n      <td>22215.000000</td>\n      <td>22215.000000</td>\n      <td>...</td>\n      <td>22215.000000</td>\n      <td>22215.000000</td>\n      <td>22215.000000</td>\n      <td>22215.000000</td>\n      <td>22215.000000</td>\n      <td>22215.000000</td>\n      <td>22215.000000</td>\n      <td>22215.000000</td>\n      <td>22215.000000</td>\n      <td>22215.000000</td>\n    </tr>\n    <tr>\n      <th>mean</th>\n      <td>7.409846</td>\n      <td>7.407811</td>\n      <td>7.384573</td>\n      <td>7.426581</td>\n      <td>7.401097</td>\n      <td>7.393245</td>\n      <td>7.392725</td>\n      <td>7.385564</td>\n      <td>7.408332</td>\n      <td>7.402445</td>\n      <td>...</td>\n      <td>7.412956</td>\n      <td>7.410084</td>\n      <td>7.408582</td>\n      <td>7.414650</td>\n      <td>7.391032</td>\n      <td>7.399572</td>\n      <td>7.391870</td>\n      <td>7.424121</td>\n      <td>7.397443</td>\n      <td>7.395087</td>\n    </tr>\n    <tr>\n      <th>std</th>\n      <td>1.827500</td>\n      <td>1.844949</td>\n      <td>1.802054</td>\n      <td>1.780400</td>\n      <td>1.792745</td>\n      <td>1.784335</td>\n      <td>1.751411</td>\n      <td>1.797687</td>\n      <td>1.819420</td>\n      <td>1.803367</td>\n      <td>...</td>\n      <td>1.806830</td>\n      <td>1.816644</td>\n      <td>1.828750</td>\n      <td>1.859744</td>\n      <td>1.885683</td>\n      <td>1.835956</td>\n      <td>1.835241</td>\n      <td>1.830004</td>\n      <td>1.785327</td>\n      <td>1.828298</td>\n    </tr>\n    <tr>\n      <th>min</th>\n      <td>4.285722</td>\n      <td>4.265839</td>\n      <td>4.233613</td>\n      <td>4.238971</td>\n      <td>4.173531</td>\n      <td>4.274241</td>\n      <td>4.216112</td>\n      <td>4.209053</td>\n      <td>4.184890</td>\n      <td>4.156745</td>\n      <td>...</td>\n      <td>4.284566</td>\n      <td>4.273771</td>\n      <td>4.243018</td>\n      <td>4.287890</td>\n      <td>4.276072</td>\n      <td>4.283810</td>\n      <td>4.252264</td>\n      <td>4.350859</td>\n      <td>4.396927</td>\n      <td>4.318058</td>\n    </tr>\n    <tr>\n      <th>25%</th>\n      <td>5.992389</td>\n      <td>5.978839</td>\n      <td>5.998700</td>\n      <td>6.061792</td>\n      <td>6.030482</td>\n      <td>6.026677</td>\n      <td>6.062608</td>\n      <td>6.001481</td>\n      <td>6.003598</td>\n      <td>6.017176</td>\n      <td>...</td>\n      <td>6.013380</td>\n      <td>5.996433</td>\n      <td>5.967216</td>\n      <td>5.943009</td>\n      <td>5.940509</td>\n      <td>6.017116</td>\n      <td>5.984979</td>\n      <td>5.983980</td>\n      <td>5.995976</td>\n      <td>5.969155</td>\n    </tr>\n    <tr>\n      <th>50%</th>\n      <td>7.146836</td>\n      <td>7.139106</td>\n      <td>7.168192</td>\n      <td>7.249130</td>\n      <td>7.205835</td>\n      <td>7.180885</td>\n      <td>7.209657</td>\n      <td>7.174708</td>\n      <td>7.174499</td>\n      <td>7.183477</td>\n      <td>...</td>\n      <td>7.176284</td>\n      <td>7.169048</td>\n      <td>7.158114</td>\n      <td>7.130060</td>\n      <td>7.031669</td>\n      <td>7.095193</td>\n      <td>7.125163</td>\n      <td>7.145765</td>\n      <td>7.132062</td>\n      <td>7.096557</td>\n    </tr>\n    <tr>\n      <th>75%</th>\n      <td>8.560430</td>\n      <td>8.572895</td>\n      <td>8.496700</td>\n      <td>8.535270</td>\n      <td>8.507570</td>\n      <td>8.487838</td>\n      <td>8.490164</td>\n      <td>8.481192</td>\n      <td>8.548720</td>\n      <td>8.513388</td>\n      <td>...</td>\n      <td>8.554637</td>\n      <td>8.541626</td>\n      <td>8.603323</td>\n      <td>8.632424</td>\n      <td>8.571648</td>\n      <td>8.452651</td>\n      <td>8.526088</td>\n      <td>8.554817</td>\n      <td>8.493547</td>\n      <td>8.525198</td>\n    </tr>\n    <tr>\n      <th>max</th>\n      <td>14.228823</td>\n      <td>14.297056</td>\n      <td>14.314367</td>\n      <td>14.415677</td>\n      <td>14.390297</td>\n      <td>14.295821</td>\n      <td>14.270840</td>\n      <td>14.266422</td>\n      <td>14.270613</td>\n      <td>14.291597</td>\n      <td>...</td>\n      <td>14.298512</td>\n      <td>14.250191</td>\n      <td>14.128730</td>\n      <td>14.180143</td>\n      <td>14.408205</td>\n      <td>14.430288</td>\n      <td>14.421938</td>\n      <td>14.329335</td>\n      <td>14.312748</td>\n      <td>14.330552</td>\n    </tr>\n  </tbody>\n</table>\n<p>8 rows × 189 columns</p>\n</div>"
          },
          "metadata": {}
        }
      ]
    },
    {
      "cell_type": "code",
      "metadata": {
        "id": "9ug2uznk4qHv",
        "colab": {
          "base_uri": "https://localhost:8080/"
        },
        "outputId": "5428f7b0-884b-4fe7-c381-169205103fe8",
        "source_hash": "2007f58",
        "execution_start": 1698035911452,
        "execution_millis": 21,
        "deepnote_to_be_reexecuted": false,
        "cell_id": "3fb31e6236324c929890eb340a57e0de",
        "deepnote_cell_type": "code"
      },
      "source": [
        "data.shape"
      ],
      "execution_count": null,
      "outputs": [
        {
          "output_type": "execute_result",
          "execution_count": 8,
          "data": {
            "text/plain": "(22215, 190)"
          },
          "metadata": {}
        }
      ]
    },
    {
      "cell_type": "markdown",
      "metadata": {
        "id": "NFcEPLCJ5lHa",
        "cell_id": "c9e06e6f5f554ef8a73d34fc59cedf97",
        "deepnote_cell_type": "markdown"
      },
      "source": [
        "# Reduccion de la dimensionalidad"
      ]
    },
    {
      "cell_type": "code",
      "metadata": {
        "id": "efDwy6ZD47UR",
        "colab": {
          "base_uri": "https://localhost:8080/"
        },
        "outputId": "a8111393-8ee1-4948-8021-59b95cdc476a",
        "source_hash": "c2ddbfe3",
        "execution_start": 1698035913756,
        "execution_millis": 16478,
        "deepnote_to_be_reexecuted": false,
        "cell_id": "c01951c96b574b889c32b758b2f5f2fb",
        "deepnote_cell_type": "code"
      },
      "source": [
        "# SVD\n",
        "# from sklearn.decomposition import TruncatedSVD\n",
        "# reduccion de la dimensionalidad con TrucnatedSVD\n",
        "\n",
        "X_svd = TruncatedSVD(184).fit_transform(X)\n",
        "X_svd.shape\n",
        "\n",
        "\n",
        "# PCA\n",
        "# from sklearn.decomposition import PCA\n",
        "\n",
        "X_pca = PCA(n_components=0.99999).fit_transform(X)\n",
        "X_pca.shape\n",
        "\n",
        "\n"
      ],
      "execution_count": null,
      "outputs": [
        {
          "output_type": "execute_result",
          "execution_count": 9,
          "data": {
            "text/plain": "(189, 184)"
          },
          "metadata": {}
        }
      ]
    },
    {
      "cell_type": "markdown",
      "metadata": {
        "cell_id": "a7be3e095d074e0e800696d7e4e6aeff",
        "deepnote_cell_type": "markdown",
        "id": "tp9dZqtb5Tgs"
      },
      "source": [
        "## PaCMAP"
      ]
    },
    {
      "cell_type": "code",
      "metadata": {
        "id": "q2JsSiIx7Nxq",
        "colab": {
          "height": 212,
          "base_uri": "https://localhost:8080/"
        },
        "outputId": "74461c33-2b4b-4119-f2d0-1f7247f55049",
        "source_hash": "43ab803c",
        "execution_start": 1698035932480,
        "execution_millis": 11655,
        "deepnote_to_be_reexecuted": false,
        "cell_id": "a74712a49bc34e4e88b9827a53e2ab8e",
        "deepnote_cell_type": "code"
      },
      "source": [
        "embedding = pacmap.PaCMAP(random_state=42) # creacion de la instancia PacMAP\n",
        "X_pacmap = embedding.fit_transform(X) # reduccion\n",
        "X_pacmap.shape"
      ],
      "execution_count": null,
      "outputs": [
        {
          "name": "stderr",
          "text": "/usr/local/lib/python3.9/site-packages/pacmap/pacmap.py:819: UserWarning: Warning: random state is set to 42\n  warnings.warn(f'Warning: random state is set to {_RANDOM_STATE}')\n",
          "output_type": "stream"
        },
        {
          "output_type": "execute_result",
          "execution_count": 10,
          "data": {
            "text/plain": "(189, 2)"
          },
          "metadata": {}
        }
      ]
    },
    {
      "cell_type": "code",
      "metadata": {
        "source_hash": "d7db052d",
        "execution_start": 1698035952025,
        "execution_millis": 15,
        "deepnote_to_be_reexecuted": false,
        "cell_id": "6a75155cb5f2499f8a741e48f5ef90e0",
        "deepnote_cell_type": "code",
        "id": "JQxN6EH65Tgt"
      },
      "source": [
        "# constantes\n",
        "\n",
        "cluster_colors =  ['#E41A1C', '#377EB8', '#4DAF4A', '#984EA3', '#FF7F00', '#FFFF33', '#A65628']\n",
        "labels = ['cerebellum', 'colon', 'endometrium', 'hippocampus', 'kidney', 'liver', 'placenta']\n"
      ],
      "execution_count": null,
      "outputs": []
    },
    {
      "cell_type": "code",
      "metadata": {
        "source_hash": "f2aa7639",
        "execution_start": 1698035953886,
        "execution_millis": 552,
        "deepnote_to_be_reexecuted": false,
        "cell_id": "274d5856ffa042b0898f9ed9bd0d1ef3",
        "deepnote_cell_type": "code",
        "id": "qw8at6U75Tgu",
        "outputId": "e32800e5-3e21-45b5-e4ed-5c8bebadbd5b"
      },
      "source": [
        "for idx, (label, color, marker) in enumerate(zip(labels, cluster_colors, [\"*\", \"1\", \"v\", \"p\", \"h\", \"D\", \"s\"])):\n",
        "    plt.scatter(\n",
        "        X_pacmap[target == label, 0],\n",
        "        X_pacmap[target == label, 1],\n",
        "        color=color,\n",
        "        label=f'cluster {idx}',\n",
        "        alpha=0.9,\n",
        "        marker=marker\n",
        "    )\n"
      ],
      "execution_count": null,
      "outputs": [
        {
          "data": {
            "text/plain": "<Figure size 640x480 with 1 Axes>",
            "image/png": "[encoded data removed]"
          },
          "metadata": {
            "image/png": {
              "width": 554,
              "height": 413
            }
          },
          "output_type": "display_data"
        }
      ]
    },
    {
      "cell_type": "markdown",
      "metadata": {
        "cell_id": "62b658eb3671435da6a9ce2d332f44b5",
        "deepnote_cell_type": "markdown",
        "id": "MbqAhWzw5Tgu"
      },
      "source": [
        "# Definimos las funciones a usar"
      ]
    },
    {
      "cell_type": "code",
      "metadata": {
        "source_hash": "8bfa2f2e",
        "execution_start": 1698035957768,
        "execution_millis": 9,
        "deepnote_to_be_reexecuted": false,
        "cell_id": "bf3cf1e764c24544b841421edc948133",
        "deepnote_cell_type": "code",
        "id": "ip1K_u8E5Tgu"
      },
      "source": [
        "# imprimir clusters\n",
        "\n",
        "def printCluster(target, prediction):\n",
        "    cluster_element = {i: list(np.unique(prediction[np.where(target == i)])) for i in np.unique(target)}\n",
        "    for key, value in cluster_element.items():\n",
        "        print(f\"{key}: {value}\")"
      ],
      "execution_count": null,
      "outputs": []
    },
    {
      "cell_type": "code",
      "metadata": {
        "source_hash": "758dc525",
        "execution_start": 1698035960233,
        "execution_millis": 10,
        "deepnote_to_be_reexecuted": false,
        "cell_id": "f91890f59ef64bdfb86cd0f8c01d27c4",
        "deepnote_cell_type": "code",
        "id": "gauD1gua5Tgu"
      },
      "source": [
        "# obtener scores\n",
        "\n",
        "def getScores(labels_true, prediction_pca, prediction_svd, X_pca, X_svd):\n",
        "    methods = [\"PCA\", \"SVD\"]\n",
        "    predictions = [prediction_pca, prediction_svd]\n",
        "    data_methods = [X_pca, X_svd]\n",
        "    scores = {}\n",
        "    for method, prediction, data in zip(methods, predictions, data_methods):\n",
        "        scores[method] = [\n",
        "            silhouette_score(data, prediction),\n",
        "            rand_score(labels_true, prediction),\n",
        "            adjusted_rand_score(labels_true, prediction),\n",
        "            adjusted_mutual_info_score(labels_true, prediction)\n",
        "        ]\n",
        "    df_scores = pd.DataFrame.from_dict(scores, orient=\"index\", columns=[\"Silhouette\", \"Rand\", \"Adjust Rand\", \"Adjust Mutual Information\"])\n",
        "    return df_scores\n"
      ],
      "execution_count": null,
      "outputs": []
    },
    {
      "cell_type": "code",
      "metadata": {
        "source_hash": "26d39ba8",
        "execution_start": 1698035962705,
        "execution_millis": 11,
        "deepnote_to_be_reexecuted": false,
        "cell_id": "ddf146ce24214951b9f751b9c94c168d",
        "deepnote_cell_type": "code",
        "id": "u6ACKd_S5Tgv"
      },
      "source": [
        "# ver clusters\n",
        "\n",
        "def graph(predictions_pca, predictions_svd, X, cluster_colors):\n",
        "    embedding = pacmap.PaCMAP(random_state=42)\n",
        "    X_pacmap_transformed = embedding.fit_transform(X)\n",
        "    fig, axes = plt.subplots(1, 2, figsize=(12, 4), dpi=200)\n",
        "    methods = [\"PCA\", \"SVD\"]\n",
        "    for ax, predictions, method in zip(axes, [predictions_pca, predictions_svd], methods):\n",
        "        for l, c, m in zip(range(7), cluster_colors, [\"*\", \"1\", \"v\", \"p\", \"h\", \"D\", \"s\"]):\n",
        "            ax.scatter(X_pacmap_transformed[predictions == l, 0], X_pacmap_transformed[predictions == l, 1], color=c, label=f'cluster {l}', alpha=0.9, marker=m)\n",
        "        ax.set_title(f\"{method} Visualization\")\n",
        "    plt.tight_layout()\n",
        "    plt.show()"
      ],
      "execution_count": null,
      "outputs": []
    },
    {
      "cell_type": "code",
      "metadata": {
        "source_hash": "6ca3111d",
        "execution_start": 1698035965609,
        "execution_millis": 27,
        "deepnote_to_be_reexecuted": false,
        "cell_id": "7f5f29335ccd4364a3c5a019795f8ae0",
        "deepnote_cell_type": "code",
        "id": "Tx03AYsr5Tgv"
      },
      "source": [
        "# para los diferentes algoritmos de clustering\n",
        "\n",
        "methods = [\"PCA\", \"SVD\"]\n",
        "data_transformed_list = [X_pca, X_svd]"
      ],
      "execution_count": null,
      "outputs": []
    },
    {
      "cell_type": "markdown",
      "metadata": {
        "cell_id": "b999d67032b14aa5be06ad82e02f4113",
        "deepnote_cell_type": "markdown",
        "id": "511sMtJL5Tgv"
      },
      "source": [
        "# GMM"
      ]
    },
    {
      "cell_type": "markdown",
      "metadata": {
        "cell_id": "0a64f266824b48aa9dedc9143445406e",
        "deepnote_cell_type": "markdown",
        "id": "_4WLDGPj5Tgv"
      },
      "source": [
        "### Definir GMM"
      ]
    },
    {
      "cell_type": "code",
      "metadata": {
        "source_hash": "fbaf0737",
        "execution_start": 1698035968255,
        "execution_millis": 1413,
        "deepnote_to_be_reexecuted": false,
        "cell_id": "33655566e0544a5a8c0cde8926afdf22",
        "deepnote_cell_type": "code",
        "id": "TlK79VA_5Tgv",
        "outputId": "186351ef-2e50-4109-e6f3-abf75ae742ce"
      },
      "source": [
        "predictions_gmm = []\n",
        "for method, data_transformed in zip(methods, data_transformed_list):\n",
        "    gm_model = GaussianMixture(n_components=7).fit(data_transformed)\n",
        "    predictions = gm_model.predict(data_transformed)\n",
        "    predictions_gmm.append(predictions)\n",
        "    print(method)\n",
        "    printCluster(target, predictions)\n"
      ],
      "execution_count": null,
      "outputs": [
        {
          "name": "stdout",
          "text": "PCA\ncerebellum: [1, 4]\ncolon: [3]\nendometrium: [4]\nhippocampus: [1]\nkidney: [2, 6]\nliver: [5]\nplacenta: [0]\nSVD\ncerebellum: [1, 3]\ncolon: [0]\nendometrium: [4]\nhippocampus: [5]\nkidney: [4]\nliver: [2]\nplacenta: [6]\n",
          "output_type": "stream"
        }
      ]
    },
    {
      "cell_type": "code",
      "metadata": {
        "source_hash": "15a77768",
        "execution_start": 1698035972326,
        "execution_millis": 110,
        "deepnote_to_be_reexecuted": false,
        "cell_id": "312e92d8807949abb8330a36d9a13940",
        "deepnote_cell_type": "code",
        "id": "tH4SmJpX5Tgw",
        "outputId": "d38ffc3f-ba91-40c7-cdf3-ae9d800263be"
      },
      "source": [
        "# scores\n",
        "\n",
        "df_gmm_scores = getScores(labels_true, predictions_gmm[0], predictions_gmm[1], X_pca, X_svd)\n",
        "print(df_gmm_scores)"
      ],
      "execution_count": null,
      "outputs": [
        {
          "name": "stdout",
          "text": "     Silhouette      Rand  Adjust Rand  Adjust Mutual Information\nPCA    0.332138  0.911235     0.706621                   0.870707\nSVD    0.328838  0.957785     0.854527                   0.926777\n",
          "output_type": "stream"
        }
      ]
    },
    {
      "cell_type": "code",
      "metadata": {
        "source_hash": "c09510d",
        "execution_start": 1698035975764,
        "execution_millis": 6781,
        "deepnote_to_be_reexecuted": false,
        "cell_id": "e8280064ea944ee2aaaeb700a54e4493",
        "deepnote_cell_type": "code",
        "id": "VOxr1RVC5Tgw",
        "outputId": "82a6da61-7e0c-486a-d763-c9036dd4f634"
      },
      "source": [
        "graph(predictions_gmm[0], predictions_gmm[1], X, cluster_colors)"
      ],
      "execution_count": null,
      "outputs": [
        {
          "name": "stderr",
          "text": "/usr/local/lib/python3.9/site-packages/pacmap/pacmap.py:819: UserWarning: Warning: random state is set to 42\n  warnings.warn(f'Warning: random state is set to {_RANDOM_STATE}')\n",
          "output_type": "stream"
        },
        {
          "data": {
            "text/plain": "<Figure size 2400x800 with 2 Axes>",
            "image/png": "[encoded data removed]"
          },
          "metadata": {
            "image/png": {
              "width": 2379,
              "height": 780
            }
          },
          "output_type": "display_data"
        }
      ]
    },
    {
      "cell_type": "markdown",
      "metadata": {
        "formattedRanges": [],
        "cell_id": "36c9f87d44fc4c5c91610cc69377781f",
        "deepnote_cell_type": "text-cell-h2",
        "id": "Ugj6i19K5Tgw"
      },
      "source": [
        "##"
      ]
    },
    {
      "cell_type": "markdown",
      "metadata": {
        "cell_id": "9eea7d45d1d943cc8778fada32799caa",
        "deepnote_cell_type": "markdown",
        "id": "rrMGv9X-5Tgx"
      },
      "source": [
        "# K-Means"
      ]
    },
    {
      "cell_type": "markdown",
      "metadata": {
        "cell_id": "81d2dec5fc814ce0b102e0966e18d27c",
        "deepnote_cell_type": "markdown",
        "id": "DEw7wly15Tgx"
      },
      "source": [
        "## Definir KMeans"
      ]
    },
    {
      "cell_type": "code",
      "metadata": {
        "source_hash": null,
        "execution_start": 1698031238757,
        "execution_millis": 639,
        "deepnote_to_be_reexecuted": false,
        "cell_id": "0010dd237a5d40c1a2762c94fc965038",
        "deepnote_cell_type": "code",
        "id": "WR3RRuHL5Tgx",
        "outputId": "e5024c30-9ffe-4288-d4e5-9e4b0da51bc3"
      },
      "source": [
        "predictions_kmeans = []\n",
        "\n",
        "for method, data_transformed in zip(methods, data_transformed_list):\n",
        "    kmeans_model = KMeans(n_clusters=7, random_state=0).fit(data_transformed)\n",
        "    predictions = kmeans_model.predict(data_transformed)\n",
        "    predictions_kmeans.append(predictions)\n",
        "    print(method)\n",
        "    printCluster(target, predictions)"
      ],
      "execution_count": null,
      "outputs": [
        {
          "name": "stdout",
          "text": "PCA\ncerebellum: [2, 6]\ncolon: [3]\nendometrium: [1]\nhippocampus: [2]\nkidney: [4]\nliver: [0]\nplacenta: [5]\nSVD\ncerebellum: [2, 6]\ncolon: [3]\nendometrium: [1]\nhippocampus: [2]\nkidney: [4]\nliver: [0]\nplacenta: [5]\n",
          "output_type": "stream"
        }
      ]
    },
    {
      "cell_type": "code",
      "metadata": {
        "source_hash": null,
        "execution_start": 1698031368129,
        "execution_millis": 148,
        "deepnote_to_be_reexecuted": false,
        "cell_id": "02899a091dd54956b4253451d9eaae3c",
        "deepnote_cell_type": "code",
        "id": "HuctrzEb5Tgx",
        "outputId": "9f821606-7bd1-4c94-d07b-442c9172d5d0"
      },
      "source": [
        "# scores\n",
        "\n",
        "df_kmeans_scores = getScores(labels_true, predictions_kmeans[0], predictions_kmeans[1], X_pca, X_svd)\n",
        "print(df_kmeans_scores)"
      ],
      "execution_count": null,
      "outputs": [
        {
          "name": "stdout",
          "text": "     Silhouette      Rand  Adjust Rand  Adjust Mutual Information\nPCA    0.323172  0.981988     0.934247                    0.95526\nSVD    0.323239  0.981988     0.934247                    0.95526\n",
          "output_type": "stream"
        }
      ]
    },
    {
      "cell_type": "code",
      "metadata": {
        "source_hash": null,
        "execution_start": 1698031372440,
        "execution_millis": 120368,
        "deepnote_to_be_reexecuted": false,
        "cell_id": "fc93a524a0bb4448baef00d080e8b364",
        "deepnote_cell_type": "code",
        "id": "DALZvUlA5Tgx",
        "outputId": "8d438ed0-c1e2-4476-dda0-c0649f176998"
      },
      "source": [
        "graph(predictions_kmeans[0], predictions_kmeans[1], X, cluster_colors)"
      ],
      "execution_count": null,
      "outputs": [
        {
          "name": "stderr",
          "text": "/usr/local/lib/python3.9/site-packages/pacmap/pacmap.py:819: UserWarning: Warning: random state is set to 42\n  warnings.warn(f'Warning: random state is set to {_RANDOM_STATE}')\n",
          "output_type": "stream"
        },
        {
          "data": {
            "text/plain": "<Figure size 2400x800 with 2 Axes>",
            "image/png": "[encoded data removed]"
          },
          "metadata": {
            "image/png": {
              "width": 2379,
              "height": 780
            }
          },
          "output_type": "display_data"
        }
      ]
    },
    {
      "cell_type": "markdown",
      "metadata": {
        "cell_id": "a8c3b2ac507c4c929ca8d60fdbf717f2",
        "deepnote_cell_type": "markdown",
        "id": "nY3hMaJz5Tgy"
      },
      "source": [
        "## Implementación KMeans (desde 0)"
      ]
    },
    {
      "cell_type": "code",
      "metadata": {
        "source_hash": null,
        "execution_start": 1698032093435,
        "execution_millis": 913,
        "deepnote_to_be_reexecuted": false,
        "cell_id": "e3c47398fc9f452faefddf6c45452753",
        "deepnote_cell_type": "code",
        "id": "ycZfXGbf5Tgy",
        "outputId": "a122c5ca-cb6d-43eb-beb0-46bed9516312"
      },
      "source": [
        "def Init_Centroide(dataset, k):\n",
        "    return dataset[np.random.choice(dataset.shape[0], k, replace=False), :]\n",
        "\n",
        "def getMinDistance(dataset, centroide):\n",
        "    distances = euclidean_distances(dataset, centroide)\n",
        "    return np.argmin(distances, axis=1)\n",
        "\n",
        "def getMeans(dataset, grupos, k):\n",
        "    centroides = np.array([dataset[grupos == i].mean(axis=0) for i in range(k)])\n",
        "    return centroides\n",
        "\n",
        "def kmean(dataset, k=2, n_iter=1000):\n",
        "    centroides = Init_Centroide(dataset, k)\n",
        "    for _ in range(n_iter):\n",
        "        grupos = getMinDistance(dataset, centroides)\n",
        "        centroides = getMeans(dataset, grupos, k)\n",
        "    return centroides, grupos\n",
        "\n",
        "\n",
        "centroides_pca, labels_pca = kmean(X_pca, k=7)\n",
        "centroides_svd, labels_svd = kmean(X_svd, k=7)\n",
        "\n",
        "print(\"PCA\")\n",
        "printCluster(target, labels_pca)\n",
        "print(\"SVD\")\n",
        "printCluster(target, labels_svd)\n",
        "\n",
        "# scores\n",
        "df_scores_kmeans_custom = getScores(labels_true, labels_pca, labels_svd, X_pca, X_svd)\n",
        "df_scores_kmeans_custom\n"
      ],
      "execution_count": null,
      "outputs": [
        {
          "name": "stdout",
          "text": "PCA\ncerebellum: [1, 3]\ncolon: [2, 6]\nendometrium: [1]\nhippocampus: [3]\nkidney: [5]\nliver: [0]\nplacenta: [4]\nSVD\ncerebellum: [1, 6]\ncolon: [5]\nendometrium: [4]\nhippocampus: [2]\nkidney: [0, 4]\nliver: [0, 3]\nplacenta: [5]\n",
          "output_type": "stream"
        },
        {
          "output_type": "execute_result",
          "execution_count": 24,
          "data": {
            "application/vnd.deepnote.dataframe.v3+json": {
              "column_count": 4,
              "row_count": 2,
              "columns": [
                {
                  "name": "Silhouette",
                  "dtype": "float64",
                  "stats": {
                    "unique_count": 2,
                    "nan_count": 0,
                    "min": "0.26426938811134293",
                    "max": "0.2741364875042567",
                    "histogram": [
                      {
                        "bin_start": 0.26426938811134293,
                        "bin_end": 0.2652560980506343,
                        "count": 1
                      },
                      {
                        "bin_start": 0.2652560980506343,
                        "bin_end": 0.26624280798992567,
                        "count": 0
                      },
                      {
                        "bin_start": 0.26624280798992567,
                        "bin_end": 0.26722951792921706,
                        "count": 0
                      },
                      {
                        "bin_start": 0.26722951792921706,
                        "bin_end": 0.2682162278685084,
                        "count": 0
                      },
                      {
                        "bin_start": 0.2682162278685084,
                        "bin_end": 0.2692029378077998,
                        "count": 0
                      },
                      {
                        "bin_start": 0.2692029378077998,
                        "bin_end": 0.2701896477470912,
                        "count": 0
                      },
                      {
                        "bin_start": 0.2701896477470912,
                        "bin_end": 0.27117635768638254,
                        "count": 0
                      },
                      {
                        "bin_start": 0.27117635768638254,
                        "bin_end": 0.27216306762567394,
                        "count": 0
                      },
                      {
                        "bin_start": 0.27216306762567394,
                        "bin_end": 0.2731497775649653,
                        "count": 0
                      },
                      {
                        "bin_start": 0.2731497775649653,
                        "bin_end": 0.2741364875042567,
                        "count": 1
                      }
                    ]
                  }
                },
                {
                  "name": "Rand",
                  "dtype": "float64",
                  "stats": {
                    "unique_count": 2,
                    "nan_count": 0,
                    "min": "0.9142744568276483",
                    "max": "0.9364516492176067",
                    "histogram": [
                      {
                        "bin_start": 0.9142744568276483,
                        "bin_end": 0.9164921760666441,
                        "count": 1
                      },
                      {
                        "bin_start": 0.9164921760666441,
                        "bin_end": 0.91870989530564,
                        "count": 0
                      },
                      {
                        "bin_start": 0.91870989530564,
                        "bin_end": 0.9209276145446358,
                        "count": 0
                      },
                      {
                        "bin_start": 0.9209276145446358,
                        "bin_end": 0.9231453337836316,
                        "count": 0
                      },
                      {
                        "bin_start": 0.9231453337836316,
                        "bin_end": 0.9253630530226276,
                        "count": 0
                      },
                      {
                        "bin_start": 0.9253630530226276,
                        "bin_end": 0.9275807722616234,
                        "count": 0
                      },
                      {
                        "bin_start": 0.9275807722616234,
                        "bin_end": 0.9297984915006192,
                        "count": 0
                      },
                      {
                        "bin_start": 0.9297984915006192,
                        "bin_end": 0.932016210739615,
                        "count": 0
                      },
                      {
                        "bin_start": 0.932016210739615,
                        "bin_end": 0.9342339299786109,
                        "count": 0
                      },
                      {
                        "bin_start": 0.9342339299786109,
                        "bin_end": 0.9364516492176067,
                        "count": 1
                      }
                    ]
                  }
                },
                {
                  "name": "Adjust Rand",
                  "dtype": "float64",
                  "stats": {
                    "unique_count": 2,
                    "nan_count": 0,
                    "min": "0.7151716052671996",
                    "max": "0.7820657554718594",
                    "histogram": [
                      {
                        "bin_start": 0.7151716052671996,
                        "bin_end": 0.7218610202876655,
                        "count": 1
                      },
                      {
                        "bin_start": 0.7218610202876655,
                        "bin_end": 0.7285504353081316,
                        "count": 0
                      },
                      {
                        "bin_start": 0.7285504353081316,
                        "bin_end": 0.7352398503285975,
                        "count": 0
                      },
                      {
                        "bin_start": 0.7352398503285975,
                        "bin_end": 0.7419292653490636,
                        "count": 0
                      },
                      {
                        "bin_start": 0.7419292653490636,
                        "bin_end": 0.7486186803695295,
                        "count": 0
                      },
                      {
                        "bin_start": 0.7486186803695295,
                        "bin_end": 0.7553080953899954,
                        "count": 0
                      },
                      {
                        "bin_start": 0.7553080953899954,
                        "bin_end": 0.7619975104104615,
                        "count": 0
                      },
                      {
                        "bin_start": 0.7619975104104615,
                        "bin_end": 0.7686869254309274,
                        "count": 0
                      },
                      {
                        "bin_start": 0.7686869254309274,
                        "bin_end": 0.7753763404513935,
                        "count": 0
                      },
                      {
                        "bin_start": 0.7753763404513935,
                        "bin_end": 0.7820657554718594,
                        "count": 1
                      }
                    ]
                  }
                },
                {
                  "name": "Adjust Mutual Information",
                  "dtype": "float64",
                  "stats": {
                    "unique_count": 2,
                    "nan_count": 0,
                    "min": "0.858022041935971",
                    "max": "0.8633317149339218",
                    "histogram": [
                      {
                        "bin_start": 0.858022041935971,
                        "bin_end": 0.858553009235766,
                        "count": 1
                      },
                      {
                        "bin_start": 0.858553009235766,
                        "bin_end": 0.8590839765355611,
                        "count": 0
                      },
                      {
                        "bin_start": 0.8590839765355611,
                        "bin_end": 0.8596149438353562,
                        "count": 0
                      },
                      {
                        "bin_start": 0.8596149438353562,
                        "bin_end": 0.8601459111351513,
                        "count": 0
                      },
                      {
                        "bin_start": 0.8601459111351513,
                        "bin_end": 0.8606768784349463,
                        "count": 0
                      },
                      {
                        "bin_start": 0.8606768784349463,
                        "bin_end": 0.8612078457347415,
                        "count": 0
                      },
                      {
                        "bin_start": 0.8612078457347415,
                        "bin_end": 0.8617388130345366,
                        "count": 0
                      },
                      {
                        "bin_start": 0.8617388130345366,
                        "bin_end": 0.8622697803343317,
                        "count": 0
                      },
                      {
                        "bin_start": 0.8622697803343317,
                        "bin_end": 0.8628007476341267,
                        "count": 0
                      },
                      {
                        "bin_start": 0.8628007476341267,
                        "bin_end": 0.8633317149339218,
                        "count": 1
                      }
                    ]
                  }
                },
                {
                  "name": "_deepnote_index_column",
                  "dtype": "object"
                }
              ],
              "rows": [
                {
                  "Silhouette": 0.26426938811134293,
                  "Rand": 0.9142744568276483,
                  "Adjust Rand": 0.7151716052671996,
                  "Adjust Mutual Information": 0.858022041935971,
                  "_deepnote_index_column": "PCA"
                },
                {
                  "Silhouette": 0.2741364875042567,
                  "Rand": 0.9364516492176067,
                  "Adjust Rand": 0.7820657554718594,
                  "Adjust Mutual Information": 0.8633317149339218,
                  "_deepnote_index_column": "SVD"
                }
              ]
            },
            "text/plain": "     Silhouette      Rand  Adjust Rand  Adjust Mutual Information\nPCA    0.264269  0.914274     0.715172                   0.858022\nSVD    0.274136  0.936452     0.782066                   0.863332",
            "text/html": "<div>\n<style scoped>\n    .dataframe tbody tr th:only-of-type {\n        vertical-align: middle;\n    }\n\n    .dataframe tbody tr th {\n        vertical-align: top;\n    }\n\n    .dataframe thead th {\n        text-align: right;\n    }\n</style>\n<table border=\"1\" class=\"dataframe\">\n  <thead>\n    <tr style=\"text-align: right;\">\n      <th></th>\n      <th>Silhouette</th>\n      <th>Rand</th>\n      <th>Adjust Rand</th>\n      <th>Adjust Mutual Information</th>\n    </tr>\n  </thead>\n  <tbody>\n    <tr>\n      <th>PCA</th>\n      <td>0.264269</td>\n      <td>0.914274</td>\n      <td>0.715172</td>\n      <td>0.858022</td>\n    </tr>\n    <tr>\n      <th>SVD</th>\n      <td>0.274136</td>\n      <td>0.936452</td>\n      <td>0.782066</td>\n      <td>0.863332</td>\n    </tr>\n  </tbody>\n</table>\n</div>"
          },
          "metadata": {}
        }
      ]
    },
    {
      "cell_type": "markdown",
      "metadata": {
        "cell_id": "050625f573bc4239910d553e55168e0c",
        "deepnote_cell_type": "markdown",
        "id": "t1nFPN6s5Tgy"
      },
      "source": [
        "# DBSCAN"
      ]
    },
    {
      "cell_type": "markdown",
      "metadata": {
        "cell_id": "6fb602ee51f349e8984e67a980df700d",
        "deepnote_cell_type": "markdown",
        "id": "OUfHUOOp5Tgy"
      },
      "source": [
        "## Definición"
      ]
    },
    {
      "cell_type": "code",
      "metadata": {
        "source_hash": null,
        "execution_start": 1698032099202,
        "execution_millis": 34,
        "deepnote_to_be_reexecuted": false,
        "cell_id": "1d127ec290574d6183032c393c69b16f",
        "deepnote_cell_type": "code",
        "id": "YUYoWAv45Tgz",
        "outputId": "3c7e0e55-4031-49e3-a5db-bf069bd5a769"
      },
      "source": [
        "predictions_dbscan = []\n",
        "for method, data_transformed in zip(methods, data_transformed_list):\n",
        "    dbscan_model = DBSCAN(eps=90, min_samples=3).fit(data_transformed)\n",
        "    predictions = dbscan_model.labels_\n",
        "    predictions_dbscan.append(predictions)\n",
        "    print(method)\n",
        "    printCluster(target, predictions)"
      ],
      "execution_count": null,
      "outputs": [
        {
          "name": "stdout",
          "text": "PCA\ncerebellum: [-1, 1, 5]\ncolon: [2]\nendometrium: [4]\nhippocampus: [1]\nkidney: [0]\nliver: [-1, 3]\nplacenta: [6]\nSVD\ncerebellum: [-1, 1, 5]\ncolon: [2]\nendometrium: [4]\nhippocampus: [1]\nkidney: [0]\nliver: [-1, 3]\nplacenta: [6]\n",
          "output_type": "stream"
        }
      ]
    },
    {
      "cell_type": "code",
      "metadata": {
        "source_hash": null,
        "execution_start": 1698032103299,
        "execution_millis": 200,
        "deepnote_to_be_reexecuted": false,
        "cell_id": "766f3973796340eabdc9b4b3a9079903",
        "deepnote_cell_type": "code",
        "id": "IMhTAG2W5Tgz",
        "outputId": "d8a35eea-18d5-440c-ffd1-b0e7344e578f"
      },
      "source": [
        "# scores\n",
        "\n",
        "df_dbscan_scores = getScores(labels_true, predictions_dbscan[0], predictions_dbscan[1], X_pca, X_svd)\n",
        "print(df_dbscan_scores)"
      ],
      "execution_count": null,
      "outputs": [
        {
          "name": "stdout",
          "text": "     Silhouette      Rand  Adjust Rand  Adjust Mutual Information\nPCA    0.306856  0.930204      0.76766                   0.881127\nSVD    0.306924  0.930204      0.76766                   0.881127\n",
          "output_type": "stream"
        }
      ]
    },
    {
      "cell_type": "code",
      "metadata": {
        "source_hash": null,
        "execution_start": 1698032107985,
        "execution_millis": 143889,
        "deepnote_to_be_reexecuted": false,
        "cell_id": "0e091126ee6444d28a33c81670840665",
        "deepnote_cell_type": "code",
        "id": "MZp7bojh5Tgz",
        "outputId": "db42d6f3-c277-4613-f45f-1f83a6968c2e"
      },
      "source": [
        "graph(predictions_dbscan[0], predictions_dbscan[1], X, cluster_colors)"
      ],
      "execution_count": null,
      "outputs": [
        {
          "name": "stderr",
          "text": "/usr/local/lib/python3.9/site-packages/pacmap/pacmap.py:819: UserWarning: Warning: random state is set to 42\n  warnings.warn(f'Warning: random state is set to {_RANDOM_STATE}')\n",
          "output_type": "stream"
        },
        {
          "data": {
            "text/plain": "<Figure size 2400x800 with 2 Axes>",
            "image/png": "[encoded data removed]"
          },
          "metadata": {
            "image/png": {
              "width": 2379,
              "height": 780
            }
          },
          "output_type": "display_data"
        }
      ]
    },
    {
      "cell_type": "markdown",
      "metadata": {
        "cell_id": "eaecb8091498480fb29c4eed25a892c0",
        "deepnote_cell_type": "markdown",
        "id": "v1qCa6uT5Tg0"
      },
      "source": [
        "## Implementación DBSCAN desde 0"
      ]
    },
    {
      "cell_type": "code",
      "metadata": {
        "source_hash": null,
        "execution_start": 1698033557408,
        "execution_millis": 11,
        "deepnote_to_be_reexecuted": false,
        "cell_id": "1fb0b8653cf942c1ba2674965f4a0e98",
        "deepnote_cell_type": "code",
        "id": "BWbxHa_K5Tg0"
      },
      "source": [
        "# Pruebas\n",
        "#eps: la distancia maxima a la que busco.\n",
        "#min_samples: # de nodos que debe tener como minimo una clase\n",
        "class DBSCAN:\n",
        "    def __init__(self, eps, min_samples):\n",
        "        self.eps = eps\n",
        "        self.min_samples = min_samples\n",
        "\n",
        "    def fit_predict(self, X):\n",
        "        self.X = X\n",
        "        self.labels = [-1] * len(X)\n",
        "        cluster_label = 0\n",
        "\n",
        "        for i in range(len(X)):\n",
        "            if self.labels[i] != -1:\n",
        "                continue\n",
        "\n",
        "            neighbors = self._find_neighbors(i)\n",
        "\n",
        "            #print(f'i: {i}, neighbors: {len(neighbors)}')\n",
        "\n",
        "            if len(neighbors) < self.min_samples:\n",
        "                #ruido\n",
        "                self.labels[i] = -1\n",
        "            else:\n",
        "                set_neighbors = set(neighbors)\n",
        "                cluster_label += 1\n",
        "                self._expand_cluster(i, set_neighbors, cluster_label)\n",
        "\n",
        "        return self.labels\n",
        "\n",
        "    def _find_neighbors(self, i):\n",
        "        neighbors = []\n",
        "        for j in range(len(self.X)):\n",
        "            if i != j and self._euclidean_distance(self.X[i], self.X[j]) <= self.eps:\n",
        "                neighbors.append(j)\n",
        "        return neighbors\n",
        "\n",
        "    def _expand_cluster(self, i, set_neighbors, cluster_label):\n",
        "        self.labels[i] = cluster_label\n",
        "\n",
        "        while set_neighbors:\n",
        "            neighbor = set_neighbors.pop()\n",
        "\n",
        "            if self.labels[neighbor] == -1:\n",
        "                self.labels[neighbor] = cluster_label\n",
        "                new_neighbors = self._find_neighbors(neighbor)\n",
        "\n",
        "                if len(new_neighbors) >= self.min_samples:\n",
        "                    # agrego nuevos vecinos a la lista de vecinos\n",
        "                    set_neighbors.update(new_neighbors.copy())\n",
        "\n",
        "    def _euclidean_distance(self, a, b):\n",
        "        return ((a - b) ** 2).sum() ** 0.5\n"
      ],
      "execution_count": null,
      "outputs": []
    },
    {
      "cell_type": "code",
      "metadata": {
        "source_hash": null,
        "execution_start": 1698033645820,
        "execution_millis": 1453,
        "deepnote_to_be_reexecuted": false,
        "cell_id": "74ba75442af44335b4ea48d66e49b351",
        "deepnote_cell_type": "code",
        "id": "6vyijSbo5Tg0",
        "outputId": "78b96dca-529f-452c-8d84-3e724f6e8d88"
      },
      "source": [
        "\n",
        "dbscan = DBSCAN(eps=90, min_samples=3)\n",
        "\n",
        "\n",
        "pca_idx = dbscan.fit_predict(X_pca)\n",
        "svd_idx =  dbscan.fit_predict(X_svd)\n",
        "\n",
        "# print\n",
        "#print(\"PCA Clusters:\")\n",
        "#printCluster(target, pca_idx)\n",
        "#print(\"\\nSVD Clusters:\")\n",
        "#printCluster(target, svd_idx)\n",
        "\n",
        "# scores\n",
        "df_kmeans_scores = getScores(labels_true, pca_idx, svd_idx, X_pca, X_svd)\n",
        "df_kmeans_scores"
      ],
      "execution_count": null,
      "outputs": [
        {
          "output_type": "execute_result",
          "execution_count": 30,
          "data": {
            "application/vnd.deepnote.dataframe.v3+json": {
              "column_count": 4,
              "row_count": 2,
              "columns": [
                {
                  "name": "Silhouette",
                  "dtype": "float64",
                  "stats": {
                    "unique_count": 2,
                    "nan_count": 0,
                    "min": "0.30549432532635534",
                    "max": "0.30556250934202034",
                    "histogram": [
                      {
                        "bin_start": 0.30549432532635534,
                        "bin_end": 0.30550114372792186,
                        "count": 1
                      },
                      {
                        "bin_start": 0.30550114372792186,
                        "bin_end": 0.30550796212948833,
                        "count": 0
                      },
                      {
                        "bin_start": 0.30550796212948833,
                        "bin_end": 0.30551478053105485,
                        "count": 0
                      },
                      {
                        "bin_start": 0.30551478053105485,
                        "bin_end": 0.3055215989326213,
                        "count": 0
                      },
                      {
                        "bin_start": 0.3055215989326213,
                        "bin_end": 0.30552841733418784,
                        "count": 0
                      },
                      {
                        "bin_start": 0.30552841733418784,
                        "bin_end": 0.30553523573575436,
                        "count": 0
                      },
                      {
                        "bin_start": 0.30553523573575436,
                        "bin_end": 0.30554205413732083,
                        "count": 0
                      },
                      {
                        "bin_start": 0.30554205413732083,
                        "bin_end": 0.30554887253888735,
                        "count": 0
                      },
                      {
                        "bin_start": 0.30554887253888735,
                        "bin_end": 0.3055556909404538,
                        "count": 0
                      },
                      {
                        "bin_start": 0.3055556909404538,
                        "bin_end": 0.30556250934202034,
                        "count": 1
                      }
                    ]
                  }
                },
                {
                  "name": "Rand",
                  "dtype": "float64",
                  "stats": {
                    "unique_count": 1,
                    "nan_count": 0,
                    "min": "0.9272768208938422",
                    "max": "0.9272768208938422",
                    "histogram": [
                      {
                        "bin_start": 0.4272768208938422,
                        "bin_end": 0.5272768208938422,
                        "count": 0
                      },
                      {
                        "bin_start": 0.5272768208938422,
                        "bin_end": 0.6272768208938422,
                        "count": 0
                      },
                      {
                        "bin_start": 0.6272768208938422,
                        "bin_end": 0.7272768208938423,
                        "count": 0
                      },
                      {
                        "bin_start": 0.7272768208938423,
                        "bin_end": 0.8272768208938422,
                        "count": 0
                      },
                      {
                        "bin_start": 0.8272768208938422,
                        "bin_end": 0.9272768208938422,
                        "count": 0
                      },
                      {
                        "bin_start": 0.9272768208938422,
                        "bin_end": 1.0272768208938423,
                        "count": 2
                      },
                      {
                        "bin_start": 1.0272768208938423,
                        "bin_end": 1.1272768208938424,
                        "count": 0
                      },
                      {
                        "bin_start": 1.1272768208938424,
                        "bin_end": 1.2272768208938423,
                        "count": 0
                      },
                      {
                        "bin_start": 1.2272768208938423,
                        "bin_end": 1.3272768208938421,
                        "count": 0
                      },
                      {
                        "bin_start": 1.3272768208938421,
                        "bin_end": 1.4272768208938422,
                        "count": 0
                      }
                    ]
                  }
                },
                {
                  "name": "Adjust Rand",
                  "dtype": "float64",
                  "stats": {
                    "unique_count": 1,
                    "nan_count": 0,
                    "min": "0.7568759161637204",
                    "max": "0.7568759161637204",
                    "histogram": [
                      {
                        "bin_start": 0.2568759161637204,
                        "bin_end": 0.3568759161637204,
                        "count": 0
                      },
                      {
                        "bin_start": 0.3568759161637204,
                        "bin_end": 0.4568759161637204,
                        "count": 0
                      },
                      {
                        "bin_start": 0.4568759161637204,
                        "bin_end": 0.5568759161637205,
                        "count": 0
                      },
                      {
                        "bin_start": 0.5568759161637205,
                        "bin_end": 0.6568759161637204,
                        "count": 0
                      },
                      {
                        "bin_start": 0.6568759161637204,
                        "bin_end": 0.7568759161637204,
                        "count": 0
                      },
                      {
                        "bin_start": 0.7568759161637204,
                        "bin_end": 0.8568759161637205,
                        "count": 2
                      },
                      {
                        "bin_start": 0.8568759161637205,
                        "bin_end": 0.9568759161637205,
                        "count": 0
                      },
                      {
                        "bin_start": 0.9568759161637205,
                        "bin_end": 1.0568759161637205,
                        "count": 0
                      },
                      {
                        "bin_start": 1.0568759161637205,
                        "bin_end": 1.1568759161637203,
                        "count": 0
                      },
                      {
                        "bin_start": 1.1568759161637203,
                        "bin_end": 1.2568759161637204,
                        "count": 0
                      }
                    ]
                  }
                },
                {
                  "name": "Adjust Mutual Information",
                  "dtype": "float64",
                  "stats": {
                    "unique_count": 1,
                    "nan_count": 0,
                    "min": "0.861670006807967",
                    "max": "0.861670006807967",
                    "histogram": [
                      {
                        "bin_start": 0.361670006807967,
                        "bin_end": 0.461670006807967,
                        "count": 0
                      },
                      {
                        "bin_start": 0.461670006807967,
                        "bin_end": 0.561670006807967,
                        "count": 0
                      },
                      {
                        "bin_start": 0.561670006807967,
                        "bin_end": 0.6616700068079671,
                        "count": 0
                      },
                      {
                        "bin_start": 0.6616700068079671,
                        "bin_end": 0.761670006807967,
                        "count": 0
                      },
                      {
                        "bin_start": 0.761670006807967,
                        "bin_end": 0.861670006807967,
                        "count": 0
                      },
                      {
                        "bin_start": 0.861670006807967,
                        "bin_end": 0.9616700068079671,
                        "count": 2
                      },
                      {
                        "bin_start": 0.9616700068079671,
                        "bin_end": 1.061670006807967,
                        "count": 0
                      },
                      {
                        "bin_start": 1.061670006807967,
                        "bin_end": 1.161670006807967,
                        "count": 0
                      },
                      {
                        "bin_start": 1.161670006807967,
                        "bin_end": 1.2616700068079671,
                        "count": 0
                      },
                      {
                        "bin_start": 1.2616700068079671,
                        "bin_end": 1.361670006807967,
                        "count": 0
                      }
                    ]
                  }
                },
                {
                  "name": "_deepnote_index_column",
                  "dtype": "object"
                }
              ],
              "rows": [
                {
                  "Silhouette": 0.30549432532635534,
                  "Rand": 0.9272768208938422,
                  "Adjust Rand": 0.7568759161637204,
                  "Adjust Mutual Information": 0.861670006807967,
                  "_deepnote_index_column": "PCA"
                },
                {
                  "Silhouette": 0.30556250934202034,
                  "Rand": 0.9272768208938422,
                  "Adjust Rand": 0.7568759161637204,
                  "Adjust Mutual Information": 0.861670006807967,
                  "_deepnote_index_column": "SVD"
                }
              ]
            },
            "text/plain": "     Silhouette      Rand  Adjust Rand  Adjust Mutual Information\nPCA    0.305494  0.927277     0.756876                    0.86167\nSVD    0.305563  0.927277     0.756876                    0.86167",
            "text/html": "<div>\n<style scoped>\n    .dataframe tbody tr th:only-of-type {\n        vertical-align: middle;\n    }\n\n    .dataframe tbody tr th {\n        vertical-align: top;\n    }\n\n    .dataframe thead th {\n        text-align: right;\n    }\n</style>\n<table border=\"1\" class=\"dataframe\">\n  <thead>\n    <tr style=\"text-align: right;\">\n      <th></th>\n      <th>Silhouette</th>\n      <th>Rand</th>\n      <th>Adjust Rand</th>\n      <th>Adjust Mutual Information</th>\n    </tr>\n  </thead>\n  <tbody>\n    <tr>\n      <th>PCA</th>\n      <td>0.305494</td>\n      <td>0.927277</td>\n      <td>0.756876</td>\n      <td>0.86167</td>\n    </tr>\n    <tr>\n      <th>SVD</th>\n      <td>0.305563</td>\n      <td>0.927277</td>\n      <td>0.756876</td>\n      <td>0.86167</td>\n    </tr>\n  </tbody>\n</table>\n</div>"
          },
          "metadata": {}
        }
      ]
    },
    {
      "cell_type": "markdown",
      "metadata": {
        "cell_id": "a373e00b9f5347dcae74882d67d7525a",
        "deepnote_cell_type": "markdown",
        "id": "vUZdGFdL5Tg6"
      },
      "source": [
        "# Agglomerative Hierarchical Clustering"
      ]
    },
    {
      "cell_type": "markdown",
      "metadata": {
        "cell_id": "eaab03ac85e84ab6b8e05752d592e512",
        "deepnote_cell_type": "markdown",
        "id": "p-tqKcb45Tg6"
      },
      "source": [
        "## implementación"
      ]
    },
    {
      "cell_type": "code",
      "metadata": {
        "cell_id": "b45c1e2930124aac9e7b6f504f82ce9e",
        "deepnote_cell_type": "code",
        "id": "9Qk3NLld5Tg6",
        "outputId": "1d8e674f-f0bd-4d7f-ac5c-c365483e51c9"
      },
      "source": [
        "predictions_agglomerative = []\n",
        "\n",
        "for method, data in zip([\"PCA\", \"SVD\"], [X_pca, X_svd]):\n",
        "    cluster = AgglomerativeClustering(n_clusters=7)\n",
        "    prediction = cluster.fit_predict(data)\n",
        "    predictions_agglomerative. append(prediction)\n",
        "    print (method)\n",
        "    printCluster(target, prediction)\n"
      ],
      "execution_count": null,
      "outputs": [
        {
          "name": "stdout",
          "output_type": "stream",
          "text": "PCA\ncerebellum: [1, 4, 6]\ncolon: [5]\nendometrium: [0]\nhippocampus: [1]\nkidney: [0, 6]\nliver: [3, 6]\nplacenta: [2]\n{'cerebellum': [1, 4, 6], 'colon': [5], 'endometrium': [0], 'hippocampus': [1], 'kidney': [0, 6], 'liver': [3, 6], 'placenta': [2]}\nSVD\ncerebellum: [1, 4, 6]\ncolon: [5]\nendometrium: [0]\nhippocampus: [1]\nkidney: [0, 6]\nliver: [3, 6]\nplacenta: [2]\n{'cerebellum': [1, 4, 6], 'colon': [5], 'endometrium': [0], 'hippocampus': [1], 'kidney': [0, 6], 'liver': [3, 6], 'placenta': [2]}\n"
        }
      ]
    },
    {
      "cell_type": "markdown",
      "metadata": {
        "cell_id": "768ef51737f74332a925d1e42714b0c5",
        "deepnote_cell_type": "markdown",
        "id": "DhVolavE5Tg6"
      },
      "source": [
        "## scores"
      ]
    },
    {
      "cell_type": "code",
      "metadata": {
        "cell_id": "3e469a59c13c4f88846c560682c89166",
        "deepnote_cell_type": "code",
        "id": "ClgEKStt5Tg7",
        "outputId": "d0061f0d-81fe-4844-ed65-39f7dd90188b"
      },
      "source": [
        "df_scores_agglomerative = getScores(labels_true, predictions_agglomerative[0], predictions_agglomerative[1], X_pca, X_svd)\n",
        "df_scores_agglomerative"
      ],
      "execution_count": null,
      "outputs": [
        {
          "data": {
            "text/html": "<div>\n<style scoped>\n    .dataframe tbody tr th:only-of-type {\n        vertical-align: middle;\n    }\n\n    .dataframe tbody tr th {\n        vertical-align: top;\n    }\n\n    .dataframe thead th {\n        text-align: right;\n    }\n</style>\n<table border=\"1\" class=\"dataframe\">\n  <thead>\n    <tr style=\"text-align: right;\">\n      <th></th>\n      <th>Silhouette</th>\n      <th>Rand</th>\n      <th>Adjust Rand</th>\n      <th>Adjust Mutual Information</th>\n    </tr>\n  </thead>\n  <tbody>\n    <tr>\n      <th>PCA</th>\n      <td>0.328976</td>\n      <td>0.939716</td>\n      <td>0.790985</td>\n      <td>0.859905</td>\n    </tr>\n    <tr>\n      <th>SVD</th>\n      <td>0.329031</td>\n      <td>0.939716</td>\n      <td>0.790985</td>\n      <td>0.859905</td>\n    </tr>\n  </tbody>\n</table>\n</div>",
            "text/plain": "     Silhouette      Rand  Adjust Rand  Adjust Mutual Information\nPCA    0.328976  0.939716     0.790985                   0.859905\nSVD    0.329031  0.939716     0.790985                   0.859905"
          },
          "execution_count": 190,
          "metadata": {},
          "output_type": "execute_result"
        }
      ]
    },
    {
      "cell_type": "markdown",
      "metadata": {
        "cell_id": "d5e2973e9cc54ce9a282e86a35bc5ce3",
        "deepnote_cell_type": "markdown",
        "id": "qVlUJnA55Tg7"
      },
      "source": [
        "## grafica"
      ]
    },
    {
      "cell_type": "code",
      "metadata": {
        "cell_id": "4e5a606f5cad41d39957ccd06c7904aa",
        "deepnote_cell_type": "code",
        "id": "zdwxldiG5Tg7",
        "outputId": "fa5818b8-143e-498c-e028-1848a19dda48"
      },
      "source": [
        "graph (predictions_agglomerative[0], predictions_agglomerative[1], X, cluster_colors)"
      ],
      "execution_count": null,
      "outputs": [
        {
          "data": {
            "image/png": "[encoded data removed]",
            "text/plain": "<Figure size 2400x800 with 2 Axes>"
          },
          "metadata": {},
          "output_type": "display_data"
        }
      ]
    },
    {
      "cell_type": "code",
      "metadata": {
        "source_hash": null,
        "execution_start": 1698034505051,
        "execution_millis": 567,
        "deepnote_to_be_reexecuted": false,
        "cell_id": "e1d30f422aa745f1b2697889a4ecc963",
        "deepnote_cell_type": "code",
        "id": "83Xrvdbm5Tg7",
        "outputId": "d7bbdcbc-3be4-4e8a-a6cb-2a001e509975"
      },
      "source": [
        "import matplotlib.pyplot as plt\n",
        "import numpy as np\n",
        "\n",
        "# Definir las técnicas de clustering y sus valores de métricas\n",
        "tecnicas = ['K-Means', 'DBSCAN', 'GMM']\n",
        "silhouette_scores = [0.27, 0.31, 0.26]\n",
        "rand_scores = [0.94, 0.93, 0.91]\n",
        "adjusted_rand_scores = [0.78, 0.76, 0.72]\n",
        "normalized_mutual_info_scores = [0.86, 0.86, 0.80]\n",
        "\n",
        "# Ancho de las barras\n",
        "barWidth = 0.15\n",
        "\n",
        "# Posiciones de las barras en el eje x\n",
        "r1 = np.arange(len(silhouette_scores))\n",
        "r2 = [x + barWidth for x in r1]\n",
        "r3 = [x + barWidth for x in r2]\n",
        "r4 = [x + barWidth for x in r3]\n",
        "\n",
        "# Crear el gráfico de barras\n",
        "plt.bar(r1, silhouette_scores, color='b', width=barWidth, edgecolor='grey', label='Silhouette')\n",
        "plt.bar(r2, rand_scores, color='g', width=barWidth, edgecolor='grey', label='Rand')\n",
        "plt.bar(r3, adjusted_rand_scores, color='r', width=barWidth, edgecolor='grey', label='Adjusted Rand')\n",
        "plt.bar(r4, normalized_mutual_info_scores, color='orange', width=barWidth, edgecolor='grey', label='Normalized MI')\n",
        "\n",
        "# Personalizar el gráfico\n",
        "plt.xlabel('Técnicas de Clustering', fontweight='bold', fontsize=15)\n",
        "plt.xticks([r + barWidth*1.5 for r in range(len(silhouette_scores))], tecnicas)\n",
        "plt.ylabel('Valores de Métricas', fontweight='bold', fontsize=15)\n",
        "plt.legend()\n",
        "\n",
        "# Mostrar el gráfico\n",
        "plt.show()\n"
      ],
      "execution_count": null,
      "outputs": [
        {
          "data": {
            "text/plain": "<Figure size 640x480 with 1 Axes>",
            "image/png": "[encoded data removed]"
          },
          "metadata": {
            "image/png": {
              "width": 573,
              "height": 440
            }
          },
          "output_type": "display_data"
        }
      ]
    },
    {
      "cell_type": "markdown",
      "source": [
        "<a style='text-decoration:none;line-height:16px;display:flex;color:#5B5B62;padding:10px;justify-content:end;' href='https://deepnote.com?utm_source=created-in-deepnote-cell&projectId=405f8ffc-4055-4580-b6bc-5a8faf0085c3' target=\"_blank\">\n",
        "<img alt='Created in deepnote.com' style='display:inline;max-height:16px;margin:0px;margin-right:7.5px;' src='data:image/svg+xml;base64,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' > </img>\n",
        "Created in <span style='font-weight:600;margin-left:4px;'>Deepnote</span></a>"
      ],
      "metadata": {
        "created_in_deepnote_cell": true,
        "deepnote_cell_type": "markdown",
        "id": "bQY5kraX5Tg8"
      }
    }
  ],
  "nbformat": 4,
  "nbformat_minor": 0,
  "metadata": {
    "colab": {
      "provenance": []
    },
    "deepnote": {},
    "kernelspec": {
      "name": "python3",
      "display_name": "Python 3"
    },
    "language_info": {
      "name": "python",
      "version": "3.11.5",
      "mimetype": "text/x-python",
      "file_extension": ".py",
      "pygments_lexer": "ipython3",
      "codemirror_mode": {
        "name": "ipython",
        "version": 3
      },
      "nbconvert_exporter": "python"
    },
    "deepnote_notebook_id": "3fa1599786c14ad7bc6e90cd98f18010",
    "deepnote_persisted_session": {
      "createdAt": "2023-10-23T04:31:17.449Z"
    },
    "deepnote_execution_queue": []
  }
}